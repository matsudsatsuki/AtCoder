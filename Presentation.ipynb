{
  "nbformat": 4,
  "nbformat_minor": 0,
  "metadata": {
    "colab": {
      "provenance": [],
      "collapsed_sections": [
        "ExzY3kE3isCf",
        "2bKofvyrjRi3",
        "GFLgrvc3jaxN"
      ],
      "mount_file_id": "14EB6iKIyqU4fBPj_Yn46PUsGLVzjwBpg",
      "authorship_tag": "ABX9TyPg4pPgszef0mb6RYumtHIU",
      "include_colab_link": true
    },
    "kernelspec": {
      "name": "python3",
      "display_name": "Python 3"
    },
    "language_info": {
      "name": "python"
    }
  },
  "cells": [
    {
      "cell_type": "markdown",
      "metadata": {
        "id": "view-in-github",
        "colab_type": "text"
      },
      "source": [
        "<a href=\"https://colab.research.google.com/github/matsudsatsuki/AtCoder/blob/main/Presentation.ipynb\" target=\"_parent\"><img src=\"https://colab.research.google.com/assets/colab-badge.svg\" alt=\"Open In Colab\"/></a>"
      ]
    },
    {
      "cell_type": "markdown",
      "source": [
        "\n",
        "\n",
        "\n",
        "\n",
        "---\n",
        "\n",
        "\n",
        "# 研究力調査\n",
        "\n",
        "---\n",
        "\n",
        "\n",
        "\n",
        "##  概要\n",
        "- Scivalから抽出した2012-2021年の論文データについて、3年単位を1年ごとにずらし(2012-2014、2013-2015...)、研究力の推移を機関ごと、分野ごとに集計、分析し研究力の動向をとりまとめる。\n",
        "\n",
        "- 条件を満たす研究者の推移や分野の割合を他大学と比較する\n",
        "\n",
        "## 目的\n",
        "- 条件を満たす研究者*の推移や分野の割合を他大学と比較することで、東工大の研究力の推移や分野ごとの特徴を可視化する\n",
        "\n",
        "- 東工大と医科歯科大が合併した際の研究力を可視化する\n",
        "\n",
        "> *条件：3年で文献数40本以上またはFWCI Top10%に入る文献が同期間で8本以上を満たす\n",
        "\n",
        "> *FWCI：論文の被引用数を、その論文と同じ出版年・分野・文献種の論文の世界平均（基準値）化した指標.\n",
        "\n",
        "## 調査対象\n",
        "- 2012年~2021年の東工大と海外のベンチマーク大学(MIT,Imperial College London),日本の主要大学(東大、京大、阪大、名古屋大、東北大、東京医科歯科大)を比較\n",
        "\n",
        "\n",
        "\n",
        "\n",
        "\n",
        "\n",
        "\n",
        "\n",
        "\n"
      ],
      "metadata": {
        "id": "HXWJhBIDyCRJ"
      }
    },
    {
      "cell_type": "markdown",
      "source": [
        "### 前処理"
      ],
      "metadata": {
        "id": "ExzY3kE3isCf"
      }
    },
    {
      "cell_type": "code",
      "execution_count": 105,
      "metadata": {
        "colab": {
          "base_uri": "https://localhost:8080/",
          "height": 0
        },
        "id": "VoBrkaBpDqyG",
        "outputId": "07eea526-1e6a-433d-8612-ed10a672013b"
      },
      "outputs": [
        {
          "output_type": "stream",
          "name": "stdout",
          "text": [
            "Looking in indexes: https://pypi.org/simple, https://us-python.pkg.dev/colab-wheels/public/simple/\n",
            "Requirement already satisfied: japanize-matplotlib in /usr/local/lib/python3.9/dist-packages (1.1.3)\n",
            "Requirement already satisfied: matplotlib in /usr/local/lib/python3.9/dist-packages (from japanize-matplotlib) (3.7.1)\n",
            "Requirement already satisfied: fonttools>=4.22.0 in /usr/local/lib/python3.9/dist-packages (from matplotlib->japanize-matplotlib) (4.39.2)\n",
            "Requirement already satisfied: numpy>=1.20 in /usr/local/lib/python3.9/dist-packages (from matplotlib->japanize-matplotlib) (1.22.4)\n",
            "Requirement already satisfied: packaging>=20.0 in /usr/local/lib/python3.9/dist-packages (from matplotlib->japanize-matplotlib) (23.0)\n",
            "Requirement already satisfied: pillow>=6.2.0 in /usr/local/lib/python3.9/dist-packages (from matplotlib->japanize-matplotlib) (8.4.0)\n",
            "Requirement already satisfied: kiwisolver>=1.0.1 in /usr/local/lib/python3.9/dist-packages (from matplotlib->japanize-matplotlib) (1.4.4)\n",
            "Requirement already satisfied: cycler>=0.10 in /usr/local/lib/python3.9/dist-packages (from matplotlib->japanize-matplotlib) (0.11.0)\n",
            "Requirement already satisfied: contourpy>=1.0.1 in /usr/local/lib/python3.9/dist-packages (from matplotlib->japanize-matplotlib) (1.0.7)\n",
            "Requirement already satisfied: pyparsing>=2.3.1 in /usr/local/lib/python3.9/dist-packages (from matplotlib->japanize-matplotlib) (3.0.9)\n",
            "Requirement already satisfied: importlib-resources>=3.2.0 in /usr/local/lib/python3.9/dist-packages (from matplotlib->japanize-matplotlib) (5.12.0)\n",
            "Requirement already satisfied: python-dateutil>=2.7 in /usr/local/lib/python3.9/dist-packages (from matplotlib->japanize-matplotlib) (2.8.2)\n",
            "Requirement already satisfied: zipp>=3.1.0 in /usr/local/lib/python3.9/dist-packages (from importlib-resources>=3.2.0->matplotlib->japanize-matplotlib) (3.15.0)\n",
            "Requirement already satisfied: six>=1.5 in /usr/local/lib/python3.9/dist-packages (from python-dateutil>=2.7->matplotlib->japanize-matplotlib) (1.16.0)\n"
          ]
        }
      ],
      "source": [
        "!pip install japanize-matplotlib"
      ]
    },
    {
      "cell_type": "code",
      "source": [
        "!pip install plotly"
      ],
      "metadata": {
        "colab": {
          "base_uri": "https://localhost:8080/",
          "height": 0
        },
        "id": "qx6O5d7yEu_N",
        "outputId": "75edd60a-5bbd-4989-a181-4b60e4991772"
      },
      "execution_count": 106,
      "outputs": [
        {
          "output_type": "stream",
          "name": "stdout",
          "text": [
            "Looking in indexes: https://pypi.org/simple, https://us-python.pkg.dev/colab-wheels/public/simple/\n",
            "Requirement already satisfied: plotly in /usr/local/lib/python3.9/dist-packages (5.13.1)\n",
            "Requirement already satisfied: tenacity>=6.2.0 in /usr/local/lib/python3.9/dist-packages (from plotly) (8.2.2)\n"
          ]
        }
      ]
    },
    {
      "cell_type": "code",
      "source": [
        "#各種import\n",
        "import pandas as pd\n",
        "import numpy as np\n",
        "import matplotlib.pyplot as plt\n",
        "import pandas_profiling as pp\n",
        "from pandas import plotting\n",
        "from sklearn.model_selection import train_test_split\n",
        "from sklearn.metrics import accuracy_score, roc_auc_score, confusion_matrix, precision_score, recall_score \n",
        "import warnings\n",
        "import lightgbm\n",
        "import os\n",
        "import glob\n",
        "from glob import glob\n",
        "import re\n",
        "from collections import defaultdict\n",
        "import japanize_matplotlib\n",
        "from pandas.core.indexes.base import zip_longest\n",
        "import requests\n",
        "from bs4 import BeautifulSoup\n",
        "import time\n",
        "import plotly.express as px\n",
        "import plotly.graph_objects as go\n",
        "pd.set_option('display.max_rows', None)\n",
        "pd.set_option('display.max_columns', None)\n",
        "%matplotlib inline"
      ],
      "metadata": {
        "id": "cd_Q0-OkD0Qw"
      },
      "execution_count": 107,
      "outputs": []
    },
    {
      "cell_type": "code",
      "source": [
        "path = '/content/drive/MyDrive/SciVal/'"
      ],
      "metadata": {
        "id": "b8CzzXNNF4wY"
      },
      "execution_count": 108,
      "outputs": []
    },
    {
      "cell_type": "code",
      "source": [
        "titech = pd.read_csv(path+'titech_res_list.csv')\n",
        "UT = pd.read_csv(path+'UT_res_list.csv')\n",
        "kyoto = pd.read_csv(path+'kyoto_res_list.csv')\n",
        "osaka = pd.read_csv(path+'osaka_res_list.csv')\n",
        "nagoya = pd.read_csv(path+'nagoya_res_list.csv')\n",
        "medical = pd.read_csv(path+'medical_res_list.csv')\n",
        "MIT = pd.read_csv(path+'MIT_res_list.csv')\n",
        "Imperial = pd.read_csv(path+'Imperial_res_list.csv')"
      ],
      "metadata": {
        "id": "CjwcdOBYG-sO"
      },
      "execution_count": 109,
      "outputs": []
    },
    {
      "cell_type": "code",
      "source": [
        "pd.merge(nagoya,Imperial, how='inner')"
      ],
      "metadata": {
        "colab": {
          "base_uri": "https://localhost:8080/",
          "height": 49
        },
        "id": "zolntDtzUuxO",
        "outputId": "1754a7c7-cfad-4b4f-cb6d-bbe7547f556c"
      },
      "execution_count": 110,
      "outputs": [
        {
          "output_type": "execute_result",
          "data": {
            "text/plain": [
              "Empty DataFrame\n",
              "Columns: [Unnamed: 0, Scopus Author Ids]\n",
              "Index: []"
            ],
            "text/html": [
              "\n",
              "  <div id=\"df-fa0a039b-7992-478e-917f-2863244559a4\">\n",
              "    <div class=\"colab-df-container\">\n",
              "      <div>\n",
              "<style scoped>\n",
              "    .dataframe tbody tr th:only-of-type {\n",
              "        vertical-align: middle;\n",
              "    }\n",
              "\n",
              "    .dataframe tbody tr th {\n",
              "        vertical-align: top;\n",
              "    }\n",
              "\n",
              "    .dataframe thead th {\n",
              "        text-align: right;\n",
              "    }\n",
              "</style>\n",
              "<table border=\"1\" class=\"dataframe\">\n",
              "  <thead>\n",
              "    <tr style=\"text-align: right;\">\n",
              "      <th></th>\n",
              "      <th>Unnamed: 0</th>\n",
              "      <th>Scopus Author Ids</th>\n",
              "    </tr>\n",
              "  </thead>\n",
              "  <tbody>\n",
              "  </tbody>\n",
              "</table>\n",
              "</div>\n",
              "      <button class=\"colab-df-convert\" onclick=\"convertToInteractive('df-fa0a039b-7992-478e-917f-2863244559a4')\"\n",
              "              title=\"Convert this dataframe to an interactive table.\"\n",
              "              style=\"display:none;\">\n",
              "        \n",
              "  <svg xmlns=\"http://www.w3.org/2000/svg\" height=\"24px\"viewBox=\"0 0 24 24\"\n",
              "       width=\"24px\">\n",
              "    <path d=\"M0 0h24v24H0V0z\" fill=\"none\"/>\n",
              "    <path d=\"M18.56 5.44l.94 2.06.94-2.06 2.06-.94-2.06-.94-.94-2.06-.94 2.06-2.06.94zm-11 1L8.5 8.5l.94-2.06 2.06-.94-2.06-.94L8.5 2.5l-.94 2.06-2.06.94zm10 10l.94 2.06.94-2.06 2.06-.94-2.06-.94-.94-2.06-.94 2.06-2.06.94z\"/><path d=\"M17.41 7.96l-1.37-1.37c-.4-.4-.92-.59-1.43-.59-.52 0-1.04.2-1.43.59L10.3 9.45l-7.72 7.72c-.78.78-.78 2.05 0 2.83L4 21.41c.39.39.9.59 1.41.59.51 0 1.02-.2 1.41-.59l7.78-7.78 2.81-2.81c.8-.78.8-2.07 0-2.86zM5.41 20L4 18.59l7.72-7.72 1.47 1.35L5.41 20z\"/>\n",
              "  </svg>\n",
              "      </button>\n",
              "      \n",
              "  <style>\n",
              "    .colab-df-container {\n",
              "      display:flex;\n",
              "      flex-wrap:wrap;\n",
              "      gap: 12px;\n",
              "    }\n",
              "\n",
              "    .colab-df-convert {\n",
              "      background-color: #E8F0FE;\n",
              "      border: none;\n",
              "      border-radius: 50%;\n",
              "      cursor: pointer;\n",
              "      display: none;\n",
              "      fill: #1967D2;\n",
              "      height: 32px;\n",
              "      padding: 0 0 0 0;\n",
              "      width: 32px;\n",
              "    }\n",
              "\n",
              "    .colab-df-convert:hover {\n",
              "      background-color: #E2EBFA;\n",
              "      box-shadow: 0px 1px 2px rgba(60, 64, 67, 0.3), 0px 1px 3px 1px rgba(60, 64, 67, 0.15);\n",
              "      fill: #174EA6;\n",
              "    }\n",
              "\n",
              "    [theme=dark] .colab-df-convert {\n",
              "      background-color: #3B4455;\n",
              "      fill: #D2E3FC;\n",
              "    }\n",
              "\n",
              "    [theme=dark] .colab-df-convert:hover {\n",
              "      background-color: #434B5C;\n",
              "      box-shadow: 0px 1px 3px 1px rgba(0, 0, 0, 0.15);\n",
              "      filter: drop-shadow(0px 1px 2px rgba(0, 0, 0, 0.3));\n",
              "      fill: #FFFFFF;\n",
              "    }\n",
              "  </style>\n",
              "\n",
              "      <script>\n",
              "        const buttonEl =\n",
              "          document.querySelector('#df-fa0a039b-7992-478e-917f-2863244559a4 button.colab-df-convert');\n",
              "        buttonEl.style.display =\n",
              "          google.colab.kernel.accessAllowed ? 'block' : 'none';\n",
              "\n",
              "        async function convertToInteractive(key) {\n",
              "          const element = document.querySelector('#df-fa0a039b-7992-478e-917f-2863244559a4');\n",
              "          const dataTable =\n",
              "            await google.colab.kernel.invokeFunction('convertToInteractive',\n",
              "                                                     [key], {});\n",
              "          if (!dataTable) return;\n",
              "\n",
              "          const docLinkHtml = 'Like what you see? Visit the ' +\n",
              "            '<a target=\"_blank\" href=https://colab.research.google.com/notebooks/data_table.ipynb>data table notebook</a>'\n",
              "            + ' to learn more about interactive tables.';\n",
              "          element.innerHTML = '';\n",
              "          dataTable['output_type'] = 'display_data';\n",
              "          await google.colab.output.renderOutput(dataTable, element);\n",
              "          const docLink = document.createElement('div');\n",
              "          docLink.innerHTML = docLinkHtml;\n",
              "          element.appendChild(docLink);\n",
              "        }\n",
              "      </script>\n",
              "    </div>\n",
              "  </div>\n",
              "  "
            ]
          },
          "metadata": {},
          "execution_count": 110
        }
      ]
    },
    {
      "cell_type": "code",
      "source": [
        "titech = titech[['Scopus Author Ids']]\n",
        "UT = UT[['Scopus Author Ids']]\n",
        "kyoto = kyoto[['Scopus Author Ids']]\n",
        "osaka = osaka[['Scopus Author Ids']]\n",
        "nagoya = nagoya[['Scopus Author Ids']]\n",
        "medical = medical[['Scopus Author Ids']]\n",
        "MIT = MIT[['Scopus Author Ids']]\n",
        "Imperial = Imperial[['Scopus Author Ids']]"
      ],
      "metadata": {
        "id": "vdQJEWylKaFy"
      },
      "execution_count": 111,
      "outputs": []
    },
    {
      "cell_type": "code",
      "source": [
        "univ_list = ['東工大','東大','京大','阪大','名古屋大','医科歯科大','東北大','MIT','Imperial']\n",
        "univ_ = ['titech','UT','kyoto','osaka','nagoya','medical','tohoku','MIT','Imperial']\n",
        "all_res = pd.DataFrame()\n",
        "for univ,name in zip(univ_list,univ_):\n",
        "  start_year = 2012\n",
        "  end_year = 2014\n",
        "  allFiles = glob(path+f'{univ}20*.csv')   \n",
        "  #frame = pd.DataFrame() \n",
        "  for file_ in allFiles:\n",
        "    df = pd.read_csv(file_,encoding = 'cp932')\n",
        "    df['univ_name'] = name\n",
        "    df['start_year'] = start_year\n",
        "    df['end_year'] = end_year\n",
        "    #print(df)\n",
        "    all_res = all_res.append(df)\n",
        "    start_year += 1\n",
        "    end_year += 1\n"
      ],
      "metadata": {
        "id": "kq92xjOqpx9p",
        "colab": {
          "base_uri": "https://localhost:8080/",
          "height": 0
        },
        "outputId": "33694c87-9937-4f06-956a-461413292ec9"
      },
      "execution_count": 112,
      "outputs": [
        {
          "output_type": "stream",
          "name": "stderr",
          "text": [
            "<ipython-input-112-c58f5e65187c>:15: FutureWarning:\n",
            "\n",
            "The frame.append method is deprecated and will be removed from pandas in a future version. Use pandas.concat instead.\n",
            "\n",
            "<ipython-input-112-c58f5e65187c>:15: FutureWarning:\n",
            "\n",
            "The frame.append method is deprecated and will be removed from pandas in a future version. Use pandas.concat instead.\n",
            "\n",
            "<ipython-input-112-c58f5e65187c>:15: FutureWarning:\n",
            "\n",
            "The frame.append method is deprecated and will be removed from pandas in a future version. Use pandas.concat instead.\n",
            "\n",
            "<ipython-input-112-c58f5e65187c>:15: FutureWarning:\n",
            "\n",
            "The frame.append method is deprecated and will be removed from pandas in a future version. Use pandas.concat instead.\n",
            "\n",
            "<ipython-input-112-c58f5e65187c>:15: FutureWarning:\n",
            "\n",
            "The frame.append method is deprecated and will be removed from pandas in a future version. Use pandas.concat instead.\n",
            "\n",
            "<ipython-input-112-c58f5e65187c>:15: FutureWarning:\n",
            "\n",
            "The frame.append method is deprecated and will be removed from pandas in a future version. Use pandas.concat instead.\n",
            "\n",
            "<ipython-input-112-c58f5e65187c>:15: FutureWarning:\n",
            "\n",
            "The frame.append method is deprecated and will be removed from pandas in a future version. Use pandas.concat instead.\n",
            "\n",
            "<ipython-input-112-c58f5e65187c>:15: FutureWarning:\n",
            "\n",
            "The frame.append method is deprecated and will be removed from pandas in a future version. Use pandas.concat instead.\n",
            "\n",
            "<ipython-input-112-c58f5e65187c>:15: FutureWarning:\n",
            "\n",
            "The frame.append method is deprecated and will be removed from pandas in a future version. Use pandas.concat instead.\n",
            "\n",
            "<ipython-input-112-c58f5e65187c>:15: FutureWarning:\n",
            "\n",
            "The frame.append method is deprecated and will be removed from pandas in a future version. Use pandas.concat instead.\n",
            "\n",
            "<ipython-input-112-c58f5e65187c>:15: FutureWarning:\n",
            "\n",
            "The frame.append method is deprecated and will be removed from pandas in a future version. Use pandas.concat instead.\n",
            "\n",
            "<ipython-input-112-c58f5e65187c>:15: FutureWarning:\n",
            "\n",
            "The frame.append method is deprecated and will be removed from pandas in a future version. Use pandas.concat instead.\n",
            "\n",
            "<ipython-input-112-c58f5e65187c>:15: FutureWarning:\n",
            "\n",
            "The frame.append method is deprecated and will be removed from pandas in a future version. Use pandas.concat instead.\n",
            "\n",
            "<ipython-input-112-c58f5e65187c>:15: FutureWarning:\n",
            "\n",
            "The frame.append method is deprecated and will be removed from pandas in a future version. Use pandas.concat instead.\n",
            "\n",
            "<ipython-input-112-c58f5e65187c>:15: FutureWarning:\n",
            "\n",
            "The frame.append method is deprecated and will be removed from pandas in a future version. Use pandas.concat instead.\n",
            "\n",
            "<ipython-input-112-c58f5e65187c>:15: FutureWarning:\n",
            "\n",
            "The frame.append method is deprecated and will be removed from pandas in a future version. Use pandas.concat instead.\n",
            "\n",
            "<ipython-input-112-c58f5e65187c>:15: FutureWarning:\n",
            "\n",
            "The frame.append method is deprecated and will be removed from pandas in a future version. Use pandas.concat instead.\n",
            "\n",
            "<ipython-input-112-c58f5e65187c>:15: FutureWarning:\n",
            "\n",
            "The frame.append method is deprecated and will be removed from pandas in a future version. Use pandas.concat instead.\n",
            "\n",
            "<ipython-input-112-c58f5e65187c>:15: FutureWarning:\n",
            "\n",
            "The frame.append method is deprecated and will be removed from pandas in a future version. Use pandas.concat instead.\n",
            "\n",
            "<ipython-input-112-c58f5e65187c>:15: FutureWarning:\n",
            "\n",
            "The frame.append method is deprecated and will be removed from pandas in a future version. Use pandas.concat instead.\n",
            "\n",
            "<ipython-input-112-c58f5e65187c>:15: FutureWarning:\n",
            "\n",
            "The frame.append method is deprecated and will be removed from pandas in a future version. Use pandas.concat instead.\n",
            "\n",
            "<ipython-input-112-c58f5e65187c>:15: FutureWarning:\n",
            "\n",
            "The frame.append method is deprecated and will be removed from pandas in a future version. Use pandas.concat instead.\n",
            "\n",
            "<ipython-input-112-c58f5e65187c>:15: FutureWarning:\n",
            "\n",
            "The frame.append method is deprecated and will be removed from pandas in a future version. Use pandas.concat instead.\n",
            "\n",
            "<ipython-input-112-c58f5e65187c>:15: FutureWarning:\n",
            "\n",
            "The frame.append method is deprecated and will be removed from pandas in a future version. Use pandas.concat instead.\n",
            "\n",
            "<ipython-input-112-c58f5e65187c>:15: FutureWarning:\n",
            "\n",
            "The frame.append method is deprecated and will be removed from pandas in a future version. Use pandas.concat instead.\n",
            "\n",
            "<ipython-input-112-c58f5e65187c>:15: FutureWarning:\n",
            "\n",
            "The frame.append method is deprecated and will be removed from pandas in a future version. Use pandas.concat instead.\n",
            "\n",
            "<ipython-input-112-c58f5e65187c>:15: FutureWarning:\n",
            "\n",
            "The frame.append method is deprecated and will be removed from pandas in a future version. Use pandas.concat instead.\n",
            "\n",
            "<ipython-input-112-c58f5e65187c>:15: FutureWarning:\n",
            "\n",
            "The frame.append method is deprecated and will be removed from pandas in a future version. Use pandas.concat instead.\n",
            "\n",
            "<ipython-input-112-c58f5e65187c>:15: FutureWarning:\n",
            "\n",
            "The frame.append method is deprecated and will be removed from pandas in a future version. Use pandas.concat instead.\n",
            "\n",
            "<ipython-input-112-c58f5e65187c>:15: FutureWarning:\n",
            "\n",
            "The frame.append method is deprecated and will be removed from pandas in a future version. Use pandas.concat instead.\n",
            "\n",
            "<ipython-input-112-c58f5e65187c>:15: FutureWarning:\n",
            "\n",
            "The frame.append method is deprecated and will be removed from pandas in a future version. Use pandas.concat instead.\n",
            "\n",
            "<ipython-input-112-c58f5e65187c>:15: FutureWarning:\n",
            "\n",
            "The frame.append method is deprecated and will be removed from pandas in a future version. Use pandas.concat instead.\n",
            "\n",
            "<ipython-input-112-c58f5e65187c>:15: FutureWarning:\n",
            "\n",
            "The frame.append method is deprecated and will be removed from pandas in a future version. Use pandas.concat instead.\n",
            "\n",
            "<ipython-input-112-c58f5e65187c>:15: FutureWarning:\n",
            "\n",
            "The frame.append method is deprecated and will be removed from pandas in a future version. Use pandas.concat instead.\n",
            "\n",
            "<ipython-input-112-c58f5e65187c>:15: FutureWarning:\n",
            "\n",
            "The frame.append method is deprecated and will be removed from pandas in a future version. Use pandas.concat instead.\n",
            "\n",
            "<ipython-input-112-c58f5e65187c>:15: FutureWarning:\n",
            "\n",
            "The frame.append method is deprecated and will be removed from pandas in a future version. Use pandas.concat instead.\n",
            "\n",
            "<ipython-input-112-c58f5e65187c>:15: FutureWarning:\n",
            "\n",
            "The frame.append method is deprecated and will be removed from pandas in a future version. Use pandas.concat instead.\n",
            "\n",
            "<ipython-input-112-c58f5e65187c>:15: FutureWarning:\n",
            "\n",
            "The frame.append method is deprecated and will be removed from pandas in a future version. Use pandas.concat instead.\n",
            "\n",
            "<ipython-input-112-c58f5e65187c>:15: FutureWarning:\n",
            "\n",
            "The frame.append method is deprecated and will be removed from pandas in a future version. Use pandas.concat instead.\n",
            "\n",
            "<ipython-input-112-c58f5e65187c>:15: FutureWarning:\n",
            "\n",
            "The frame.append method is deprecated and will be removed from pandas in a future version. Use pandas.concat instead.\n",
            "\n",
            "<ipython-input-112-c58f5e65187c>:15: FutureWarning:\n",
            "\n",
            "The frame.append method is deprecated and will be removed from pandas in a future version. Use pandas.concat instead.\n",
            "\n",
            "<ipython-input-112-c58f5e65187c>:15: FutureWarning:\n",
            "\n",
            "The frame.append method is deprecated and will be removed from pandas in a future version. Use pandas.concat instead.\n",
            "\n",
            "<ipython-input-112-c58f5e65187c>:15: FutureWarning:\n",
            "\n",
            "The frame.append method is deprecated and will be removed from pandas in a future version. Use pandas.concat instead.\n",
            "\n",
            "<ipython-input-112-c58f5e65187c>:15: FutureWarning:\n",
            "\n",
            "The frame.append method is deprecated and will be removed from pandas in a future version. Use pandas.concat instead.\n",
            "\n",
            "<ipython-input-112-c58f5e65187c>:15: FutureWarning:\n",
            "\n",
            "The frame.append method is deprecated and will be removed from pandas in a future version. Use pandas.concat instead.\n",
            "\n",
            "<ipython-input-112-c58f5e65187c>:15: FutureWarning:\n",
            "\n",
            "The frame.append method is deprecated and will be removed from pandas in a future version. Use pandas.concat instead.\n",
            "\n",
            "<ipython-input-112-c58f5e65187c>:15: FutureWarning:\n",
            "\n",
            "The frame.append method is deprecated and will be removed from pandas in a future version. Use pandas.concat instead.\n",
            "\n",
            "<ipython-input-112-c58f5e65187c>:15: FutureWarning:\n",
            "\n",
            "The frame.append method is deprecated and will be removed from pandas in a future version. Use pandas.concat instead.\n",
            "\n",
            "<ipython-input-112-c58f5e65187c>:15: FutureWarning:\n",
            "\n",
            "The frame.append method is deprecated and will be removed from pandas in a future version. Use pandas.concat instead.\n",
            "\n",
            "<ipython-input-112-c58f5e65187c>:15: FutureWarning:\n",
            "\n",
            "The frame.append method is deprecated and will be removed from pandas in a future version. Use pandas.concat instead.\n",
            "\n",
            "<ipython-input-112-c58f5e65187c>:15: FutureWarning:\n",
            "\n",
            "The frame.append method is deprecated and will be removed from pandas in a future version. Use pandas.concat instead.\n",
            "\n",
            "<ipython-input-112-c58f5e65187c>:15: FutureWarning:\n",
            "\n",
            "The frame.append method is deprecated and will be removed from pandas in a future version. Use pandas.concat instead.\n",
            "\n",
            "<ipython-input-112-c58f5e65187c>:15: FutureWarning:\n",
            "\n",
            "The frame.append method is deprecated and will be removed from pandas in a future version. Use pandas.concat instead.\n",
            "\n",
            "<ipython-input-112-c58f5e65187c>:15: FutureWarning:\n",
            "\n",
            "The frame.append method is deprecated and will be removed from pandas in a future version. Use pandas.concat instead.\n",
            "\n",
            "<ipython-input-112-c58f5e65187c>:15: FutureWarning:\n",
            "\n",
            "The frame.append method is deprecated and will be removed from pandas in a future version. Use pandas.concat instead.\n",
            "\n",
            "<ipython-input-112-c58f5e65187c>:15: FutureWarning:\n",
            "\n",
            "The frame.append method is deprecated and will be removed from pandas in a future version. Use pandas.concat instead.\n",
            "\n",
            "<ipython-input-112-c58f5e65187c>:15: FutureWarning:\n",
            "\n",
            "The frame.append method is deprecated and will be removed from pandas in a future version. Use pandas.concat instead.\n",
            "\n",
            "<ipython-input-112-c58f5e65187c>:15: FutureWarning:\n",
            "\n",
            "The frame.append method is deprecated and will be removed from pandas in a future version. Use pandas.concat instead.\n",
            "\n",
            "<ipython-input-112-c58f5e65187c>:15: FutureWarning:\n",
            "\n",
            "The frame.append method is deprecated and will be removed from pandas in a future version. Use pandas.concat instead.\n",
            "\n",
            "<ipython-input-112-c58f5e65187c>:15: FutureWarning:\n",
            "\n",
            "The frame.append method is deprecated and will be removed from pandas in a future version. Use pandas.concat instead.\n",
            "\n",
            "<ipython-input-112-c58f5e65187c>:15: FutureWarning:\n",
            "\n",
            "The frame.append method is deprecated and will be removed from pandas in a future version. Use pandas.concat instead.\n",
            "\n",
            "<ipython-input-112-c58f5e65187c>:15: FutureWarning:\n",
            "\n",
            "The frame.append method is deprecated and will be removed from pandas in a future version. Use pandas.concat instead.\n",
            "\n",
            "<ipython-input-112-c58f5e65187c>:15: FutureWarning:\n",
            "\n",
            "The frame.append method is deprecated and will be removed from pandas in a future version. Use pandas.concat instead.\n",
            "\n",
            "<ipython-input-112-c58f5e65187c>:15: FutureWarning:\n",
            "\n",
            "The frame.append method is deprecated and will be removed from pandas in a future version. Use pandas.concat instead.\n",
            "\n",
            "<ipython-input-112-c58f5e65187c>:15: FutureWarning:\n",
            "\n",
            "The frame.append method is deprecated and will be removed from pandas in a future version. Use pandas.concat instead.\n",
            "\n",
            "<ipython-input-112-c58f5e65187c>:15: FutureWarning:\n",
            "\n",
            "The frame.append method is deprecated and will be removed from pandas in a future version. Use pandas.concat instead.\n",
            "\n",
            "<ipython-input-112-c58f5e65187c>:15: FutureWarning:\n",
            "\n",
            "The frame.append method is deprecated and will be removed from pandas in a future version. Use pandas.concat instead.\n",
            "\n",
            "<ipython-input-112-c58f5e65187c>:15: FutureWarning:\n",
            "\n",
            "The frame.append method is deprecated and will be removed from pandas in a future version. Use pandas.concat instead.\n",
            "\n",
            "<ipython-input-112-c58f5e65187c>:15: FutureWarning:\n",
            "\n",
            "The frame.append method is deprecated and will be removed from pandas in a future version. Use pandas.concat instead.\n",
            "\n",
            "<ipython-input-112-c58f5e65187c>:15: FutureWarning:\n",
            "\n",
            "The frame.append method is deprecated and will be removed from pandas in a future version. Use pandas.concat instead.\n",
            "\n",
            "<ipython-input-112-c58f5e65187c>:15: FutureWarning:\n",
            "\n",
            "The frame.append method is deprecated and will be removed from pandas in a future version. Use pandas.concat instead.\n",
            "\n",
            "<ipython-input-112-c58f5e65187c>:15: FutureWarning:\n",
            "\n",
            "The frame.append method is deprecated and will be removed from pandas in a future version. Use pandas.concat instead.\n",
            "\n"
          ]
        }
      ]
    },
    {
      "cell_type": "code",
      "source": [
        "from pandas.core.ops import flex_comp_method_FRAME\n",
        "univ = ['MIT','Imperial','kyoto','titech','tohoku','nagoya','medical','osaka','UT']\n",
        "\n",
        "files = glob(path+'*_researcher_tag.csv')\n",
        "tag_df = pd.DataFrame()\n",
        "for file_,univ_name in zip(files,univ):\n",
        "  print(file_)\n",
        "  df1 = pd.read_csv(file_)\n",
        "  df1['univ_name'] = univ_name\n",
        "  tag_df = tag_df.append(df1)"
      ],
      "metadata": {
        "colab": {
          "base_uri": "https://localhost:8080/",
          "height": 0
        },
        "id": "FaV2PoRN6asw",
        "outputId": "30fa1a7a-cae8-427a-c2cb-a19d5188e221"
      },
      "execution_count": 113,
      "outputs": [
        {
          "output_type": "stream",
          "name": "stdout",
          "text": [
            "/content/drive/MyDrive/SciVal/kyoto_researcher_tag.csv\n",
            "/content/drive/MyDrive/SciVal/nagoya_researcher_tag.csv\n",
            "/content/drive/MyDrive/SciVal/medical_researcher_tag.csv\n",
            "/content/drive/MyDrive/SciVal/UT_researcher_tag.csv\n",
            "/content/drive/MyDrive/SciVal/Imperial_researcher_tag.csv\n",
            "/content/drive/MyDrive/SciVal/osaka_researcher_tag.csv\n",
            "/content/drive/MyDrive/SciVal/tohoku_researcher_tag.csv\n",
            "/content/drive/MyDrive/SciVal/titech_researcher_tag.csv\n",
            "/content/drive/MyDrive/SciVal/MIT_researcher_tag.csv\n"
          ]
        },
        {
          "output_type": "stream",
          "name": "stderr",
          "text": [
            "<ipython-input-113-7f8d4bc0e98c>:10: FutureWarning:\n",
            "\n",
            "The frame.append method is deprecated and will be removed from pandas in a future version. Use pandas.concat instead.\n",
            "\n",
            "<ipython-input-113-7f8d4bc0e98c>:10: FutureWarning:\n",
            "\n",
            "The frame.append method is deprecated and will be removed from pandas in a future version. Use pandas.concat instead.\n",
            "\n",
            "<ipython-input-113-7f8d4bc0e98c>:10: FutureWarning:\n",
            "\n",
            "The frame.append method is deprecated and will be removed from pandas in a future version. Use pandas.concat instead.\n",
            "\n",
            "<ipython-input-113-7f8d4bc0e98c>:10: FutureWarning:\n",
            "\n",
            "The frame.append method is deprecated and will be removed from pandas in a future version. Use pandas.concat instead.\n",
            "\n",
            "<ipython-input-113-7f8d4bc0e98c>:10: FutureWarning:\n",
            "\n",
            "The frame.append method is deprecated and will be removed from pandas in a future version. Use pandas.concat instead.\n",
            "\n",
            "<ipython-input-113-7f8d4bc0e98c>:10: FutureWarning:\n",
            "\n",
            "The frame.append method is deprecated and will be removed from pandas in a future version. Use pandas.concat instead.\n",
            "\n",
            "<ipython-input-113-7f8d4bc0e98c>:10: FutureWarning:\n",
            "\n",
            "The frame.append method is deprecated and will be removed from pandas in a future version. Use pandas.concat instead.\n",
            "\n",
            "<ipython-input-113-7f8d4bc0e98c>:10: FutureWarning:\n",
            "\n",
            "The frame.append method is deprecated and will be removed from pandas in a future version. Use pandas.concat instead.\n",
            "\n",
            "<ipython-input-113-7f8d4bc0e98c>:10: FutureWarning:\n",
            "\n",
            "The frame.append method is deprecated and will be removed from pandas in a future version. Use pandas.concat instead.\n",
            "\n"
          ]
        }
      ]
    },
    {
      "cell_type": "code",
      "source": [
        "#日本の大学の2018~2020年までの研究者数（教授、准教授、助教）[2018,2019,2020]\n",
        "\n",
        "titech_all = [1030,1041,1031]\n",
        "UT_all = [3531,3544,3606]\n",
        "kyoto_all = [2529,2482,2507]\n",
        "osaka_all = []\n",
        "nagoya_all = [2071,2047,2037]\n",
        "tohoku_all = []\n",
        "print(sum(titech_all))\n"
      ],
      "metadata": {
        "colab": {
          "base_uri": "https://localhost:8080/",
          "height": 0
        },
        "id": "3JwQ9PUqh0jT",
        "outputId": "c4c593d5-5428-415e-b4e5-4e9dcaed6afd"
      },
      "execution_count": 114,
      "outputs": [
        {
          "output_type": "stream",
          "name": "stdout",
          "text": [
            "3102\n"
          ]
        }
      ]
    },
    {
      "cell_type": "code",
      "source": [
        "#日本の大学の分野別の研究費[2018,2019,2020]億円\n",
        "\n",
        "titech_budget = [134,123,121]\n",
        "UT_budget = [584,548,579]\n",
        "kyoto_budget = [368,345,370]\n",
        "osaka_budget = [275,292,283]\n",
        "nagoya_budget = [185,186,195]\n",
        "tohoku_budget = [298,257,320]"
      ],
      "metadata": {
        "id": "W31YEhnnrIHb"
      },
      "execution_count": 115,
      "outputs": []
    },
    {
      "cell_type": "code",
      "source": [
        "tag_df = tag_df.drop('Unnamed: 0',axis=1)"
      ],
      "metadata": {
        "id": "Tvf3-zP5_3Dr"
      },
      "execution_count": 116,
      "outputs": []
    },
    {
      "cell_type": "code",
      "source": [
        "tag_df['univ_name'].value_counts()\n",
        "#tag_dfの大学ごとの数値が間違っている"
      ],
      "metadata": {
        "colab": {
          "base_uri": "https://localhost:8080/",
          "height": 0
        },
        "id": "SlKWQ8-8D45e",
        "outputId": "dfea2c34-b048-4cec-e1be-286a6742a7ce"
      },
      "execution_count": 117,
      "outputs": [
        {
          "output_type": "execute_result",
          "data": {
            "text/plain": [
              "UT          1244\n",
              "tohoku      1054\n",
              "titech       806\n",
              "medical      475\n",
              "MIT          462\n",
              "nagoya       398\n",
              "Imperial     285\n",
              "osaka        183\n",
              "kyoto         72\n",
              "Name: univ_name, dtype: int64"
            ]
          },
          "metadata": {},
          "execution_count": 117
        }
      ]
    },
    {
      "cell_type": "code",
      "source": [
        "a = all_res[all_res['univ_name'] == 'titech']\n",
        "a['Scopus Author Ids'].drop_duplicates().shape[0]\n",
        "#人数確認"
      ],
      "metadata": {
        "colab": {
          "base_uri": "https://localhost:8080/",
          "height": 0
        },
        "id": "KrPIFpua2uKI",
        "outputId": "e013923c-e56d-4669-f98d-e68784fe1b70"
      },
      "execution_count": 118,
      "outputs": [
        {
          "output_type": "execute_result",
          "data": {
            "text/plain": [
              "183"
            ]
          },
          "metadata": {},
          "execution_count": 118
        }
      ]
    },
    {
      "cell_type": "code",
      "source": [
        "all_res.head()"
      ],
      "metadata": {
        "colab": {
          "base_uri": "https://localhost:8080/",
          "height": 206
        },
        "id": "q-PUGNIguB4S",
        "outputId": "7094c6c5-8e1d-472f-c880-28230f70c560"
      },
      "execution_count": 119,
      "outputs": [
        {
          "output_type": "execute_result",
          "data": {
            "text/plain": [
              "   Unnamed: 0  Scopus Author Ids univ_name  start_year  end_year\n",
              "0           2         6602154752    titech        2012      2014\n",
              "1           3        36040908600    titech        2012      2014\n",
              "2           9         7202652119    titech        2012      2014\n",
              "3          11         7102848390    titech        2012      2014\n",
              "4          14         7102758574    titech        2012      2014"
            ],
            "text/html": [
              "\n",
              "  <div id=\"df-06af7ca7-591b-47a9-9d10-293913d47f66\">\n",
              "    <div class=\"colab-df-container\">\n",
              "      <div>\n",
              "<style scoped>\n",
              "    .dataframe tbody tr th:only-of-type {\n",
              "        vertical-align: middle;\n",
              "    }\n",
              "\n",
              "    .dataframe tbody tr th {\n",
              "        vertical-align: top;\n",
              "    }\n",
              "\n",
              "    .dataframe thead th {\n",
              "        text-align: right;\n",
              "    }\n",
              "</style>\n",
              "<table border=\"1\" class=\"dataframe\">\n",
              "  <thead>\n",
              "    <tr style=\"text-align: right;\">\n",
              "      <th></th>\n",
              "      <th>Unnamed: 0</th>\n",
              "      <th>Scopus Author Ids</th>\n",
              "      <th>univ_name</th>\n",
              "      <th>start_year</th>\n",
              "      <th>end_year</th>\n",
              "    </tr>\n",
              "  </thead>\n",
              "  <tbody>\n",
              "    <tr>\n",
              "      <th>0</th>\n",
              "      <td>2</td>\n",
              "      <td>6602154752</td>\n",
              "      <td>titech</td>\n",
              "      <td>2012</td>\n",
              "      <td>2014</td>\n",
              "    </tr>\n",
              "    <tr>\n",
              "      <th>1</th>\n",
              "      <td>3</td>\n",
              "      <td>36040908600</td>\n",
              "      <td>titech</td>\n",
              "      <td>2012</td>\n",
              "      <td>2014</td>\n",
              "    </tr>\n",
              "    <tr>\n",
              "      <th>2</th>\n",
              "      <td>9</td>\n",
              "      <td>7202652119</td>\n",
              "      <td>titech</td>\n",
              "      <td>2012</td>\n",
              "      <td>2014</td>\n",
              "    </tr>\n",
              "    <tr>\n",
              "      <th>3</th>\n",
              "      <td>11</td>\n",
              "      <td>7102848390</td>\n",
              "      <td>titech</td>\n",
              "      <td>2012</td>\n",
              "      <td>2014</td>\n",
              "    </tr>\n",
              "    <tr>\n",
              "      <th>4</th>\n",
              "      <td>14</td>\n",
              "      <td>7102758574</td>\n",
              "      <td>titech</td>\n",
              "      <td>2012</td>\n",
              "      <td>2014</td>\n",
              "    </tr>\n",
              "  </tbody>\n",
              "</table>\n",
              "</div>\n",
              "      <button class=\"colab-df-convert\" onclick=\"convertToInteractive('df-06af7ca7-591b-47a9-9d10-293913d47f66')\"\n",
              "              title=\"Convert this dataframe to an interactive table.\"\n",
              "              style=\"display:none;\">\n",
              "        \n",
              "  <svg xmlns=\"http://www.w3.org/2000/svg\" height=\"24px\"viewBox=\"0 0 24 24\"\n",
              "       width=\"24px\">\n",
              "    <path d=\"M0 0h24v24H0V0z\" fill=\"none\"/>\n",
              "    <path d=\"M18.56 5.44l.94 2.06.94-2.06 2.06-.94-2.06-.94-.94-2.06-.94 2.06-2.06.94zm-11 1L8.5 8.5l.94-2.06 2.06-.94-2.06-.94L8.5 2.5l-.94 2.06-2.06.94zm10 10l.94 2.06.94-2.06 2.06-.94-2.06-.94-.94-2.06-.94 2.06-2.06.94z\"/><path d=\"M17.41 7.96l-1.37-1.37c-.4-.4-.92-.59-1.43-.59-.52 0-1.04.2-1.43.59L10.3 9.45l-7.72 7.72c-.78.78-.78 2.05 0 2.83L4 21.41c.39.39.9.59 1.41.59.51 0 1.02-.2 1.41-.59l7.78-7.78 2.81-2.81c.8-.78.8-2.07 0-2.86zM5.41 20L4 18.59l7.72-7.72 1.47 1.35L5.41 20z\"/>\n",
              "  </svg>\n",
              "      </button>\n",
              "      \n",
              "  <style>\n",
              "    .colab-df-container {\n",
              "      display:flex;\n",
              "      flex-wrap:wrap;\n",
              "      gap: 12px;\n",
              "    }\n",
              "\n",
              "    .colab-df-convert {\n",
              "      background-color: #E8F0FE;\n",
              "      border: none;\n",
              "      border-radius: 50%;\n",
              "      cursor: pointer;\n",
              "      display: none;\n",
              "      fill: #1967D2;\n",
              "      height: 32px;\n",
              "      padding: 0 0 0 0;\n",
              "      width: 32px;\n",
              "    }\n",
              "\n",
              "    .colab-df-convert:hover {\n",
              "      background-color: #E2EBFA;\n",
              "      box-shadow: 0px 1px 2px rgba(60, 64, 67, 0.3), 0px 1px 3px 1px rgba(60, 64, 67, 0.15);\n",
              "      fill: #174EA6;\n",
              "    }\n",
              "\n",
              "    [theme=dark] .colab-df-convert {\n",
              "      background-color: #3B4455;\n",
              "      fill: #D2E3FC;\n",
              "    }\n",
              "\n",
              "    [theme=dark] .colab-df-convert:hover {\n",
              "      background-color: #434B5C;\n",
              "      box-shadow: 0px 1px 3px 1px rgba(0, 0, 0, 0.15);\n",
              "      filter: drop-shadow(0px 1px 2px rgba(0, 0, 0, 0.3));\n",
              "      fill: #FFFFFF;\n",
              "    }\n",
              "  </style>\n",
              "\n",
              "      <script>\n",
              "        const buttonEl =\n",
              "          document.querySelector('#df-06af7ca7-591b-47a9-9d10-293913d47f66 button.colab-df-convert');\n",
              "        buttonEl.style.display =\n",
              "          google.colab.kernel.accessAllowed ? 'block' : 'none';\n",
              "\n",
              "        async function convertToInteractive(key) {\n",
              "          const element = document.querySelector('#df-06af7ca7-591b-47a9-9d10-293913d47f66');\n",
              "          const dataTable =\n",
              "            await google.colab.kernel.invokeFunction('convertToInteractive',\n",
              "                                                     [key], {});\n",
              "          if (!dataTable) return;\n",
              "\n",
              "          const docLinkHtml = 'Like what you see? Visit the ' +\n",
              "            '<a target=\"_blank\" href=https://colab.research.google.com/notebooks/data_table.ipynb>data table notebook</a>'\n",
              "            + ' to learn more about interactive tables.';\n",
              "          element.innerHTML = '';\n",
              "          dataTable['output_type'] = 'display_data';\n",
              "          await google.colab.output.renderOutput(dataTable, element);\n",
              "          const docLink = document.createElement('div');\n",
              "          docLink.innerHTML = docLinkHtml;\n",
              "          element.appendChild(docLink);\n",
              "        }\n",
              "      </script>\n",
              "    </div>\n",
              "  </div>\n",
              "  "
            ]
          },
          "metadata": {},
          "execution_count": 119
        }
      ]
    },
    {
      "cell_type": "code",
      "source": [
        "all_res['start_year'].value_counts()"
      ],
      "metadata": {
        "colab": {
          "base_uri": "https://localhost:8080/",
          "height": 0
        },
        "id": "YkjMo9MMhyIg",
        "outputId": "254f1443-1352-4fb3-97a5-ec8790d0b076"
      },
      "execution_count": 120,
      "outputs": [
        {
          "output_type": "execute_result",
          "data": {
            "text/plain": [
              "2013    2678\n",
              "2012    2602\n",
              "2019    2531\n",
              "2018    2497\n",
              "2016    2455\n",
              "2017    2449\n",
              "2015    2421\n",
              "2014    2419\n",
              "Name: start_year, dtype: int64"
            ]
          },
          "metadata": {},
          "execution_count": 120
        }
      ]
    },
    {
      "cell_type": "code",
      "source": [
        "all_res['start_year'].value_counts()"
      ],
      "metadata": {
        "colab": {
          "base_uri": "https://localhost:8080/",
          "height": 0
        },
        "id": "mMlEa_75_Ad7",
        "outputId": "71fa76d0-f841-4a3c-dc07-42c709dab886"
      },
      "execution_count": 121,
      "outputs": [
        {
          "output_type": "execute_result",
          "data": {
            "text/plain": [
              "2013    2678\n",
              "2012    2602\n",
              "2019    2531\n",
              "2018    2497\n",
              "2016    2455\n",
              "2017    2449\n",
              "2015    2421\n",
              "2014    2419\n",
              "Name: start_year, dtype: int64"
            ]
          },
          "metadata": {},
          "execution_count": 121
        }
      ]
    },
    {
      "cell_type": "code",
      "source": [
        "titech_list = [x for x in range(8)]\n",
        "UT_list = [x for x in range(8)]\n",
        "kyoto_list = [x for x in range(8)]\n",
        "osaka_list = [x for x in range(8)]\n",
        "nagoya_list = [x for x in range(8)]\n",
        "medical_list = [x for x in range(8)]\n",
        "MIT_list = [x for x in range(8)]\n",
        "tohoku_list = [x for x in range(8)]\n",
        "Imperial_list = [x for x in range(8)]\n",
        "#titech_med_list = [x for x in range(8)]\n",
        "univ_numlist = [titech_list,UT_list,kyoto_list,osaka_list,nagoya_list,medical_list,tohoku_list,MIT_list,Imperial_list]\n",
        "#titech_list[0] = 2\n",
        "#univ_list[0][0] = 1\n",
        "#titech_list\n"
      ],
      "metadata": {
        "id": "gShEhM8r8r9e"
      },
      "execution_count": 122,
      "outputs": []
    },
    {
      "cell_type": "code",
      "source": [
        "for i,name in enumerate(univ_):\n",
        "  s = 2012\n",
        "  for j in range(8):\n",
        "    #print(s+j)\n",
        "    df = all_res[(all_res['univ_name'] == name) & (all_res['start_year'] == s+j)]\n",
        "    univ_numlist[i][j] = df['Scopus Author Ids'].drop_duplicates().shape[0]\n"
      ],
      "metadata": {
        "id": "Phk7fdcA5_zL"
      },
      "execution_count": 123,
      "outputs": []
    },
    {
      "cell_type": "code",
      "source": [
        "univ_numlist"
      ],
      "metadata": {
        "colab": {
          "base_uri": "https://localhost:8080/",
          "height": 0
        },
        "id": "wzkAxk5BBztB",
        "outputId": "4fdd93e7-d89a-4d92-edeb-55ecf0aee874"
      },
      "execution_count": 124,
      "outputs": [
        {
          "output_type": "execute_result",
          "data": {
            "text/plain": [
              "[[81, 76, 78, 64, 67, 59, 69, 62],\n",
              " [356, 383, 372, 411, 432, 453, 434, 414],\n",
              " [218, 222, 223, 224, 219, 218, 232, 223],\n",
              " [233, 223, 200, 183, 184, 187, 181, 180],\n",
              " [132, 138, 138, 134, 145, 162, 166, 163],\n",
              " [31, 29, 30, 27, 35, 39, 41, 57],\n",
              " [244, 241, 204, 183, 190, 174, 198, 229],\n",
              " [714, 722, 751, 718, 681, 666, 656, 644],\n",
              " [593, 644, 423, 477, 502, 491, 520, 559]]"
            ]
          },
          "metadata": {},
          "execution_count": 124
        }
      ]
    },
    {
      "cell_type": "code",
      "source": [
        "univ = pd.DataFrame(columns=['大学名','条件を満たす研究者の数','year'])\n",
        "year_list = ['2012~2014','2013~2015','2014~2016','2015~2017','2016~2018','2017~2019','2018~2020','2019~2021']\n",
        "univ_df = pd.DataFrame()\n",
        "for i,univ_name in enumerate(univ_list):\n",
        "  j = 0\n",
        "  for num,year in zip(univ_numlist[i],year_list):\n",
        "    #print(year)\n",
        "    #print(num)\n",
        "    univ.at[j,'大学名'] = univ_name\n",
        "    univ.at[j,'条件を満たす研究者の数'] = num\n",
        "    univ.at[j,'year'] = year\n",
        "    j += 1\n",
        "  univ_df = pd.concat([univ_df,univ])\n",
        "  #print(univ_name)"
      ],
      "metadata": {
        "id": "NVZhedxycr5K"
      },
      "execution_count": 125,
      "outputs": []
    },
    {
      "cell_type": "code",
      "source": [
        "univ_df.head()"
      ],
      "metadata": {
        "colab": {
          "base_uri": "https://localhost:8080/",
          "height": 206
        },
        "id": "fjCt4HQMeA7U",
        "outputId": "dd6675f0-2c64-4657-e4cd-8c8774f2b5a6"
      },
      "execution_count": 126,
      "outputs": [
        {
          "output_type": "execute_result",
          "data": {
            "text/plain": [
              "   大学名 条件を満たす研究者の数       year\n",
              "0  東工大          81  2012~2014\n",
              "1  東工大          76  2013~2015\n",
              "2  東工大          78  2014~2016\n",
              "3  東工大          64  2015~2017\n",
              "4  東工大          67  2016~2018"
            ],
            "text/html": [
              "\n",
              "  <div id=\"df-22a7c7f5-bf70-4ecb-b18a-ef5c5988ab70\">\n",
              "    <div class=\"colab-df-container\">\n",
              "      <div>\n",
              "<style scoped>\n",
              "    .dataframe tbody tr th:only-of-type {\n",
              "        vertical-align: middle;\n",
              "    }\n",
              "\n",
              "    .dataframe tbody tr th {\n",
              "        vertical-align: top;\n",
              "    }\n",
              "\n",
              "    .dataframe thead th {\n",
              "        text-align: right;\n",
              "    }\n",
              "</style>\n",
              "<table border=\"1\" class=\"dataframe\">\n",
              "  <thead>\n",
              "    <tr style=\"text-align: right;\">\n",
              "      <th></th>\n",
              "      <th>大学名</th>\n",
              "      <th>条件を満たす研究者の数</th>\n",
              "      <th>year</th>\n",
              "    </tr>\n",
              "  </thead>\n",
              "  <tbody>\n",
              "    <tr>\n",
              "      <th>0</th>\n",
              "      <td>東工大</td>\n",
              "      <td>81</td>\n",
              "      <td>2012~2014</td>\n",
              "    </tr>\n",
              "    <tr>\n",
              "      <th>1</th>\n",
              "      <td>東工大</td>\n",
              "      <td>76</td>\n",
              "      <td>2013~2015</td>\n",
              "    </tr>\n",
              "    <tr>\n",
              "      <th>2</th>\n",
              "      <td>東工大</td>\n",
              "      <td>78</td>\n",
              "      <td>2014~2016</td>\n",
              "    </tr>\n",
              "    <tr>\n",
              "      <th>3</th>\n",
              "      <td>東工大</td>\n",
              "      <td>64</td>\n",
              "      <td>2015~2017</td>\n",
              "    </tr>\n",
              "    <tr>\n",
              "      <th>4</th>\n",
              "      <td>東工大</td>\n",
              "      <td>67</td>\n",
              "      <td>2016~2018</td>\n",
              "    </tr>\n",
              "  </tbody>\n",
              "</table>\n",
              "</div>\n",
              "      <button class=\"colab-df-convert\" onclick=\"convertToInteractive('df-22a7c7f5-bf70-4ecb-b18a-ef5c5988ab70')\"\n",
              "              title=\"Convert this dataframe to an interactive table.\"\n",
              "              style=\"display:none;\">\n",
              "        \n",
              "  <svg xmlns=\"http://www.w3.org/2000/svg\" height=\"24px\"viewBox=\"0 0 24 24\"\n",
              "       width=\"24px\">\n",
              "    <path d=\"M0 0h24v24H0V0z\" fill=\"none\"/>\n",
              "    <path d=\"M18.56 5.44l.94 2.06.94-2.06 2.06-.94-2.06-.94-.94-2.06-.94 2.06-2.06.94zm-11 1L8.5 8.5l.94-2.06 2.06-.94-2.06-.94L8.5 2.5l-.94 2.06-2.06.94zm10 10l.94 2.06.94-2.06 2.06-.94-2.06-.94-.94-2.06-.94 2.06-2.06.94z\"/><path d=\"M17.41 7.96l-1.37-1.37c-.4-.4-.92-.59-1.43-.59-.52 0-1.04.2-1.43.59L10.3 9.45l-7.72 7.72c-.78.78-.78 2.05 0 2.83L4 21.41c.39.39.9.59 1.41.59.51 0 1.02-.2 1.41-.59l7.78-7.78 2.81-2.81c.8-.78.8-2.07 0-2.86zM5.41 20L4 18.59l7.72-7.72 1.47 1.35L5.41 20z\"/>\n",
              "  </svg>\n",
              "      </button>\n",
              "      \n",
              "  <style>\n",
              "    .colab-df-container {\n",
              "      display:flex;\n",
              "      flex-wrap:wrap;\n",
              "      gap: 12px;\n",
              "    }\n",
              "\n",
              "    .colab-df-convert {\n",
              "      background-color: #E8F0FE;\n",
              "      border: none;\n",
              "      border-radius: 50%;\n",
              "      cursor: pointer;\n",
              "      display: none;\n",
              "      fill: #1967D2;\n",
              "      height: 32px;\n",
              "      padding: 0 0 0 0;\n",
              "      width: 32px;\n",
              "    }\n",
              "\n",
              "    .colab-df-convert:hover {\n",
              "      background-color: #E2EBFA;\n",
              "      box-shadow: 0px 1px 2px rgba(60, 64, 67, 0.3), 0px 1px 3px 1px rgba(60, 64, 67, 0.15);\n",
              "      fill: #174EA6;\n",
              "    }\n",
              "\n",
              "    [theme=dark] .colab-df-convert {\n",
              "      background-color: #3B4455;\n",
              "      fill: #D2E3FC;\n",
              "    }\n",
              "\n",
              "    [theme=dark] .colab-df-convert:hover {\n",
              "      background-color: #434B5C;\n",
              "      box-shadow: 0px 1px 3px 1px rgba(0, 0, 0, 0.15);\n",
              "      filter: drop-shadow(0px 1px 2px rgba(0, 0, 0, 0.3));\n",
              "      fill: #FFFFFF;\n",
              "    }\n",
              "  </style>\n",
              "\n",
              "      <script>\n",
              "        const buttonEl =\n",
              "          document.querySelector('#df-22a7c7f5-bf70-4ecb-b18a-ef5c5988ab70 button.colab-df-convert');\n",
              "        buttonEl.style.display =\n",
              "          google.colab.kernel.accessAllowed ? 'block' : 'none';\n",
              "\n",
              "        async function convertToInteractive(key) {\n",
              "          const element = document.querySelector('#df-22a7c7f5-bf70-4ecb-b18a-ef5c5988ab70');\n",
              "          const dataTable =\n",
              "            await google.colab.kernel.invokeFunction('convertToInteractive',\n",
              "                                                     [key], {});\n",
              "          if (!dataTable) return;\n",
              "\n",
              "          const docLinkHtml = 'Like what you see? Visit the ' +\n",
              "            '<a target=\"_blank\" href=https://colab.research.google.com/notebooks/data_table.ipynb>data table notebook</a>'\n",
              "            + ' to learn more about interactive tables.';\n",
              "          element.innerHTML = '';\n",
              "          dataTable['output_type'] = 'display_data';\n",
              "          await google.colab.output.renderOutput(dataTable, element);\n",
              "          const docLink = document.createElement('div');\n",
              "          docLink.innerHTML = docLinkHtml;\n",
              "          element.appendChild(docLink);\n",
              "        }\n",
              "      </script>\n",
              "    </div>\n",
              "  </div>\n",
              "  "
            ]
          },
          "metadata": {},
          "execution_count": 126
        }
      ]
    },
    {
      "cell_type": "code",
      "source": [
        "tit = univ_df[univ_df['大学名'] == '東工大']\n",
        "med = univ_df[univ_df['大学名'] == '医科歯科大']\n",
        "tit_med = pd.DataFrame(columns=['大学名','条件を満たす研究者の数','year'])\n",
        "i = 0\n",
        "tit_med['year'] = year_list\n",
        "for t,m in zip(tit['条件を満たす研究者の数'],med['条件を満たす研究者の数']):\n",
        "  tit_med.at[i,'大学名'] = '東工大＋医科歯科大'\n",
        "  tit_med.at[i,'条件を満たす研究者の数'] = t+m\n",
        "  i += 1\n"
      ],
      "metadata": {
        "id": "0KveByG8lE47"
      },
      "execution_count": 127,
      "outputs": []
    },
    {
      "cell_type": "code",
      "source": [
        "tit_med"
      ],
      "metadata": {
        "colab": {
          "base_uri": "https://localhost:8080/",
          "height": 300
        },
        "id": "4lpYQrcemKSz",
        "outputId": "743a533f-7e2d-4805-e8af-5c41b006bb05"
      },
      "execution_count": 128,
      "outputs": [
        {
          "output_type": "execute_result",
          "data": {
            "text/plain": [
              "         大学名 条件を満たす研究者の数       year\n",
              "0  東工大＋医科歯科大         112  2012~2014\n",
              "1  東工大＋医科歯科大         105  2013~2015\n",
              "2  東工大＋医科歯科大         108  2014~2016\n",
              "3  東工大＋医科歯科大          91  2015~2017\n",
              "4  東工大＋医科歯科大         102  2016~2018\n",
              "5  東工大＋医科歯科大          98  2017~2019\n",
              "6  東工大＋医科歯科大         110  2018~2020\n",
              "7  東工大＋医科歯科大         119  2019~2021"
            ],
            "text/html": [
              "\n",
              "  <div id=\"df-de478e5b-1959-4b0f-9cde-d79ee167b085\">\n",
              "    <div class=\"colab-df-container\">\n",
              "      <div>\n",
              "<style scoped>\n",
              "    .dataframe tbody tr th:only-of-type {\n",
              "        vertical-align: middle;\n",
              "    }\n",
              "\n",
              "    .dataframe tbody tr th {\n",
              "        vertical-align: top;\n",
              "    }\n",
              "\n",
              "    .dataframe thead th {\n",
              "        text-align: right;\n",
              "    }\n",
              "</style>\n",
              "<table border=\"1\" class=\"dataframe\">\n",
              "  <thead>\n",
              "    <tr style=\"text-align: right;\">\n",
              "      <th></th>\n",
              "      <th>大学名</th>\n",
              "      <th>条件を満たす研究者の数</th>\n",
              "      <th>year</th>\n",
              "    </tr>\n",
              "  </thead>\n",
              "  <tbody>\n",
              "    <tr>\n",
              "      <th>0</th>\n",
              "      <td>東工大＋医科歯科大</td>\n",
              "      <td>112</td>\n",
              "      <td>2012~2014</td>\n",
              "    </tr>\n",
              "    <tr>\n",
              "      <th>1</th>\n",
              "      <td>東工大＋医科歯科大</td>\n",
              "      <td>105</td>\n",
              "      <td>2013~2015</td>\n",
              "    </tr>\n",
              "    <tr>\n",
              "      <th>2</th>\n",
              "      <td>東工大＋医科歯科大</td>\n",
              "      <td>108</td>\n",
              "      <td>2014~2016</td>\n",
              "    </tr>\n",
              "    <tr>\n",
              "      <th>3</th>\n",
              "      <td>東工大＋医科歯科大</td>\n",
              "      <td>91</td>\n",
              "      <td>2015~2017</td>\n",
              "    </tr>\n",
              "    <tr>\n",
              "      <th>4</th>\n",
              "      <td>東工大＋医科歯科大</td>\n",
              "      <td>102</td>\n",
              "      <td>2016~2018</td>\n",
              "    </tr>\n",
              "    <tr>\n",
              "      <th>5</th>\n",
              "      <td>東工大＋医科歯科大</td>\n",
              "      <td>98</td>\n",
              "      <td>2017~2019</td>\n",
              "    </tr>\n",
              "    <tr>\n",
              "      <th>6</th>\n",
              "      <td>東工大＋医科歯科大</td>\n",
              "      <td>110</td>\n",
              "      <td>2018~2020</td>\n",
              "    </tr>\n",
              "    <tr>\n",
              "      <th>7</th>\n",
              "      <td>東工大＋医科歯科大</td>\n",
              "      <td>119</td>\n",
              "      <td>2019~2021</td>\n",
              "    </tr>\n",
              "  </tbody>\n",
              "</table>\n",
              "</div>\n",
              "      <button class=\"colab-df-convert\" onclick=\"convertToInteractive('df-de478e5b-1959-4b0f-9cde-d79ee167b085')\"\n",
              "              title=\"Convert this dataframe to an interactive table.\"\n",
              "              style=\"display:none;\">\n",
              "        \n",
              "  <svg xmlns=\"http://www.w3.org/2000/svg\" height=\"24px\"viewBox=\"0 0 24 24\"\n",
              "       width=\"24px\">\n",
              "    <path d=\"M0 0h24v24H0V0z\" fill=\"none\"/>\n",
              "    <path d=\"M18.56 5.44l.94 2.06.94-2.06 2.06-.94-2.06-.94-.94-2.06-.94 2.06-2.06.94zm-11 1L8.5 8.5l.94-2.06 2.06-.94-2.06-.94L8.5 2.5l-.94 2.06-2.06.94zm10 10l.94 2.06.94-2.06 2.06-.94-2.06-.94-.94-2.06-.94 2.06-2.06.94z\"/><path d=\"M17.41 7.96l-1.37-1.37c-.4-.4-.92-.59-1.43-.59-.52 0-1.04.2-1.43.59L10.3 9.45l-7.72 7.72c-.78.78-.78 2.05 0 2.83L4 21.41c.39.39.9.59 1.41.59.51 0 1.02-.2 1.41-.59l7.78-7.78 2.81-2.81c.8-.78.8-2.07 0-2.86zM5.41 20L4 18.59l7.72-7.72 1.47 1.35L5.41 20z\"/>\n",
              "  </svg>\n",
              "      </button>\n",
              "      \n",
              "  <style>\n",
              "    .colab-df-container {\n",
              "      display:flex;\n",
              "      flex-wrap:wrap;\n",
              "      gap: 12px;\n",
              "    }\n",
              "\n",
              "    .colab-df-convert {\n",
              "      background-color: #E8F0FE;\n",
              "      border: none;\n",
              "      border-radius: 50%;\n",
              "      cursor: pointer;\n",
              "      display: none;\n",
              "      fill: #1967D2;\n",
              "      height: 32px;\n",
              "      padding: 0 0 0 0;\n",
              "      width: 32px;\n",
              "    }\n",
              "\n",
              "    .colab-df-convert:hover {\n",
              "      background-color: #E2EBFA;\n",
              "      box-shadow: 0px 1px 2px rgba(60, 64, 67, 0.3), 0px 1px 3px 1px rgba(60, 64, 67, 0.15);\n",
              "      fill: #174EA6;\n",
              "    }\n",
              "\n",
              "    [theme=dark] .colab-df-convert {\n",
              "      background-color: #3B4455;\n",
              "      fill: #D2E3FC;\n",
              "    }\n",
              "\n",
              "    [theme=dark] .colab-df-convert:hover {\n",
              "      background-color: #434B5C;\n",
              "      box-shadow: 0px 1px 3px 1px rgba(0, 0, 0, 0.15);\n",
              "      filter: drop-shadow(0px 1px 2px rgba(0, 0, 0, 0.3));\n",
              "      fill: #FFFFFF;\n",
              "    }\n",
              "  </style>\n",
              "\n",
              "      <script>\n",
              "        const buttonEl =\n",
              "          document.querySelector('#df-de478e5b-1959-4b0f-9cde-d79ee167b085 button.colab-df-convert');\n",
              "        buttonEl.style.display =\n",
              "          google.colab.kernel.accessAllowed ? 'block' : 'none';\n",
              "\n",
              "        async function convertToInteractive(key) {\n",
              "          const element = document.querySelector('#df-de478e5b-1959-4b0f-9cde-d79ee167b085');\n",
              "          const dataTable =\n",
              "            await google.colab.kernel.invokeFunction('convertToInteractive',\n",
              "                                                     [key], {});\n",
              "          if (!dataTable) return;\n",
              "\n",
              "          const docLinkHtml = 'Like what you see? Visit the ' +\n",
              "            '<a target=\"_blank\" href=https://colab.research.google.com/notebooks/data_table.ipynb>data table notebook</a>'\n",
              "            + ' to learn more about interactive tables.';\n",
              "          element.innerHTML = '';\n",
              "          dataTable['output_type'] = 'display_data';\n",
              "          await google.colab.output.renderOutput(dataTable, element);\n",
              "          const docLink = document.createElement('div');\n",
              "          docLink.innerHTML = docLinkHtml;\n",
              "          element.appendChild(docLink);\n",
              "        }\n",
              "      </script>\n",
              "    </div>\n",
              "  </div>\n",
              "  "
            ]
          },
          "metadata": {},
          "execution_count": 128
        }
      ]
    },
    {
      "cell_type": "code",
      "source": [
        "univ_df = pd.concat([univ_df,tit_med])"
      ],
      "metadata": {
        "id": "IxT-KD4GmheH"
      },
      "execution_count": 129,
      "outputs": []
    },
    {
      "cell_type": "code",
      "source": [
        "univ_df.head()"
      ],
      "metadata": {
        "colab": {
          "base_uri": "https://localhost:8080/",
          "height": 206
        },
        "id": "NU2S71A_mobh",
        "outputId": "3d23e612-5b9b-44c1-ef89-b5f63ba208fa"
      },
      "execution_count": 130,
      "outputs": [
        {
          "output_type": "execute_result",
          "data": {
            "text/plain": [
              "   大学名 条件を満たす研究者の数       year\n",
              "0  東工大          81  2012~2014\n",
              "1  東工大          76  2013~2015\n",
              "2  東工大          78  2014~2016\n",
              "3  東工大          64  2015~2017\n",
              "4  東工大          67  2016~2018"
            ],
            "text/html": [
              "\n",
              "  <div id=\"df-523f34da-5b27-4096-b6c5-8af9eb7f1ef0\">\n",
              "    <div class=\"colab-df-container\">\n",
              "      <div>\n",
              "<style scoped>\n",
              "    .dataframe tbody tr th:only-of-type {\n",
              "        vertical-align: middle;\n",
              "    }\n",
              "\n",
              "    .dataframe tbody tr th {\n",
              "        vertical-align: top;\n",
              "    }\n",
              "\n",
              "    .dataframe thead th {\n",
              "        text-align: right;\n",
              "    }\n",
              "</style>\n",
              "<table border=\"1\" class=\"dataframe\">\n",
              "  <thead>\n",
              "    <tr style=\"text-align: right;\">\n",
              "      <th></th>\n",
              "      <th>大学名</th>\n",
              "      <th>条件を満たす研究者の数</th>\n",
              "      <th>year</th>\n",
              "    </tr>\n",
              "  </thead>\n",
              "  <tbody>\n",
              "    <tr>\n",
              "      <th>0</th>\n",
              "      <td>東工大</td>\n",
              "      <td>81</td>\n",
              "      <td>2012~2014</td>\n",
              "    </tr>\n",
              "    <tr>\n",
              "      <th>1</th>\n",
              "      <td>東工大</td>\n",
              "      <td>76</td>\n",
              "      <td>2013~2015</td>\n",
              "    </tr>\n",
              "    <tr>\n",
              "      <th>2</th>\n",
              "      <td>東工大</td>\n",
              "      <td>78</td>\n",
              "      <td>2014~2016</td>\n",
              "    </tr>\n",
              "    <tr>\n",
              "      <th>3</th>\n",
              "      <td>東工大</td>\n",
              "      <td>64</td>\n",
              "      <td>2015~2017</td>\n",
              "    </tr>\n",
              "    <tr>\n",
              "      <th>4</th>\n",
              "      <td>東工大</td>\n",
              "      <td>67</td>\n",
              "      <td>2016~2018</td>\n",
              "    </tr>\n",
              "  </tbody>\n",
              "</table>\n",
              "</div>\n",
              "      <button class=\"colab-df-convert\" onclick=\"convertToInteractive('df-523f34da-5b27-4096-b6c5-8af9eb7f1ef0')\"\n",
              "              title=\"Convert this dataframe to an interactive table.\"\n",
              "              style=\"display:none;\">\n",
              "        \n",
              "  <svg xmlns=\"http://www.w3.org/2000/svg\" height=\"24px\"viewBox=\"0 0 24 24\"\n",
              "       width=\"24px\">\n",
              "    <path d=\"M0 0h24v24H0V0z\" fill=\"none\"/>\n",
              "    <path d=\"M18.56 5.44l.94 2.06.94-2.06 2.06-.94-2.06-.94-.94-2.06-.94 2.06-2.06.94zm-11 1L8.5 8.5l.94-2.06 2.06-.94-2.06-.94L8.5 2.5l-.94 2.06-2.06.94zm10 10l.94 2.06.94-2.06 2.06-.94-2.06-.94-.94-2.06-.94 2.06-2.06.94z\"/><path d=\"M17.41 7.96l-1.37-1.37c-.4-.4-.92-.59-1.43-.59-.52 0-1.04.2-1.43.59L10.3 9.45l-7.72 7.72c-.78.78-.78 2.05 0 2.83L4 21.41c.39.39.9.59 1.41.59.51 0 1.02-.2 1.41-.59l7.78-7.78 2.81-2.81c.8-.78.8-2.07 0-2.86zM5.41 20L4 18.59l7.72-7.72 1.47 1.35L5.41 20z\"/>\n",
              "  </svg>\n",
              "      </button>\n",
              "      \n",
              "  <style>\n",
              "    .colab-df-container {\n",
              "      display:flex;\n",
              "      flex-wrap:wrap;\n",
              "      gap: 12px;\n",
              "    }\n",
              "\n",
              "    .colab-df-convert {\n",
              "      background-color: #E8F0FE;\n",
              "      border: none;\n",
              "      border-radius: 50%;\n",
              "      cursor: pointer;\n",
              "      display: none;\n",
              "      fill: #1967D2;\n",
              "      height: 32px;\n",
              "      padding: 0 0 0 0;\n",
              "      width: 32px;\n",
              "    }\n",
              "\n",
              "    .colab-df-convert:hover {\n",
              "      background-color: #E2EBFA;\n",
              "      box-shadow: 0px 1px 2px rgba(60, 64, 67, 0.3), 0px 1px 3px 1px rgba(60, 64, 67, 0.15);\n",
              "      fill: #174EA6;\n",
              "    }\n",
              "\n",
              "    [theme=dark] .colab-df-convert {\n",
              "      background-color: #3B4455;\n",
              "      fill: #D2E3FC;\n",
              "    }\n",
              "\n",
              "    [theme=dark] .colab-df-convert:hover {\n",
              "      background-color: #434B5C;\n",
              "      box-shadow: 0px 1px 3px 1px rgba(0, 0, 0, 0.15);\n",
              "      filter: drop-shadow(0px 1px 2px rgba(0, 0, 0, 0.3));\n",
              "      fill: #FFFFFF;\n",
              "    }\n",
              "  </style>\n",
              "\n",
              "      <script>\n",
              "        const buttonEl =\n",
              "          document.querySelector('#df-523f34da-5b27-4096-b6c5-8af9eb7f1ef0 button.colab-df-convert');\n",
              "        buttonEl.style.display =\n",
              "          google.colab.kernel.accessAllowed ? 'block' : 'none';\n",
              "\n",
              "        async function convertToInteractive(key) {\n",
              "          const element = document.querySelector('#df-523f34da-5b27-4096-b6c5-8af9eb7f1ef0');\n",
              "          const dataTable =\n",
              "            await google.colab.kernel.invokeFunction('convertToInteractive',\n",
              "                                                     [key], {});\n",
              "          if (!dataTable) return;\n",
              "\n",
              "          const docLinkHtml = 'Like what you see? Visit the ' +\n",
              "            '<a target=\"_blank\" href=https://colab.research.google.com/notebooks/data_table.ipynb>data table notebook</a>'\n",
              "            + ' to learn more about interactive tables.';\n",
              "          element.innerHTML = '';\n",
              "          dataTable['output_type'] = 'display_data';\n",
              "          await google.colab.output.renderOutput(dataTable, element);\n",
              "          const docLink = document.createElement('div');\n",
              "          docLink.innerHTML = docLinkHtml;\n",
              "          element.appendChild(docLink);\n",
              "        }\n",
              "      </script>\n",
              "    </div>\n",
              "  </div>\n",
              "  "
            ]
          },
          "metadata": {},
          "execution_count": 130
        }
      ]
    },
    {
      "cell_type": "code",
      "source": [
        "all_res['univ_name'].value_counts()"
      ],
      "metadata": {
        "colab": {
          "base_uri": "https://localhost:8080/",
          "height": 0
        },
        "id": "96JK2QlVbmUP",
        "outputId": "190df903-ada9-46de-c857-4a3147b7b952"
      },
      "execution_count": 131,
      "outputs": [
        {
          "output_type": "execute_result",
          "data": {
            "text/plain": [
              "MIT         5552\n",
              "Imperial    4209\n",
              "UT          3255\n",
              "kyoto       1779\n",
              "tohoku      1663\n",
              "osaka       1571\n",
              "nagoya      1178\n",
              "titech       556\n",
              "medical      289\n",
              "Name: univ_name, dtype: int64"
            ]
          },
          "metadata": {},
          "execution_count": 131
        }
      ]
    },
    {
      "cell_type": "code",
      "source": [
        "all_res.shape[0]"
      ],
      "metadata": {
        "colab": {
          "base_uri": "https://localhost:8080/",
          "height": 0
        },
        "id": "YiRIdD5Jz18D",
        "outputId": "7df05174-c9f7-4a32-d9bf-4d4e0a045baf"
      },
      "execution_count": 132,
      "outputs": [
        {
          "output_type": "execute_result",
          "data": {
            "text/plain": [
              "20052"
            ]
          },
          "metadata": {},
          "execution_count": 132
        }
      ]
    },
    {
      "cell_type": "code",
      "source": [
        "all_res.head()"
      ],
      "metadata": {
        "colab": {
          "base_uri": "https://localhost:8080/",
          "height": 206
        },
        "id": "asmrP1c9zOzq",
        "outputId": "9f8d7582-1263-4003-f0b0-54208581c001"
      },
      "execution_count": 133,
      "outputs": [
        {
          "output_type": "execute_result",
          "data": {
            "text/plain": [
              "   Unnamed: 0  Scopus Author Ids univ_name  start_year  end_year\n",
              "0           2         6602154752    titech        2012      2014\n",
              "1           3        36040908600    titech        2012      2014\n",
              "2           9         7202652119    titech        2012      2014\n",
              "3          11         7102848390    titech        2012      2014\n",
              "4          14         7102758574    titech        2012      2014"
            ],
            "text/html": [
              "\n",
              "  <div id=\"df-e063e245-68dc-4d33-b761-a7eba8c444f8\">\n",
              "    <div class=\"colab-df-container\">\n",
              "      <div>\n",
              "<style scoped>\n",
              "    .dataframe tbody tr th:only-of-type {\n",
              "        vertical-align: middle;\n",
              "    }\n",
              "\n",
              "    .dataframe tbody tr th {\n",
              "        vertical-align: top;\n",
              "    }\n",
              "\n",
              "    .dataframe thead th {\n",
              "        text-align: right;\n",
              "    }\n",
              "</style>\n",
              "<table border=\"1\" class=\"dataframe\">\n",
              "  <thead>\n",
              "    <tr style=\"text-align: right;\">\n",
              "      <th></th>\n",
              "      <th>Unnamed: 0</th>\n",
              "      <th>Scopus Author Ids</th>\n",
              "      <th>univ_name</th>\n",
              "      <th>start_year</th>\n",
              "      <th>end_year</th>\n",
              "    </tr>\n",
              "  </thead>\n",
              "  <tbody>\n",
              "    <tr>\n",
              "      <th>0</th>\n",
              "      <td>2</td>\n",
              "      <td>6602154752</td>\n",
              "      <td>titech</td>\n",
              "      <td>2012</td>\n",
              "      <td>2014</td>\n",
              "    </tr>\n",
              "    <tr>\n",
              "      <th>1</th>\n",
              "      <td>3</td>\n",
              "      <td>36040908600</td>\n",
              "      <td>titech</td>\n",
              "      <td>2012</td>\n",
              "      <td>2014</td>\n",
              "    </tr>\n",
              "    <tr>\n",
              "      <th>2</th>\n",
              "      <td>9</td>\n",
              "      <td>7202652119</td>\n",
              "      <td>titech</td>\n",
              "      <td>2012</td>\n",
              "      <td>2014</td>\n",
              "    </tr>\n",
              "    <tr>\n",
              "      <th>3</th>\n",
              "      <td>11</td>\n",
              "      <td>7102848390</td>\n",
              "      <td>titech</td>\n",
              "      <td>2012</td>\n",
              "      <td>2014</td>\n",
              "    </tr>\n",
              "    <tr>\n",
              "      <th>4</th>\n",
              "      <td>14</td>\n",
              "      <td>7102758574</td>\n",
              "      <td>titech</td>\n",
              "      <td>2012</td>\n",
              "      <td>2014</td>\n",
              "    </tr>\n",
              "  </tbody>\n",
              "</table>\n",
              "</div>\n",
              "      <button class=\"colab-df-convert\" onclick=\"convertToInteractive('df-e063e245-68dc-4d33-b761-a7eba8c444f8')\"\n",
              "              title=\"Convert this dataframe to an interactive table.\"\n",
              "              style=\"display:none;\">\n",
              "        \n",
              "  <svg xmlns=\"http://www.w3.org/2000/svg\" height=\"24px\"viewBox=\"0 0 24 24\"\n",
              "       width=\"24px\">\n",
              "    <path d=\"M0 0h24v24H0V0z\" fill=\"none\"/>\n",
              "    <path d=\"M18.56 5.44l.94 2.06.94-2.06 2.06-.94-2.06-.94-.94-2.06-.94 2.06-2.06.94zm-11 1L8.5 8.5l.94-2.06 2.06-.94-2.06-.94L8.5 2.5l-.94 2.06-2.06.94zm10 10l.94 2.06.94-2.06 2.06-.94-2.06-.94-.94-2.06-.94 2.06-2.06.94z\"/><path d=\"M17.41 7.96l-1.37-1.37c-.4-.4-.92-.59-1.43-.59-.52 0-1.04.2-1.43.59L10.3 9.45l-7.72 7.72c-.78.78-.78 2.05 0 2.83L4 21.41c.39.39.9.59 1.41.59.51 0 1.02-.2 1.41-.59l7.78-7.78 2.81-2.81c.8-.78.8-2.07 0-2.86zM5.41 20L4 18.59l7.72-7.72 1.47 1.35L5.41 20z\"/>\n",
              "  </svg>\n",
              "      </button>\n",
              "      \n",
              "  <style>\n",
              "    .colab-df-container {\n",
              "      display:flex;\n",
              "      flex-wrap:wrap;\n",
              "      gap: 12px;\n",
              "    }\n",
              "\n",
              "    .colab-df-convert {\n",
              "      background-color: #E8F0FE;\n",
              "      border: none;\n",
              "      border-radius: 50%;\n",
              "      cursor: pointer;\n",
              "      display: none;\n",
              "      fill: #1967D2;\n",
              "      height: 32px;\n",
              "      padding: 0 0 0 0;\n",
              "      width: 32px;\n",
              "    }\n",
              "\n",
              "    .colab-df-convert:hover {\n",
              "      background-color: #E2EBFA;\n",
              "      box-shadow: 0px 1px 2px rgba(60, 64, 67, 0.3), 0px 1px 3px 1px rgba(60, 64, 67, 0.15);\n",
              "      fill: #174EA6;\n",
              "    }\n",
              "\n",
              "    [theme=dark] .colab-df-convert {\n",
              "      background-color: #3B4455;\n",
              "      fill: #D2E3FC;\n",
              "    }\n",
              "\n",
              "    [theme=dark] .colab-df-convert:hover {\n",
              "      background-color: #434B5C;\n",
              "      box-shadow: 0px 1px 3px 1px rgba(0, 0, 0, 0.15);\n",
              "      filter: drop-shadow(0px 1px 2px rgba(0, 0, 0, 0.3));\n",
              "      fill: #FFFFFF;\n",
              "    }\n",
              "  </style>\n",
              "\n",
              "      <script>\n",
              "        const buttonEl =\n",
              "          document.querySelector('#df-e063e245-68dc-4d33-b761-a7eba8c444f8 button.colab-df-convert');\n",
              "        buttonEl.style.display =\n",
              "          google.colab.kernel.accessAllowed ? 'block' : 'none';\n",
              "\n",
              "        async function convertToInteractive(key) {\n",
              "          const element = document.querySelector('#df-e063e245-68dc-4d33-b761-a7eba8c444f8');\n",
              "          const dataTable =\n",
              "            await google.colab.kernel.invokeFunction('convertToInteractive',\n",
              "                                                     [key], {});\n",
              "          if (!dataTable) return;\n",
              "\n",
              "          const docLinkHtml = 'Like what you see? Visit the ' +\n",
              "            '<a target=\"_blank\" href=https://colab.research.google.com/notebooks/data_table.ipynb>data table notebook</a>'\n",
              "            + ' to learn more about interactive tables.';\n",
              "          element.innerHTML = '';\n",
              "          dataTable['output_type'] = 'display_data';\n",
              "          await google.colab.output.renderOutput(dataTable, element);\n",
              "          const docLink = document.createElement('div');\n",
              "          docLink.innerHTML = docLinkHtml;\n",
              "          element.appendChild(docLink);\n",
              "        }\n",
              "      </script>\n",
              "    </div>\n",
              "  </div>\n",
              "  "
            ]
          },
          "metadata": {},
          "execution_count": 133
        }
      ]
    },
    {
      "cell_type": "code",
      "source": [
        "all_year_res = all_res.drop_duplicates(subset=['Scopus Author Ids','univ_name'])"
      ],
      "metadata": {
        "id": "7ANZkoB5Mszh"
      },
      "execution_count": 134,
      "outputs": []
    },
    {
      "cell_type": "code",
      "source": [
        "#全期間で条件を満たす研究者の数\n",
        "all_year_res['univ_name'].value_counts()"
      ],
      "metadata": {
        "colab": {
          "base_uri": "https://localhost:8080/",
          "height": 0
        },
        "id": "Y4qmZ_eWNLxD",
        "outputId": "a3d7a799-c227-4114-b6aa-dd47500db71a"
      },
      "execution_count": 135,
      "outputs": [
        {
          "output_type": "execute_result",
          "data": {
            "text/plain": [
              "MIT         1676\n",
              "Imperial    1291\n",
              "UT           934\n",
              "kyoto        525\n",
              "tohoku       475\n",
              "osaka        456\n",
              "nagoya       320\n",
              "titech       183\n",
              "medical       86\n",
              "Name: univ_name, dtype: int64"
            ]
          },
          "metadata": {},
          "execution_count": 135
        }
      ]
    },
    {
      "cell_type": "code",
      "source": [
        "tag_df.head()"
      ],
      "metadata": {
        "colab": {
          "base_uri": "https://localhost:8080/",
          "height": 206
        },
        "id": "V83W9qURzRin",
        "outputId": "5289e575-cffa-4983-9cfb-e1908450b3c6"
      },
      "execution_count": 136,
      "outputs": [
        {
          "output_type": "execute_result",
          "data": {
            "text/plain": [
              "   Scopus Author Ids  All Science Journal Classification (ASJC) code  \\\n",
              "0         7103161459                                              27   \n",
              "1         7006377392                                              27   \n",
              "2         7402420635                                              27   \n",
              "3         7102140072                                              27   \n",
              "4         7202185709                                              27   \n",
              "\n",
              "                                                 tag univ_name  \n",
              "0  General Pharmacology, Toxicology and Pharmaceu...       MIT  \n",
              "1                             General Medicine（一般医学）       MIT  \n",
              "2                             General Medicine（一般医学）       MIT  \n",
              "3            General Physics and Astronomy（一般物理・天文学）       MIT  \n",
              "4                            General Chemistry（一般化学）       MIT  "
            ],
            "text/html": [
              "\n",
              "  <div id=\"df-c7f4c214-3fd1-43e2-adc0-4136fb0b2129\">\n",
              "    <div class=\"colab-df-container\">\n",
              "      <div>\n",
              "<style scoped>\n",
              "    .dataframe tbody tr th:only-of-type {\n",
              "        vertical-align: middle;\n",
              "    }\n",
              "\n",
              "    .dataframe tbody tr th {\n",
              "        vertical-align: top;\n",
              "    }\n",
              "\n",
              "    .dataframe thead th {\n",
              "        text-align: right;\n",
              "    }\n",
              "</style>\n",
              "<table border=\"1\" class=\"dataframe\">\n",
              "  <thead>\n",
              "    <tr style=\"text-align: right;\">\n",
              "      <th></th>\n",
              "      <th>Scopus Author Ids</th>\n",
              "      <th>All Science Journal Classification (ASJC) code</th>\n",
              "      <th>tag</th>\n",
              "      <th>univ_name</th>\n",
              "    </tr>\n",
              "  </thead>\n",
              "  <tbody>\n",
              "    <tr>\n",
              "      <th>0</th>\n",
              "      <td>7103161459</td>\n",
              "      <td>27</td>\n",
              "      <td>General Pharmacology, Toxicology and Pharmaceu...</td>\n",
              "      <td>MIT</td>\n",
              "    </tr>\n",
              "    <tr>\n",
              "      <th>1</th>\n",
              "      <td>7006377392</td>\n",
              "      <td>27</td>\n",
              "      <td>General Medicine（一般医学）</td>\n",
              "      <td>MIT</td>\n",
              "    </tr>\n",
              "    <tr>\n",
              "      <th>2</th>\n",
              "      <td>7402420635</td>\n",
              "      <td>27</td>\n",
              "      <td>General Medicine（一般医学）</td>\n",
              "      <td>MIT</td>\n",
              "    </tr>\n",
              "    <tr>\n",
              "      <th>3</th>\n",
              "      <td>7102140072</td>\n",
              "      <td>27</td>\n",
              "      <td>General Physics and Astronomy（一般物理・天文学）</td>\n",
              "      <td>MIT</td>\n",
              "    </tr>\n",
              "    <tr>\n",
              "      <th>4</th>\n",
              "      <td>7202185709</td>\n",
              "      <td>27</td>\n",
              "      <td>General Chemistry（一般化学）</td>\n",
              "      <td>MIT</td>\n",
              "    </tr>\n",
              "  </tbody>\n",
              "</table>\n",
              "</div>\n",
              "      <button class=\"colab-df-convert\" onclick=\"convertToInteractive('df-c7f4c214-3fd1-43e2-adc0-4136fb0b2129')\"\n",
              "              title=\"Convert this dataframe to an interactive table.\"\n",
              "              style=\"display:none;\">\n",
              "        \n",
              "  <svg xmlns=\"http://www.w3.org/2000/svg\" height=\"24px\"viewBox=\"0 0 24 24\"\n",
              "       width=\"24px\">\n",
              "    <path d=\"M0 0h24v24H0V0z\" fill=\"none\"/>\n",
              "    <path d=\"M18.56 5.44l.94 2.06.94-2.06 2.06-.94-2.06-.94-.94-2.06-.94 2.06-2.06.94zm-11 1L8.5 8.5l.94-2.06 2.06-.94-2.06-.94L8.5 2.5l-.94 2.06-2.06.94zm10 10l.94 2.06.94-2.06 2.06-.94-2.06-.94-.94-2.06-.94 2.06-2.06.94z\"/><path d=\"M17.41 7.96l-1.37-1.37c-.4-.4-.92-.59-1.43-.59-.52 0-1.04.2-1.43.59L10.3 9.45l-7.72 7.72c-.78.78-.78 2.05 0 2.83L4 21.41c.39.39.9.59 1.41.59.51 0 1.02-.2 1.41-.59l7.78-7.78 2.81-2.81c.8-.78.8-2.07 0-2.86zM5.41 20L4 18.59l7.72-7.72 1.47 1.35L5.41 20z\"/>\n",
              "  </svg>\n",
              "      </button>\n",
              "      \n",
              "  <style>\n",
              "    .colab-df-container {\n",
              "      display:flex;\n",
              "      flex-wrap:wrap;\n",
              "      gap: 12px;\n",
              "    }\n",
              "\n",
              "    .colab-df-convert {\n",
              "      background-color: #E8F0FE;\n",
              "      border: none;\n",
              "      border-radius: 50%;\n",
              "      cursor: pointer;\n",
              "      display: none;\n",
              "      fill: #1967D2;\n",
              "      height: 32px;\n",
              "      padding: 0 0 0 0;\n",
              "      width: 32px;\n",
              "    }\n",
              "\n",
              "    .colab-df-convert:hover {\n",
              "      background-color: #E2EBFA;\n",
              "      box-shadow: 0px 1px 2px rgba(60, 64, 67, 0.3), 0px 1px 3px 1px rgba(60, 64, 67, 0.15);\n",
              "      fill: #174EA6;\n",
              "    }\n",
              "\n",
              "    [theme=dark] .colab-df-convert {\n",
              "      background-color: #3B4455;\n",
              "      fill: #D2E3FC;\n",
              "    }\n",
              "\n",
              "    [theme=dark] .colab-df-convert:hover {\n",
              "      background-color: #434B5C;\n",
              "      box-shadow: 0px 1px 3px 1px rgba(0, 0, 0, 0.15);\n",
              "      filter: drop-shadow(0px 1px 2px rgba(0, 0, 0, 0.3));\n",
              "      fill: #FFFFFF;\n",
              "    }\n",
              "  </style>\n",
              "\n",
              "      <script>\n",
              "        const buttonEl =\n",
              "          document.querySelector('#df-c7f4c214-3fd1-43e2-adc0-4136fb0b2129 button.colab-df-convert');\n",
              "        buttonEl.style.display =\n",
              "          google.colab.kernel.accessAllowed ? 'block' : 'none';\n",
              "\n",
              "        async function convertToInteractive(key) {\n",
              "          const element = document.querySelector('#df-c7f4c214-3fd1-43e2-adc0-4136fb0b2129');\n",
              "          const dataTable =\n",
              "            await google.colab.kernel.invokeFunction('convertToInteractive',\n",
              "                                                     [key], {});\n",
              "          if (!dataTable) return;\n",
              "\n",
              "          const docLinkHtml = 'Like what you see? Visit the ' +\n",
              "            '<a target=\"_blank\" href=https://colab.research.google.com/notebooks/data_table.ipynb>data table notebook</a>'\n",
              "            + ' to learn more about interactive tables.';\n",
              "          element.innerHTML = '';\n",
              "          dataTable['output_type'] = 'display_data';\n",
              "          await google.colab.output.renderOutput(dataTable, element);\n",
              "          const docLink = document.createElement('div');\n",
              "          docLink.innerHTML = docLinkHtml;\n",
              "          element.appendChild(docLink);\n",
              "        }\n",
              "      </script>\n",
              "    </div>\n",
              "  </div>\n",
              "  "
            ]
          },
          "metadata": {},
          "execution_count": 136
        }
      ]
    },
    {
      "cell_type": "code",
      "source": [
        "tag_df.shape[0]"
      ],
      "metadata": {
        "colab": {
          "base_uri": "https://localhost:8080/",
          "height": 0
        },
        "id": "AhlRoVG-z6g1",
        "outputId": "43178384-85e7-4309-9e62-44cd61ac69fd"
      },
      "execution_count": 137,
      "outputs": [
        {
          "output_type": "execute_result",
          "data": {
            "text/plain": [
              "4979"
            ]
          },
          "metadata": {},
          "execution_count": 137
        }
      ]
    },
    {
      "cell_type": "code",
      "source": [
        "all_res.head()"
      ],
      "metadata": {
        "colab": {
          "base_uri": "https://localhost:8080/",
          "height": 206
        },
        "id": "QzNnO8SKTZFN",
        "outputId": "b824206b-234c-44b4-c4ff-8eb431c21bbf"
      },
      "execution_count": 138,
      "outputs": [
        {
          "output_type": "execute_result",
          "data": {
            "text/plain": [
              "   Unnamed: 0  Scopus Author Ids univ_name  start_year  end_year\n",
              "0           2         6602154752    titech        2012      2014\n",
              "1           3        36040908600    titech        2012      2014\n",
              "2           9         7202652119    titech        2012      2014\n",
              "3          11         7102848390    titech        2012      2014\n",
              "4          14         7102758574    titech        2012      2014"
            ],
            "text/html": [
              "\n",
              "  <div id=\"df-771b2581-42e5-402b-ad43-78f50a62d278\">\n",
              "    <div class=\"colab-df-container\">\n",
              "      <div>\n",
              "<style scoped>\n",
              "    .dataframe tbody tr th:only-of-type {\n",
              "        vertical-align: middle;\n",
              "    }\n",
              "\n",
              "    .dataframe tbody tr th {\n",
              "        vertical-align: top;\n",
              "    }\n",
              "\n",
              "    .dataframe thead th {\n",
              "        text-align: right;\n",
              "    }\n",
              "</style>\n",
              "<table border=\"1\" class=\"dataframe\">\n",
              "  <thead>\n",
              "    <tr style=\"text-align: right;\">\n",
              "      <th></th>\n",
              "      <th>Unnamed: 0</th>\n",
              "      <th>Scopus Author Ids</th>\n",
              "      <th>univ_name</th>\n",
              "      <th>start_year</th>\n",
              "      <th>end_year</th>\n",
              "    </tr>\n",
              "  </thead>\n",
              "  <tbody>\n",
              "    <tr>\n",
              "      <th>0</th>\n",
              "      <td>2</td>\n",
              "      <td>6602154752</td>\n",
              "      <td>titech</td>\n",
              "      <td>2012</td>\n",
              "      <td>2014</td>\n",
              "    </tr>\n",
              "    <tr>\n",
              "      <th>1</th>\n",
              "      <td>3</td>\n",
              "      <td>36040908600</td>\n",
              "      <td>titech</td>\n",
              "      <td>2012</td>\n",
              "      <td>2014</td>\n",
              "    </tr>\n",
              "    <tr>\n",
              "      <th>2</th>\n",
              "      <td>9</td>\n",
              "      <td>7202652119</td>\n",
              "      <td>titech</td>\n",
              "      <td>2012</td>\n",
              "      <td>2014</td>\n",
              "    </tr>\n",
              "    <tr>\n",
              "      <th>3</th>\n",
              "      <td>11</td>\n",
              "      <td>7102848390</td>\n",
              "      <td>titech</td>\n",
              "      <td>2012</td>\n",
              "      <td>2014</td>\n",
              "    </tr>\n",
              "    <tr>\n",
              "      <th>4</th>\n",
              "      <td>14</td>\n",
              "      <td>7102758574</td>\n",
              "      <td>titech</td>\n",
              "      <td>2012</td>\n",
              "      <td>2014</td>\n",
              "    </tr>\n",
              "  </tbody>\n",
              "</table>\n",
              "</div>\n",
              "      <button class=\"colab-df-convert\" onclick=\"convertToInteractive('df-771b2581-42e5-402b-ad43-78f50a62d278')\"\n",
              "              title=\"Convert this dataframe to an interactive table.\"\n",
              "              style=\"display:none;\">\n",
              "        \n",
              "  <svg xmlns=\"http://www.w3.org/2000/svg\" height=\"24px\"viewBox=\"0 0 24 24\"\n",
              "       width=\"24px\">\n",
              "    <path d=\"M0 0h24v24H0V0z\" fill=\"none\"/>\n",
              "    <path d=\"M18.56 5.44l.94 2.06.94-2.06 2.06-.94-2.06-.94-.94-2.06-.94 2.06-2.06.94zm-11 1L8.5 8.5l.94-2.06 2.06-.94-2.06-.94L8.5 2.5l-.94 2.06-2.06.94zm10 10l.94 2.06.94-2.06 2.06-.94-2.06-.94-.94-2.06-.94 2.06-2.06.94z\"/><path d=\"M17.41 7.96l-1.37-1.37c-.4-.4-.92-.59-1.43-.59-.52 0-1.04.2-1.43.59L10.3 9.45l-7.72 7.72c-.78.78-.78 2.05 0 2.83L4 21.41c.39.39.9.59 1.41.59.51 0 1.02-.2 1.41-.59l7.78-7.78 2.81-2.81c.8-.78.8-2.07 0-2.86zM5.41 20L4 18.59l7.72-7.72 1.47 1.35L5.41 20z\"/>\n",
              "  </svg>\n",
              "      </button>\n",
              "      \n",
              "  <style>\n",
              "    .colab-df-container {\n",
              "      display:flex;\n",
              "      flex-wrap:wrap;\n",
              "      gap: 12px;\n",
              "    }\n",
              "\n",
              "    .colab-df-convert {\n",
              "      background-color: #E8F0FE;\n",
              "      border: none;\n",
              "      border-radius: 50%;\n",
              "      cursor: pointer;\n",
              "      display: none;\n",
              "      fill: #1967D2;\n",
              "      height: 32px;\n",
              "      padding: 0 0 0 0;\n",
              "      width: 32px;\n",
              "    }\n",
              "\n",
              "    .colab-df-convert:hover {\n",
              "      background-color: #E2EBFA;\n",
              "      box-shadow: 0px 1px 2px rgba(60, 64, 67, 0.3), 0px 1px 3px 1px rgba(60, 64, 67, 0.15);\n",
              "      fill: #174EA6;\n",
              "    }\n",
              "\n",
              "    [theme=dark] .colab-df-convert {\n",
              "      background-color: #3B4455;\n",
              "      fill: #D2E3FC;\n",
              "    }\n",
              "\n",
              "    [theme=dark] .colab-df-convert:hover {\n",
              "      background-color: #434B5C;\n",
              "      box-shadow: 0px 1px 3px 1px rgba(0, 0, 0, 0.15);\n",
              "      filter: drop-shadow(0px 1px 2px rgba(0, 0, 0, 0.3));\n",
              "      fill: #FFFFFF;\n",
              "    }\n",
              "  </style>\n",
              "\n",
              "      <script>\n",
              "        const buttonEl =\n",
              "          document.querySelector('#df-771b2581-42e5-402b-ad43-78f50a62d278 button.colab-df-convert');\n",
              "        buttonEl.style.display =\n",
              "          google.colab.kernel.accessAllowed ? 'block' : 'none';\n",
              "\n",
              "        async function convertToInteractive(key) {\n",
              "          const element = document.querySelector('#df-771b2581-42e5-402b-ad43-78f50a62d278');\n",
              "          const dataTable =\n",
              "            await google.colab.kernel.invokeFunction('convertToInteractive',\n",
              "                                                     [key], {});\n",
              "          if (!dataTable) return;\n",
              "\n",
              "          const docLinkHtml = 'Like what you see? Visit the ' +\n",
              "            '<a target=\"_blank\" href=https://colab.research.google.com/notebooks/data_table.ipynb>data table notebook</a>'\n",
              "            + ' to learn more about interactive tables.';\n",
              "          element.innerHTML = '';\n",
              "          dataTable['output_type'] = 'display_data';\n",
              "          await google.colab.output.renderOutput(dataTable, element);\n",
              "          const docLink = document.createElement('div');\n",
              "          docLink.innerHTML = docLinkHtml;\n",
              "          element.appendChild(docLink);\n",
              "        }\n",
              "      </script>\n",
              "    </div>\n",
              "  </div>\n",
              "  "
            ]
          },
          "metadata": {},
          "execution_count": 138
        }
      ]
    },
    {
      "cell_type": "code",
      "source": [
        "tag_df.head()"
      ],
      "metadata": {
        "colab": {
          "base_uri": "https://localhost:8080/",
          "height": 206
        },
        "id": "hppy7BdCTdAv",
        "outputId": "7155d7e7-f774-48f0-b088-f1df5e74e6c8"
      },
      "execution_count": 139,
      "outputs": [
        {
          "output_type": "execute_result",
          "data": {
            "text/plain": [
              "   Scopus Author Ids  All Science Journal Classification (ASJC) code  \\\n",
              "0         7103161459                                              27   \n",
              "1         7006377392                                              27   \n",
              "2         7402420635                                              27   \n",
              "3         7102140072                                              27   \n",
              "4         7202185709                                              27   \n",
              "\n",
              "                                                 tag univ_name  \n",
              "0  General Pharmacology, Toxicology and Pharmaceu...       MIT  \n",
              "1                             General Medicine（一般医学）       MIT  \n",
              "2                             General Medicine（一般医学）       MIT  \n",
              "3            General Physics and Astronomy（一般物理・天文学）       MIT  \n",
              "4                            General Chemistry（一般化学）       MIT  "
            ],
            "text/html": [
              "\n",
              "  <div id=\"df-b50526c0-9cab-412f-acf2-cade32852a40\">\n",
              "    <div class=\"colab-df-container\">\n",
              "      <div>\n",
              "<style scoped>\n",
              "    .dataframe tbody tr th:only-of-type {\n",
              "        vertical-align: middle;\n",
              "    }\n",
              "\n",
              "    .dataframe tbody tr th {\n",
              "        vertical-align: top;\n",
              "    }\n",
              "\n",
              "    .dataframe thead th {\n",
              "        text-align: right;\n",
              "    }\n",
              "</style>\n",
              "<table border=\"1\" class=\"dataframe\">\n",
              "  <thead>\n",
              "    <tr style=\"text-align: right;\">\n",
              "      <th></th>\n",
              "      <th>Scopus Author Ids</th>\n",
              "      <th>All Science Journal Classification (ASJC) code</th>\n",
              "      <th>tag</th>\n",
              "      <th>univ_name</th>\n",
              "    </tr>\n",
              "  </thead>\n",
              "  <tbody>\n",
              "    <tr>\n",
              "      <th>0</th>\n",
              "      <td>7103161459</td>\n",
              "      <td>27</td>\n",
              "      <td>General Pharmacology, Toxicology and Pharmaceu...</td>\n",
              "      <td>MIT</td>\n",
              "    </tr>\n",
              "    <tr>\n",
              "      <th>1</th>\n",
              "      <td>7006377392</td>\n",
              "      <td>27</td>\n",
              "      <td>General Medicine（一般医学）</td>\n",
              "      <td>MIT</td>\n",
              "    </tr>\n",
              "    <tr>\n",
              "      <th>2</th>\n",
              "      <td>7402420635</td>\n",
              "      <td>27</td>\n",
              "      <td>General Medicine（一般医学）</td>\n",
              "      <td>MIT</td>\n",
              "    </tr>\n",
              "    <tr>\n",
              "      <th>3</th>\n",
              "      <td>7102140072</td>\n",
              "      <td>27</td>\n",
              "      <td>General Physics and Astronomy（一般物理・天文学）</td>\n",
              "      <td>MIT</td>\n",
              "    </tr>\n",
              "    <tr>\n",
              "      <th>4</th>\n",
              "      <td>7202185709</td>\n",
              "      <td>27</td>\n",
              "      <td>General Chemistry（一般化学）</td>\n",
              "      <td>MIT</td>\n",
              "    </tr>\n",
              "  </tbody>\n",
              "</table>\n",
              "</div>\n",
              "      <button class=\"colab-df-convert\" onclick=\"convertToInteractive('df-b50526c0-9cab-412f-acf2-cade32852a40')\"\n",
              "              title=\"Convert this dataframe to an interactive table.\"\n",
              "              style=\"display:none;\">\n",
              "        \n",
              "  <svg xmlns=\"http://www.w3.org/2000/svg\" height=\"24px\"viewBox=\"0 0 24 24\"\n",
              "       width=\"24px\">\n",
              "    <path d=\"M0 0h24v24H0V0z\" fill=\"none\"/>\n",
              "    <path d=\"M18.56 5.44l.94 2.06.94-2.06 2.06-.94-2.06-.94-.94-2.06-.94 2.06-2.06.94zm-11 1L8.5 8.5l.94-2.06 2.06-.94-2.06-.94L8.5 2.5l-.94 2.06-2.06.94zm10 10l.94 2.06.94-2.06 2.06-.94-2.06-.94-.94-2.06-.94 2.06-2.06.94z\"/><path d=\"M17.41 7.96l-1.37-1.37c-.4-.4-.92-.59-1.43-.59-.52 0-1.04.2-1.43.59L10.3 9.45l-7.72 7.72c-.78.78-.78 2.05 0 2.83L4 21.41c.39.39.9.59 1.41.59.51 0 1.02-.2 1.41-.59l7.78-7.78 2.81-2.81c.8-.78.8-2.07 0-2.86zM5.41 20L4 18.59l7.72-7.72 1.47 1.35L5.41 20z\"/>\n",
              "  </svg>\n",
              "      </button>\n",
              "      \n",
              "  <style>\n",
              "    .colab-df-container {\n",
              "      display:flex;\n",
              "      flex-wrap:wrap;\n",
              "      gap: 12px;\n",
              "    }\n",
              "\n",
              "    .colab-df-convert {\n",
              "      background-color: #E8F0FE;\n",
              "      border: none;\n",
              "      border-radius: 50%;\n",
              "      cursor: pointer;\n",
              "      display: none;\n",
              "      fill: #1967D2;\n",
              "      height: 32px;\n",
              "      padding: 0 0 0 0;\n",
              "      width: 32px;\n",
              "    }\n",
              "\n",
              "    .colab-df-convert:hover {\n",
              "      background-color: #E2EBFA;\n",
              "      box-shadow: 0px 1px 2px rgba(60, 64, 67, 0.3), 0px 1px 3px 1px rgba(60, 64, 67, 0.15);\n",
              "      fill: #174EA6;\n",
              "    }\n",
              "\n",
              "    [theme=dark] .colab-df-convert {\n",
              "      background-color: #3B4455;\n",
              "      fill: #D2E3FC;\n",
              "    }\n",
              "\n",
              "    [theme=dark] .colab-df-convert:hover {\n",
              "      background-color: #434B5C;\n",
              "      box-shadow: 0px 1px 3px 1px rgba(0, 0, 0, 0.15);\n",
              "      filter: drop-shadow(0px 1px 2px rgba(0, 0, 0, 0.3));\n",
              "      fill: #FFFFFF;\n",
              "    }\n",
              "  </style>\n",
              "\n",
              "      <script>\n",
              "        const buttonEl =\n",
              "          document.querySelector('#df-b50526c0-9cab-412f-acf2-cade32852a40 button.colab-df-convert');\n",
              "        buttonEl.style.display =\n",
              "          google.colab.kernel.accessAllowed ? 'block' : 'none';\n",
              "\n",
              "        async function convertToInteractive(key) {\n",
              "          const element = document.querySelector('#df-b50526c0-9cab-412f-acf2-cade32852a40');\n",
              "          const dataTable =\n",
              "            await google.colab.kernel.invokeFunction('convertToInteractive',\n",
              "                                                     [key], {});\n",
              "          if (!dataTable) return;\n",
              "\n",
              "          const docLinkHtml = 'Like what you see? Visit the ' +\n",
              "            '<a target=\"_blank\" href=https://colab.research.google.com/notebooks/data_table.ipynb>data table notebook</a>'\n",
              "            + ' to learn more about interactive tables.';\n",
              "          element.innerHTML = '';\n",
              "          dataTable['output_type'] = 'display_data';\n",
              "          await google.colab.output.renderOutput(dataTable, element);\n",
              "          const docLink = document.createElement('div');\n",
              "          docLink.innerHTML = docLinkHtml;\n",
              "          element.appendChild(docLink);\n",
              "        }\n",
              "      </script>\n",
              "    </div>\n",
              "  </div>\n",
              "  "
            ]
          },
          "metadata": {},
          "execution_count": 139
        }
      ]
    },
    {
      "cell_type": "markdown",
      "source": [],
      "metadata": {
        "id": "-ApVmhLlxnb0"
      }
    },
    {
      "cell_type": "code",
      "source": [
        "tag_all = pd.merge(all_res,tag_df,how='inner',on='Scopus Author Ids')"
      ],
      "metadata": {
        "id": "3qM9I3ssMo3r"
      },
      "execution_count": 140,
      "outputs": []
    },
    {
      "cell_type": "markdown",
      "source": [],
      "metadata": {
        "id": "vVfVtgjnxn__"
      }
    },
    {
      "cell_type": "code",
      "source": [
        "tag_all.shape[0]"
      ],
      "metadata": {
        "colab": {
          "base_uri": "https://localhost:8080/",
          "height": 0
        },
        "id": "JkcdzqwMW7GD",
        "outputId": "06d9ef18-ae25-44a3-a18d-29484da36d0a"
      },
      "execution_count": 141,
      "outputs": [
        {
          "output_type": "execute_result",
          "data": {
            "text/plain": [
              "17897"
            ]
          },
          "metadata": {},
          "execution_count": 141
        }
      ]
    },
    {
      "cell_type": "code",
      "source": [
        "tag_all.query('univ_name_x == \"titech\"').shape[0]"
      ],
      "metadata": {
        "colab": {
          "base_uri": "https://localhost:8080/",
          "height": 0
        },
        "id": "zgG0cnRyTcHp",
        "outputId": "5d98aadd-0d58-45d3-ba38-c97879ec87f3"
      },
      "execution_count": 142,
      "outputs": [
        {
          "output_type": "execute_result",
          "data": {
            "text/plain": [
              "618"
            ]
          },
          "metadata": {},
          "execution_count": 142
        }
      ]
    },
    {
      "cell_type": "code",
      "source": [
        "a = tag_all[tag_all['univ_name_x'] == 'titech']"
      ],
      "metadata": {
        "id": "u5xDefkjx0Kx"
      },
      "execution_count": 143,
      "outputs": []
    },
    {
      "cell_type": "code",
      "source": [
        "a['Scopus Author Ids'].nunique()"
      ],
      "metadata": {
        "colab": {
          "base_uri": "https://localhost:8080/",
          "height": 0
        },
        "id": "UWuo8NQPx6JY",
        "outputId": "ec4c6297-f60e-4266-8833-67a48331e982"
      },
      "execution_count": 144,
      "outputs": [
        {
          "output_type": "execute_result",
          "data": {
            "text/plain": [
              "183"
            ]
          },
          "metadata": {},
          "execution_count": 144
        }
      ]
    },
    {
      "cell_type": "code",
      "source": [
        "df_3 = tag_all[(tag_all['start_year'] == 2012) | (tag_all['start_year'] == 2015) | (tag_all['start_year'] == 2018) | (tag_all['start_year'] == 2022)]"
      ],
      "metadata": {
        "id": "Kf5hZsEBWmpo"
      },
      "execution_count": 145,
      "outputs": []
    },
    {
      "cell_type": "code",
      "source": [
        "df_3['start_year'].value_counts()"
      ],
      "metadata": {
        "colab": {
          "base_uri": "https://localhost:8080/",
          "height": 0
        },
        "id": "dazSm7aNpaCm",
        "outputId": "8385c5fd-e473-4677-8269-325d28e52a84"
      },
      "execution_count": 146,
      "outputs": [
        {
          "output_type": "execute_result",
          "data": {
            "text/plain": [
              "2012    2264\n",
              "2018    2246\n",
              "2015    2179\n",
              "Name: start_year, dtype: int64"
            ]
          },
          "metadata": {},
          "execution_count": 146
        }
      ]
    },
    {
      "cell_type": "code",
      "source": [
        "df_3 = df_3.rename(columns={'univ_name_x':'univ_name'})"
      ],
      "metadata": {
        "id": "ZEkoo67R0pfN"
      },
      "execution_count": 147,
      "outputs": []
    },
    {
      "cell_type": "code",
      "source": [
        "df_3['researcher_num'] = 1"
      ],
      "metadata": {
        "id": "aUNxafl3yto3"
      },
      "execution_count": 148,
      "outputs": []
    },
    {
      "cell_type": "code",
      "source": [
        "a = df_3[df_3['univ_name'] == 'titech']"
      ],
      "metadata": {
        "id": "62GxbehZwuyt"
      },
      "execution_count": 149,
      "outputs": []
    },
    {
      "cell_type": "code",
      "source": [
        "all_y_res = tag_all.drop_duplicates(subset=['Scopus Author Ids','univ_name_x'])"
      ],
      "metadata": {
        "id": "DAWxId60Okeu"
      },
      "execution_count": 150,
      "outputs": []
    },
    {
      "cell_type": "code",
      "source": [
        "all_y_res['univ_name_x'].value_counts()"
      ],
      "metadata": {
        "colab": {
          "base_uri": "https://localhost:8080/",
          "height": 0
        },
        "id": "CnL73505Or1D",
        "outputId": "aba5b6e4-d647-4954-c671-781dbce6fe01"
      },
      "execution_count": 151,
      "outputs": [
        {
          "output_type": "execute_result",
          "data": {
            "text/plain": [
              "MIT         1246\n",
              "Imperial    1054\n",
              "UT           815\n",
              "tohoku       475\n",
              "kyoto        469\n",
              "osaka        405\n",
              "nagoya       285\n",
              "titech       183\n",
              "medical       74\n",
              "Name: univ_name_x, dtype: int64"
            ]
          },
          "metadata": {},
          "execution_count": 151
        }
      ]
    },
    {
      "cell_type": "markdown",
      "source": [
        "# ①各大学における条件を満たす研究者の人数と医学分野の割合"
      ],
      "metadata": {
        "id": "2bKofvyrjRi3"
      }
    },
    {
      "cell_type": "markdown",
      "source": [
        "## 集計"
      ],
      "metadata": {
        "id": "8yPgHlhKvejf"
      }
    },
    {
      "cell_type": "code",
      "source": [
        "all_y_res['researcher_num'] = 1\n",
        "all_y_res['flag'] = '医学以外'"
      ],
      "metadata": {
        "colab": {
          "base_uri": "https://localhost:8080/",
          "height": 0
        },
        "id": "uPAmiyg8Payt",
        "outputId": "337f506a-a825-449f-fc25-a5f278fd0747"
      },
      "execution_count": 48,
      "outputs": [
        {
          "output_type": "stream",
          "name": "stderr",
          "text": [
            "<ipython-input-48-9b5296ae57cb>:1: SettingWithCopyWarning: \n",
            "A value is trying to be set on a copy of a slice from a DataFrame.\n",
            "Try using .loc[row_indexer,col_indexer] = value instead\n",
            "\n",
            "See the caveats in the documentation: https://pandas.pydata.org/pandas-docs/stable/user_guide/indexing.html#returning-a-view-versus-a-copy\n",
            "  all_y_res['researcher_num'] = 1\n",
            "<ipython-input-48-9b5296ae57cb>:2: SettingWithCopyWarning: \n",
            "A value is trying to be set on a copy of a slice from a DataFrame.\n",
            "Try using .loc[row_indexer,col_indexer] = value instead\n",
            "\n",
            "See the caveats in the documentation: https://pandas.pydata.org/pandas-docs/stable/user_guide/indexing.html#returning-a-view-versus-a-copy\n",
            "  all_y_res['flag'] = '医学以外'\n"
          ]
        }
      ]
    },
    {
      "cell_type": "code",
      "source": [
        "all_y_res.loc[all_y_res['tag'] == 'General Medicine（一般医学）','flag'] = '医学'"
      ],
      "metadata": {
        "id": "AhKY-SUbeMAb"
      },
      "execution_count": 49,
      "outputs": []
    },
    {
      "cell_type": "code",
      "source": [
        "df_japan = df_3[(df_3['univ_name'] != 'MIT')|(df_3['univ_name'] != 'Imperial')]"
      ],
      "metadata": {
        "id": "cqUV_qdvKNGd"
      },
      "execution_count": 50,
      "outputs": []
    },
    {
      "cell_type": "code",
      "source": [
        "df_japan['tag'].value_counts()"
      ],
      "metadata": {
        "colab": {
          "base_uri": "https://localhost:8080/",
          "height": 0
        },
        "id": "b4T4T3s4Hos2",
        "outputId": "4784b35e-8be6-4f82-8a90-a6aca990175c"
      },
      "execution_count": 51,
      "outputs": [
        {
          "output_type": "execute_result",
          "data": {
            "text/plain": [
              "General Medicine（一般医学）                                               1802\n",
              "General Physics and Astronomy（一般物理・天文学）                              1128\n",
              "General Engineering（一般工学）                                             805\n",
              "General Materials Science（一般材料科学）                                     468\n",
              "Biochemistry, Genetics and Molecular Biology（一般生化学・遺伝学・分子生物学）         461\n",
              "General Chemistry（一般化学）                                               407\n",
              "General Computer Science（一般コンピューター科学）                                 405\n",
              "General Earth and Planetary Sciences（一般地球惑星科学）                        216\n",
              "Multidisciplinary（学際分野）                                               183\n",
              "General Mathematics（一般数学）                                             111\n",
              "General Neuroscience（一般神経科学）                                          106\n",
              "General Environmental Science（一般環境科学）                                 101\n",
              "General Energy（一般エネルギー）                                                73\n",
              "General Chemical Engineering（一般化学工学）                                   70\n",
              "General Social Sciences（一般社会科学）                                        61\n",
              "General Pharmacology, Toxicology and Pharmaceutics（一般薬理学・毒物学・薬剤学）      61\n",
              "General Agricultural and Biological Sciences（一般農学・生物科学）                60\n",
              "General Immunology and Microbiology（一般免疫学・微生物学）                        59\n",
              "General Psychology（一般心理学）                                              26\n",
              "General Dentistry（一般歯学）                                                21\n",
              "General Health Professions（一般保健医療）                                     15\n",
              "General Economics, Econometrics and Finance（一般経済学・計量経済学・財政）            15\n",
              "General Nursing（一般看護）                                                  13\n",
              "General Business, Management and Accounting（一般ビジネス・マネジメント・会計学）          9\n",
              "General Arts and Humanitie（一般人文科学）                                      5\n",
              "General Decision Sciences（一般決定科学）                                       5\n",
              "General Veterinary（一般獣医学）                                               3\n",
              "Name: tag, dtype: int64"
            ]
          },
          "metadata": {},
          "execution_count": 51
        }
      ]
    },
    {
      "cell_type": "code",
      "source": [
        "ss = defaultdict(int)\n",
        "for v,k in zip(all_y_res['univ_name_x'].value_counts().values,all_y_res['univ_name_x'].value_counts().keys()):\n",
        "  ss[k] = all_y_res[all_y_res['flag'] == '医学']['univ_name_x'].value_counts()[k]/v\n",
        "#ss\n",
        "med = all_y_res[all_y_res['univ_name_x'] == 'titech'].shape[0] + all_y_res[all_y_res['univ_name_x'] == 'medical'].shape[0]\n",
        "num_medical = all_y_res[(all_y_res['flag'] == '医学') & (all_y_res['univ_name_x'] == 'titech')].shape[0] + all_y_res[(all_y_res['flag'] == '医学') & (all_y_res['univ_name_x'] == 'medical')].shape[0]\n",
        "num_notmedical = all_y_res[(all_y_res['flag'] != '医学') & (all_y_res['univ_name_x'] == 'titech')].shape[0] + all_y_res[(all_y_res['flag'] != '医学') & (all_y_res['univ_name_x'] == 'medical')].shape[0]\n",
        "\n",
        "u = pd.DataFrame(ss.values(), index=ss.keys())\n",
        "u = u.reset_index()\n",
        "u.rename(columns={'index':'univ_name_x',0:'医学割合'},inplace=True)\n",
        "u = u.sort_values(by='univ_name_x')\n",
        "b = pd.DataFrame([['titech+medical',num_medical/med]],columns=['univ_name_x','医学割合'])\n",
        "u = u.append(b)"
      ],
      "metadata": {
        "id": "uo_3X2S_8f0U",
        "colab": {
          "base_uri": "https://localhost:8080/",
          "height": 0
        },
        "outputId": "830fb154-95cd-4164-a3a8-bd9901b2438f"
      },
      "execution_count": 52,
      "outputs": [
        {
          "output_type": "stream",
          "name": "stderr",
          "text": [
            "<ipython-input-52-575f42fcb3cd>:14: FutureWarning: The frame.append method is deprecated and will be removed from pandas in a future version. Use pandas.concat instead.\n",
            "  u = u.append(b)\n"
          ]
        }
      ]
    },
    {
      "cell_type": "code",
      "source": [
        "aa = pd.DataFrame()\n",
        "aa['univ_name_x'] = all_y_res[all_y_res['flag'] != '医学']['univ_name_x'].value_counts().keys()\n",
        "aa['医学以外'] = all_y_res[all_y_res['flag'] != '医学']['univ_name_x'].value_counts().values\n",
        "aa = aa.sort_values(by='univ_name_x')\n",
        "c = pd.DataFrame([['titech+medical',num_notmedical]],columns=['univ_name_x','医学以外'])\n",
        "aa = aa.append(c)\n"
      ],
      "metadata": {
        "id": "35fDIQd5MfhV",
        "colab": {
          "base_uri": "https://localhost:8080/",
          "height": 0
        },
        "outputId": "b80dbfda-093a-4c2b-bb21-dd2ed5445b2e"
      },
      "execution_count": 53,
      "outputs": [
        {
          "output_type": "stream",
          "name": "stderr",
          "text": [
            "<ipython-input-53-3bcdcf5bd80d>:6: FutureWarning: The frame.append method is deprecated and will be removed from pandas in a future version. Use pandas.concat instead.\n",
            "  aa = aa.append(c)\n"
          ]
        }
      ]
    },
    {
      "cell_type": "code",
      "source": [
        "bb = pd.DataFrame()\n",
        "bb['univ_name_x'] = all_y_res[all_y_res['flag'] == '医学']['univ_name_x'].value_counts().keys()\n",
        "bb['医学数'] = all_y_res[all_y_res['flag'] == '医学']['univ_name_x'].value_counts().values\n",
        "bb = bb.sort_values(by='univ_name_x')\n",
        "d = pd.DataFrame([['titech+medical',num_medical]],columns=['univ_name_x','医学数'])\n",
        "bb = bb.append(d)"
      ],
      "metadata": {
        "id": "F4eJoCj7HwB7",
        "colab": {
          "base_uri": "https://localhost:8080/",
          "height": 0
        },
        "outputId": "de8408eb-69aa-4bfd-c152-381f4284d042"
      },
      "execution_count": 54,
      "outputs": [
        {
          "output_type": "stream",
          "name": "stderr",
          "text": [
            "<ipython-input-54-58611449e134>:6: FutureWarning: The frame.append method is deprecated and will be removed from pandas in a future version. Use pandas.concat instead.\n",
            "  bb = bb.append(d)\n"
          ]
        }
      ]
    },
    {
      "cell_type": "code",
      "source": [
        "d_order = {'東工大': 0, '東工大+医科歯科大':1,'MIT': 2,'Imperial College London': 3, '東大': 4,'京大':5,'阪大':6,'東北大':7,'名古屋大':8, '東京医科歯科大':9}\n",
        "\n",
        "aa.loc[aa['univ_name_x'] == 'titech','univ_name_x'] = '東工大'\n",
        "aa.loc[aa['univ_name_x'] == 'Imperial','univ_name_x'] = 'Imperial College London'\n",
        "aa.loc[aa['univ_name_x'] == 'UT','univ_name_x'] = '東大'\n",
        "aa.loc[aa['univ_name_x'] == 'kyoto','univ_name_x'] = '京大'\n",
        "aa.loc[aa['univ_name_x'] == 'osaka','univ_name_x'] = '阪大'\n",
        "aa.loc[aa['univ_name_x'] == 'tohoku','univ_name_x'] = '東北大'\n",
        "aa.loc[aa['univ_name_x'] == 'nagoya','univ_name_x'] = '名古屋大'\n",
        "aa.loc[aa['univ_name_x'] == 'medical','univ_name_x'] = '東京医科歯科大'\n",
        "aa.loc[aa['univ_name_x'] == 'titech+medical','univ_name_x'] = '東工大+医科歯科大'\n",
        "\n",
        "bb.loc[bb['univ_name_x'] == 'titech','univ_name_x'] = '東工大'\n",
        "bb.loc[bb['univ_name_x'] == 'Imperial','univ_name_x'] = 'Imperial College London'\n",
        "bb.loc[bb['univ_name_x'] == 'UT','univ_name_x'] = '東大'\n",
        "bb.loc[bb['univ_name_x'] == 'kyoto','univ_name_x'] = '京大'\n",
        "bb.loc[bb['univ_name_x'] == 'osaka','univ_name_x'] = '阪大'\n",
        "bb.loc[bb['univ_name_x'] == 'tohoku','univ_name_x'] = '東北大'\n",
        "bb.loc[bb['univ_name_x'] == 'nagoya','univ_name_x'] = '名古屋大'\n",
        "bb.loc[bb['univ_name_x'] == 'medical','univ_name_x'] = '東京医科歯科大'\n",
        "bb.loc[bb['univ_name_x'] == 'titech+medical','univ_name_x'] = '東工大+医科歯科大'\n",
        "\n",
        "u.loc[u['univ_name_x'] == 'titech','univ_name_x'] = '東工大'\n",
        "u.loc[u['univ_name_x'] == 'Imperial','univ_name_x'] = 'Imperial College London'\n",
        "u.loc[u['univ_name_x'] == 'UT','univ_name_x'] = '東大'\n",
        "u.loc[u['univ_name_x'] == 'kyoto','univ_name_x'] = '京大'\n",
        "u.loc[u['univ_name_x'] == 'osaka','univ_name_x'] = '阪大'\n",
        "u.loc[u['univ_name_x'] == 'tohoku','univ_name_x'] = '東北大'\n",
        "u.loc[u['univ_name_x'] == 'nagoya','univ_name_x'] = '名古屋大'\n",
        "u.loc[u['univ_name_x'] == 'medical','univ_name_x'] = '東京医科歯科大'\n",
        "u.loc[u['univ_name_x'] == 'titech+medical','univ_name_x'] = '東工大+医科歯科大'\n",
        "\n",
        "aa['order'] = aa['univ_name_x'].map(d_order)\n",
        "aa = aa.sort_values('order')\n",
        "bb['order'] = bb['univ_name_x'].map(d_order)\n",
        "bb = bb.sort_values('order')\n",
        "u['order'] = u['univ_name_x'].map(d_order)\n",
        "u = u.sort_values('order')"
      ],
      "metadata": {
        "id": "nok7MHz71JQk"
      },
      "execution_count": 55,
      "outputs": []
    },
    {
      "cell_type": "code",
      "source": [
        "#参考値としての最新の大学の研究者数\n",
        "titech = 1033\n",
        "nagoya = 2296\n",
        "tohoku = 3174\n",
        "MIT = 1069\n",
        "kyoto = 3489\n",
        "Imperial = 1358\n",
        "osaka = 3306\n",
        "UT = 3945\n",
        "medical = 853\n",
        "titech_med = titech+medical\n",
        "res_sum = [titech,UT,kyoto,osaka,nagoya,tohoku,medical,MIT,Imperial,titech_med]\n",
        "label_name = ['titech','UT','kyoto','osaka','nagoya','tohoku','medical','MIT','Imperial','titech+medical']\n",
        "cc = pd.DataFrame()\n",
        "cc['univ_name_x'] = label_name\n",
        "cc['研究者の数'] = res_sum\n",
        "cc.loc[cc['univ_name_x'] == 'titech','univ_name_x'] = '東工大'\n",
        "cc.loc[cc['univ_name_x'] == 'Imperial','univ_name_x'] = 'Imperial College London'\n",
        "cc.loc[cc['univ_name_x'] == 'UT','univ_name_x'] = '東大'\n",
        "cc.loc[cc['univ_name_x'] == 'kyoto','univ_name_x'] = '京大'\n",
        "cc.loc[cc['univ_name_x'] == 'osaka','univ_name_x'] = '阪大'\n",
        "cc.loc[cc['univ_name_x'] == 'tohoku','univ_name_x'] = '東北大'\n",
        "cc.loc[cc['univ_name_x'] == 'nagoya','univ_name_x'] = '名古屋大'\n",
        "cc.loc[cc['univ_name_x'] == 'medical','univ_name_x'] = '東京医科歯科大'\n",
        "cc.loc[cc['univ_name_x'] == 'titech+medical','univ_name_x'] = '東工大+医科歯科大'\n",
        "\n",
        "cc['order'] = cc['univ_name_x'].map(d_order)\n",
        "cc = cc.sort_values('order')\n",
        "cc = cc.rename(columns={'univ_name_x': '大学名'})"
      ],
      "metadata": {
        "id": "uN9pcfDBqTgC"
      },
      "execution_count": 56,
      "outputs": []
    },
    {
      "cell_type": "code",
      "source": [
        "cc"
      ],
      "metadata": {
        "colab": {
          "base_uri": "https://localhost:8080/",
          "height": 362
        },
        "id": "GIRNDqeNqfKs",
        "outputId": "cbd891c3-7a07-4290-a053-765dbb938e1f"
      },
      "execution_count": 57,
      "outputs": [
        {
          "output_type": "execute_result",
          "data": {
            "text/plain": [
              "                       大学名  研究者の数  order\n",
              "0                      東工大   1033      0\n",
              "9                東工大+医科歯科大   1886      1\n",
              "7                      MIT   1069      2\n",
              "8  Imperial College London   1358      3\n",
              "1                       東大   3945      4\n",
              "2                       京大   3489      5\n",
              "3                       阪大   3306      6\n",
              "5                      東北大   3174      7\n",
              "4                     名古屋大   2296      8\n",
              "6                  東京医科歯科大    853      9"
            ],
            "text/html": [
              "\n",
              "  <div id=\"df-f6333692-05e7-40c1-923d-6990d5074edb\">\n",
              "    <div class=\"colab-df-container\">\n",
              "      <div>\n",
              "<style scoped>\n",
              "    .dataframe tbody tr th:only-of-type {\n",
              "        vertical-align: middle;\n",
              "    }\n",
              "\n",
              "    .dataframe tbody tr th {\n",
              "        vertical-align: top;\n",
              "    }\n",
              "\n",
              "    .dataframe thead th {\n",
              "        text-align: right;\n",
              "    }\n",
              "</style>\n",
              "<table border=\"1\" class=\"dataframe\">\n",
              "  <thead>\n",
              "    <tr style=\"text-align: right;\">\n",
              "      <th></th>\n",
              "      <th>大学名</th>\n",
              "      <th>研究者の数</th>\n",
              "      <th>order</th>\n",
              "    </tr>\n",
              "  </thead>\n",
              "  <tbody>\n",
              "    <tr>\n",
              "      <th>0</th>\n",
              "      <td>東工大</td>\n",
              "      <td>1033</td>\n",
              "      <td>0</td>\n",
              "    </tr>\n",
              "    <tr>\n",
              "      <th>9</th>\n",
              "      <td>東工大+医科歯科大</td>\n",
              "      <td>1886</td>\n",
              "      <td>1</td>\n",
              "    </tr>\n",
              "    <tr>\n",
              "      <th>7</th>\n",
              "      <td>MIT</td>\n",
              "      <td>1069</td>\n",
              "      <td>2</td>\n",
              "    </tr>\n",
              "    <tr>\n",
              "      <th>8</th>\n",
              "      <td>Imperial College London</td>\n",
              "      <td>1358</td>\n",
              "      <td>3</td>\n",
              "    </tr>\n",
              "    <tr>\n",
              "      <th>1</th>\n",
              "      <td>東大</td>\n",
              "      <td>3945</td>\n",
              "      <td>4</td>\n",
              "    </tr>\n",
              "    <tr>\n",
              "      <th>2</th>\n",
              "      <td>京大</td>\n",
              "      <td>3489</td>\n",
              "      <td>5</td>\n",
              "    </tr>\n",
              "    <tr>\n",
              "      <th>3</th>\n",
              "      <td>阪大</td>\n",
              "      <td>3306</td>\n",
              "      <td>6</td>\n",
              "    </tr>\n",
              "    <tr>\n",
              "      <th>5</th>\n",
              "      <td>東北大</td>\n",
              "      <td>3174</td>\n",
              "      <td>7</td>\n",
              "    </tr>\n",
              "    <tr>\n",
              "      <th>4</th>\n",
              "      <td>名古屋大</td>\n",
              "      <td>2296</td>\n",
              "      <td>8</td>\n",
              "    </tr>\n",
              "    <tr>\n",
              "      <th>6</th>\n",
              "      <td>東京医科歯科大</td>\n",
              "      <td>853</td>\n",
              "      <td>9</td>\n",
              "    </tr>\n",
              "  </tbody>\n",
              "</table>\n",
              "</div>\n",
              "      <button class=\"colab-df-convert\" onclick=\"convertToInteractive('df-f6333692-05e7-40c1-923d-6990d5074edb')\"\n",
              "              title=\"Convert this dataframe to an interactive table.\"\n",
              "              style=\"display:none;\">\n",
              "        \n",
              "  <svg xmlns=\"http://www.w3.org/2000/svg\" height=\"24px\"viewBox=\"0 0 24 24\"\n",
              "       width=\"24px\">\n",
              "    <path d=\"M0 0h24v24H0V0z\" fill=\"none\"/>\n",
              "    <path d=\"M18.56 5.44l.94 2.06.94-2.06 2.06-.94-2.06-.94-.94-2.06-.94 2.06-2.06.94zm-11 1L8.5 8.5l.94-2.06 2.06-.94-2.06-.94L8.5 2.5l-.94 2.06-2.06.94zm10 10l.94 2.06.94-2.06 2.06-.94-2.06-.94-.94-2.06-.94 2.06-2.06.94z\"/><path d=\"M17.41 7.96l-1.37-1.37c-.4-.4-.92-.59-1.43-.59-.52 0-1.04.2-1.43.59L10.3 9.45l-7.72 7.72c-.78.78-.78 2.05 0 2.83L4 21.41c.39.39.9.59 1.41.59.51 0 1.02-.2 1.41-.59l7.78-7.78 2.81-2.81c.8-.78.8-2.07 0-2.86zM5.41 20L4 18.59l7.72-7.72 1.47 1.35L5.41 20z\"/>\n",
              "  </svg>\n",
              "      </button>\n",
              "      \n",
              "  <style>\n",
              "    .colab-df-container {\n",
              "      display:flex;\n",
              "      flex-wrap:wrap;\n",
              "      gap: 12px;\n",
              "    }\n",
              "\n",
              "    .colab-df-convert {\n",
              "      background-color: #E8F0FE;\n",
              "      border: none;\n",
              "      border-radius: 50%;\n",
              "      cursor: pointer;\n",
              "      display: none;\n",
              "      fill: #1967D2;\n",
              "      height: 32px;\n",
              "      padding: 0 0 0 0;\n",
              "      width: 32px;\n",
              "    }\n",
              "\n",
              "    .colab-df-convert:hover {\n",
              "      background-color: #E2EBFA;\n",
              "      box-shadow: 0px 1px 2px rgba(60, 64, 67, 0.3), 0px 1px 3px 1px rgba(60, 64, 67, 0.15);\n",
              "      fill: #174EA6;\n",
              "    }\n",
              "\n",
              "    [theme=dark] .colab-df-convert {\n",
              "      background-color: #3B4455;\n",
              "      fill: #D2E3FC;\n",
              "    }\n",
              "\n",
              "    [theme=dark] .colab-df-convert:hover {\n",
              "      background-color: #434B5C;\n",
              "      box-shadow: 0px 1px 3px 1px rgba(0, 0, 0, 0.15);\n",
              "      filter: drop-shadow(0px 1px 2px rgba(0, 0, 0, 0.3));\n",
              "      fill: #FFFFFF;\n",
              "    }\n",
              "  </style>\n",
              "\n",
              "      <script>\n",
              "        const buttonEl =\n",
              "          document.querySelector('#df-f6333692-05e7-40c1-923d-6990d5074edb button.colab-df-convert');\n",
              "        buttonEl.style.display =\n",
              "          google.colab.kernel.accessAllowed ? 'block' : 'none';\n",
              "\n",
              "        async function convertToInteractive(key) {\n",
              "          const element = document.querySelector('#df-f6333692-05e7-40c1-923d-6990d5074edb');\n",
              "          const dataTable =\n",
              "            await google.colab.kernel.invokeFunction('convertToInteractive',\n",
              "                                                     [key], {});\n",
              "          if (!dataTable) return;\n",
              "\n",
              "          const docLinkHtml = 'Like what you see? Visit the ' +\n",
              "            '<a target=\"_blank\" href=https://colab.research.google.com/notebooks/data_table.ipynb>data table notebook</a>'\n",
              "            + ' to learn more about interactive tables.';\n",
              "          element.innerHTML = '';\n",
              "          dataTable['output_type'] = 'display_data';\n",
              "          await google.colab.output.renderOutput(dataTable, element);\n",
              "          const docLink = document.createElement('div');\n",
              "          docLink.innerHTML = docLinkHtml;\n",
              "          element.appendChild(docLink);\n",
              "        }\n",
              "      </script>\n",
              "    </div>\n",
              "  </div>\n",
              "  "
            ]
          },
          "metadata": {},
          "execution_count": 57
        }
      ]
    },
    {
      "cell_type": "code",
      "source": [
        "# プロットの作成\n",
        "fig = px.bar(cc, x='大学名', y='研究者の数')\n",
        "\n",
        "# x軸のラベルの回転\n",
        "fig.update_layout(xaxis_tickangle=-45)\n",
        "\n",
        "fig.update_traces(\n",
        "    selector= 'bar',\n",
        "    hovertemplate='%{x}: %{y:1f}',\n",
        "    texttemplate='%{y:1f}',\n",
        "    textposition='outside'\n",
        ")\n",
        "# プロットの表示\n",
        "\n",
        "fig.update_layout(\n",
        "    title = '2022年の大学ごとの研究者数(参考値)'\n",
        ")\n",
        "fig.show()"
      ],
      "metadata": {
        "colab": {
          "base_uri": "https://localhost:8080/",
          "height": 542
        },
        "id": "PVDDf41XQlyS",
        "outputId": "f322efd1-0224-4905-ac33-b8945cc782c8"
      },
      "execution_count": 58,
      "outputs": [
        {
          "output_type": "display_data",
          "data": {
            "text/html": [
              "<html>\n",
              "<head><meta charset=\"utf-8\" /></head>\n",
              "<body>\n",
              "    <div>            <script src=\"https://cdnjs.cloudflare.com/ajax/libs/mathjax/2.7.5/MathJax.js?config=TeX-AMS-MML_SVG\"></script><script type=\"text/javascript\">if (window.MathJax && window.MathJax.Hub && window.MathJax.Hub.Config) {window.MathJax.Hub.Config({SVG: {font: \"STIX-Web\"}});}</script>                <script type=\"text/javascript\">window.PlotlyConfig = {MathJaxConfig: 'local'};</script>\n",
              "        <script src=\"https://cdn.plot.ly/plotly-2.18.2.min.js\"></script>                <div id=\"e6551b3e-3713-4ed4-b190-72a948f651a2\" class=\"plotly-graph-div\" style=\"height:525px; width:100%;\"></div>            <script type=\"text/javascript\">                                    window.PLOTLYENV=window.PLOTLYENV || {};                                    if (document.getElementById(\"e6551b3e-3713-4ed4-b190-72a948f651a2\")) {                    Plotly.newPlot(                        \"e6551b3e-3713-4ed4-b190-72a948f651a2\",                        [{\"alignmentgroup\":\"True\",\"hovertemplate\":\"%{x}: %{y:1f}\",\"legendgroup\":\"\",\"marker\":{\"color\":\"#636efa\",\"pattern\":{\"shape\":\"\"}},\"name\":\"\",\"offsetgroup\":\"\",\"orientation\":\"v\",\"showlegend\":false,\"textposition\":\"outside\",\"x\":[\"\\u6771\\u5de5\\u5927\",\"\\u6771\\u5de5\\u5927+\\u533b\\u79d1\\u6b6f\\u79d1\\u5927\",\"MIT\",\"Imperial College London\",\"\\u6771\\u5927\",\"\\u4eac\\u5927\",\"\\u962a\\u5927\",\"\\u6771\\u5317\\u5927\",\"\\u540d\\u53e4\\u5c4b\\u5927\",\"\\u6771\\u4eac\\u533b\\u79d1\\u6b6f\\u79d1\\u5927\"],\"xaxis\":\"x\",\"y\":[1033,1886,1069,1358,3945,3489,3306,3174,2296,853],\"yaxis\":\"y\",\"type\":\"bar\",\"texttemplate\":\"%{y:1f}\"}],                        {\"template\":{\"data\":{\"histogram2dcontour\":[{\"type\":\"histogram2dcontour\",\"colorbar\":{\"outlinewidth\":0,\"ticks\":\"\"},\"colorscale\":[[0.0,\"#0d0887\"],[0.1111111111111111,\"#46039f\"],[0.2222222222222222,\"#7201a8\"],[0.3333333333333333,\"#9c179e\"],[0.4444444444444444,\"#bd3786\"],[0.5555555555555556,\"#d8576b\"],[0.6666666666666666,\"#ed7953\"],[0.7777777777777778,\"#fb9f3a\"],[0.8888888888888888,\"#fdca26\"],[1.0,\"#f0f921\"]]}],\"choropleth\":[{\"type\":\"choropleth\",\"colorbar\":{\"outlinewidth\":0,\"ticks\":\"\"}}],\"histogram2d\":[{\"type\":\"histogram2d\",\"colorbar\":{\"outlinewidth\":0,\"ticks\":\"\"},\"colorscale\":[[0.0,\"#0d0887\"],[0.1111111111111111,\"#46039f\"],[0.2222222222222222,\"#7201a8\"],[0.3333333333333333,\"#9c179e\"],[0.4444444444444444,\"#bd3786\"],[0.5555555555555556,\"#d8576b\"],[0.6666666666666666,\"#ed7953\"],[0.7777777777777778,\"#fb9f3a\"],[0.8888888888888888,\"#fdca26\"],[1.0,\"#f0f921\"]]}],\"heatmap\":[{\"type\":\"heatmap\",\"colorbar\":{\"outlinewidth\":0,\"ticks\":\"\"},\"colorscale\":[[0.0,\"#0d0887\"],[0.1111111111111111,\"#46039f\"],[0.2222222222222222,\"#7201a8\"],[0.3333333333333333,\"#9c179e\"],[0.4444444444444444,\"#bd3786\"],[0.5555555555555556,\"#d8576b\"],[0.6666666666666666,\"#ed7953\"],[0.7777777777777778,\"#fb9f3a\"],[0.8888888888888888,\"#fdca26\"],[1.0,\"#f0f921\"]]}],\"heatmapgl\":[{\"type\":\"heatmapgl\",\"colorbar\":{\"outlinewidth\":0,\"ticks\":\"\"},\"colorscale\":[[0.0,\"#0d0887\"],[0.1111111111111111,\"#46039f\"],[0.2222222222222222,\"#7201a8\"],[0.3333333333333333,\"#9c179e\"],[0.4444444444444444,\"#bd3786\"],[0.5555555555555556,\"#d8576b\"],[0.6666666666666666,\"#ed7953\"],[0.7777777777777778,\"#fb9f3a\"],[0.8888888888888888,\"#fdca26\"],[1.0,\"#f0f921\"]]}],\"contourcarpet\":[{\"type\":\"contourcarpet\",\"colorbar\":{\"outlinewidth\":0,\"ticks\":\"\"}}],\"contour\":[{\"type\":\"contour\",\"colorbar\":{\"outlinewidth\":0,\"ticks\":\"\"},\"colorscale\":[[0.0,\"#0d0887\"],[0.1111111111111111,\"#46039f\"],[0.2222222222222222,\"#7201a8\"],[0.3333333333333333,\"#9c179e\"],[0.4444444444444444,\"#bd3786\"],[0.5555555555555556,\"#d8576b\"],[0.6666666666666666,\"#ed7953\"],[0.7777777777777778,\"#fb9f3a\"],[0.8888888888888888,\"#fdca26\"],[1.0,\"#f0f921\"]]}],\"surface\":[{\"type\":\"surface\",\"colorbar\":{\"outlinewidth\":0,\"ticks\":\"\"},\"colorscale\":[[0.0,\"#0d0887\"],[0.1111111111111111,\"#46039f\"],[0.2222222222222222,\"#7201a8\"],[0.3333333333333333,\"#9c179e\"],[0.4444444444444444,\"#bd3786\"],[0.5555555555555556,\"#d8576b\"],[0.6666666666666666,\"#ed7953\"],[0.7777777777777778,\"#fb9f3a\"],[0.8888888888888888,\"#fdca26\"],[1.0,\"#f0f921\"]]}],\"mesh3d\":[{\"type\":\"mesh3d\",\"colorbar\":{\"outlinewidth\":0,\"ticks\":\"\"}}],\"scatter\":[{\"fillpattern\":{\"fillmode\":\"overlay\",\"size\":10,\"solidity\":0.2},\"type\":\"scatter\"}],\"parcoords\":[{\"type\":\"parcoords\",\"line\":{\"colorbar\":{\"outlinewidth\":0,\"ticks\":\"\"}}}],\"scatterpolargl\":[{\"type\":\"scatterpolargl\",\"marker\":{\"colorbar\":{\"outlinewidth\":0,\"ticks\":\"\"}}}],\"bar\":[{\"error_x\":{\"color\":\"#2a3f5f\"},\"error_y\":{\"color\":\"#2a3f5f\"},\"marker\":{\"line\":{\"color\":\"#E5ECF6\",\"width\":0.5},\"pattern\":{\"fillmode\":\"overlay\",\"size\":10,\"solidity\":0.2}},\"type\":\"bar\"}],\"scattergeo\":[{\"type\":\"scattergeo\",\"marker\":{\"colorbar\":{\"outlinewidth\":0,\"ticks\":\"\"}}}],\"scatterpolar\":[{\"type\":\"scatterpolar\",\"marker\":{\"colorbar\":{\"outlinewidth\":0,\"ticks\":\"\"}}}],\"histogram\":[{\"marker\":{\"pattern\":{\"fillmode\":\"overlay\",\"size\":10,\"solidity\":0.2}},\"type\":\"histogram\"}],\"scattergl\":[{\"type\":\"scattergl\",\"marker\":{\"colorbar\":{\"outlinewidth\":0,\"ticks\":\"\"}}}],\"scatter3d\":[{\"type\":\"scatter3d\",\"line\":{\"colorbar\":{\"outlinewidth\":0,\"ticks\":\"\"}},\"marker\":{\"colorbar\":{\"outlinewidth\":0,\"ticks\":\"\"}}}],\"scattermapbox\":[{\"type\":\"scattermapbox\",\"marker\":{\"colorbar\":{\"outlinewidth\":0,\"ticks\":\"\"}}}],\"scatterternary\":[{\"type\":\"scatterternary\",\"marker\":{\"colorbar\":{\"outlinewidth\":0,\"ticks\":\"\"}}}],\"scattercarpet\":[{\"type\":\"scattercarpet\",\"marker\":{\"colorbar\":{\"outlinewidth\":0,\"ticks\":\"\"}}}],\"carpet\":[{\"aaxis\":{\"endlinecolor\":\"#2a3f5f\",\"gridcolor\":\"white\",\"linecolor\":\"white\",\"minorgridcolor\":\"white\",\"startlinecolor\":\"#2a3f5f\"},\"baxis\":{\"endlinecolor\":\"#2a3f5f\",\"gridcolor\":\"white\",\"linecolor\":\"white\",\"minorgridcolor\":\"white\",\"startlinecolor\":\"#2a3f5f\"},\"type\":\"carpet\"}],\"table\":[{\"cells\":{\"fill\":{\"color\":\"#EBF0F8\"},\"line\":{\"color\":\"white\"}},\"header\":{\"fill\":{\"color\":\"#C8D4E3\"},\"line\":{\"color\":\"white\"}},\"type\":\"table\"}],\"barpolar\":[{\"marker\":{\"line\":{\"color\":\"#E5ECF6\",\"width\":0.5},\"pattern\":{\"fillmode\":\"overlay\",\"size\":10,\"solidity\":0.2}},\"type\":\"barpolar\"}],\"pie\":[{\"automargin\":true,\"type\":\"pie\"}]},\"layout\":{\"autotypenumbers\":\"strict\",\"colorway\":[\"#636efa\",\"#EF553B\",\"#00cc96\",\"#ab63fa\",\"#FFA15A\",\"#19d3f3\",\"#FF6692\",\"#B6E880\",\"#FF97FF\",\"#FECB52\"],\"font\":{\"color\":\"#2a3f5f\"},\"hovermode\":\"closest\",\"hoverlabel\":{\"align\":\"left\"},\"paper_bgcolor\":\"white\",\"plot_bgcolor\":\"#E5ECF6\",\"polar\":{\"bgcolor\":\"#E5ECF6\",\"angularaxis\":{\"gridcolor\":\"white\",\"linecolor\":\"white\",\"ticks\":\"\"},\"radialaxis\":{\"gridcolor\":\"white\",\"linecolor\":\"white\",\"ticks\":\"\"}},\"ternary\":{\"bgcolor\":\"#E5ECF6\",\"aaxis\":{\"gridcolor\":\"white\",\"linecolor\":\"white\",\"ticks\":\"\"},\"baxis\":{\"gridcolor\":\"white\",\"linecolor\":\"white\",\"ticks\":\"\"},\"caxis\":{\"gridcolor\":\"white\",\"linecolor\":\"white\",\"ticks\":\"\"}},\"coloraxis\":{\"colorbar\":{\"outlinewidth\":0,\"ticks\":\"\"}},\"colorscale\":{\"sequential\":[[0.0,\"#0d0887\"],[0.1111111111111111,\"#46039f\"],[0.2222222222222222,\"#7201a8\"],[0.3333333333333333,\"#9c179e\"],[0.4444444444444444,\"#bd3786\"],[0.5555555555555556,\"#d8576b\"],[0.6666666666666666,\"#ed7953\"],[0.7777777777777778,\"#fb9f3a\"],[0.8888888888888888,\"#fdca26\"],[1.0,\"#f0f921\"]],\"sequentialminus\":[[0.0,\"#0d0887\"],[0.1111111111111111,\"#46039f\"],[0.2222222222222222,\"#7201a8\"],[0.3333333333333333,\"#9c179e\"],[0.4444444444444444,\"#bd3786\"],[0.5555555555555556,\"#d8576b\"],[0.6666666666666666,\"#ed7953\"],[0.7777777777777778,\"#fb9f3a\"],[0.8888888888888888,\"#fdca26\"],[1.0,\"#f0f921\"]],\"diverging\":[[0,\"#8e0152\"],[0.1,\"#c51b7d\"],[0.2,\"#de77ae\"],[0.3,\"#f1b6da\"],[0.4,\"#fde0ef\"],[0.5,\"#f7f7f7\"],[0.6,\"#e6f5d0\"],[0.7,\"#b8e186\"],[0.8,\"#7fbc41\"],[0.9,\"#4d9221\"],[1,\"#276419\"]]},\"xaxis\":{\"gridcolor\":\"white\",\"linecolor\":\"white\",\"ticks\":\"\",\"title\":{\"standoff\":15},\"zerolinecolor\":\"white\",\"automargin\":true,\"zerolinewidth\":2},\"yaxis\":{\"gridcolor\":\"white\",\"linecolor\":\"white\",\"ticks\":\"\",\"title\":{\"standoff\":15},\"zerolinecolor\":\"white\",\"automargin\":true,\"zerolinewidth\":2},\"scene\":{\"xaxis\":{\"backgroundcolor\":\"#E5ECF6\",\"gridcolor\":\"white\",\"linecolor\":\"white\",\"showbackground\":true,\"ticks\":\"\",\"zerolinecolor\":\"white\",\"gridwidth\":2},\"yaxis\":{\"backgroundcolor\":\"#E5ECF6\",\"gridcolor\":\"white\",\"linecolor\":\"white\",\"showbackground\":true,\"ticks\":\"\",\"zerolinecolor\":\"white\",\"gridwidth\":2},\"zaxis\":{\"backgroundcolor\":\"#E5ECF6\",\"gridcolor\":\"white\",\"linecolor\":\"white\",\"showbackground\":true,\"ticks\":\"\",\"zerolinecolor\":\"white\",\"gridwidth\":2}},\"shapedefaults\":{\"line\":{\"color\":\"#2a3f5f\"}},\"annotationdefaults\":{\"arrowcolor\":\"#2a3f5f\",\"arrowhead\":0,\"arrowwidth\":1},\"geo\":{\"bgcolor\":\"white\",\"landcolor\":\"#E5ECF6\",\"subunitcolor\":\"white\",\"showland\":true,\"showlakes\":true,\"lakecolor\":\"white\"},\"title\":{\"x\":0.05},\"mapbox\":{\"style\":\"light\"}}},\"xaxis\":{\"anchor\":\"y\",\"domain\":[0.0,1.0],\"title\":{\"text\":\"\\u5927\\u5b66\\u540d\"},\"tickangle\":-45},\"yaxis\":{\"anchor\":\"x\",\"domain\":[0.0,1.0],\"title\":{\"text\":\"\\u7814\\u7a76\\u8005\\u306e\\u6570\"}},\"legend\":{\"tracegroupgap\":0},\"margin\":{\"t\":60},\"barmode\":\"relative\",\"title\":{\"text\":\"2022\\u5e74\\u306e\\u5927\\u5b66\\u3054\\u3068\\u306e\\u7814\\u7a76\\u8005\\u6570(\\u53c2\\u8003\\u5024)\"}},                        {\"responsive\": true}                    ).then(function(){\n",
              "                            \n",
              "var gd = document.getElementById('e6551b3e-3713-4ed4-b190-72a948f651a2');\n",
              "var x = new MutationObserver(function (mutations, observer) {{\n",
              "        var display = window.getComputedStyle(gd).display;\n",
              "        if (!display || display === 'none') {{\n",
              "            console.log([gd, 'removed!']);\n",
              "            Plotly.purge(gd);\n",
              "            observer.disconnect();\n",
              "        }}\n",
              "}});\n",
              "\n",
              "// Listen for the removal of the full notebook cells\n",
              "var notebookContainer = gd.closest('#notebook-container');\n",
              "if (notebookContainer) {{\n",
              "    x.observe(notebookContainer, {childList: true});\n",
              "}}\n",
              "\n",
              "// Listen for the clearing of the current output cell\n",
              "var outputEl = gd.closest('.output');\n",
              "if (outputEl) {{\n",
              "    x.observe(outputEl, {childList: true});\n",
              "}}\n",
              "\n",
              "                        })                };                            </script>        </div>\n",
              "</body>\n",
              "</html>"
            ]
          },
          "metadata": {}
        }
      ]
    },
    {
      "cell_type": "code",
      "source": [
        "#ここに二つグラフを書く(絶対数のグラフと、分母のグラフ)\n",
        "from plotly.subplots import make_subplots\n",
        "# Y軸に2軸目が存在するサブプロット\n",
        "two_yaxis_fig = make_subplots(specs=[[{\"secondary_y\": True}]]) \n",
        "two_yaxis_fig.add_trace(go.Bar(x = aa['univ_name_x'],\n",
        "                               y = aa['医学以外'],\n",
        "                               name='医学以外'))\n",
        "\n",
        "two_yaxis_fig.add_trace(go.Bar(x = bb['univ_name_x'],\n",
        "                               y = bb['医学数'],\n",
        "                               name='医学'))\n",
        "\n",
        "two_yaxis_fig.add_trace(go.Scatter(x = u['univ_name_x'],\n",
        "                                   y = u['医学割合']*100,\n",
        "                                   name=\"医学割合\"),secondary_y=True)\n",
        "\n",
        "two_yaxis_fig.update_yaxes(title={\"text\": \"条件を満たす研究者の数\"}, showgrid=False)\n",
        "\n",
        "two_yaxis_fig.update_yaxes(\n",
        "    secondary_y=True,  # 2軸目の設定\n",
        "    title={\"text\": \"医学割合\"},  # 軸ラベルの指定\n",
        "    showgrid=False  # 補助線を非表示\n",
        ")\n",
        "\n",
        "two_yaxis_fig.update_traces(\n",
        "    mode='markers+text',\n",
        "    marker_symbol='arrow-bar-up',  # マーカーの形状を四角形に\n",
        "    marker_size=10,  # マーカーのサイズを30に\n",
        "    textposition='top center',\n",
        "    texttemplate = '%{y:.2f}%',\n",
        "    selector= 'scatter'  # selectorでどのプロットに対して更新するか選択可能\n",
        ")\n",
        "two_yaxis_fig.update_traces(\n",
        "    selector= 'bar',\n",
        "    hovertemplate='%{x}: %{y:1f}',\n",
        "    texttemplate='%{y:1f}',\n",
        "    textposition='outside'\n",
        ")\n",
        "\n",
        "\n",
        "two_yaxis_fig.update_layout(\n",
        "    title = '2012~2021年の条件を満たす研究者の数と医学割合',\n",
        "    barmode='stack',\n",
        "\n",
        ")\n",
        "\n",
        "\n",
        "y_axis = two_yaxis_fig\n",
        "two_yaxis_fig.show()"
      ],
      "metadata": {
        "colab": {
          "base_uri": "https://localhost:8080/",
          "height": 542
        },
        "id": "ao-II8mzCRMP",
        "outputId": "3f7fbde6-dc3f-4ccf-887f-092815a8c33e"
      },
      "execution_count": 59,
      "outputs": [
        {
          "output_type": "display_data",
          "data": {
            "text/html": [
              "<html>\n",
              "<head><meta charset=\"utf-8\" /></head>\n",
              "<body>\n",
              "    <div>            <script src=\"https://cdnjs.cloudflare.com/ajax/libs/mathjax/2.7.5/MathJax.js?config=TeX-AMS-MML_SVG\"></script><script type=\"text/javascript\">if (window.MathJax && window.MathJax.Hub && window.MathJax.Hub.Config) {window.MathJax.Hub.Config({SVG: {font: \"STIX-Web\"}});}</script>                <script type=\"text/javascript\">window.PlotlyConfig = {MathJaxConfig: 'local'};</script>\n",
              "        <script src=\"https://cdn.plot.ly/plotly-2.18.2.min.js\"></script>                <div id=\"2e7f3516-c6c3-4e65-9f48-b2401d0543c8\" class=\"plotly-graph-div\" style=\"height:525px; width:100%;\"></div>            <script type=\"text/javascript\">                                    window.PLOTLYENV=window.PLOTLYENV || {};                                    if (document.getElementById(\"2e7f3516-c6c3-4e65-9f48-b2401d0543c8\")) {                    Plotly.newPlot(                        \"2e7f3516-c6c3-4e65-9f48-b2401d0543c8\",                        [{\"name\":\"\\u533b\\u5b66\\u4ee5\\u5916\",\"x\":[\"\\u6771\\u5de5\\u5927\",\"\\u6771\\u5de5\\u5927+\\u533b\\u79d1\\u6b6f\\u79d1\\u5927\",\"MIT\",\"Imperial College London\",\"\\u6771\\u5927\",\"\\u4eac\\u5927\",\"\\u962a\\u5927\",\"\\u6771\\u5317\\u5927\",\"\\u540d\\u53e4\\u5c4b\\u5927\",\"\\u6771\\u4eac\\u533b\\u79d1\\u6b6f\\u79d1\\u5927\"],\"y\":[182,202,1110,573,649,363,276,352,175,20],\"type\":\"bar\",\"hovertemplate\":\"%{x}: %{y:1f}\",\"textposition\":\"outside\",\"texttemplate\":\"%{y:1f}\"},{\"name\":\"\\u533b\\u5b66\",\"x\":[\"\\u6771\\u5de5\\u5927\",\"\\u6771\\u5de5\\u5927+\\u533b\\u79d1\\u6b6f\\u79d1\\u5927\",\"MIT\",\"Imperial College London\",\"\\u6771\\u5927\",\"\\u4eac\\u5927\",\"\\u962a\\u5927\",\"\\u6771\\u5317\\u5927\",\"\\u540d\\u53e4\\u5c4b\\u5927\",\"\\u6771\\u4eac\\u533b\\u79d1\\u6b6f\\u79d1\\u5927\"],\"y\":[1,55,136,481,166,106,129,123,110,54],\"type\":\"bar\",\"hovertemplate\":\"%{x}: %{y:1f}\",\"textposition\":\"outside\",\"texttemplate\":\"%{y:1f}\"},{\"name\":\"\\u533b\\u5b66\\u5272\\u5408\",\"x\":[\"\\u6771\\u5de5\\u5927\",\"\\u6771\\u5de5\\u5927+\\u533b\\u79d1\\u6b6f\\u79d1\\u5927\",\"MIT\",\"Imperial College London\",\"\\u6771\\u5927\",\"\\u4eac\\u5927\",\"\\u962a\\u5927\",\"\\u6771\\u5317\\u5927\",\"\\u540d\\u53e4\\u5c4b\\u5927\",\"\\u6771\\u4eac\\u533b\\u79d1\\u6b6f\\u79d1\\u5927\"],\"y\":[0.546448087431694,21.40077821011673,10.914927768860354,45.63567362428842,20.368098159509202,22.60127931769723,31.851851851851855,25.894736842105264,38.59649122807017,72.97297297297297],\"type\":\"scatter\",\"xaxis\":\"x\",\"yaxis\":\"y2\",\"marker\":{\"size\":10,\"symbol\":\"arrow-bar-up\"},\"mode\":\"markers+text\",\"textposition\":\"top center\",\"texttemplate\":\"%{y:.2f}%\"}],                        {\"template\":{\"data\":{\"histogram2dcontour\":[{\"type\":\"histogram2dcontour\",\"colorbar\":{\"outlinewidth\":0,\"ticks\":\"\"},\"colorscale\":[[0.0,\"#0d0887\"],[0.1111111111111111,\"#46039f\"],[0.2222222222222222,\"#7201a8\"],[0.3333333333333333,\"#9c179e\"],[0.4444444444444444,\"#bd3786\"],[0.5555555555555556,\"#d8576b\"],[0.6666666666666666,\"#ed7953\"],[0.7777777777777778,\"#fb9f3a\"],[0.8888888888888888,\"#fdca26\"],[1.0,\"#f0f921\"]]}],\"choropleth\":[{\"type\":\"choropleth\",\"colorbar\":{\"outlinewidth\":0,\"ticks\":\"\"}}],\"histogram2d\":[{\"type\":\"histogram2d\",\"colorbar\":{\"outlinewidth\":0,\"ticks\":\"\"},\"colorscale\":[[0.0,\"#0d0887\"],[0.1111111111111111,\"#46039f\"],[0.2222222222222222,\"#7201a8\"],[0.3333333333333333,\"#9c179e\"],[0.4444444444444444,\"#bd3786\"],[0.5555555555555556,\"#d8576b\"],[0.6666666666666666,\"#ed7953\"],[0.7777777777777778,\"#fb9f3a\"],[0.8888888888888888,\"#fdca26\"],[1.0,\"#f0f921\"]]}],\"heatmap\":[{\"type\":\"heatmap\",\"colorbar\":{\"outlinewidth\":0,\"ticks\":\"\"},\"colorscale\":[[0.0,\"#0d0887\"],[0.1111111111111111,\"#46039f\"],[0.2222222222222222,\"#7201a8\"],[0.3333333333333333,\"#9c179e\"],[0.4444444444444444,\"#bd3786\"],[0.5555555555555556,\"#d8576b\"],[0.6666666666666666,\"#ed7953\"],[0.7777777777777778,\"#fb9f3a\"],[0.8888888888888888,\"#fdca26\"],[1.0,\"#f0f921\"]]}],\"heatmapgl\":[{\"type\":\"heatmapgl\",\"colorbar\":{\"outlinewidth\":0,\"ticks\":\"\"},\"colorscale\":[[0.0,\"#0d0887\"],[0.1111111111111111,\"#46039f\"],[0.2222222222222222,\"#7201a8\"],[0.3333333333333333,\"#9c179e\"],[0.4444444444444444,\"#bd3786\"],[0.5555555555555556,\"#d8576b\"],[0.6666666666666666,\"#ed7953\"],[0.7777777777777778,\"#fb9f3a\"],[0.8888888888888888,\"#fdca26\"],[1.0,\"#f0f921\"]]}],\"contourcarpet\":[{\"type\":\"contourcarpet\",\"colorbar\":{\"outlinewidth\":0,\"ticks\":\"\"}}],\"contour\":[{\"type\":\"contour\",\"colorbar\":{\"outlinewidth\":0,\"ticks\":\"\"},\"colorscale\":[[0.0,\"#0d0887\"],[0.1111111111111111,\"#46039f\"],[0.2222222222222222,\"#7201a8\"],[0.3333333333333333,\"#9c179e\"],[0.4444444444444444,\"#bd3786\"],[0.5555555555555556,\"#d8576b\"],[0.6666666666666666,\"#ed7953\"],[0.7777777777777778,\"#fb9f3a\"],[0.8888888888888888,\"#fdca26\"],[1.0,\"#f0f921\"]]}],\"surface\":[{\"type\":\"surface\",\"colorbar\":{\"outlinewidth\":0,\"ticks\":\"\"},\"colorscale\":[[0.0,\"#0d0887\"],[0.1111111111111111,\"#46039f\"],[0.2222222222222222,\"#7201a8\"],[0.3333333333333333,\"#9c179e\"],[0.4444444444444444,\"#bd3786\"],[0.5555555555555556,\"#d8576b\"],[0.6666666666666666,\"#ed7953\"],[0.7777777777777778,\"#fb9f3a\"],[0.8888888888888888,\"#fdca26\"],[1.0,\"#f0f921\"]]}],\"mesh3d\":[{\"type\":\"mesh3d\",\"colorbar\":{\"outlinewidth\":0,\"ticks\":\"\"}}],\"scatter\":[{\"fillpattern\":{\"fillmode\":\"overlay\",\"size\":10,\"solidity\":0.2},\"type\":\"scatter\"}],\"parcoords\":[{\"type\":\"parcoords\",\"line\":{\"colorbar\":{\"outlinewidth\":0,\"ticks\":\"\"}}}],\"scatterpolargl\":[{\"type\":\"scatterpolargl\",\"marker\":{\"colorbar\":{\"outlinewidth\":0,\"ticks\":\"\"}}}],\"bar\":[{\"error_x\":{\"color\":\"#2a3f5f\"},\"error_y\":{\"color\":\"#2a3f5f\"},\"marker\":{\"line\":{\"color\":\"#E5ECF6\",\"width\":0.5},\"pattern\":{\"fillmode\":\"overlay\",\"size\":10,\"solidity\":0.2}},\"type\":\"bar\"}],\"scattergeo\":[{\"type\":\"scattergeo\",\"marker\":{\"colorbar\":{\"outlinewidth\":0,\"ticks\":\"\"}}}],\"scatterpolar\":[{\"type\":\"scatterpolar\",\"marker\":{\"colorbar\":{\"outlinewidth\":0,\"ticks\":\"\"}}}],\"histogram\":[{\"marker\":{\"pattern\":{\"fillmode\":\"overlay\",\"size\":10,\"solidity\":0.2}},\"type\":\"histogram\"}],\"scattergl\":[{\"type\":\"scattergl\",\"marker\":{\"colorbar\":{\"outlinewidth\":0,\"ticks\":\"\"}}}],\"scatter3d\":[{\"type\":\"scatter3d\",\"line\":{\"colorbar\":{\"outlinewidth\":0,\"ticks\":\"\"}},\"marker\":{\"colorbar\":{\"outlinewidth\":0,\"ticks\":\"\"}}}],\"scattermapbox\":[{\"type\":\"scattermapbox\",\"marker\":{\"colorbar\":{\"outlinewidth\":0,\"ticks\":\"\"}}}],\"scatterternary\":[{\"type\":\"scatterternary\",\"marker\":{\"colorbar\":{\"outlinewidth\":0,\"ticks\":\"\"}}}],\"scattercarpet\":[{\"type\":\"scattercarpet\",\"marker\":{\"colorbar\":{\"outlinewidth\":0,\"ticks\":\"\"}}}],\"carpet\":[{\"aaxis\":{\"endlinecolor\":\"#2a3f5f\",\"gridcolor\":\"white\",\"linecolor\":\"white\",\"minorgridcolor\":\"white\",\"startlinecolor\":\"#2a3f5f\"},\"baxis\":{\"endlinecolor\":\"#2a3f5f\",\"gridcolor\":\"white\",\"linecolor\":\"white\",\"minorgridcolor\":\"white\",\"startlinecolor\":\"#2a3f5f\"},\"type\":\"carpet\"}],\"table\":[{\"cells\":{\"fill\":{\"color\":\"#EBF0F8\"},\"line\":{\"color\":\"white\"}},\"header\":{\"fill\":{\"color\":\"#C8D4E3\"},\"line\":{\"color\":\"white\"}},\"type\":\"table\"}],\"barpolar\":[{\"marker\":{\"line\":{\"color\":\"#E5ECF6\",\"width\":0.5},\"pattern\":{\"fillmode\":\"overlay\",\"size\":10,\"solidity\":0.2}},\"type\":\"barpolar\"}],\"pie\":[{\"automargin\":true,\"type\":\"pie\"}]},\"layout\":{\"autotypenumbers\":\"strict\",\"colorway\":[\"#636efa\",\"#EF553B\",\"#00cc96\",\"#ab63fa\",\"#FFA15A\",\"#19d3f3\",\"#FF6692\",\"#B6E880\",\"#FF97FF\",\"#FECB52\"],\"font\":{\"color\":\"#2a3f5f\"},\"hovermode\":\"closest\",\"hoverlabel\":{\"align\":\"left\"},\"paper_bgcolor\":\"white\",\"plot_bgcolor\":\"#E5ECF6\",\"polar\":{\"bgcolor\":\"#E5ECF6\",\"angularaxis\":{\"gridcolor\":\"white\",\"linecolor\":\"white\",\"ticks\":\"\"},\"radialaxis\":{\"gridcolor\":\"white\",\"linecolor\":\"white\",\"ticks\":\"\"}},\"ternary\":{\"bgcolor\":\"#E5ECF6\",\"aaxis\":{\"gridcolor\":\"white\",\"linecolor\":\"white\",\"ticks\":\"\"},\"baxis\":{\"gridcolor\":\"white\",\"linecolor\":\"white\",\"ticks\":\"\"},\"caxis\":{\"gridcolor\":\"white\",\"linecolor\":\"white\",\"ticks\":\"\"}},\"coloraxis\":{\"colorbar\":{\"outlinewidth\":0,\"ticks\":\"\"}},\"colorscale\":{\"sequential\":[[0.0,\"#0d0887\"],[0.1111111111111111,\"#46039f\"],[0.2222222222222222,\"#7201a8\"],[0.3333333333333333,\"#9c179e\"],[0.4444444444444444,\"#bd3786\"],[0.5555555555555556,\"#d8576b\"],[0.6666666666666666,\"#ed7953\"],[0.7777777777777778,\"#fb9f3a\"],[0.8888888888888888,\"#fdca26\"],[1.0,\"#f0f921\"]],\"sequentialminus\":[[0.0,\"#0d0887\"],[0.1111111111111111,\"#46039f\"],[0.2222222222222222,\"#7201a8\"],[0.3333333333333333,\"#9c179e\"],[0.4444444444444444,\"#bd3786\"],[0.5555555555555556,\"#d8576b\"],[0.6666666666666666,\"#ed7953\"],[0.7777777777777778,\"#fb9f3a\"],[0.8888888888888888,\"#fdca26\"],[1.0,\"#f0f921\"]],\"diverging\":[[0,\"#8e0152\"],[0.1,\"#c51b7d\"],[0.2,\"#de77ae\"],[0.3,\"#f1b6da\"],[0.4,\"#fde0ef\"],[0.5,\"#f7f7f7\"],[0.6,\"#e6f5d0\"],[0.7,\"#b8e186\"],[0.8,\"#7fbc41\"],[0.9,\"#4d9221\"],[1,\"#276419\"]]},\"xaxis\":{\"gridcolor\":\"white\",\"linecolor\":\"white\",\"ticks\":\"\",\"title\":{\"standoff\":15},\"zerolinecolor\":\"white\",\"automargin\":true,\"zerolinewidth\":2},\"yaxis\":{\"gridcolor\":\"white\",\"linecolor\":\"white\",\"ticks\":\"\",\"title\":{\"standoff\":15},\"zerolinecolor\":\"white\",\"automargin\":true,\"zerolinewidth\":2},\"scene\":{\"xaxis\":{\"backgroundcolor\":\"#E5ECF6\",\"gridcolor\":\"white\",\"linecolor\":\"white\",\"showbackground\":true,\"ticks\":\"\",\"zerolinecolor\":\"white\",\"gridwidth\":2},\"yaxis\":{\"backgroundcolor\":\"#E5ECF6\",\"gridcolor\":\"white\",\"linecolor\":\"white\",\"showbackground\":true,\"ticks\":\"\",\"zerolinecolor\":\"white\",\"gridwidth\":2},\"zaxis\":{\"backgroundcolor\":\"#E5ECF6\",\"gridcolor\":\"white\",\"linecolor\":\"white\",\"showbackground\":true,\"ticks\":\"\",\"zerolinecolor\":\"white\",\"gridwidth\":2}},\"shapedefaults\":{\"line\":{\"color\":\"#2a3f5f\"}},\"annotationdefaults\":{\"arrowcolor\":\"#2a3f5f\",\"arrowhead\":0,\"arrowwidth\":1},\"geo\":{\"bgcolor\":\"white\",\"landcolor\":\"#E5ECF6\",\"subunitcolor\":\"white\",\"showland\":true,\"showlakes\":true,\"lakecolor\":\"white\"},\"title\":{\"x\":0.05},\"mapbox\":{\"style\":\"light\"}}},\"xaxis\":{\"anchor\":\"y\",\"domain\":[0.0,0.94]},\"yaxis\":{\"anchor\":\"x\",\"domain\":[0.0,1.0],\"title\":{\"text\":\"\\u6761\\u4ef6\\u3092\\u6e80\\u305f\\u3059\\u7814\\u7a76\\u8005\\u306e\\u6570\"},\"showgrid\":false},\"yaxis2\":{\"anchor\":\"x\",\"overlaying\":\"y\",\"side\":\"right\",\"title\":{\"text\":\"\\u533b\\u5b66\\u5272\\u5408\"},\"showgrid\":false},\"title\":{\"text\":\"2012~2021\\u5e74\\u306e\\u6761\\u4ef6\\u3092\\u6e80\\u305f\\u3059\\u7814\\u7a76\\u8005\\u306e\\u6570\\u3068\\u533b\\u5b66\\u5272\\u5408\"},\"barmode\":\"stack\"},                        {\"responsive\": true}                    ).then(function(){\n",
              "                            \n",
              "var gd = document.getElementById('2e7f3516-c6c3-4e65-9f48-b2401d0543c8');\n",
              "var x = new MutationObserver(function (mutations, observer) {{\n",
              "        var display = window.getComputedStyle(gd).display;\n",
              "        if (!display || display === 'none') {{\n",
              "            console.log([gd, 'removed!']);\n",
              "            Plotly.purge(gd);\n",
              "            observer.disconnect();\n",
              "        }}\n",
              "}});\n",
              "\n",
              "// Listen for the removal of the full notebook cells\n",
              "var notebookContainer = gd.closest('#notebook-container');\n",
              "if (notebookContainer) {{\n",
              "    x.observe(notebookContainer, {childList: true});\n",
              "}}\n",
              "\n",
              "// Listen for the clearing of the current output cell\n",
              "var outputEl = gd.closest('.output');\n",
              "if (outputEl) {{\n",
              "    x.observe(outputEl, {childList: true});\n",
              "}}\n",
              "\n",
              "                        })                };                            </script>        </div>\n",
              "</body>\n",
              "</html>"
            ]
          },
          "metadata": {}
        }
      ]
    },
    {
      "cell_type": "markdown",
      "source": [
        "## 可視化結果\n",
        "\n",
        "- 東工大の条件を満たす研究者の絶対数はベンチマーク大学や日本の主要大学と比較すると低くなっている\n",
        "\n",
        "- 大学の規模感から考えると、東工大の条件を満たす研究者の割合は比較的高い（※下図参照）\n",
        "- 医学を除いた場合東工大の条件を満たす研究者の数は名古屋大を上回っている\n",
        "\n",
        "- 東工大と医科歯科大学が以前から合併していたと仮定した場合、条件を満たす研究者の数は名古屋大学と同等になる(東工大+医科歯科大：257人, 名古屋大：285人)\n",
        "\n",
        "- 日本の大学の条件を満たす研究者の医学割合は20~30%ほどを占めている。\n",
        "それに対して海外のベンチマーク大学は医学の割合が高低はっきりしている\n",
        "\n"
      ],
      "metadata": {
        "id": "n_Gbuh4YxoJh"
      }
    },
    {
      "cell_type": "code",
      "source": [
        "two_yaxis_fig.show()\n",
        "fig.show()"
      ],
      "metadata": {
        "colab": {
          "base_uri": "https://localhost:8080/",
          "height": 1067
        },
        "id": "vZA1FvWrxj8T",
        "outputId": "cc89aeac-43f5-4a3f-a95c-bb79cde9b91d"
      },
      "execution_count": 60,
      "outputs": [
        {
          "output_type": "display_data",
          "data": {
            "text/html": [
              "<html>\n",
              "<head><meta charset=\"utf-8\" /></head>\n",
              "<body>\n",
              "    <div>            <script src=\"https://cdnjs.cloudflare.com/ajax/libs/mathjax/2.7.5/MathJax.js?config=TeX-AMS-MML_SVG\"></script><script type=\"text/javascript\">if (window.MathJax && window.MathJax.Hub && window.MathJax.Hub.Config) {window.MathJax.Hub.Config({SVG: {font: \"STIX-Web\"}});}</script>                <script type=\"text/javascript\">window.PlotlyConfig = {MathJaxConfig: 'local'};</script>\n",
              "        <script src=\"https://cdn.plot.ly/plotly-2.18.2.min.js\"></script>                <div id=\"7b1fbe6c-92e9-4447-a402-891416d356db\" class=\"plotly-graph-div\" style=\"height:525px; width:100%;\"></div>            <script type=\"text/javascript\">                                    window.PLOTLYENV=window.PLOTLYENV || {};                                    if (document.getElementById(\"7b1fbe6c-92e9-4447-a402-891416d356db\")) {                    Plotly.newPlot(                        \"7b1fbe6c-92e9-4447-a402-891416d356db\",                        [{\"name\":\"\\u533b\\u5b66\\u4ee5\\u5916\",\"x\":[\"\\u6771\\u5de5\\u5927\",\"\\u6771\\u5de5\\u5927+\\u533b\\u79d1\\u6b6f\\u79d1\\u5927\",\"MIT\",\"Imperial College London\",\"\\u6771\\u5927\",\"\\u4eac\\u5927\",\"\\u962a\\u5927\",\"\\u6771\\u5317\\u5927\",\"\\u540d\\u53e4\\u5c4b\\u5927\",\"\\u6771\\u4eac\\u533b\\u79d1\\u6b6f\\u79d1\\u5927\"],\"y\":[182,202,1110,573,649,363,276,352,175,20],\"type\":\"bar\",\"hovertemplate\":\"%{x}: %{y:1f}\",\"textposition\":\"outside\",\"texttemplate\":\"%{y:1f}\"},{\"name\":\"\\u533b\\u5b66\",\"x\":[\"\\u6771\\u5de5\\u5927\",\"\\u6771\\u5de5\\u5927+\\u533b\\u79d1\\u6b6f\\u79d1\\u5927\",\"MIT\",\"Imperial College London\",\"\\u6771\\u5927\",\"\\u4eac\\u5927\",\"\\u962a\\u5927\",\"\\u6771\\u5317\\u5927\",\"\\u540d\\u53e4\\u5c4b\\u5927\",\"\\u6771\\u4eac\\u533b\\u79d1\\u6b6f\\u79d1\\u5927\"],\"y\":[1,55,136,481,166,106,129,123,110,54],\"type\":\"bar\",\"hovertemplate\":\"%{x}: %{y:1f}\",\"textposition\":\"outside\",\"texttemplate\":\"%{y:1f}\"},{\"name\":\"\\u533b\\u5b66\\u5272\\u5408\",\"x\":[\"\\u6771\\u5de5\\u5927\",\"\\u6771\\u5de5\\u5927+\\u533b\\u79d1\\u6b6f\\u79d1\\u5927\",\"MIT\",\"Imperial College London\",\"\\u6771\\u5927\",\"\\u4eac\\u5927\",\"\\u962a\\u5927\",\"\\u6771\\u5317\\u5927\",\"\\u540d\\u53e4\\u5c4b\\u5927\",\"\\u6771\\u4eac\\u533b\\u79d1\\u6b6f\\u79d1\\u5927\"],\"y\":[0.546448087431694,21.40077821011673,10.914927768860354,45.63567362428842,20.368098159509202,22.60127931769723,31.851851851851855,25.894736842105264,38.59649122807017,72.97297297297297],\"type\":\"scatter\",\"xaxis\":\"x\",\"yaxis\":\"y2\",\"marker\":{\"size\":10,\"symbol\":\"arrow-bar-up\"},\"mode\":\"markers+text\",\"textposition\":\"top center\",\"texttemplate\":\"%{y:.2f}%\"}],                        {\"template\":{\"data\":{\"histogram2dcontour\":[{\"type\":\"histogram2dcontour\",\"colorbar\":{\"outlinewidth\":0,\"ticks\":\"\"},\"colorscale\":[[0.0,\"#0d0887\"],[0.1111111111111111,\"#46039f\"],[0.2222222222222222,\"#7201a8\"],[0.3333333333333333,\"#9c179e\"],[0.4444444444444444,\"#bd3786\"],[0.5555555555555556,\"#d8576b\"],[0.6666666666666666,\"#ed7953\"],[0.7777777777777778,\"#fb9f3a\"],[0.8888888888888888,\"#fdca26\"],[1.0,\"#f0f921\"]]}],\"choropleth\":[{\"type\":\"choropleth\",\"colorbar\":{\"outlinewidth\":0,\"ticks\":\"\"}}],\"histogram2d\":[{\"type\":\"histogram2d\",\"colorbar\":{\"outlinewidth\":0,\"ticks\":\"\"},\"colorscale\":[[0.0,\"#0d0887\"],[0.1111111111111111,\"#46039f\"],[0.2222222222222222,\"#7201a8\"],[0.3333333333333333,\"#9c179e\"],[0.4444444444444444,\"#bd3786\"],[0.5555555555555556,\"#d8576b\"],[0.6666666666666666,\"#ed7953\"],[0.7777777777777778,\"#fb9f3a\"],[0.8888888888888888,\"#fdca26\"],[1.0,\"#f0f921\"]]}],\"heatmap\":[{\"type\":\"heatmap\",\"colorbar\":{\"outlinewidth\":0,\"ticks\":\"\"},\"colorscale\":[[0.0,\"#0d0887\"],[0.1111111111111111,\"#46039f\"],[0.2222222222222222,\"#7201a8\"],[0.3333333333333333,\"#9c179e\"],[0.4444444444444444,\"#bd3786\"],[0.5555555555555556,\"#d8576b\"],[0.6666666666666666,\"#ed7953\"],[0.7777777777777778,\"#fb9f3a\"],[0.8888888888888888,\"#fdca26\"],[1.0,\"#f0f921\"]]}],\"heatmapgl\":[{\"type\":\"heatmapgl\",\"colorbar\":{\"outlinewidth\":0,\"ticks\":\"\"},\"colorscale\":[[0.0,\"#0d0887\"],[0.1111111111111111,\"#46039f\"],[0.2222222222222222,\"#7201a8\"],[0.3333333333333333,\"#9c179e\"],[0.4444444444444444,\"#bd3786\"],[0.5555555555555556,\"#d8576b\"],[0.6666666666666666,\"#ed7953\"],[0.7777777777777778,\"#fb9f3a\"],[0.8888888888888888,\"#fdca26\"],[1.0,\"#f0f921\"]]}],\"contourcarpet\":[{\"type\":\"contourcarpet\",\"colorbar\":{\"outlinewidth\":0,\"ticks\":\"\"}}],\"contour\":[{\"type\":\"contour\",\"colorbar\":{\"outlinewidth\":0,\"ticks\":\"\"},\"colorscale\":[[0.0,\"#0d0887\"],[0.1111111111111111,\"#46039f\"],[0.2222222222222222,\"#7201a8\"],[0.3333333333333333,\"#9c179e\"],[0.4444444444444444,\"#bd3786\"],[0.5555555555555556,\"#d8576b\"],[0.6666666666666666,\"#ed7953\"],[0.7777777777777778,\"#fb9f3a\"],[0.8888888888888888,\"#fdca26\"],[1.0,\"#f0f921\"]]}],\"surface\":[{\"type\":\"surface\",\"colorbar\":{\"outlinewidth\":0,\"ticks\":\"\"},\"colorscale\":[[0.0,\"#0d0887\"],[0.1111111111111111,\"#46039f\"],[0.2222222222222222,\"#7201a8\"],[0.3333333333333333,\"#9c179e\"],[0.4444444444444444,\"#bd3786\"],[0.5555555555555556,\"#d8576b\"],[0.6666666666666666,\"#ed7953\"],[0.7777777777777778,\"#fb9f3a\"],[0.8888888888888888,\"#fdca26\"],[1.0,\"#f0f921\"]]}],\"mesh3d\":[{\"type\":\"mesh3d\",\"colorbar\":{\"outlinewidth\":0,\"ticks\":\"\"}}],\"scatter\":[{\"fillpattern\":{\"fillmode\":\"overlay\",\"size\":10,\"solidity\":0.2},\"type\":\"scatter\"}],\"parcoords\":[{\"type\":\"parcoords\",\"line\":{\"colorbar\":{\"outlinewidth\":0,\"ticks\":\"\"}}}],\"scatterpolargl\":[{\"type\":\"scatterpolargl\",\"marker\":{\"colorbar\":{\"outlinewidth\":0,\"ticks\":\"\"}}}],\"bar\":[{\"error_x\":{\"color\":\"#2a3f5f\"},\"error_y\":{\"color\":\"#2a3f5f\"},\"marker\":{\"line\":{\"color\":\"#E5ECF6\",\"width\":0.5},\"pattern\":{\"fillmode\":\"overlay\",\"size\":10,\"solidity\":0.2}},\"type\":\"bar\"}],\"scattergeo\":[{\"type\":\"scattergeo\",\"marker\":{\"colorbar\":{\"outlinewidth\":0,\"ticks\":\"\"}}}],\"scatterpolar\":[{\"type\":\"scatterpolar\",\"marker\":{\"colorbar\":{\"outlinewidth\":0,\"ticks\":\"\"}}}],\"histogram\":[{\"marker\":{\"pattern\":{\"fillmode\":\"overlay\",\"size\":10,\"solidity\":0.2}},\"type\":\"histogram\"}],\"scattergl\":[{\"type\":\"scattergl\",\"marker\":{\"colorbar\":{\"outlinewidth\":0,\"ticks\":\"\"}}}],\"scatter3d\":[{\"type\":\"scatter3d\",\"line\":{\"colorbar\":{\"outlinewidth\":0,\"ticks\":\"\"}},\"marker\":{\"colorbar\":{\"outlinewidth\":0,\"ticks\":\"\"}}}],\"scattermapbox\":[{\"type\":\"scattermapbox\",\"marker\":{\"colorbar\":{\"outlinewidth\":0,\"ticks\":\"\"}}}],\"scatterternary\":[{\"type\":\"scatterternary\",\"marker\":{\"colorbar\":{\"outlinewidth\":0,\"ticks\":\"\"}}}],\"scattercarpet\":[{\"type\":\"scattercarpet\",\"marker\":{\"colorbar\":{\"outlinewidth\":0,\"ticks\":\"\"}}}],\"carpet\":[{\"aaxis\":{\"endlinecolor\":\"#2a3f5f\",\"gridcolor\":\"white\",\"linecolor\":\"white\",\"minorgridcolor\":\"white\",\"startlinecolor\":\"#2a3f5f\"},\"baxis\":{\"endlinecolor\":\"#2a3f5f\",\"gridcolor\":\"white\",\"linecolor\":\"white\",\"minorgridcolor\":\"white\",\"startlinecolor\":\"#2a3f5f\"},\"type\":\"carpet\"}],\"table\":[{\"cells\":{\"fill\":{\"color\":\"#EBF0F8\"},\"line\":{\"color\":\"white\"}},\"header\":{\"fill\":{\"color\":\"#C8D4E3\"},\"line\":{\"color\":\"white\"}},\"type\":\"table\"}],\"barpolar\":[{\"marker\":{\"line\":{\"color\":\"#E5ECF6\",\"width\":0.5},\"pattern\":{\"fillmode\":\"overlay\",\"size\":10,\"solidity\":0.2}},\"type\":\"barpolar\"}],\"pie\":[{\"automargin\":true,\"type\":\"pie\"}]},\"layout\":{\"autotypenumbers\":\"strict\",\"colorway\":[\"#636efa\",\"#EF553B\",\"#00cc96\",\"#ab63fa\",\"#FFA15A\",\"#19d3f3\",\"#FF6692\",\"#B6E880\",\"#FF97FF\",\"#FECB52\"],\"font\":{\"color\":\"#2a3f5f\"},\"hovermode\":\"closest\",\"hoverlabel\":{\"align\":\"left\"},\"paper_bgcolor\":\"white\",\"plot_bgcolor\":\"#E5ECF6\",\"polar\":{\"bgcolor\":\"#E5ECF6\",\"angularaxis\":{\"gridcolor\":\"white\",\"linecolor\":\"white\",\"ticks\":\"\"},\"radialaxis\":{\"gridcolor\":\"white\",\"linecolor\":\"white\",\"ticks\":\"\"}},\"ternary\":{\"bgcolor\":\"#E5ECF6\",\"aaxis\":{\"gridcolor\":\"white\",\"linecolor\":\"white\",\"ticks\":\"\"},\"baxis\":{\"gridcolor\":\"white\",\"linecolor\":\"white\",\"ticks\":\"\"},\"caxis\":{\"gridcolor\":\"white\",\"linecolor\":\"white\",\"ticks\":\"\"}},\"coloraxis\":{\"colorbar\":{\"outlinewidth\":0,\"ticks\":\"\"}},\"colorscale\":{\"sequential\":[[0.0,\"#0d0887\"],[0.1111111111111111,\"#46039f\"],[0.2222222222222222,\"#7201a8\"],[0.3333333333333333,\"#9c179e\"],[0.4444444444444444,\"#bd3786\"],[0.5555555555555556,\"#d8576b\"],[0.6666666666666666,\"#ed7953\"],[0.7777777777777778,\"#fb9f3a\"],[0.8888888888888888,\"#fdca26\"],[1.0,\"#f0f921\"]],\"sequentialminus\":[[0.0,\"#0d0887\"],[0.1111111111111111,\"#46039f\"],[0.2222222222222222,\"#7201a8\"],[0.3333333333333333,\"#9c179e\"],[0.4444444444444444,\"#bd3786\"],[0.5555555555555556,\"#d8576b\"],[0.6666666666666666,\"#ed7953\"],[0.7777777777777778,\"#fb9f3a\"],[0.8888888888888888,\"#fdca26\"],[1.0,\"#f0f921\"]],\"diverging\":[[0,\"#8e0152\"],[0.1,\"#c51b7d\"],[0.2,\"#de77ae\"],[0.3,\"#f1b6da\"],[0.4,\"#fde0ef\"],[0.5,\"#f7f7f7\"],[0.6,\"#e6f5d0\"],[0.7,\"#b8e186\"],[0.8,\"#7fbc41\"],[0.9,\"#4d9221\"],[1,\"#276419\"]]},\"xaxis\":{\"gridcolor\":\"white\",\"linecolor\":\"white\",\"ticks\":\"\",\"title\":{\"standoff\":15},\"zerolinecolor\":\"white\",\"automargin\":true,\"zerolinewidth\":2},\"yaxis\":{\"gridcolor\":\"white\",\"linecolor\":\"white\",\"ticks\":\"\",\"title\":{\"standoff\":15},\"zerolinecolor\":\"white\",\"automargin\":true,\"zerolinewidth\":2},\"scene\":{\"xaxis\":{\"backgroundcolor\":\"#E5ECF6\",\"gridcolor\":\"white\",\"linecolor\":\"white\",\"showbackground\":true,\"ticks\":\"\",\"zerolinecolor\":\"white\",\"gridwidth\":2},\"yaxis\":{\"backgroundcolor\":\"#E5ECF6\",\"gridcolor\":\"white\",\"linecolor\":\"white\",\"showbackground\":true,\"ticks\":\"\",\"zerolinecolor\":\"white\",\"gridwidth\":2},\"zaxis\":{\"backgroundcolor\":\"#E5ECF6\",\"gridcolor\":\"white\",\"linecolor\":\"white\",\"showbackground\":true,\"ticks\":\"\",\"zerolinecolor\":\"white\",\"gridwidth\":2}},\"shapedefaults\":{\"line\":{\"color\":\"#2a3f5f\"}},\"annotationdefaults\":{\"arrowcolor\":\"#2a3f5f\",\"arrowhead\":0,\"arrowwidth\":1},\"geo\":{\"bgcolor\":\"white\",\"landcolor\":\"#E5ECF6\",\"subunitcolor\":\"white\",\"showland\":true,\"showlakes\":true,\"lakecolor\":\"white\"},\"title\":{\"x\":0.05},\"mapbox\":{\"style\":\"light\"}}},\"xaxis\":{\"anchor\":\"y\",\"domain\":[0.0,0.94]},\"yaxis\":{\"anchor\":\"x\",\"domain\":[0.0,1.0],\"title\":{\"text\":\"\\u6761\\u4ef6\\u3092\\u6e80\\u305f\\u3059\\u7814\\u7a76\\u8005\\u306e\\u6570\"},\"showgrid\":false},\"yaxis2\":{\"anchor\":\"x\",\"overlaying\":\"y\",\"side\":\"right\",\"title\":{\"text\":\"\\u533b\\u5b66\\u5272\\u5408\"},\"showgrid\":false},\"title\":{\"text\":\"2012~2021\\u5e74\\u306e\\u6761\\u4ef6\\u3092\\u6e80\\u305f\\u3059\\u7814\\u7a76\\u8005\\u306e\\u6570\\u3068\\u533b\\u5b66\\u5272\\u5408\"},\"barmode\":\"stack\"},                        {\"responsive\": true}                    ).then(function(){\n",
              "                            \n",
              "var gd = document.getElementById('7b1fbe6c-92e9-4447-a402-891416d356db');\n",
              "var x = new MutationObserver(function (mutations, observer) {{\n",
              "        var display = window.getComputedStyle(gd).display;\n",
              "        if (!display || display === 'none') {{\n",
              "            console.log([gd, 'removed!']);\n",
              "            Plotly.purge(gd);\n",
              "            observer.disconnect();\n",
              "        }}\n",
              "}});\n",
              "\n",
              "// Listen for the removal of the full notebook cells\n",
              "var notebookContainer = gd.closest('#notebook-container');\n",
              "if (notebookContainer) {{\n",
              "    x.observe(notebookContainer, {childList: true});\n",
              "}}\n",
              "\n",
              "// Listen for the clearing of the current output cell\n",
              "var outputEl = gd.closest('.output');\n",
              "if (outputEl) {{\n",
              "    x.observe(outputEl, {childList: true});\n",
              "}}\n",
              "\n",
              "                        })                };                            </script>        </div>\n",
              "</body>\n",
              "</html>"
            ]
          },
          "metadata": {}
        },
        {
          "output_type": "display_data",
          "data": {
            "text/html": [
              "<html>\n",
              "<head><meta charset=\"utf-8\" /></head>\n",
              "<body>\n",
              "    <div>            <script src=\"https://cdnjs.cloudflare.com/ajax/libs/mathjax/2.7.5/MathJax.js?config=TeX-AMS-MML_SVG\"></script><script type=\"text/javascript\">if (window.MathJax && window.MathJax.Hub && window.MathJax.Hub.Config) {window.MathJax.Hub.Config({SVG: {font: \"STIX-Web\"}});}</script>                <script type=\"text/javascript\">window.PlotlyConfig = {MathJaxConfig: 'local'};</script>\n",
              "        <script src=\"https://cdn.plot.ly/plotly-2.18.2.min.js\"></script>                <div id=\"064ea2cf-1855-4176-8c6a-fa5fb6b241c8\" class=\"plotly-graph-div\" style=\"height:525px; width:100%;\"></div>            <script type=\"text/javascript\">                                    window.PLOTLYENV=window.PLOTLYENV || {};                                    if (document.getElementById(\"064ea2cf-1855-4176-8c6a-fa5fb6b241c8\")) {                    Plotly.newPlot(                        \"064ea2cf-1855-4176-8c6a-fa5fb6b241c8\",                        [{\"alignmentgroup\":\"True\",\"hovertemplate\":\"%{x}: %{y:1f}\",\"legendgroup\":\"\",\"marker\":{\"color\":\"#636efa\",\"pattern\":{\"shape\":\"\"}},\"name\":\"\",\"offsetgroup\":\"\",\"orientation\":\"v\",\"showlegend\":false,\"textposition\":\"outside\",\"x\":[\"\\u6771\\u5de5\\u5927\",\"\\u6771\\u5de5\\u5927+\\u533b\\u79d1\\u6b6f\\u79d1\\u5927\",\"MIT\",\"Imperial College London\",\"\\u6771\\u5927\",\"\\u4eac\\u5927\",\"\\u962a\\u5927\",\"\\u6771\\u5317\\u5927\",\"\\u540d\\u53e4\\u5c4b\\u5927\",\"\\u6771\\u4eac\\u533b\\u79d1\\u6b6f\\u79d1\\u5927\"],\"xaxis\":\"x\",\"y\":[1033,1886,1069,1358,3945,3489,3306,3174,2296,853],\"yaxis\":\"y\",\"type\":\"bar\",\"texttemplate\":\"%{y:1f}\"}],                        {\"template\":{\"data\":{\"histogram2dcontour\":[{\"type\":\"histogram2dcontour\",\"colorbar\":{\"outlinewidth\":0,\"ticks\":\"\"},\"colorscale\":[[0.0,\"#0d0887\"],[0.1111111111111111,\"#46039f\"],[0.2222222222222222,\"#7201a8\"],[0.3333333333333333,\"#9c179e\"],[0.4444444444444444,\"#bd3786\"],[0.5555555555555556,\"#d8576b\"],[0.6666666666666666,\"#ed7953\"],[0.7777777777777778,\"#fb9f3a\"],[0.8888888888888888,\"#fdca26\"],[1.0,\"#f0f921\"]]}],\"choropleth\":[{\"type\":\"choropleth\",\"colorbar\":{\"outlinewidth\":0,\"ticks\":\"\"}}],\"histogram2d\":[{\"type\":\"histogram2d\",\"colorbar\":{\"outlinewidth\":0,\"ticks\":\"\"},\"colorscale\":[[0.0,\"#0d0887\"],[0.1111111111111111,\"#46039f\"],[0.2222222222222222,\"#7201a8\"],[0.3333333333333333,\"#9c179e\"],[0.4444444444444444,\"#bd3786\"],[0.5555555555555556,\"#d8576b\"],[0.6666666666666666,\"#ed7953\"],[0.7777777777777778,\"#fb9f3a\"],[0.8888888888888888,\"#fdca26\"],[1.0,\"#f0f921\"]]}],\"heatmap\":[{\"type\":\"heatmap\",\"colorbar\":{\"outlinewidth\":0,\"ticks\":\"\"},\"colorscale\":[[0.0,\"#0d0887\"],[0.1111111111111111,\"#46039f\"],[0.2222222222222222,\"#7201a8\"],[0.3333333333333333,\"#9c179e\"],[0.4444444444444444,\"#bd3786\"],[0.5555555555555556,\"#d8576b\"],[0.6666666666666666,\"#ed7953\"],[0.7777777777777778,\"#fb9f3a\"],[0.8888888888888888,\"#fdca26\"],[1.0,\"#f0f921\"]]}],\"heatmapgl\":[{\"type\":\"heatmapgl\",\"colorbar\":{\"outlinewidth\":0,\"ticks\":\"\"},\"colorscale\":[[0.0,\"#0d0887\"],[0.1111111111111111,\"#46039f\"],[0.2222222222222222,\"#7201a8\"],[0.3333333333333333,\"#9c179e\"],[0.4444444444444444,\"#bd3786\"],[0.5555555555555556,\"#d8576b\"],[0.6666666666666666,\"#ed7953\"],[0.7777777777777778,\"#fb9f3a\"],[0.8888888888888888,\"#fdca26\"],[1.0,\"#f0f921\"]]}],\"contourcarpet\":[{\"type\":\"contourcarpet\",\"colorbar\":{\"outlinewidth\":0,\"ticks\":\"\"}}],\"contour\":[{\"type\":\"contour\",\"colorbar\":{\"outlinewidth\":0,\"ticks\":\"\"},\"colorscale\":[[0.0,\"#0d0887\"],[0.1111111111111111,\"#46039f\"],[0.2222222222222222,\"#7201a8\"],[0.3333333333333333,\"#9c179e\"],[0.4444444444444444,\"#bd3786\"],[0.5555555555555556,\"#d8576b\"],[0.6666666666666666,\"#ed7953\"],[0.7777777777777778,\"#fb9f3a\"],[0.8888888888888888,\"#fdca26\"],[1.0,\"#f0f921\"]]}],\"surface\":[{\"type\":\"surface\",\"colorbar\":{\"outlinewidth\":0,\"ticks\":\"\"},\"colorscale\":[[0.0,\"#0d0887\"],[0.1111111111111111,\"#46039f\"],[0.2222222222222222,\"#7201a8\"],[0.3333333333333333,\"#9c179e\"],[0.4444444444444444,\"#bd3786\"],[0.5555555555555556,\"#d8576b\"],[0.6666666666666666,\"#ed7953\"],[0.7777777777777778,\"#fb9f3a\"],[0.8888888888888888,\"#fdca26\"],[1.0,\"#f0f921\"]]}],\"mesh3d\":[{\"type\":\"mesh3d\",\"colorbar\":{\"outlinewidth\":0,\"ticks\":\"\"}}],\"scatter\":[{\"fillpattern\":{\"fillmode\":\"overlay\",\"size\":10,\"solidity\":0.2},\"type\":\"scatter\"}],\"parcoords\":[{\"type\":\"parcoords\",\"line\":{\"colorbar\":{\"outlinewidth\":0,\"ticks\":\"\"}}}],\"scatterpolargl\":[{\"type\":\"scatterpolargl\",\"marker\":{\"colorbar\":{\"outlinewidth\":0,\"ticks\":\"\"}}}],\"bar\":[{\"error_x\":{\"color\":\"#2a3f5f\"},\"error_y\":{\"color\":\"#2a3f5f\"},\"marker\":{\"line\":{\"color\":\"#E5ECF6\",\"width\":0.5},\"pattern\":{\"fillmode\":\"overlay\",\"size\":10,\"solidity\":0.2}},\"type\":\"bar\"}],\"scattergeo\":[{\"type\":\"scattergeo\",\"marker\":{\"colorbar\":{\"outlinewidth\":0,\"ticks\":\"\"}}}],\"scatterpolar\":[{\"type\":\"scatterpolar\",\"marker\":{\"colorbar\":{\"outlinewidth\":0,\"ticks\":\"\"}}}],\"histogram\":[{\"marker\":{\"pattern\":{\"fillmode\":\"overlay\",\"size\":10,\"solidity\":0.2}},\"type\":\"histogram\"}],\"scattergl\":[{\"type\":\"scattergl\",\"marker\":{\"colorbar\":{\"outlinewidth\":0,\"ticks\":\"\"}}}],\"scatter3d\":[{\"type\":\"scatter3d\",\"line\":{\"colorbar\":{\"outlinewidth\":0,\"ticks\":\"\"}},\"marker\":{\"colorbar\":{\"outlinewidth\":0,\"ticks\":\"\"}}}],\"scattermapbox\":[{\"type\":\"scattermapbox\",\"marker\":{\"colorbar\":{\"outlinewidth\":0,\"ticks\":\"\"}}}],\"scatterternary\":[{\"type\":\"scatterternary\",\"marker\":{\"colorbar\":{\"outlinewidth\":0,\"ticks\":\"\"}}}],\"scattercarpet\":[{\"type\":\"scattercarpet\",\"marker\":{\"colorbar\":{\"outlinewidth\":0,\"ticks\":\"\"}}}],\"carpet\":[{\"aaxis\":{\"endlinecolor\":\"#2a3f5f\",\"gridcolor\":\"white\",\"linecolor\":\"white\",\"minorgridcolor\":\"white\",\"startlinecolor\":\"#2a3f5f\"},\"baxis\":{\"endlinecolor\":\"#2a3f5f\",\"gridcolor\":\"white\",\"linecolor\":\"white\",\"minorgridcolor\":\"white\",\"startlinecolor\":\"#2a3f5f\"},\"type\":\"carpet\"}],\"table\":[{\"cells\":{\"fill\":{\"color\":\"#EBF0F8\"},\"line\":{\"color\":\"white\"}},\"header\":{\"fill\":{\"color\":\"#C8D4E3\"},\"line\":{\"color\":\"white\"}},\"type\":\"table\"}],\"barpolar\":[{\"marker\":{\"line\":{\"color\":\"#E5ECF6\",\"width\":0.5},\"pattern\":{\"fillmode\":\"overlay\",\"size\":10,\"solidity\":0.2}},\"type\":\"barpolar\"}],\"pie\":[{\"automargin\":true,\"type\":\"pie\"}]},\"layout\":{\"autotypenumbers\":\"strict\",\"colorway\":[\"#636efa\",\"#EF553B\",\"#00cc96\",\"#ab63fa\",\"#FFA15A\",\"#19d3f3\",\"#FF6692\",\"#B6E880\",\"#FF97FF\",\"#FECB52\"],\"font\":{\"color\":\"#2a3f5f\"},\"hovermode\":\"closest\",\"hoverlabel\":{\"align\":\"left\"},\"paper_bgcolor\":\"white\",\"plot_bgcolor\":\"#E5ECF6\",\"polar\":{\"bgcolor\":\"#E5ECF6\",\"angularaxis\":{\"gridcolor\":\"white\",\"linecolor\":\"white\",\"ticks\":\"\"},\"radialaxis\":{\"gridcolor\":\"white\",\"linecolor\":\"white\",\"ticks\":\"\"}},\"ternary\":{\"bgcolor\":\"#E5ECF6\",\"aaxis\":{\"gridcolor\":\"white\",\"linecolor\":\"white\",\"ticks\":\"\"},\"baxis\":{\"gridcolor\":\"white\",\"linecolor\":\"white\",\"ticks\":\"\"},\"caxis\":{\"gridcolor\":\"white\",\"linecolor\":\"white\",\"ticks\":\"\"}},\"coloraxis\":{\"colorbar\":{\"outlinewidth\":0,\"ticks\":\"\"}},\"colorscale\":{\"sequential\":[[0.0,\"#0d0887\"],[0.1111111111111111,\"#46039f\"],[0.2222222222222222,\"#7201a8\"],[0.3333333333333333,\"#9c179e\"],[0.4444444444444444,\"#bd3786\"],[0.5555555555555556,\"#d8576b\"],[0.6666666666666666,\"#ed7953\"],[0.7777777777777778,\"#fb9f3a\"],[0.8888888888888888,\"#fdca26\"],[1.0,\"#f0f921\"]],\"sequentialminus\":[[0.0,\"#0d0887\"],[0.1111111111111111,\"#46039f\"],[0.2222222222222222,\"#7201a8\"],[0.3333333333333333,\"#9c179e\"],[0.4444444444444444,\"#bd3786\"],[0.5555555555555556,\"#d8576b\"],[0.6666666666666666,\"#ed7953\"],[0.7777777777777778,\"#fb9f3a\"],[0.8888888888888888,\"#fdca26\"],[1.0,\"#f0f921\"]],\"diverging\":[[0,\"#8e0152\"],[0.1,\"#c51b7d\"],[0.2,\"#de77ae\"],[0.3,\"#f1b6da\"],[0.4,\"#fde0ef\"],[0.5,\"#f7f7f7\"],[0.6,\"#e6f5d0\"],[0.7,\"#b8e186\"],[0.8,\"#7fbc41\"],[0.9,\"#4d9221\"],[1,\"#276419\"]]},\"xaxis\":{\"gridcolor\":\"white\",\"linecolor\":\"white\",\"ticks\":\"\",\"title\":{\"standoff\":15},\"zerolinecolor\":\"white\",\"automargin\":true,\"zerolinewidth\":2},\"yaxis\":{\"gridcolor\":\"white\",\"linecolor\":\"white\",\"ticks\":\"\",\"title\":{\"standoff\":15},\"zerolinecolor\":\"white\",\"automargin\":true,\"zerolinewidth\":2},\"scene\":{\"xaxis\":{\"backgroundcolor\":\"#E5ECF6\",\"gridcolor\":\"white\",\"linecolor\":\"white\",\"showbackground\":true,\"ticks\":\"\",\"zerolinecolor\":\"white\",\"gridwidth\":2},\"yaxis\":{\"backgroundcolor\":\"#E5ECF6\",\"gridcolor\":\"white\",\"linecolor\":\"white\",\"showbackground\":true,\"ticks\":\"\",\"zerolinecolor\":\"white\",\"gridwidth\":2},\"zaxis\":{\"backgroundcolor\":\"#E5ECF6\",\"gridcolor\":\"white\",\"linecolor\":\"white\",\"showbackground\":true,\"ticks\":\"\",\"zerolinecolor\":\"white\",\"gridwidth\":2}},\"shapedefaults\":{\"line\":{\"color\":\"#2a3f5f\"}},\"annotationdefaults\":{\"arrowcolor\":\"#2a3f5f\",\"arrowhead\":0,\"arrowwidth\":1},\"geo\":{\"bgcolor\":\"white\",\"landcolor\":\"#E5ECF6\",\"subunitcolor\":\"white\",\"showland\":true,\"showlakes\":true,\"lakecolor\":\"white\"},\"title\":{\"x\":0.05},\"mapbox\":{\"style\":\"light\"}}},\"xaxis\":{\"anchor\":\"y\",\"domain\":[0.0,1.0],\"title\":{\"text\":\"\\u5927\\u5b66\\u540d\"},\"tickangle\":-45},\"yaxis\":{\"anchor\":\"x\",\"domain\":[0.0,1.0],\"title\":{\"text\":\"\\u7814\\u7a76\\u8005\\u306e\\u6570\"}},\"legend\":{\"tracegroupgap\":0},\"margin\":{\"t\":60},\"barmode\":\"relative\",\"title\":{\"text\":\"2022\\u5e74\\u306e\\u5927\\u5b66\\u3054\\u3068\\u306e\\u7814\\u7a76\\u8005\\u6570(\\u53c2\\u8003\\u5024)\"}},                        {\"responsive\": true}                    ).then(function(){\n",
              "                            \n",
              "var gd = document.getElementById('064ea2cf-1855-4176-8c6a-fa5fb6b241c8');\n",
              "var x = new MutationObserver(function (mutations, observer) {{\n",
              "        var display = window.getComputedStyle(gd).display;\n",
              "        if (!display || display === 'none') {{\n",
              "            console.log([gd, 'removed!']);\n",
              "            Plotly.purge(gd);\n",
              "            observer.disconnect();\n",
              "        }}\n",
              "}});\n",
              "\n",
              "// Listen for the removal of the full notebook cells\n",
              "var notebookContainer = gd.closest('#notebook-container');\n",
              "if (notebookContainer) {{\n",
              "    x.observe(notebookContainer, {childList: true});\n",
              "}}\n",
              "\n",
              "// Listen for the clearing of the current output cell\n",
              "var outputEl = gd.closest('.output');\n",
              "if (outputEl) {{\n",
              "    x.observe(outputEl, {childList: true});\n",
              "}}\n",
              "\n",
              "                        })                };                            </script>        </div>\n",
              "</body>\n",
              "</html>"
            ]
          },
          "metadata": {}
        }
      ]
    },
    {
      "cell_type": "markdown",
      "source": [
        "# ②分野別の条件を満たす研究者割合\n",
        "\n",
        "### 分野についてはASJC（All Science Journal Classification）に従って分類した。理学と工学については本学の基準による\n",
        "\n",
        "- 理学\n",
        "\n",
        "\n",
        "> Mathematics (数学),\n",
        "Physics and Astronomy (物理・天文学),\n",
        "Chemistry (化学),\n",
        "Earth and Planetary Sciences (地球惑星科学),\n",
        "Environmental Science (環境科学),\n",
        "\n",
        "\n",
        "- 工学\n",
        "\n",
        "\n",
        "> Engineering (工学),\n",
        "Chemical Engineering (化学工学),\n",
        "Material Science (材料科学),\n",
        "Computer Science (コンピュータ科学),\n",
        "Energy (エネルギー),\n",
        "\n",
        "\n",
        "\n",
        "\n",
        "- 医学\n",
        "\n",
        "> Health Sciences (ヘルスサイエンス),\n",
        "Medicine (医学),\n",
        "Nursing (看護学),\n",
        "Veterinary (獣医学),\n",
        "Dentistry (歯学),\n",
        "Health Professions (保健医療),\n",
        "\n",
        "\n",
        "\n",
        "\n",
        "- 社会科学\n",
        "\n",
        "\n",
        "> Social Sciences (社会科学)\tArts and Humanities (人文科学),\n",
        "Business, Management and Accounting (ビジネス・マネジメント・会計学),\n",
        "Decision Sciences (決定科学),\n",
        "Economics, Econometrics and Finance (経済学・計量経済学・財政),\n",
        "Psychology (心理学),\n",
        "\n",
        "- 生命科学\n",
        "\n",
        "> Life Sciences (ライフサイエンス),\n",
        "Agricultural and Biological Sciences (農学・生物科学),\n",
        "Biochemistry, Genetics and Molecular Biology (生化学・遺伝学・分子生物学),\n",
        "Immunology and Microbiology (免疫学・微生物学),\n",
        "Neuroscience (神経科学),\n",
        "Pharmacology, Toxicology and Pharmaceutics (薬理学・毒物学・薬剤学),\n",
        "\n",
        "- その他\n",
        "Multidisciplinary (学際分野),etc\n",
        "\n",
        "\n",
        "\n"
      ],
      "metadata": {
        "id": "CbQrt3BEdlqw"
      }
    },
    {
      "cell_type": "markdown",
      "source": [
        "## 集計"
      ],
      "metadata": {
        "id": "l4mNKWTT-9jK"
      }
    },
    {
      "cell_type": "code",
      "source": [
        "#tagを集計し直す,学際分野を除いた\n",
        "tag_all['new_tag'] = 'その他'\n",
        "#理学\n",
        "tag_all.loc[(tag_all['tag'] == 'General Physics and Astronomy（一般物理・天文学）') | \n",
        "              (tag_all['tag'] == 'General Chemistry（一般化学）') |\n",
        "              (tag_all['tag'] == 'General Mathematics（一般数学）') | \n",
        "              (tag_all['tag'] == 'General Earth and Planetary Sciences（一般地球惑星科学）') |\n",
        "              (tag_all['tag'] == 'General Environmental Science（一般環境科学）'),'new_tag'] = '理学'\n",
        "\n",
        "#工学\n",
        "tag_all.loc[(tag_all['tag'] == 'General Engineering（一般工学）') | \n",
        "              (tag_all['tag'] == 'General Materials Science（一般材料科学）') | \n",
        "              (tag_all['tag'] == 'General Chemical Engineering（一般化学工学）') |\n",
        "              (tag_all['tag'] == 'General Computer Science（一般コンピューター科学）')|\n",
        "              (tag_all['tag'] == 'General Energy（一般エネルギー）'),'new_tag'] = '工学'\n",
        "\n",
        "#医学\n",
        "tag_all.loc[(tag_all['tag'] == 'General Medicine（一般医学）') | \n",
        "              (tag_all['tag'] == 'General Nursing（一般看護）') | \n",
        "              (tag_all['tag'] == 'General Health Professions（一般保健医療）') |\n",
        "              (tag_all['tag'] == 'General Veterinary（一般獣医学）')|\n",
        "              (tag_all['tag'] == 'General Dentistry（一般歯学）'),'new_tag'] = '医学'\n",
        "\n",
        "#社会科学\n",
        "tag_all.loc[(tag_all['tag'] == 'General Arts and Humanitie（一般人文科学）') | \n",
        "              (tag_all['tag'] == 'General Business, Management and Accounting（一般ビジネス・マネジメント・会計学）') | \n",
        "              (tag_all['tag'] == 'General Decision Sciences（一般決定科学）') |\n",
        "              (tag_all['tag'] == 'General Economics, Econometrics and Finance（一般経済学・計量経済学・財政）')|\n",
        "              (tag_all['tag'] == 'General Psychology（一般心理学）') |\n",
        "              (tag_all['tag'] == 'General Social Sciences（一般社会科学）'),'new_tag'] = '社会科学'\n",
        "\n",
        "#生命科学\n",
        "tag_all.loc[(tag_all['tag'] == 'General Agricultural and Biological Sciences（一般農学・生物科学）') | \n",
        "              (tag_all['tag'] == 'Biochemistry, Genetics and Molecular Biology（一般生化学・遺伝学・分子生物学）') | \n",
        "              (tag_all['tag'] == 'General Immunology and Microbiology（一般免疫学・微生物学）') |\n",
        "              (tag_all['tag'] == 'General Neuroscience（一般神経科学）')|\n",
        "              (tag_all['tag'] == 'General Pharmacology, Toxicology and Pharmaceutics（一般薬理学・毒物学・薬剤学）') ,'new_tag'] = '生命科学'\n",
        "\n",
        "a = tag_all.query('univ_name_x == \"titech\" or univ_name_x == \"medical\"')\n",
        "a['univ_name_x'] = '東工大+医科歯科大'\n",
        "tag_all = pd.concat([tag_all,a])"
      ],
      "metadata": {
        "id": "GQQ6i7nAT5jE",
        "colab": {
          "base_uri": "https://localhost:8080/",
          "height": 0
        },
        "outputId": "95c39e1f-c20a-48fe-e617-e6271b7db673"
      },
      "execution_count": 61,
      "outputs": [
        {
          "output_type": "stream",
          "name": "stderr",
          "text": [
            "<ipython-input-61-dcc479616155>:40: SettingWithCopyWarning:\n",
            "\n",
            "\n",
            "A value is trying to be set on a copy of a slice from a DataFrame.\n",
            "Try using .loc[row_indexer,col_indexer] = value instead\n",
            "\n",
            "See the caveats in the documentation: https://pandas.pydata.org/pandas-docs/stable/user_guide/indexing.html#returning-a-view-versus-a-copy\n",
            "\n"
          ]
        }
      ]
    },
    {
      "cell_type": "code",
      "source": [
        "#tagを集計し直す,学際分野を除いた\n",
        "all_y_res['new_tag'] = 'その他'\n",
        "#理学\n",
        "all_y_res.loc[(all_y_res['tag'] == 'General Physics and Astronomy（一般物理・天文学）') | \n",
        "              (all_y_res['tag'] == 'General Chemistry（一般化学）') |\n",
        "              (all_y_res['tag'] == 'General Mathematics（一般数学）') | \n",
        "              (all_y_res['tag'] == 'General Earth and Planetary Sciences（一般地球惑星科学）') |\n",
        "              (all_y_res['tag'] == 'General Environmental Science（一般環境科学）'),'new_tag'] = '理学'\n",
        "\n",
        "#工学\n",
        "all_y_res.loc[(all_y_res['tag'] == 'General Engineering（一般工学）') | \n",
        "              (all_y_res['tag'] == 'General Materials Science（一般材料科学）') | \n",
        "              (all_y_res['tag'] == 'General Chemical Engineering（一般化学工学）') |\n",
        "              (all_y_res['tag'] == 'General Computer Science（一般コンピューター科学）')|\n",
        "              (all_y_res['tag'] == 'General Energy（一般エネルギー）'),'new_tag'] = '工学'\n",
        "\n",
        "#医学\n",
        "all_y_res.loc[(all_y_res['tag'] == 'General Medicine（一般医学）') | \n",
        "              (all_y_res['tag'] == 'General Nursing（一般看護）') | \n",
        "              (all_y_res['tag'] == 'General Health Professions（一般保健医療）') |\n",
        "              (all_y_res['tag'] == 'General Veterinary（一般獣医学）')|\n",
        "              (all_y_res['tag'] == 'General Dentistry（一般歯学）'),'new_tag'] = '医学'\n",
        "\n",
        "#社会科学\n",
        "all_y_res.loc[(all_y_res['tag'] == 'General Arts and Humanitie（一般人文科学）') | \n",
        "              (all_y_res['tag'] == 'General Business, Management and Accounting（一般ビジネス・マネジメント・会計学）') | \n",
        "              (all_y_res['tag'] == 'General Decision Sciences（一般決定科学）') |\n",
        "              (all_y_res['tag'] == 'General Economics, Econometrics and Finance（一般経済学・計量経済学・財政）')|\n",
        "              (all_y_res['tag'] == 'General Psychology（一般心理学）') |\n",
        "              (all_y_res['tag'] == 'General Social Sciences（一般社会科学）'),'new_tag'] = '社会科学'\n",
        "\n",
        "#生命科学\n",
        "all_y_res.loc[(all_y_res['tag'] == 'General Agricultural and Biological Sciences（一般農学・生物科学）') | \n",
        "              (all_y_res['tag'] == 'Biochemistry, Genetics and Molecular Biology（一般生化学・遺伝学・分子生物学）') | \n",
        "              (all_y_res['tag'] == 'General Immunology and Microbiology（一般免疫学・微生物学）') |\n",
        "              (all_y_res['tag'] == 'General Neuroscience（一般神経科学）')|\n",
        "              (all_y_res['tag'] == 'General Pharmacology, Toxicology and Pharmaceutics（一般薬理学・毒物学・薬剤学）') ,'new_tag'] = '生命科学'\n"
      ],
      "metadata": {
        "id": "oSmrGSRP9ylR"
      },
      "execution_count": 62,
      "outputs": []
    },
    {
      "cell_type": "code",
      "source": [
        "all_y_res['new_tag'].value_counts()"
      ],
      "metadata": {
        "colab": {
          "base_uri": "https://localhost:8080/",
          "height": 0
        },
        "id": "6hKVlP_aNeWw",
        "outputId": "dba47410-9479-4789-dc4b-356fb60f0507"
      },
      "execution_count": 63,
      "outputs": [
        {
          "output_type": "execute_result",
          "data": {
            "text/plain": [
              "理学      1510\n",
              "医学      1346\n",
              "工学      1329\n",
              "生命科学     601\n",
              "その他      136\n",
              "社会科学      84\n",
              "Name: new_tag, dtype: int64"
            ]
          },
          "metadata": {},
          "execution_count": 63
        }
      ]
    },
    {
      "cell_type": "code",
      "source": [
        "a = all_y_res.query('univ_name_x == \"titech\" or univ_name_x == \"medical\"')\n",
        "a['univ_name_x'] = '東工大+医科歯科大'\n",
        "all_y_res = pd.concat([all_y_res,a])"
      ],
      "metadata": {
        "colab": {
          "base_uri": "https://localhost:8080/",
          "height": 0
        },
        "id": "VOua3W0-8EuN",
        "outputId": "4a525561-398f-4b31-8062-3acc6a94606d"
      },
      "execution_count": 64,
      "outputs": [
        {
          "output_type": "stream",
          "name": "stderr",
          "text": [
            "<ipython-input-64-509a954b6dec>:2: SettingWithCopyWarning:\n",
            "\n",
            "\n",
            "A value is trying to be set on a copy of a slice from a DataFrame.\n",
            "Try using .loc[row_indexer,col_indexer] = value instead\n",
            "\n",
            "See the caveats in the documentation: https://pandas.pydata.org/pandas-docs/stable/user_guide/indexing.html#returning-a-view-versus-a-copy\n",
            "\n"
          ]
        }
      ]
    },
    {
      "cell_type": "code",
      "source": [
        "all_y_res.head()"
      ],
      "metadata": {
        "colab": {
          "base_uri": "https://localhost:8080/",
          "height": 527
        },
        "id": "0ZUqdFB3765O",
        "outputId": "56f3e5d5-0eef-4789-9630-f852808da40d"
      },
      "execution_count": 65,
      "outputs": [
        {
          "output_type": "execute_result",
          "data": {
            "text/plain": [
              "    Unnamed: 0  Scopus Author Ids univ_name_x  start_year  end_year  \\\n",
              "0            2         6602154752      titech        2012      2014   \n",
              "1            3        36040908600      titech        2012      2014   \n",
              "9            9         7202652119      titech        2012      2014   \n",
              "12          11         7102848390      titech        2012      2014   \n",
              "13          14         7102758574      titech        2012      2014   \n",
              "\n",
              "    All Science Journal Classification (ASJC) code  \\\n",
              "0                                               31   \n",
              "1                                               25   \n",
              "9                                               31   \n",
              "12                                              16   \n",
              "13                                              16   \n",
              "\n",
              "                                        tag univ_name_y  researcher_num  flag  \\\n",
              "0   General Physics and Astronomy（一般物理・天文学）       osaka               1  医学以外   \n",
              "1         General Materials Science（一般材料科学）       osaka               1  医学以外   \n",
              "9   General Physics and Astronomy（一般物理・天文学）       osaka               1  医学以外   \n",
              "12                  General Chemistry（一般化学）       osaka               1  医学以外   \n",
              "13                  General Chemistry（一般化学）       osaka               1  医学以外   \n",
              "\n",
              "   new_tag  \n",
              "0       理学  \n",
              "1       工学  \n",
              "9       理学  \n",
              "12      理学  \n",
              "13      理学  "
            ],
            "text/html": [
              "\n",
              "  <div id=\"df-573b3719-495f-44d2-b9ad-553174a21280\">\n",
              "    <div class=\"colab-df-container\">\n",
              "      <div>\n",
              "<style scoped>\n",
              "    .dataframe tbody tr th:only-of-type {\n",
              "        vertical-align: middle;\n",
              "    }\n",
              "\n",
              "    .dataframe tbody tr th {\n",
              "        vertical-align: top;\n",
              "    }\n",
              "\n",
              "    .dataframe thead th {\n",
              "        text-align: right;\n",
              "    }\n",
              "</style>\n",
              "<table border=\"1\" class=\"dataframe\">\n",
              "  <thead>\n",
              "    <tr style=\"text-align: right;\">\n",
              "      <th></th>\n",
              "      <th>Unnamed: 0</th>\n",
              "      <th>Scopus Author Ids</th>\n",
              "      <th>univ_name_x</th>\n",
              "      <th>start_year</th>\n",
              "      <th>end_year</th>\n",
              "      <th>All Science Journal Classification (ASJC) code</th>\n",
              "      <th>tag</th>\n",
              "      <th>univ_name_y</th>\n",
              "      <th>researcher_num</th>\n",
              "      <th>flag</th>\n",
              "      <th>new_tag</th>\n",
              "    </tr>\n",
              "  </thead>\n",
              "  <tbody>\n",
              "    <tr>\n",
              "      <th>0</th>\n",
              "      <td>2</td>\n",
              "      <td>6602154752</td>\n",
              "      <td>titech</td>\n",
              "      <td>2012</td>\n",
              "      <td>2014</td>\n",
              "      <td>31</td>\n",
              "      <td>General Physics and Astronomy（一般物理・天文学）</td>\n",
              "      <td>osaka</td>\n",
              "      <td>1</td>\n",
              "      <td>医学以外</td>\n",
              "      <td>理学</td>\n",
              "    </tr>\n",
              "    <tr>\n",
              "      <th>1</th>\n",
              "      <td>3</td>\n",
              "      <td>36040908600</td>\n",
              "      <td>titech</td>\n",
              "      <td>2012</td>\n",
              "      <td>2014</td>\n",
              "      <td>25</td>\n",
              "      <td>General Materials Science（一般材料科学）</td>\n",
              "      <td>osaka</td>\n",
              "      <td>1</td>\n",
              "      <td>医学以外</td>\n",
              "      <td>工学</td>\n",
              "    </tr>\n",
              "    <tr>\n",
              "      <th>9</th>\n",
              "      <td>9</td>\n",
              "      <td>7202652119</td>\n",
              "      <td>titech</td>\n",
              "      <td>2012</td>\n",
              "      <td>2014</td>\n",
              "      <td>31</td>\n",
              "      <td>General Physics and Astronomy（一般物理・天文学）</td>\n",
              "      <td>osaka</td>\n",
              "      <td>1</td>\n",
              "      <td>医学以外</td>\n",
              "      <td>理学</td>\n",
              "    </tr>\n",
              "    <tr>\n",
              "      <th>12</th>\n",
              "      <td>11</td>\n",
              "      <td>7102848390</td>\n",
              "      <td>titech</td>\n",
              "      <td>2012</td>\n",
              "      <td>2014</td>\n",
              "      <td>16</td>\n",
              "      <td>General Chemistry（一般化学）</td>\n",
              "      <td>osaka</td>\n",
              "      <td>1</td>\n",
              "      <td>医学以外</td>\n",
              "      <td>理学</td>\n",
              "    </tr>\n",
              "    <tr>\n",
              "      <th>13</th>\n",
              "      <td>14</td>\n",
              "      <td>7102758574</td>\n",
              "      <td>titech</td>\n",
              "      <td>2012</td>\n",
              "      <td>2014</td>\n",
              "      <td>16</td>\n",
              "      <td>General Chemistry（一般化学）</td>\n",
              "      <td>osaka</td>\n",
              "      <td>1</td>\n",
              "      <td>医学以外</td>\n",
              "      <td>理学</td>\n",
              "    </tr>\n",
              "  </tbody>\n",
              "</table>\n",
              "</div>\n",
              "      <button class=\"colab-df-convert\" onclick=\"convertToInteractive('df-573b3719-495f-44d2-b9ad-553174a21280')\"\n",
              "              title=\"Convert this dataframe to an interactive table.\"\n",
              "              style=\"display:none;\">\n",
              "        \n",
              "  <svg xmlns=\"http://www.w3.org/2000/svg\" height=\"24px\"viewBox=\"0 0 24 24\"\n",
              "       width=\"24px\">\n",
              "    <path d=\"M0 0h24v24H0V0z\" fill=\"none\"/>\n",
              "    <path d=\"M18.56 5.44l.94 2.06.94-2.06 2.06-.94-2.06-.94-.94-2.06-.94 2.06-2.06.94zm-11 1L8.5 8.5l.94-2.06 2.06-.94-2.06-.94L8.5 2.5l-.94 2.06-2.06.94zm10 10l.94 2.06.94-2.06 2.06-.94-2.06-.94-.94-2.06-.94 2.06-2.06.94z\"/><path d=\"M17.41 7.96l-1.37-1.37c-.4-.4-.92-.59-1.43-.59-.52 0-1.04.2-1.43.59L10.3 9.45l-7.72 7.72c-.78.78-.78 2.05 0 2.83L4 21.41c.39.39.9.59 1.41.59.51 0 1.02-.2 1.41-.59l7.78-7.78 2.81-2.81c.8-.78.8-2.07 0-2.86zM5.41 20L4 18.59l7.72-7.72 1.47 1.35L5.41 20z\"/>\n",
              "  </svg>\n",
              "      </button>\n",
              "      \n",
              "  <style>\n",
              "    .colab-df-container {\n",
              "      display:flex;\n",
              "      flex-wrap:wrap;\n",
              "      gap: 12px;\n",
              "    }\n",
              "\n",
              "    .colab-df-convert {\n",
              "      background-color: #E8F0FE;\n",
              "      border: none;\n",
              "      border-radius: 50%;\n",
              "      cursor: pointer;\n",
              "      display: none;\n",
              "      fill: #1967D2;\n",
              "      height: 32px;\n",
              "      padding: 0 0 0 0;\n",
              "      width: 32px;\n",
              "    }\n",
              "\n",
              "    .colab-df-convert:hover {\n",
              "      background-color: #E2EBFA;\n",
              "      box-shadow: 0px 1px 2px rgba(60, 64, 67, 0.3), 0px 1px 3px 1px rgba(60, 64, 67, 0.15);\n",
              "      fill: #174EA6;\n",
              "    }\n",
              "\n",
              "    [theme=dark] .colab-df-convert {\n",
              "      background-color: #3B4455;\n",
              "      fill: #D2E3FC;\n",
              "    }\n",
              "\n",
              "    [theme=dark] .colab-df-convert:hover {\n",
              "      background-color: #434B5C;\n",
              "      box-shadow: 0px 1px 3px 1px rgba(0, 0, 0, 0.15);\n",
              "      filter: drop-shadow(0px 1px 2px rgba(0, 0, 0, 0.3));\n",
              "      fill: #FFFFFF;\n",
              "    }\n",
              "  </style>\n",
              "\n",
              "      <script>\n",
              "        const buttonEl =\n",
              "          document.querySelector('#df-573b3719-495f-44d2-b9ad-553174a21280 button.colab-df-convert');\n",
              "        buttonEl.style.display =\n",
              "          google.colab.kernel.accessAllowed ? 'block' : 'none';\n",
              "\n",
              "        async function convertToInteractive(key) {\n",
              "          const element = document.querySelector('#df-573b3719-495f-44d2-b9ad-553174a21280');\n",
              "          const dataTable =\n",
              "            await google.colab.kernel.invokeFunction('convertToInteractive',\n",
              "                                                     [key], {});\n",
              "          if (!dataTable) return;\n",
              "\n",
              "          const docLinkHtml = 'Like what you see? Visit the ' +\n",
              "            '<a target=\"_blank\" href=https://colab.research.google.com/notebooks/data_table.ipynb>data table notebook</a>'\n",
              "            + ' to learn more about interactive tables.';\n",
              "          element.innerHTML = '';\n",
              "          dataTable['output_type'] = 'display_data';\n",
              "          await google.colab.output.renderOutput(dataTable, element);\n",
              "          const docLink = document.createElement('div');\n",
              "          docLink.innerHTML = docLinkHtml;\n",
              "          element.appendChild(docLink);\n",
              "        }\n",
              "      </script>\n",
              "    </div>\n",
              "  </div>\n",
              "  "
            ]
          },
          "metadata": {},
          "execution_count": 65
        }
      ]
    },
    {
      "cell_type": "code",
      "source": [
        "re = all_y_res\n",
        "re = re.groupby(['univ_name_x','tag']).sum().reset_index()\n",
        "a = re.groupby(['univ_name_x'],as_index=False).sum()\n",
        "b = a[['univ_name_x','researcher_num']]\n",
        "c = pd.merge(re,b,how='outer',on='univ_name_x')\n",
        "c['分野割合'] = c['researcher_num_x']/c['researcher_num_y']\n",
        "d = c"
      ],
      "metadata": {
        "id": "oA6QclkjLyC0"
      },
      "execution_count": 66,
      "outputs": []
    },
    {
      "cell_type": "code",
      "source": [
        "#新しいタグ付きのデータフレーム(工学、理学、、)\n",
        "re2 = all_y_res\n",
        "re2 = re2.groupby(['univ_name_x','new_tag']).sum().reset_index()\n",
        "a = re2.groupby(['univ_name_x'],as_index=False).sum()\n",
        "b = a[['univ_name_x','researcher_num']]\n",
        "c = pd.merge(re2,b,how='outer',on='univ_name_x')\n",
        "c['分野割合'] = c['researcher_num_x']/c['researcher_num_y']\n",
        "df_newtag = c"
      ],
      "metadata": {
        "id": "XKfQLUVkRcQQ"
      },
      "execution_count": 67,
      "outputs": []
    },
    {
      "cell_type": "code",
      "source": [
        "c.head()"
      ],
      "metadata": {
        "colab": {
          "base_uri": "https://localhost:8080/",
          "height": 284
        },
        "id": "FzA98zDSS8DQ",
        "outputId": "58ff7574-437b-4637-c7ff-ba271eac4870"
      },
      "execution_count": 68,
      "outputs": [
        {
          "output_type": "execute_result",
          "data": {
            "text/plain": [
              "  univ_name_x new_tag  Unnamed: 0  Scopus Author Ids  start_year  end_year  \\\n",
              "0    Imperial     その他       29306       608912692082       36232     36268   \n",
              "1    Imperial      医学      744276     14148756335586      988546    989528   \n",
              "2    Imperial      工学      507355      6421716567942      434957    435389   \n",
              "3    Imperial      理学      448621      6105634488994      426899    427323   \n",
              "4    Imperial    生命科学      145455      2947606245941      211446    211656   \n",
              "\n",
              "   All Science Journal Classification (ASJC) code  researcher_num_x  \\\n",
              "0                                             279                18   \n",
              "1                                           13115               491   \n",
              "2                                            4661               216   \n",
              "3                                            5121               212   \n",
              "4                                            1874               105   \n",
              "\n",
              "   researcher_num_y      分野割合  \n",
              "0              1054  0.017078  \n",
              "1              1054  0.465844  \n",
              "2              1054  0.204934  \n",
              "3              1054  0.201139  \n",
              "4              1054  0.099620  "
            ],
            "text/html": [
              "\n",
              "  <div id=\"df-cc513002-5ea7-4b11-95de-a5dd61851658\">\n",
              "    <div class=\"colab-df-container\">\n",
              "      <div>\n",
              "<style scoped>\n",
              "    .dataframe tbody tr th:only-of-type {\n",
              "        vertical-align: middle;\n",
              "    }\n",
              "\n",
              "    .dataframe tbody tr th {\n",
              "        vertical-align: top;\n",
              "    }\n",
              "\n",
              "    .dataframe thead th {\n",
              "        text-align: right;\n",
              "    }\n",
              "</style>\n",
              "<table border=\"1\" class=\"dataframe\">\n",
              "  <thead>\n",
              "    <tr style=\"text-align: right;\">\n",
              "      <th></th>\n",
              "      <th>univ_name_x</th>\n",
              "      <th>new_tag</th>\n",
              "      <th>Unnamed: 0</th>\n",
              "      <th>Scopus Author Ids</th>\n",
              "      <th>start_year</th>\n",
              "      <th>end_year</th>\n",
              "      <th>All Science Journal Classification (ASJC) code</th>\n",
              "      <th>researcher_num_x</th>\n",
              "      <th>researcher_num_y</th>\n",
              "      <th>分野割合</th>\n",
              "    </tr>\n",
              "  </thead>\n",
              "  <tbody>\n",
              "    <tr>\n",
              "      <th>0</th>\n",
              "      <td>Imperial</td>\n",
              "      <td>その他</td>\n",
              "      <td>29306</td>\n",
              "      <td>608912692082</td>\n",
              "      <td>36232</td>\n",
              "      <td>36268</td>\n",
              "      <td>279</td>\n",
              "      <td>18</td>\n",
              "      <td>1054</td>\n",
              "      <td>0.017078</td>\n",
              "    </tr>\n",
              "    <tr>\n",
              "      <th>1</th>\n",
              "      <td>Imperial</td>\n",
              "      <td>医学</td>\n",
              "      <td>744276</td>\n",
              "      <td>14148756335586</td>\n",
              "      <td>988546</td>\n",
              "      <td>989528</td>\n",
              "      <td>13115</td>\n",
              "      <td>491</td>\n",
              "      <td>1054</td>\n",
              "      <td>0.465844</td>\n",
              "    </tr>\n",
              "    <tr>\n",
              "      <th>2</th>\n",
              "      <td>Imperial</td>\n",
              "      <td>工学</td>\n",
              "      <td>507355</td>\n",
              "      <td>6421716567942</td>\n",
              "      <td>434957</td>\n",
              "      <td>435389</td>\n",
              "      <td>4661</td>\n",
              "      <td>216</td>\n",
              "      <td>1054</td>\n",
              "      <td>0.204934</td>\n",
              "    </tr>\n",
              "    <tr>\n",
              "      <th>3</th>\n",
              "      <td>Imperial</td>\n",
              "      <td>理学</td>\n",
              "      <td>448621</td>\n",
              "      <td>6105634488994</td>\n",
              "      <td>426899</td>\n",
              "      <td>427323</td>\n",
              "      <td>5121</td>\n",
              "      <td>212</td>\n",
              "      <td>1054</td>\n",
              "      <td>0.201139</td>\n",
              "    </tr>\n",
              "    <tr>\n",
              "      <th>4</th>\n",
              "      <td>Imperial</td>\n",
              "      <td>生命科学</td>\n",
              "      <td>145455</td>\n",
              "      <td>2947606245941</td>\n",
              "      <td>211446</td>\n",
              "      <td>211656</td>\n",
              "      <td>1874</td>\n",
              "      <td>105</td>\n",
              "      <td>1054</td>\n",
              "      <td>0.099620</td>\n",
              "    </tr>\n",
              "  </tbody>\n",
              "</table>\n",
              "</div>\n",
              "      <button class=\"colab-df-convert\" onclick=\"convertToInteractive('df-cc513002-5ea7-4b11-95de-a5dd61851658')\"\n",
              "              title=\"Convert this dataframe to an interactive table.\"\n",
              "              style=\"display:none;\">\n",
              "        \n",
              "  <svg xmlns=\"http://www.w3.org/2000/svg\" height=\"24px\"viewBox=\"0 0 24 24\"\n",
              "       width=\"24px\">\n",
              "    <path d=\"M0 0h24v24H0V0z\" fill=\"none\"/>\n",
              "    <path d=\"M18.56 5.44l.94 2.06.94-2.06 2.06-.94-2.06-.94-.94-2.06-.94 2.06-2.06.94zm-11 1L8.5 8.5l.94-2.06 2.06-.94-2.06-.94L8.5 2.5l-.94 2.06-2.06.94zm10 10l.94 2.06.94-2.06 2.06-.94-2.06-.94-.94-2.06-.94 2.06-2.06.94z\"/><path d=\"M17.41 7.96l-1.37-1.37c-.4-.4-.92-.59-1.43-.59-.52 0-1.04.2-1.43.59L10.3 9.45l-7.72 7.72c-.78.78-.78 2.05 0 2.83L4 21.41c.39.39.9.59 1.41.59.51 0 1.02-.2 1.41-.59l7.78-7.78 2.81-2.81c.8-.78.8-2.07 0-2.86zM5.41 20L4 18.59l7.72-7.72 1.47 1.35L5.41 20z\"/>\n",
              "  </svg>\n",
              "      </button>\n",
              "      \n",
              "  <style>\n",
              "    .colab-df-container {\n",
              "      display:flex;\n",
              "      flex-wrap:wrap;\n",
              "      gap: 12px;\n",
              "    }\n",
              "\n",
              "    .colab-df-convert {\n",
              "      background-color: #E8F0FE;\n",
              "      border: none;\n",
              "      border-radius: 50%;\n",
              "      cursor: pointer;\n",
              "      display: none;\n",
              "      fill: #1967D2;\n",
              "      height: 32px;\n",
              "      padding: 0 0 0 0;\n",
              "      width: 32px;\n",
              "    }\n",
              "\n",
              "    .colab-df-convert:hover {\n",
              "      background-color: #E2EBFA;\n",
              "      box-shadow: 0px 1px 2px rgba(60, 64, 67, 0.3), 0px 1px 3px 1px rgba(60, 64, 67, 0.15);\n",
              "      fill: #174EA6;\n",
              "    }\n",
              "\n",
              "    [theme=dark] .colab-df-convert {\n",
              "      background-color: #3B4455;\n",
              "      fill: #D2E3FC;\n",
              "    }\n",
              "\n",
              "    [theme=dark] .colab-df-convert:hover {\n",
              "      background-color: #434B5C;\n",
              "      box-shadow: 0px 1px 3px 1px rgba(0, 0, 0, 0.15);\n",
              "      filter: drop-shadow(0px 1px 2px rgba(0, 0, 0, 0.3));\n",
              "      fill: #FFFFFF;\n",
              "    }\n",
              "  </style>\n",
              "\n",
              "      <script>\n",
              "        const buttonEl =\n",
              "          document.querySelector('#df-cc513002-5ea7-4b11-95de-a5dd61851658 button.colab-df-convert');\n",
              "        buttonEl.style.display =\n",
              "          google.colab.kernel.accessAllowed ? 'block' : 'none';\n",
              "\n",
              "        async function convertToInteractive(key) {\n",
              "          const element = document.querySelector('#df-cc513002-5ea7-4b11-95de-a5dd61851658');\n",
              "          const dataTable =\n",
              "            await google.colab.kernel.invokeFunction('convertToInteractive',\n",
              "                                                     [key], {});\n",
              "          if (!dataTable) return;\n",
              "\n",
              "          const docLinkHtml = 'Like what you see? Visit the ' +\n",
              "            '<a target=\"_blank\" href=https://colab.research.google.com/notebooks/data_table.ipynb>data table notebook</a>'\n",
              "            + ' to learn more about interactive tables.';\n",
              "          element.innerHTML = '';\n",
              "          dataTable['output_type'] = 'display_data';\n",
              "          await google.colab.output.renderOutput(dataTable, element);\n",
              "          const docLink = document.createElement('div');\n",
              "          docLink.innerHTML = docLinkHtml;\n",
              "          element.appendChild(docLink);\n",
              "        }\n",
              "      </script>\n",
              "    </div>\n",
              "  </div>\n",
              "  "
            ]
          },
          "metadata": {},
          "execution_count": 68
        }
      ]
    },
    {
      "cell_type": "code",
      "source": [
        "all_y_res.query('univ_name_x == \"titech\"')['tag'].value_counts()"
      ],
      "metadata": {
        "colab": {
          "base_uri": "https://localhost:8080/",
          "height": 0
        },
        "id": "L0yTLjAiWiPg",
        "outputId": "f959dabc-1f0f-476d-fce1-c14d83dc8048"
      },
      "execution_count": 69,
      "outputs": [
        {
          "output_type": "execute_result",
          "data": {
            "text/plain": [
              "General Engineering（一般工学）                                        54\n",
              "General Chemistry（一般化学）                                          34\n",
              "General Physics and Astronomy（一般物理・天文学）                          33\n",
              "General Materials Science（一般材料科学）                                22\n",
              "General Computer Science（一般コンピューター科学）                            16\n",
              "General Energy（一般エネルギー）                                           7\n",
              "General Earth and Planetary Sciences（一般地球惑星科学）                    6\n",
              "Biochemistry, Genetics and Molecular Biology（一般生化学・遺伝学・分子生物学）     6\n",
              "General Environmental Science（一般環境科学）                             3\n",
              "General Mathematics（一般数学）                                         1\n",
              "General Medicine（一般医学）                                            1\n",
              "Name: tag, dtype: int64"
            ]
          },
          "metadata": {},
          "execution_count": 69
        }
      ]
    },
    {
      "cell_type": "code",
      "source": [
        "all_y_res['univ_name_x'].value_counts()"
      ],
      "metadata": {
        "colab": {
          "base_uri": "https://localhost:8080/",
          "height": 0
        },
        "id": "V5yKvEyq1sXM",
        "outputId": "351f0c5c-04e8-4bdd-9aa4-11e3f917acd5"
      },
      "execution_count": 70,
      "outputs": [
        {
          "output_type": "execute_result",
          "data": {
            "text/plain": [
              "MIT          1246\n",
              "Imperial     1054\n",
              "UT            815\n",
              "tohoku        475\n",
              "kyoto         469\n",
              "osaka         405\n",
              "nagoya        285\n",
              "東工大+医科歯科大     257\n",
              "titech        183\n",
              "medical        74\n",
              "Name: univ_name_x, dtype: int64"
            ]
          },
          "metadata": {},
          "execution_count": 70
        }
      ]
    },
    {
      "cell_type": "code",
      "source": [
        "\n",
        "d.loc[(d['tag'] != 'General Engineering（一般工学）')&(d['tag'] != 'General Chemistry（一般化学）')&\n",
        "      (d['tag'] != 'General Physics and Astronomy（一般物理・天文学）')&(d['tag'] != 'General Materials Science（一般材料科学）')&\n",
        "      (d['tag'] != 'General Computer Science（一般コンピューター科学）'),'tag'] = 'その他'\n",
        "\n",
        "d.rename(columns={'univ_name_x':'大学名'},inplace=True)\n",
        "\n"
      ],
      "metadata": {
        "id": "T9d9mCp9VKHR"
      },
      "execution_count": 71,
      "outputs": []
    },
    {
      "cell_type": "code",
      "source": [
        "fig = px.bar(df_newtag.query('univ_name_x == \"titech\"'),y='分野割合',x='new_tag',color='new_tag')\n",
        "fig.update_layout(xaxis={'categoryorder':'total descending'})\n",
        "fig.show()"
      ],
      "metadata": {
        "colab": {
          "base_uri": "https://localhost:8080/",
          "height": 542
        },
        "id": "Yar0sMeHTrqO",
        "outputId": "66977884-3ae2-470b-8ba1-f7ad6e76e1cf"
      },
      "execution_count": 72,
      "outputs": [
        {
          "output_type": "display_data",
          "data": {
            "text/html": [
              "<html>\n",
              "<head><meta charset=\"utf-8\" /></head>\n",
              "<body>\n",
              "    <div>            <script src=\"https://cdnjs.cloudflare.com/ajax/libs/mathjax/2.7.5/MathJax.js?config=TeX-AMS-MML_SVG\"></script><script type=\"text/javascript\">if (window.MathJax && window.MathJax.Hub && window.MathJax.Hub.Config) {window.MathJax.Hub.Config({SVG: {font: \"STIX-Web\"}});}</script>                <script type=\"text/javascript\">window.PlotlyConfig = {MathJaxConfig: 'local'};</script>\n",
              "        <script src=\"https://cdn.plot.ly/plotly-2.18.2.min.js\"></script>                <div id=\"3a702228-22c1-49c9-b5f4-88a765ece631\" class=\"plotly-graph-div\" style=\"height:525px; width:100%;\"></div>            <script type=\"text/javascript\">                                    window.PLOTLYENV=window.PLOTLYENV || {};                                    if (document.getElementById(\"3a702228-22c1-49c9-b5f4-88a765ece631\")) {                    Plotly.newPlot(                        \"3a702228-22c1-49c9-b5f4-88a765ece631\",                        [{\"alignmentgroup\":\"True\",\"hovertemplate\":\"new_tag=%{x}<br>\\u5206\\u91ce\\u5272\\u5408=%{y}<extra></extra>\",\"legendgroup\":\"\\u533b\\u5b66\",\"marker\":{\"color\":\"#636efa\",\"pattern\":{\"shape\":\"\"}},\"name\":\"\\u533b\\u5b66\",\"offsetgroup\":\"\\u533b\\u5b66\",\"orientation\":\"v\",\"showlegend\":true,\"textposition\":\"auto\",\"x\":[\"\\u533b\\u5b66\"],\"xaxis\":\"x\",\"y\":[0.00546448087431694],\"yaxis\":\"y\",\"type\":\"bar\"},{\"alignmentgroup\":\"True\",\"hovertemplate\":\"new_tag=%{x}<br>\\u5206\\u91ce\\u5272\\u5408=%{y}<extra></extra>\",\"legendgroup\":\"\\u5de5\\u5b66\",\"marker\":{\"color\":\"#EF553B\",\"pattern\":{\"shape\":\"\"}},\"name\":\"\\u5de5\\u5b66\",\"offsetgroup\":\"\\u5de5\\u5b66\",\"orientation\":\"v\",\"showlegend\":true,\"textposition\":\"auto\",\"x\":[\"\\u5de5\\u5b66\"],\"xaxis\":\"x\",\"y\":[0.5409836065573771],\"yaxis\":\"y\",\"type\":\"bar\"},{\"alignmentgroup\":\"True\",\"hovertemplate\":\"new_tag=%{x}<br>\\u5206\\u91ce\\u5272\\u5408=%{y}<extra></extra>\",\"legendgroup\":\"\\u7406\\u5b66\",\"marker\":{\"color\":\"#00cc96\",\"pattern\":{\"shape\":\"\"}},\"name\":\"\\u7406\\u5b66\",\"offsetgroup\":\"\\u7406\\u5b66\",\"orientation\":\"v\",\"showlegend\":true,\"textposition\":\"auto\",\"x\":[\"\\u7406\\u5b66\"],\"xaxis\":\"x\",\"y\":[0.4207650273224044],\"yaxis\":\"y\",\"type\":\"bar\"},{\"alignmentgroup\":\"True\",\"hovertemplate\":\"new_tag=%{x}<br>\\u5206\\u91ce\\u5272\\u5408=%{y}<extra></extra>\",\"legendgroup\":\"\\u751f\\u547d\\u79d1\\u5b66\",\"marker\":{\"color\":\"#ab63fa\",\"pattern\":{\"shape\":\"\"}},\"name\":\"\\u751f\\u547d\\u79d1\\u5b66\",\"offsetgroup\":\"\\u751f\\u547d\\u79d1\\u5b66\",\"orientation\":\"v\",\"showlegend\":true,\"textposition\":\"auto\",\"x\":[\"\\u751f\\u547d\\u79d1\\u5b66\"],\"xaxis\":\"x\",\"y\":[0.03278688524590164],\"yaxis\":\"y\",\"type\":\"bar\"}],                        {\"template\":{\"data\":{\"histogram2dcontour\":[{\"type\":\"histogram2dcontour\",\"colorbar\":{\"outlinewidth\":0,\"ticks\":\"\"},\"colorscale\":[[0.0,\"#0d0887\"],[0.1111111111111111,\"#46039f\"],[0.2222222222222222,\"#7201a8\"],[0.3333333333333333,\"#9c179e\"],[0.4444444444444444,\"#bd3786\"],[0.5555555555555556,\"#d8576b\"],[0.6666666666666666,\"#ed7953\"],[0.7777777777777778,\"#fb9f3a\"],[0.8888888888888888,\"#fdca26\"],[1.0,\"#f0f921\"]]}],\"choropleth\":[{\"type\":\"choropleth\",\"colorbar\":{\"outlinewidth\":0,\"ticks\":\"\"}}],\"histogram2d\":[{\"type\":\"histogram2d\",\"colorbar\":{\"outlinewidth\":0,\"ticks\":\"\"},\"colorscale\":[[0.0,\"#0d0887\"],[0.1111111111111111,\"#46039f\"],[0.2222222222222222,\"#7201a8\"],[0.3333333333333333,\"#9c179e\"],[0.4444444444444444,\"#bd3786\"],[0.5555555555555556,\"#d8576b\"],[0.6666666666666666,\"#ed7953\"],[0.7777777777777778,\"#fb9f3a\"],[0.8888888888888888,\"#fdca26\"],[1.0,\"#f0f921\"]]}],\"heatmap\":[{\"type\":\"heatmap\",\"colorbar\":{\"outlinewidth\":0,\"ticks\":\"\"},\"colorscale\":[[0.0,\"#0d0887\"],[0.1111111111111111,\"#46039f\"],[0.2222222222222222,\"#7201a8\"],[0.3333333333333333,\"#9c179e\"],[0.4444444444444444,\"#bd3786\"],[0.5555555555555556,\"#d8576b\"],[0.6666666666666666,\"#ed7953\"],[0.7777777777777778,\"#fb9f3a\"],[0.8888888888888888,\"#fdca26\"],[1.0,\"#f0f921\"]]}],\"heatmapgl\":[{\"type\":\"heatmapgl\",\"colorbar\":{\"outlinewidth\":0,\"ticks\":\"\"},\"colorscale\":[[0.0,\"#0d0887\"],[0.1111111111111111,\"#46039f\"],[0.2222222222222222,\"#7201a8\"],[0.3333333333333333,\"#9c179e\"],[0.4444444444444444,\"#bd3786\"],[0.5555555555555556,\"#d8576b\"],[0.6666666666666666,\"#ed7953\"],[0.7777777777777778,\"#fb9f3a\"],[0.8888888888888888,\"#fdca26\"],[1.0,\"#f0f921\"]]}],\"contourcarpet\":[{\"type\":\"contourcarpet\",\"colorbar\":{\"outlinewidth\":0,\"ticks\":\"\"}}],\"contour\":[{\"type\":\"contour\",\"colorbar\":{\"outlinewidth\":0,\"ticks\":\"\"},\"colorscale\":[[0.0,\"#0d0887\"],[0.1111111111111111,\"#46039f\"],[0.2222222222222222,\"#7201a8\"],[0.3333333333333333,\"#9c179e\"],[0.4444444444444444,\"#bd3786\"],[0.5555555555555556,\"#d8576b\"],[0.6666666666666666,\"#ed7953\"],[0.7777777777777778,\"#fb9f3a\"],[0.8888888888888888,\"#fdca26\"],[1.0,\"#f0f921\"]]}],\"surface\":[{\"type\":\"surface\",\"colorbar\":{\"outlinewidth\":0,\"ticks\":\"\"},\"colorscale\":[[0.0,\"#0d0887\"],[0.1111111111111111,\"#46039f\"],[0.2222222222222222,\"#7201a8\"],[0.3333333333333333,\"#9c179e\"],[0.4444444444444444,\"#bd3786\"],[0.5555555555555556,\"#d8576b\"],[0.6666666666666666,\"#ed7953\"],[0.7777777777777778,\"#fb9f3a\"],[0.8888888888888888,\"#fdca26\"],[1.0,\"#f0f921\"]]}],\"mesh3d\":[{\"type\":\"mesh3d\",\"colorbar\":{\"outlinewidth\":0,\"ticks\":\"\"}}],\"scatter\":[{\"fillpattern\":{\"fillmode\":\"overlay\",\"size\":10,\"solidity\":0.2},\"type\":\"scatter\"}],\"parcoords\":[{\"type\":\"parcoords\",\"line\":{\"colorbar\":{\"outlinewidth\":0,\"ticks\":\"\"}}}],\"scatterpolargl\":[{\"type\":\"scatterpolargl\",\"marker\":{\"colorbar\":{\"outlinewidth\":0,\"ticks\":\"\"}}}],\"bar\":[{\"error_x\":{\"color\":\"#2a3f5f\"},\"error_y\":{\"color\":\"#2a3f5f\"},\"marker\":{\"line\":{\"color\":\"#E5ECF6\",\"width\":0.5},\"pattern\":{\"fillmode\":\"overlay\",\"size\":10,\"solidity\":0.2}},\"type\":\"bar\"}],\"scattergeo\":[{\"type\":\"scattergeo\",\"marker\":{\"colorbar\":{\"outlinewidth\":0,\"ticks\":\"\"}}}],\"scatterpolar\":[{\"type\":\"scatterpolar\",\"marker\":{\"colorbar\":{\"outlinewidth\":0,\"ticks\":\"\"}}}],\"histogram\":[{\"marker\":{\"pattern\":{\"fillmode\":\"overlay\",\"size\":10,\"solidity\":0.2}},\"type\":\"histogram\"}],\"scattergl\":[{\"type\":\"scattergl\",\"marker\":{\"colorbar\":{\"outlinewidth\":0,\"ticks\":\"\"}}}],\"scatter3d\":[{\"type\":\"scatter3d\",\"line\":{\"colorbar\":{\"outlinewidth\":0,\"ticks\":\"\"}},\"marker\":{\"colorbar\":{\"outlinewidth\":0,\"ticks\":\"\"}}}],\"scattermapbox\":[{\"type\":\"scattermapbox\",\"marker\":{\"colorbar\":{\"outlinewidth\":0,\"ticks\":\"\"}}}],\"scatterternary\":[{\"type\":\"scatterternary\",\"marker\":{\"colorbar\":{\"outlinewidth\":0,\"ticks\":\"\"}}}],\"scattercarpet\":[{\"type\":\"scattercarpet\",\"marker\":{\"colorbar\":{\"outlinewidth\":0,\"ticks\":\"\"}}}],\"carpet\":[{\"aaxis\":{\"endlinecolor\":\"#2a3f5f\",\"gridcolor\":\"white\",\"linecolor\":\"white\",\"minorgridcolor\":\"white\",\"startlinecolor\":\"#2a3f5f\"},\"baxis\":{\"endlinecolor\":\"#2a3f5f\",\"gridcolor\":\"white\",\"linecolor\":\"white\",\"minorgridcolor\":\"white\",\"startlinecolor\":\"#2a3f5f\"},\"type\":\"carpet\"}],\"table\":[{\"cells\":{\"fill\":{\"color\":\"#EBF0F8\"},\"line\":{\"color\":\"white\"}},\"header\":{\"fill\":{\"color\":\"#C8D4E3\"},\"line\":{\"color\":\"white\"}},\"type\":\"table\"}],\"barpolar\":[{\"marker\":{\"line\":{\"color\":\"#E5ECF6\",\"width\":0.5},\"pattern\":{\"fillmode\":\"overlay\",\"size\":10,\"solidity\":0.2}},\"type\":\"barpolar\"}],\"pie\":[{\"automargin\":true,\"type\":\"pie\"}]},\"layout\":{\"autotypenumbers\":\"strict\",\"colorway\":[\"#636efa\",\"#EF553B\",\"#00cc96\",\"#ab63fa\",\"#FFA15A\",\"#19d3f3\",\"#FF6692\",\"#B6E880\",\"#FF97FF\",\"#FECB52\"],\"font\":{\"color\":\"#2a3f5f\"},\"hovermode\":\"closest\",\"hoverlabel\":{\"align\":\"left\"},\"paper_bgcolor\":\"white\",\"plot_bgcolor\":\"#E5ECF6\",\"polar\":{\"bgcolor\":\"#E5ECF6\",\"angularaxis\":{\"gridcolor\":\"white\",\"linecolor\":\"white\",\"ticks\":\"\"},\"radialaxis\":{\"gridcolor\":\"white\",\"linecolor\":\"white\",\"ticks\":\"\"}},\"ternary\":{\"bgcolor\":\"#E5ECF6\",\"aaxis\":{\"gridcolor\":\"white\",\"linecolor\":\"white\",\"ticks\":\"\"},\"baxis\":{\"gridcolor\":\"white\",\"linecolor\":\"white\",\"ticks\":\"\"},\"caxis\":{\"gridcolor\":\"white\",\"linecolor\":\"white\",\"ticks\":\"\"}},\"coloraxis\":{\"colorbar\":{\"outlinewidth\":0,\"ticks\":\"\"}},\"colorscale\":{\"sequential\":[[0.0,\"#0d0887\"],[0.1111111111111111,\"#46039f\"],[0.2222222222222222,\"#7201a8\"],[0.3333333333333333,\"#9c179e\"],[0.4444444444444444,\"#bd3786\"],[0.5555555555555556,\"#d8576b\"],[0.6666666666666666,\"#ed7953\"],[0.7777777777777778,\"#fb9f3a\"],[0.8888888888888888,\"#fdca26\"],[1.0,\"#f0f921\"]],\"sequentialminus\":[[0.0,\"#0d0887\"],[0.1111111111111111,\"#46039f\"],[0.2222222222222222,\"#7201a8\"],[0.3333333333333333,\"#9c179e\"],[0.4444444444444444,\"#bd3786\"],[0.5555555555555556,\"#d8576b\"],[0.6666666666666666,\"#ed7953\"],[0.7777777777777778,\"#fb9f3a\"],[0.8888888888888888,\"#fdca26\"],[1.0,\"#f0f921\"]],\"diverging\":[[0,\"#8e0152\"],[0.1,\"#c51b7d\"],[0.2,\"#de77ae\"],[0.3,\"#f1b6da\"],[0.4,\"#fde0ef\"],[0.5,\"#f7f7f7\"],[0.6,\"#e6f5d0\"],[0.7,\"#b8e186\"],[0.8,\"#7fbc41\"],[0.9,\"#4d9221\"],[1,\"#276419\"]]},\"xaxis\":{\"gridcolor\":\"white\",\"linecolor\":\"white\",\"ticks\":\"\",\"title\":{\"standoff\":15},\"zerolinecolor\":\"white\",\"automargin\":true,\"zerolinewidth\":2},\"yaxis\":{\"gridcolor\":\"white\",\"linecolor\":\"white\",\"ticks\":\"\",\"title\":{\"standoff\":15},\"zerolinecolor\":\"white\",\"automargin\":true,\"zerolinewidth\":2},\"scene\":{\"xaxis\":{\"backgroundcolor\":\"#E5ECF6\",\"gridcolor\":\"white\",\"linecolor\":\"white\",\"showbackground\":true,\"ticks\":\"\",\"zerolinecolor\":\"white\",\"gridwidth\":2},\"yaxis\":{\"backgroundcolor\":\"#E5ECF6\",\"gridcolor\":\"white\",\"linecolor\":\"white\",\"showbackground\":true,\"ticks\":\"\",\"zerolinecolor\":\"white\",\"gridwidth\":2},\"zaxis\":{\"backgroundcolor\":\"#E5ECF6\",\"gridcolor\":\"white\",\"linecolor\":\"white\",\"showbackground\":true,\"ticks\":\"\",\"zerolinecolor\":\"white\",\"gridwidth\":2}},\"shapedefaults\":{\"line\":{\"color\":\"#2a3f5f\"}},\"annotationdefaults\":{\"arrowcolor\":\"#2a3f5f\",\"arrowhead\":0,\"arrowwidth\":1},\"geo\":{\"bgcolor\":\"white\",\"landcolor\":\"#E5ECF6\",\"subunitcolor\":\"white\",\"showland\":true,\"showlakes\":true,\"lakecolor\":\"white\"},\"title\":{\"x\":0.05},\"mapbox\":{\"style\":\"light\"}}},\"xaxis\":{\"anchor\":\"y\",\"domain\":[0.0,1.0],\"title\":{\"text\":\"new_tag\"},\"categoryorder\":\"total descending\",\"categoryarray\":[\"\\u533b\\u5b66\",\"\\u5de5\\u5b66\",\"\\u7406\\u5b66\",\"\\u751f\\u547d\\u79d1\\u5b66\"]},\"yaxis\":{\"anchor\":\"x\",\"domain\":[0.0,1.0],\"title\":{\"text\":\"\\u5206\\u91ce\\u5272\\u5408\"}},\"legend\":{\"title\":{\"text\":\"new_tag\"},\"tracegroupgap\":0},\"margin\":{\"t\":60},\"barmode\":\"relative\"},                        {\"responsive\": true}                    ).then(function(){\n",
              "                            \n",
              "var gd = document.getElementById('3a702228-22c1-49c9-b5f4-88a765ece631');\n",
              "var x = new MutationObserver(function (mutations, observer) {{\n",
              "        var display = window.getComputedStyle(gd).display;\n",
              "        if (!display || display === 'none') {{\n",
              "            console.log([gd, 'removed!']);\n",
              "            Plotly.purge(gd);\n",
              "            observer.disconnect();\n",
              "        }}\n",
              "}});\n",
              "\n",
              "// Listen for the removal of the full notebook cells\n",
              "var notebookContainer = gd.closest('#notebook-container');\n",
              "if (notebookContainer) {{\n",
              "    x.observe(notebookContainer, {childList: true});\n",
              "}}\n",
              "\n",
              "// Listen for the clearing of the current output cell\n",
              "var outputEl = gd.closest('.output');\n",
              "if (outputEl) {{\n",
              "    x.observe(outputEl, {childList: true});\n",
              "}}\n",
              "\n",
              "                        })                };                            </script>        </div>\n",
              "</body>\n",
              "</html>"
            ]
          },
          "metadata": {}
        }
      ]
    },
    {
      "cell_type": "code",
      "source": [
        "two_yaxis_fig = make_subplots(specs=[[{\"secondary_y\": True}]]) \n",
        "\n",
        "two_yaxis_fig.add_trace(go.Bar(x = df_newtag.query('univ_name_x == \"titech\"')['new_tag'],\n",
        "                               y = df_newtag.query('univ_name_x == \"titech\"')['分野割合']*100,\n",
        "                               name='東工大'))\n",
        "\n",
        "two_yaxis_fig.add_trace(go.Bar(x = df_newtag.query('univ_name_x == \"MIT\"')['new_tag'],\n",
        "                               y = df_newtag.query('univ_name_x == \"MIT\"')['分野割合']*100,\n",
        "                               name='MIT'))\n",
        "\n",
        "two_yaxis_fig.add_trace(go.Bar(x = df_newtag.query('univ_name_x == \"Imperial\"')['new_tag'],\n",
        "                               y = df_newtag.query('univ_name_x == \"Imperial\"')['分野割合']*100,\n",
        "                               name='Imperial Colleage London'))\n",
        "\n",
        "two_yaxis_fig.add_trace(go.Bar(x = df_newtag.query('univ_name_x == \"UT\"')['new_tag'],\n",
        "                               y = df_newtag.query('univ_name_x == \"UT\"')['分野割合']*100,\n",
        "                               name='東大'))\n",
        "\n",
        "two_yaxis_fig.add_trace(go.Bar(x = df_newtag.query('univ_name_x == \"kyoto\"')['new_tag'],\n",
        "                               y = df_newtag.query('univ_name_x == \"kyoto\"')['分野割合']*100,\n",
        "                               name='京大'))\n",
        "\n",
        "two_yaxis_fig.add_trace(go.Bar(x = df_newtag.query('univ_name_x == \"osaka\"')['new_tag'],\n",
        "                               y = df_newtag.query('univ_name_x == \"osaka\"')['分野割合']*100,\n",
        "                               name='大阪大'))\n",
        "\n",
        "two_yaxis_fig.add_trace(go.Bar(x = df_newtag.query('univ_name_x == \"tohoku\"')['new_tag'],\n",
        "                               y = df_newtag.query('univ_name_x == \"tohoku\"')['分野割合']*100,\n",
        "                               name='東北大'))\n",
        "two_yaxis_fig.add_trace(go.Bar(x = df_newtag.query('univ_name_x == \"nagoya\"')['new_tag'],\n",
        "                               y = df_newtag.query('univ_name_x == \"nagoya\"')['分野割合']*100,\n",
        "                               name='名古屋大'))\n",
        "\n",
        "two_yaxis_fig.add_trace(go.Bar(x = df_newtag.query('univ_name_x == \"medical\"')['new_tag'],\n",
        "                               y = df_newtag.query('univ_name_x == \"medical\"')['分野割合']*100,\n",
        "                               name='医科歯科大'))\n",
        "\n",
        "two_yaxis_fig.add_trace(go.Bar(x = df_newtag.query('univ_name_x == \"東工大+医科歯科大\"')['new_tag'],\n",
        "                               y = df_newtag.query('univ_name_x == \"東工大+医科歯科大\"')['分野割合']*100,\n",
        "                               name='東工大+医科歯科大'))\n",
        "\n",
        "\n",
        "two_yaxis_fig.update_traces(\n",
        "                  hovertemplate='%{x}: %{y:0.1f}',\n",
        "                  texttemplate='%{y:0.1f}%',\n",
        "                  textposition='outside')\n",
        "\n",
        "two_yaxis_fig.update_layout(\n",
        "    title = '2012~2021年にかけて条件を満たした研究者の分野割合',\n",
        "    \n",
        "    \n",
        ")\n",
        "two_yaxis_fig.show()"
      ],
      "metadata": {
        "colab": {
          "base_uri": "https://localhost:8080/",
          "height": 542
        },
        "id": "BIHc2DQzs6Fw",
        "outputId": "e7c750ab-ccca-42c4-b91a-0445a8095388"
      },
      "execution_count": 73,
      "outputs": [
        {
          "output_type": "display_data",
          "data": {
            "text/html": [
              "<html>\n",
              "<head><meta charset=\"utf-8\" /></head>\n",
              "<body>\n",
              "    <div>            <script src=\"https://cdnjs.cloudflare.com/ajax/libs/mathjax/2.7.5/MathJax.js?config=TeX-AMS-MML_SVG\"></script><script type=\"text/javascript\">if (window.MathJax && window.MathJax.Hub && window.MathJax.Hub.Config) {window.MathJax.Hub.Config({SVG: {font: \"STIX-Web\"}});}</script>                <script type=\"text/javascript\">window.PlotlyConfig = {MathJaxConfig: 'local'};</script>\n",
              "        <script src=\"https://cdn.plot.ly/plotly-2.18.2.min.js\"></script>                <div id=\"0f5a974c-6cd8-42cf-9d1d-53996387e27b\" class=\"plotly-graph-div\" style=\"height:525px; width:100%;\"></div>            <script type=\"text/javascript\">                                    window.PLOTLYENV=window.PLOTLYENV || {};                                    if (document.getElementById(\"0f5a974c-6cd8-42cf-9d1d-53996387e27b\")) {                    Plotly.newPlot(                        \"0f5a974c-6cd8-42cf-9d1d-53996387e27b\",                        [{\"name\":\"\\u6771\\u5de5\\u5927\",\"x\":[\"\\u533b\\u5b66\",\"\\u5de5\\u5b66\",\"\\u7406\\u5b66\",\"\\u751f\\u547d\\u79d1\\u5b66\"],\"y\":[0.546448087431694,54.09836065573771,42.07650273224044,3.278688524590164],\"type\":\"bar\",\"hovertemplate\":\"%{x}: %{y:0.1f}\",\"textposition\":\"outside\",\"texttemplate\":\"%{y:0.1f}%\"},{\"name\":\"MIT\",\"x\":[\"\\u305d\\u306e\\u4ed6\",\"\\u533b\\u5b66\",\"\\u5de5\\u5b66\",\"\\u7406\\u5b66\",\"\\u751f\\u547d\\u79d1\\u5b66\",\"\\u793e\\u4f1a\\u79d1\\u5b66\"],\"y\":[5.617977528089887,11.396468699839486,31.621187800963078,29.213483146067414,19.502407704654896,2.648475120385233],\"type\":\"bar\",\"hovertemplate\":\"%{x}: %{y:0.1f}\",\"textposition\":\"outside\",\"texttemplate\":\"%{y:0.1f}%\"},{\"name\":\"Imperial Colleage London\",\"x\":[\"\\u305d\\u306e\\u4ed6\",\"\\u533b\\u5b66\",\"\\u5de5\\u5b66\",\"\\u7406\\u5b66\",\"\\u751f\\u547d\\u79d1\\u5b66\",\"\\u793e\\u4f1a\\u79d1\\u5b66\"],\"y\":[1.7077798861480076,46.58444022770398,20.49335863377609,20.113851992409867,9.962049335863378,1.1385199240986716],\"type\":\"bar\",\"hovertemplate\":\"%{x}: %{y:0.1f}\",\"textposition\":\"outside\",\"texttemplate\":\"%{y:0.1f}%\"},{\"name\":\"\\u6771\\u5927\",\"x\":[\"\\u305d\\u306e\\u4ed6\",\"\\u533b\\u5b66\",\"\\u5de5\\u5b66\",\"\\u7406\\u5b66\",\"\\u751f\\u547d\\u79d1\\u5b66\",\"\\u793e\\u4f1a\\u79d1\\u5b66\"],\"y\":[3.3128834355828225,21.226993865030675,20.12269938650307,39.75460122699386,12.883435582822086,2.6993865030674846],\"type\":\"bar\",\"hovertemplate\":\"%{x}: %{y:0.1f}\",\"textposition\":\"outside\",\"texttemplate\":\"%{y:0.1f}%\"},{\"name\":\"\\u4eac\\u5927\",\"x\":[\"\\u305d\\u306e\\u4ed6\",\"\\u533b\\u5b66\",\"\\u5de5\\u5b66\",\"\\u7406\\u5b66\",\"\\u751f\\u547d\\u79d1\\u5b66\",\"\\u793e\\u4f1a\\u79d1\\u5b66\"],\"y\":[2.1321961620469083,23.66737739872068,18.336886993603414,39.01918976545842,14.498933901918976,2.345415778251599],\"type\":\"bar\",\"hovertemplate\":\"%{x}: %{y:0.1f}\",\"textposition\":\"outside\",\"texttemplate\":\"%{y:0.1f}%\"},{\"name\":\"\\u5927\\u962a\\u5927\",\"x\":[\"\\u305d\\u306e\\u4ed6\",\"\\u533b\\u5b66\",\"\\u5de5\\u5b66\",\"\\u7406\\u5b66\",\"\\u751f\\u547d\\u79d1\\u5b66\",\"\\u793e\\u4f1a\\u79d1\\u5b66\"],\"y\":[1.728395061728395,32.34567901234568,28.641975308641975,29.876543209876544,6.91358024691358,0.49382716049382713],\"type\":\"bar\",\"hovertemplate\":\"%{x}: %{y:0.1f}\",\"textposition\":\"outside\",\"texttemplate\":\"%{y:0.1f}%\"},{\"name\":\"\\u6771\\u5317\\u5927\",\"x\":[\"\\u305d\\u306e\\u4ed6\",\"\\u533b\\u5b66\",\"\\u5de5\\u5b66\",\"\\u7406\\u5b66\",\"\\u751f\\u547d\\u79d1\\u5b66\",\"\\u793e\\u4f1a\\u79d1\\u5b66\"],\"y\":[0.21052631578947367,26.736842105263158,36.63157894736842,29.68421052631579,6.526315789473684,0.21052631578947367],\"type\":\"bar\",\"hovertemplate\":\"%{x}: %{y:0.1f}\",\"textposition\":\"outside\",\"texttemplate\":\"%{y:0.1f}%\"},{\"name\":\"\\u540d\\u53e4\\u5c4b\\u5927\",\"x\":[\"\\u305d\\u306e\\u4ed6\",\"\\u533b\\u5b66\",\"\\u5de5\\u5b66\",\"\\u7406\\u5b66\",\"\\u751f\\u547d\\u79d1\\u5b66\",\"\\u793e\\u4f1a\\u79d1\\u5b66\"],\"y\":[1.0526315789473684,38.59649122807017,25.964912280701753,29.47368421052631,3.8596491228070176,1.0526315789473684],\"type\":\"bar\",\"hovertemplate\":\"%{x}: %{y:0.1f}\",\"textposition\":\"outside\",\"texttemplate\":\"%{y:0.1f}%\"},{\"name\":\"\\u533b\\u79d1\\u6b6f\\u79d1\\u5927\",\"x\":[\"\\u533b\\u5b66\",\"\\u5de5\\u5b66\",\"\\u7406\\u5b66\",\"\\u751f\\u547d\\u79d1\\u5b66\"],\"y\":[81.08108108108108,8.108108108108109,5.405405405405405,5.405405405405405],\"type\":\"bar\",\"hovertemplate\":\"%{x}: %{y:0.1f}\",\"textposition\":\"outside\",\"texttemplate\":\"%{y:0.1f}%\"},{\"name\":\"\\u6771\\u5de5\\u5927+\\u533b\\u79d1\\u6b6f\\u79d1\\u5927\",\"x\":[\"\\u533b\\u5b66\",\"\\u5de5\\u5b66\",\"\\u7406\\u5b66\",\"\\u751f\\u547d\\u79d1\\u5b66\"],\"y\":[23.73540856031128,40.856031128404666,31.517509727626457,3.8910505836575875],\"type\":\"bar\",\"hovertemplate\":\"%{x}: %{y:0.1f}\",\"textposition\":\"outside\",\"texttemplate\":\"%{y:0.1f}%\"}],                        {\"template\":{\"data\":{\"histogram2dcontour\":[{\"type\":\"histogram2dcontour\",\"colorbar\":{\"outlinewidth\":0,\"ticks\":\"\"},\"colorscale\":[[0.0,\"#0d0887\"],[0.1111111111111111,\"#46039f\"],[0.2222222222222222,\"#7201a8\"],[0.3333333333333333,\"#9c179e\"],[0.4444444444444444,\"#bd3786\"],[0.5555555555555556,\"#d8576b\"],[0.6666666666666666,\"#ed7953\"],[0.7777777777777778,\"#fb9f3a\"],[0.8888888888888888,\"#fdca26\"],[1.0,\"#f0f921\"]]}],\"choropleth\":[{\"type\":\"choropleth\",\"colorbar\":{\"outlinewidth\":0,\"ticks\":\"\"}}],\"histogram2d\":[{\"type\":\"histogram2d\",\"colorbar\":{\"outlinewidth\":0,\"ticks\":\"\"},\"colorscale\":[[0.0,\"#0d0887\"],[0.1111111111111111,\"#46039f\"],[0.2222222222222222,\"#7201a8\"],[0.3333333333333333,\"#9c179e\"],[0.4444444444444444,\"#bd3786\"],[0.5555555555555556,\"#d8576b\"],[0.6666666666666666,\"#ed7953\"],[0.7777777777777778,\"#fb9f3a\"],[0.8888888888888888,\"#fdca26\"],[1.0,\"#f0f921\"]]}],\"heatmap\":[{\"type\":\"heatmap\",\"colorbar\":{\"outlinewidth\":0,\"ticks\":\"\"},\"colorscale\":[[0.0,\"#0d0887\"],[0.1111111111111111,\"#46039f\"],[0.2222222222222222,\"#7201a8\"],[0.3333333333333333,\"#9c179e\"],[0.4444444444444444,\"#bd3786\"],[0.5555555555555556,\"#d8576b\"],[0.6666666666666666,\"#ed7953\"],[0.7777777777777778,\"#fb9f3a\"],[0.8888888888888888,\"#fdca26\"],[1.0,\"#f0f921\"]]}],\"heatmapgl\":[{\"type\":\"heatmapgl\",\"colorbar\":{\"outlinewidth\":0,\"ticks\":\"\"},\"colorscale\":[[0.0,\"#0d0887\"],[0.1111111111111111,\"#46039f\"],[0.2222222222222222,\"#7201a8\"],[0.3333333333333333,\"#9c179e\"],[0.4444444444444444,\"#bd3786\"],[0.5555555555555556,\"#d8576b\"],[0.6666666666666666,\"#ed7953\"],[0.7777777777777778,\"#fb9f3a\"],[0.8888888888888888,\"#fdca26\"],[1.0,\"#f0f921\"]]}],\"contourcarpet\":[{\"type\":\"contourcarpet\",\"colorbar\":{\"outlinewidth\":0,\"ticks\":\"\"}}],\"contour\":[{\"type\":\"contour\",\"colorbar\":{\"outlinewidth\":0,\"ticks\":\"\"},\"colorscale\":[[0.0,\"#0d0887\"],[0.1111111111111111,\"#46039f\"],[0.2222222222222222,\"#7201a8\"],[0.3333333333333333,\"#9c179e\"],[0.4444444444444444,\"#bd3786\"],[0.5555555555555556,\"#d8576b\"],[0.6666666666666666,\"#ed7953\"],[0.7777777777777778,\"#fb9f3a\"],[0.8888888888888888,\"#fdca26\"],[1.0,\"#f0f921\"]]}],\"surface\":[{\"type\":\"surface\",\"colorbar\":{\"outlinewidth\":0,\"ticks\":\"\"},\"colorscale\":[[0.0,\"#0d0887\"],[0.1111111111111111,\"#46039f\"],[0.2222222222222222,\"#7201a8\"],[0.3333333333333333,\"#9c179e\"],[0.4444444444444444,\"#bd3786\"],[0.5555555555555556,\"#d8576b\"],[0.6666666666666666,\"#ed7953\"],[0.7777777777777778,\"#fb9f3a\"],[0.8888888888888888,\"#fdca26\"],[1.0,\"#f0f921\"]]}],\"mesh3d\":[{\"type\":\"mesh3d\",\"colorbar\":{\"outlinewidth\":0,\"ticks\":\"\"}}],\"scatter\":[{\"fillpattern\":{\"fillmode\":\"overlay\",\"size\":10,\"solidity\":0.2},\"type\":\"scatter\"}],\"parcoords\":[{\"type\":\"parcoords\",\"line\":{\"colorbar\":{\"outlinewidth\":0,\"ticks\":\"\"}}}],\"scatterpolargl\":[{\"type\":\"scatterpolargl\",\"marker\":{\"colorbar\":{\"outlinewidth\":0,\"ticks\":\"\"}}}],\"bar\":[{\"error_x\":{\"color\":\"#2a3f5f\"},\"error_y\":{\"color\":\"#2a3f5f\"},\"marker\":{\"line\":{\"color\":\"#E5ECF6\",\"width\":0.5},\"pattern\":{\"fillmode\":\"overlay\",\"size\":10,\"solidity\":0.2}},\"type\":\"bar\"}],\"scattergeo\":[{\"type\":\"scattergeo\",\"marker\":{\"colorbar\":{\"outlinewidth\":0,\"ticks\":\"\"}}}],\"scatterpolar\":[{\"type\":\"scatterpolar\",\"marker\":{\"colorbar\":{\"outlinewidth\":0,\"ticks\":\"\"}}}],\"histogram\":[{\"marker\":{\"pattern\":{\"fillmode\":\"overlay\",\"size\":10,\"solidity\":0.2}},\"type\":\"histogram\"}],\"scattergl\":[{\"type\":\"scattergl\",\"marker\":{\"colorbar\":{\"outlinewidth\":0,\"ticks\":\"\"}}}],\"scatter3d\":[{\"type\":\"scatter3d\",\"line\":{\"colorbar\":{\"outlinewidth\":0,\"ticks\":\"\"}},\"marker\":{\"colorbar\":{\"outlinewidth\":0,\"ticks\":\"\"}}}],\"scattermapbox\":[{\"type\":\"scattermapbox\",\"marker\":{\"colorbar\":{\"outlinewidth\":0,\"ticks\":\"\"}}}],\"scatterternary\":[{\"type\":\"scatterternary\",\"marker\":{\"colorbar\":{\"outlinewidth\":0,\"ticks\":\"\"}}}],\"scattercarpet\":[{\"type\":\"scattercarpet\",\"marker\":{\"colorbar\":{\"outlinewidth\":0,\"ticks\":\"\"}}}],\"carpet\":[{\"aaxis\":{\"endlinecolor\":\"#2a3f5f\",\"gridcolor\":\"white\",\"linecolor\":\"white\",\"minorgridcolor\":\"white\",\"startlinecolor\":\"#2a3f5f\"},\"baxis\":{\"endlinecolor\":\"#2a3f5f\",\"gridcolor\":\"white\",\"linecolor\":\"white\",\"minorgridcolor\":\"white\",\"startlinecolor\":\"#2a3f5f\"},\"type\":\"carpet\"}],\"table\":[{\"cells\":{\"fill\":{\"color\":\"#EBF0F8\"},\"line\":{\"color\":\"white\"}},\"header\":{\"fill\":{\"color\":\"#C8D4E3\"},\"line\":{\"color\":\"white\"}},\"type\":\"table\"}],\"barpolar\":[{\"marker\":{\"line\":{\"color\":\"#E5ECF6\",\"width\":0.5},\"pattern\":{\"fillmode\":\"overlay\",\"size\":10,\"solidity\":0.2}},\"type\":\"barpolar\"}],\"pie\":[{\"automargin\":true,\"type\":\"pie\"}]},\"layout\":{\"autotypenumbers\":\"strict\",\"colorway\":[\"#636efa\",\"#EF553B\",\"#00cc96\",\"#ab63fa\",\"#FFA15A\",\"#19d3f3\",\"#FF6692\",\"#B6E880\",\"#FF97FF\",\"#FECB52\"],\"font\":{\"color\":\"#2a3f5f\"},\"hovermode\":\"closest\",\"hoverlabel\":{\"align\":\"left\"},\"paper_bgcolor\":\"white\",\"plot_bgcolor\":\"#E5ECF6\",\"polar\":{\"bgcolor\":\"#E5ECF6\",\"angularaxis\":{\"gridcolor\":\"white\",\"linecolor\":\"white\",\"ticks\":\"\"},\"radialaxis\":{\"gridcolor\":\"white\",\"linecolor\":\"white\",\"ticks\":\"\"}},\"ternary\":{\"bgcolor\":\"#E5ECF6\",\"aaxis\":{\"gridcolor\":\"white\",\"linecolor\":\"white\",\"ticks\":\"\"},\"baxis\":{\"gridcolor\":\"white\",\"linecolor\":\"white\",\"ticks\":\"\"},\"caxis\":{\"gridcolor\":\"white\",\"linecolor\":\"white\",\"ticks\":\"\"}},\"coloraxis\":{\"colorbar\":{\"outlinewidth\":0,\"ticks\":\"\"}},\"colorscale\":{\"sequential\":[[0.0,\"#0d0887\"],[0.1111111111111111,\"#46039f\"],[0.2222222222222222,\"#7201a8\"],[0.3333333333333333,\"#9c179e\"],[0.4444444444444444,\"#bd3786\"],[0.5555555555555556,\"#d8576b\"],[0.6666666666666666,\"#ed7953\"],[0.7777777777777778,\"#fb9f3a\"],[0.8888888888888888,\"#fdca26\"],[1.0,\"#f0f921\"]],\"sequentialminus\":[[0.0,\"#0d0887\"],[0.1111111111111111,\"#46039f\"],[0.2222222222222222,\"#7201a8\"],[0.3333333333333333,\"#9c179e\"],[0.4444444444444444,\"#bd3786\"],[0.5555555555555556,\"#d8576b\"],[0.6666666666666666,\"#ed7953\"],[0.7777777777777778,\"#fb9f3a\"],[0.8888888888888888,\"#fdca26\"],[1.0,\"#f0f921\"]],\"diverging\":[[0,\"#8e0152\"],[0.1,\"#c51b7d\"],[0.2,\"#de77ae\"],[0.3,\"#f1b6da\"],[0.4,\"#fde0ef\"],[0.5,\"#f7f7f7\"],[0.6,\"#e6f5d0\"],[0.7,\"#b8e186\"],[0.8,\"#7fbc41\"],[0.9,\"#4d9221\"],[1,\"#276419\"]]},\"xaxis\":{\"gridcolor\":\"white\",\"linecolor\":\"white\",\"ticks\":\"\",\"title\":{\"standoff\":15},\"zerolinecolor\":\"white\",\"automargin\":true,\"zerolinewidth\":2},\"yaxis\":{\"gridcolor\":\"white\",\"linecolor\":\"white\",\"ticks\":\"\",\"title\":{\"standoff\":15},\"zerolinecolor\":\"white\",\"automargin\":true,\"zerolinewidth\":2},\"scene\":{\"xaxis\":{\"backgroundcolor\":\"#E5ECF6\",\"gridcolor\":\"white\",\"linecolor\":\"white\",\"showbackground\":true,\"ticks\":\"\",\"zerolinecolor\":\"white\",\"gridwidth\":2},\"yaxis\":{\"backgroundcolor\":\"#E5ECF6\",\"gridcolor\":\"white\",\"linecolor\":\"white\",\"showbackground\":true,\"ticks\":\"\",\"zerolinecolor\":\"white\",\"gridwidth\":2},\"zaxis\":{\"backgroundcolor\":\"#E5ECF6\",\"gridcolor\":\"white\",\"linecolor\":\"white\",\"showbackground\":true,\"ticks\":\"\",\"zerolinecolor\":\"white\",\"gridwidth\":2}},\"shapedefaults\":{\"line\":{\"color\":\"#2a3f5f\"}},\"annotationdefaults\":{\"arrowcolor\":\"#2a3f5f\",\"arrowhead\":0,\"arrowwidth\":1},\"geo\":{\"bgcolor\":\"white\",\"landcolor\":\"#E5ECF6\",\"subunitcolor\":\"white\",\"showland\":true,\"showlakes\":true,\"lakecolor\":\"white\"},\"title\":{\"x\":0.05},\"mapbox\":{\"style\":\"light\"}}},\"xaxis\":{\"anchor\":\"y\",\"domain\":[0.0,0.94]},\"yaxis\":{\"anchor\":\"x\",\"domain\":[0.0,1.0]},\"yaxis2\":{\"anchor\":\"x\",\"overlaying\":\"y\",\"side\":\"right\"},\"title\":{\"text\":\"2012~2021\\u5e74\\u306b\\u304b\\u3051\\u3066\\u6761\\u4ef6\\u3092\\u6e80\\u305f\\u3057\\u305f\\u7814\\u7a76\\u8005\\u306e\\u5206\\u91ce\\u5272\\u5408\"}},                        {\"responsive\": true}                    ).then(function(){\n",
              "                            \n",
              "var gd = document.getElementById('0f5a974c-6cd8-42cf-9d1d-53996387e27b');\n",
              "var x = new MutationObserver(function (mutations, observer) {{\n",
              "        var display = window.getComputedStyle(gd).display;\n",
              "        if (!display || display === 'none') {{\n",
              "            console.log([gd, 'removed!']);\n",
              "            Plotly.purge(gd);\n",
              "            observer.disconnect();\n",
              "        }}\n",
              "}});\n",
              "\n",
              "// Listen for the removal of the full notebook cells\n",
              "var notebookContainer = gd.closest('#notebook-container');\n",
              "if (notebookContainer) {{\n",
              "    x.observe(notebookContainer, {childList: true});\n",
              "}}\n",
              "\n",
              "// Listen for the clearing of the current output cell\n",
              "var outputEl = gd.closest('.output');\n",
              "if (outputEl) {{\n",
              "    x.observe(outputEl, {childList: true});\n",
              "}}\n",
              "\n",
              "                        })                };                            </script>        </div>\n",
              "</body>\n",
              "</html>"
            ]
          },
          "metadata": {}
        }
      ]
    },
    {
      "cell_type": "code",
      "source": [
        "d1_order = {'東工大': 9, '東工大+医科歯科大':8,'MIT': 7,'Imperial College London': 6, '東大': 5,'京大':4,'阪大':3,'東北大':2,'名古屋大':1, '東京医科歯科大':0}\n",
        "df_newtag.loc[df_newtag['univ_name_x'] == 'titech','univ_name_x'] = '東工大'\n",
        "df_newtag.loc[df_newtag['univ_name_x'] == 'Imperial','univ_name_x'] = 'Imperial College London'\n",
        "df_newtag.loc[df_newtag['univ_name_x'] == 'UT','univ_name_x'] = '東大'\n",
        "df_newtag.loc[df_newtag['univ_name_x'] == 'kyoto','univ_name_x'] = '京大'\n",
        "df_newtag.loc[df_newtag['univ_name_x'] == 'osaka','univ_name_x'] = '阪大'\n",
        "df_newtag.loc[df_newtag['univ_name_x'] == 'tohoku','univ_name_x'] = '東北大'\n",
        "df_newtag.loc[df_newtag['univ_name_x'] == 'nagoya','univ_name_x'] = '名古屋大'\n",
        "df_newtag.loc[df_newtag['univ_name_x'] == 'medical','univ_name_x'] = '東京医科歯科大'\n",
        "df_newtag.loc[df_newtag['univ_name_x'] == 'titech+medical','univ_name_x'] = '東工大+医科歯科大'\n",
        "\n",
        "df_newtag['order'] = df_newtag['univ_name_x'].map(d1_order)\n",
        "df_newtag = df_newtag.sort_values('order')"
      ],
      "metadata": {
        "id": "ubamUxXZi4Aj"
      },
      "execution_count": 74,
      "outputs": []
    },
    {
      "cell_type": "code",
      "source": [
        "df_newtag.rename(columns={'univ_name_x' : '大学名', 'new_tag' : '分野'},inplace=True)"
      ],
      "metadata": {
        "id": "OUvO2zpiqYwB"
      },
      "execution_count": 75,
      "outputs": []
    },
    {
      "cell_type": "code",
      "source": [
        "df_newtag.head()"
      ],
      "metadata": {
        "colab": {
          "base_uri": "https://localhost:8080/",
          "height": 510
        },
        "id": "b00aQRpBrspD",
        "outputId": "49f5e7a5-51a6-47ca-a3c7-6d2422706026"
      },
      "execution_count": 76,
      "outputs": [
        {
          "output_type": "execute_result",
          "data": {
            "text/plain": [
              "        大学名    分野  Unnamed: 0  Scopus Author Ids  start_year  end_year  \\\n",
              "26  東京医科歯科大    理学        1120        56941318221        8062      8070   \n",
              "27  東京医科歯科大  生命科学        1859        79026570564        8058      8066   \n",
              "25  東京医科歯科大    工学        1926       216179686436       12087     12099   \n",
              "24  東京医科歯科大    医学       15966      1527326914803      120908    121028   \n",
              "31     名古屋大    理学       71659      2479054782631      169175    169343   \n",
              "\n",
              "    All Science Journal Classification (ASJC) code  researcher_num_x  \\\n",
              "26                                              61                 4   \n",
              "27                                              77                 4   \n",
              "25                                             141                 6   \n",
              "24                                            1651                60   \n",
              "31                                            2345                84   \n",
              "\n",
              "    researcher_num_y      分野割合  order  \n",
              "26                74  0.054054      0  \n",
              "27                74  0.054054      0  \n",
              "25                74  0.081081      0  \n",
              "24                74  0.810811      0  \n",
              "31               285  0.294737      1  "
            ],
            "text/html": [
              "\n",
              "  <div id=\"df-50308ad1-a171-4d0f-9908-ea446089d49b\">\n",
              "    <div class=\"colab-df-container\">\n",
              "      <div>\n",
              "<style scoped>\n",
              "    .dataframe tbody tr th:only-of-type {\n",
              "        vertical-align: middle;\n",
              "    }\n",
              "\n",
              "    .dataframe tbody tr th {\n",
              "        vertical-align: top;\n",
              "    }\n",
              "\n",
              "    .dataframe thead th {\n",
              "        text-align: right;\n",
              "    }\n",
              "</style>\n",
              "<table border=\"1\" class=\"dataframe\">\n",
              "  <thead>\n",
              "    <tr style=\"text-align: right;\">\n",
              "      <th></th>\n",
              "      <th>大学名</th>\n",
              "      <th>分野</th>\n",
              "      <th>Unnamed: 0</th>\n",
              "      <th>Scopus Author Ids</th>\n",
              "      <th>start_year</th>\n",
              "      <th>end_year</th>\n",
              "      <th>All Science Journal Classification (ASJC) code</th>\n",
              "      <th>researcher_num_x</th>\n",
              "      <th>researcher_num_y</th>\n",
              "      <th>分野割合</th>\n",
              "      <th>order</th>\n",
              "    </tr>\n",
              "  </thead>\n",
              "  <tbody>\n",
              "    <tr>\n",
              "      <th>26</th>\n",
              "      <td>東京医科歯科大</td>\n",
              "      <td>理学</td>\n",
              "      <td>1120</td>\n",
              "      <td>56941318221</td>\n",
              "      <td>8062</td>\n",
              "      <td>8070</td>\n",
              "      <td>61</td>\n",
              "      <td>4</td>\n",
              "      <td>74</td>\n",
              "      <td>0.054054</td>\n",
              "      <td>0</td>\n",
              "    </tr>\n",
              "    <tr>\n",
              "      <th>27</th>\n",
              "      <td>東京医科歯科大</td>\n",
              "      <td>生命科学</td>\n",
              "      <td>1859</td>\n",
              "      <td>79026570564</td>\n",
              "      <td>8058</td>\n",
              "      <td>8066</td>\n",
              "      <td>77</td>\n",
              "      <td>4</td>\n",
              "      <td>74</td>\n",
              "      <td>0.054054</td>\n",
              "      <td>0</td>\n",
              "    </tr>\n",
              "    <tr>\n",
              "      <th>25</th>\n",
              "      <td>東京医科歯科大</td>\n",
              "      <td>工学</td>\n",
              "      <td>1926</td>\n",
              "      <td>216179686436</td>\n",
              "      <td>12087</td>\n",
              "      <td>12099</td>\n",
              "      <td>141</td>\n",
              "      <td>6</td>\n",
              "      <td>74</td>\n",
              "      <td>0.081081</td>\n",
              "      <td>0</td>\n",
              "    </tr>\n",
              "    <tr>\n",
              "      <th>24</th>\n",
              "      <td>東京医科歯科大</td>\n",
              "      <td>医学</td>\n",
              "      <td>15966</td>\n",
              "      <td>1527326914803</td>\n",
              "      <td>120908</td>\n",
              "      <td>121028</td>\n",
              "      <td>1651</td>\n",
              "      <td>60</td>\n",
              "      <td>74</td>\n",
              "      <td>0.810811</td>\n",
              "      <td>0</td>\n",
              "    </tr>\n",
              "    <tr>\n",
              "      <th>31</th>\n",
              "      <td>名古屋大</td>\n",
              "      <td>理学</td>\n",
              "      <td>71659</td>\n",
              "      <td>2479054782631</td>\n",
              "      <td>169175</td>\n",
              "      <td>169343</td>\n",
              "      <td>2345</td>\n",
              "      <td>84</td>\n",
              "      <td>285</td>\n",
              "      <td>0.294737</td>\n",
              "      <td>1</td>\n",
              "    </tr>\n",
              "  </tbody>\n",
              "</table>\n",
              "</div>\n",
              "      <button class=\"colab-df-convert\" onclick=\"convertToInteractive('df-50308ad1-a171-4d0f-9908-ea446089d49b')\"\n",
              "              title=\"Convert this dataframe to an interactive table.\"\n",
              "              style=\"display:none;\">\n",
              "        \n",
              "  <svg xmlns=\"http://www.w3.org/2000/svg\" height=\"24px\"viewBox=\"0 0 24 24\"\n",
              "       width=\"24px\">\n",
              "    <path d=\"M0 0h24v24H0V0z\" fill=\"none\"/>\n",
              "    <path d=\"M18.56 5.44l.94 2.06.94-2.06 2.06-.94-2.06-.94-.94-2.06-.94 2.06-2.06.94zm-11 1L8.5 8.5l.94-2.06 2.06-.94-2.06-.94L8.5 2.5l-.94 2.06-2.06.94zm10 10l.94 2.06.94-2.06 2.06-.94-2.06-.94-.94-2.06-.94 2.06-2.06.94z\"/><path d=\"M17.41 7.96l-1.37-1.37c-.4-.4-.92-.59-1.43-.59-.52 0-1.04.2-1.43.59L10.3 9.45l-7.72 7.72c-.78.78-.78 2.05 0 2.83L4 21.41c.39.39.9.59 1.41.59.51 0 1.02-.2 1.41-.59l7.78-7.78 2.81-2.81c.8-.78.8-2.07 0-2.86zM5.41 20L4 18.59l7.72-7.72 1.47 1.35L5.41 20z\"/>\n",
              "  </svg>\n",
              "      </button>\n",
              "      \n",
              "  <style>\n",
              "    .colab-df-container {\n",
              "      display:flex;\n",
              "      flex-wrap:wrap;\n",
              "      gap: 12px;\n",
              "    }\n",
              "\n",
              "    .colab-df-convert {\n",
              "      background-color: #E8F0FE;\n",
              "      border: none;\n",
              "      border-radius: 50%;\n",
              "      cursor: pointer;\n",
              "      display: none;\n",
              "      fill: #1967D2;\n",
              "      height: 32px;\n",
              "      padding: 0 0 0 0;\n",
              "      width: 32px;\n",
              "    }\n",
              "\n",
              "    .colab-df-convert:hover {\n",
              "      background-color: #E2EBFA;\n",
              "      box-shadow: 0px 1px 2px rgba(60, 64, 67, 0.3), 0px 1px 3px 1px rgba(60, 64, 67, 0.15);\n",
              "      fill: #174EA6;\n",
              "    }\n",
              "\n",
              "    [theme=dark] .colab-df-convert {\n",
              "      background-color: #3B4455;\n",
              "      fill: #D2E3FC;\n",
              "    }\n",
              "\n",
              "    [theme=dark] .colab-df-convert:hover {\n",
              "      background-color: #434B5C;\n",
              "      box-shadow: 0px 1px 3px 1px rgba(0, 0, 0, 0.15);\n",
              "      filter: drop-shadow(0px 1px 2px rgba(0, 0, 0, 0.3));\n",
              "      fill: #FFFFFF;\n",
              "    }\n",
              "  </style>\n",
              "\n",
              "      <script>\n",
              "        const buttonEl =\n",
              "          document.querySelector('#df-50308ad1-a171-4d0f-9908-ea446089d49b button.colab-df-convert');\n",
              "        buttonEl.style.display =\n",
              "          google.colab.kernel.accessAllowed ? 'block' : 'none';\n",
              "\n",
              "        async function convertToInteractive(key) {\n",
              "          const element = document.querySelector('#df-50308ad1-a171-4d0f-9908-ea446089d49b');\n",
              "          const dataTable =\n",
              "            await google.colab.kernel.invokeFunction('convertToInteractive',\n",
              "                                                     [key], {});\n",
              "          if (!dataTable) return;\n",
              "\n",
              "          const docLinkHtml = 'Like what you see? Visit the ' +\n",
              "            '<a target=\"_blank\" href=https://colab.research.google.com/notebooks/data_table.ipynb>data table notebook</a>'\n",
              "            + ' to learn more about interactive tables.';\n",
              "          element.innerHTML = '';\n",
              "          dataTable['output_type'] = 'display_data';\n",
              "          await google.colab.output.renderOutput(dataTable, element);\n",
              "          const docLink = document.createElement('div');\n",
              "          docLink.innerHTML = docLinkHtml;\n",
              "          element.appendChild(docLink);\n",
              "        }\n",
              "      </script>\n",
              "    </div>\n",
              "  </div>\n",
              "  "
            ]
          },
          "metadata": {},
          "execution_count": 76
        }
      ]
    },
    {
      "cell_type": "code",
      "source": [
        "import math\n",
        "df_newtag['分野割合(%)'] = df_newtag['分野割合']*100\n"
      ],
      "metadata": {
        "id": "ikT1bvcvSb_N"
      },
      "execution_count": 77,
      "outputs": []
    },
    {
      "cell_type": "code",
      "source": [
        "df_newtag.head()"
      ],
      "metadata": {
        "colab": {
          "base_uri": "https://localhost:8080/",
          "height": 771
        },
        "id": "mXZ6SgMnU-az",
        "outputId": "6f73243f-a267-46e1-f131-863655a56404"
      },
      "execution_count": 78,
      "outputs": [
        {
          "output_type": "execute_result",
          "data": {
            "text/plain": [
              "        大学名    分野  Unnamed: 0  Scopus Author Ids  start_year  end_year  \\\n",
              "26  東京医科歯科大    理学        1120        56941318221        8062      8070   \n",
              "27  東京医科歯科大  生命科学        1859        79026570564        8058      8066   \n",
              "25  東京医科歯科大    工学        1926       216179686436       12087     12099   \n",
              "24  東京医科歯科大    医学       15966      1527326914803      120908    121028   \n",
              "31     名古屋大    理学       71659      2479054782631      169175    169343   \n",
              "\n",
              "    All Science Journal Classification (ASJC) code  researcher_num_x  \\\n",
              "26                                              61                 4   \n",
              "27                                              77                 4   \n",
              "25                                             141                 6   \n",
              "24                                            1651                60   \n",
              "31                                            2345                84   \n",
              "\n",
              "    researcher_num_y      分野割合  order    分野割合(%)  \n",
              "26                74  0.054054      0   5.405405  \n",
              "27                74  0.054054      0   5.405405  \n",
              "25                74  0.081081      0   8.108108  \n",
              "24                74  0.810811      0  81.081081  \n",
              "31               285  0.294737      1  29.473684  "
            ],
            "text/html": [
              "\n",
              "  <div id=\"df-650b5041-e5ea-4af9-938c-202a9f9d497d\">\n",
              "    <div class=\"colab-df-container\">\n",
              "      <div>\n",
              "<style scoped>\n",
              "    .dataframe tbody tr th:only-of-type {\n",
              "        vertical-align: middle;\n",
              "    }\n",
              "\n",
              "    .dataframe tbody tr th {\n",
              "        vertical-align: top;\n",
              "    }\n",
              "\n",
              "    .dataframe thead th {\n",
              "        text-align: right;\n",
              "    }\n",
              "</style>\n",
              "<table border=\"1\" class=\"dataframe\">\n",
              "  <thead>\n",
              "    <tr style=\"text-align: right;\">\n",
              "      <th></th>\n",
              "      <th>大学名</th>\n",
              "      <th>分野</th>\n",
              "      <th>Unnamed: 0</th>\n",
              "      <th>Scopus Author Ids</th>\n",
              "      <th>start_year</th>\n",
              "      <th>end_year</th>\n",
              "      <th>All Science Journal Classification (ASJC) code</th>\n",
              "      <th>researcher_num_x</th>\n",
              "      <th>researcher_num_y</th>\n",
              "      <th>分野割合</th>\n",
              "      <th>order</th>\n",
              "      <th>分野割合(%)</th>\n",
              "    </tr>\n",
              "  </thead>\n",
              "  <tbody>\n",
              "    <tr>\n",
              "      <th>26</th>\n",
              "      <td>東京医科歯科大</td>\n",
              "      <td>理学</td>\n",
              "      <td>1120</td>\n",
              "      <td>56941318221</td>\n",
              "      <td>8062</td>\n",
              "      <td>8070</td>\n",
              "      <td>61</td>\n",
              "      <td>4</td>\n",
              "      <td>74</td>\n",
              "      <td>0.054054</td>\n",
              "      <td>0</td>\n",
              "      <td>5.405405</td>\n",
              "    </tr>\n",
              "    <tr>\n",
              "      <th>27</th>\n",
              "      <td>東京医科歯科大</td>\n",
              "      <td>生命科学</td>\n",
              "      <td>1859</td>\n",
              "      <td>79026570564</td>\n",
              "      <td>8058</td>\n",
              "      <td>8066</td>\n",
              "      <td>77</td>\n",
              "      <td>4</td>\n",
              "      <td>74</td>\n",
              "      <td>0.054054</td>\n",
              "      <td>0</td>\n",
              "      <td>5.405405</td>\n",
              "    </tr>\n",
              "    <tr>\n",
              "      <th>25</th>\n",
              "      <td>東京医科歯科大</td>\n",
              "      <td>工学</td>\n",
              "      <td>1926</td>\n",
              "      <td>216179686436</td>\n",
              "      <td>12087</td>\n",
              "      <td>12099</td>\n",
              "      <td>141</td>\n",
              "      <td>6</td>\n",
              "      <td>74</td>\n",
              "      <td>0.081081</td>\n",
              "      <td>0</td>\n",
              "      <td>8.108108</td>\n",
              "    </tr>\n",
              "    <tr>\n",
              "      <th>24</th>\n",
              "      <td>東京医科歯科大</td>\n",
              "      <td>医学</td>\n",
              "      <td>15966</td>\n",
              "      <td>1527326914803</td>\n",
              "      <td>120908</td>\n",
              "      <td>121028</td>\n",
              "      <td>1651</td>\n",
              "      <td>60</td>\n",
              "      <td>74</td>\n",
              "      <td>0.810811</td>\n",
              "      <td>0</td>\n",
              "      <td>81.081081</td>\n",
              "    </tr>\n",
              "    <tr>\n",
              "      <th>31</th>\n",
              "      <td>名古屋大</td>\n",
              "      <td>理学</td>\n",
              "      <td>71659</td>\n",
              "      <td>2479054782631</td>\n",
              "      <td>169175</td>\n",
              "      <td>169343</td>\n",
              "      <td>2345</td>\n",
              "      <td>84</td>\n",
              "      <td>285</td>\n",
              "      <td>0.294737</td>\n",
              "      <td>1</td>\n",
              "      <td>29.473684</td>\n",
              "    </tr>\n",
              "  </tbody>\n",
              "</table>\n",
              "</div>\n",
              "      <button class=\"colab-df-convert\" onclick=\"convertToInteractive('df-650b5041-e5ea-4af9-938c-202a9f9d497d')\"\n",
              "              title=\"Convert this dataframe to an interactive table.\"\n",
              "              style=\"display:none;\">\n",
              "        \n",
              "  <svg xmlns=\"http://www.w3.org/2000/svg\" height=\"24px\"viewBox=\"0 0 24 24\"\n",
              "       width=\"24px\">\n",
              "    <path d=\"M0 0h24v24H0V0z\" fill=\"none\"/>\n",
              "    <path d=\"M18.56 5.44l.94 2.06.94-2.06 2.06-.94-2.06-.94-.94-2.06-.94 2.06-2.06.94zm-11 1L8.5 8.5l.94-2.06 2.06-.94-2.06-.94L8.5 2.5l-.94 2.06-2.06.94zm10 10l.94 2.06.94-2.06 2.06-.94-2.06-.94-.94-2.06-.94 2.06-2.06.94z\"/><path d=\"M17.41 7.96l-1.37-1.37c-.4-.4-.92-.59-1.43-.59-.52 0-1.04.2-1.43.59L10.3 9.45l-7.72 7.72c-.78.78-.78 2.05 0 2.83L4 21.41c.39.39.9.59 1.41.59.51 0 1.02-.2 1.41-.59l7.78-7.78 2.81-2.81c.8-.78.8-2.07 0-2.86zM5.41 20L4 18.59l7.72-7.72 1.47 1.35L5.41 20z\"/>\n",
              "  </svg>\n",
              "      </button>\n",
              "      \n",
              "  <style>\n",
              "    .colab-df-container {\n",
              "      display:flex;\n",
              "      flex-wrap:wrap;\n",
              "      gap: 12px;\n",
              "    }\n",
              "\n",
              "    .colab-df-convert {\n",
              "      background-color: #E8F0FE;\n",
              "      border: none;\n",
              "      border-radius: 50%;\n",
              "      cursor: pointer;\n",
              "      display: none;\n",
              "      fill: #1967D2;\n",
              "      height: 32px;\n",
              "      padding: 0 0 0 0;\n",
              "      width: 32px;\n",
              "    }\n",
              "\n",
              "    .colab-df-convert:hover {\n",
              "      background-color: #E2EBFA;\n",
              "      box-shadow: 0px 1px 2px rgba(60, 64, 67, 0.3), 0px 1px 3px 1px rgba(60, 64, 67, 0.15);\n",
              "      fill: #174EA6;\n",
              "    }\n",
              "\n",
              "    [theme=dark] .colab-df-convert {\n",
              "      background-color: #3B4455;\n",
              "      fill: #D2E3FC;\n",
              "    }\n",
              "\n",
              "    [theme=dark] .colab-df-convert:hover {\n",
              "      background-color: #434B5C;\n",
              "      box-shadow: 0px 1px 3px 1px rgba(0, 0, 0, 0.15);\n",
              "      filter: drop-shadow(0px 1px 2px rgba(0, 0, 0, 0.3));\n",
              "      fill: #FFFFFF;\n",
              "    }\n",
              "  </style>\n",
              "\n",
              "      <script>\n",
              "        const buttonEl =\n",
              "          document.querySelector('#df-650b5041-e5ea-4af9-938c-202a9f9d497d button.colab-df-convert');\n",
              "        buttonEl.style.display =\n",
              "          google.colab.kernel.accessAllowed ? 'block' : 'none';\n",
              "\n",
              "        async function convertToInteractive(key) {\n",
              "          const element = document.querySelector('#df-650b5041-e5ea-4af9-938c-202a9f9d497d');\n",
              "          const dataTable =\n",
              "            await google.colab.kernel.invokeFunction('convertToInteractive',\n",
              "                                                     [key], {});\n",
              "          if (!dataTable) return;\n",
              "\n",
              "          const docLinkHtml = 'Like what you see? Visit the ' +\n",
              "            '<a target=\"_blank\" href=https://colab.research.google.com/notebooks/data_table.ipynb>data table notebook</a>'\n",
              "            + ' to learn more about interactive tables.';\n",
              "          element.innerHTML = '';\n",
              "          dataTable['output_type'] = 'display_data';\n",
              "          await google.colab.output.renderOutput(dataTable, element);\n",
              "          const docLink = document.createElement('div');\n",
              "          docLink.innerHTML = docLinkHtml;\n",
              "          element.appendChild(docLink);\n",
              "        }\n",
              "      </script>\n",
              "    </div>\n",
              "  </div>\n",
              "  "
            ]
          },
          "metadata": {},
          "execution_count": 78
        }
      ]
    },
    {
      "cell_type": "code",
      "source": [
        "for u,t,p in zip(df_newtag['大学名'],df_newtag['分野'],df_newtag['分野割合(%)']):\n",
        "  print(f'{u}の{t}分野の優秀な研究者は{p}%です')"
      ],
      "metadata": {
        "colab": {
          "base_uri": "https://localhost:8080/",
          "height": 0
        },
        "id": "t-uy0uHhoDxD",
        "outputId": "ebbfb782-ab97-4bc2-d2ea-6ccc36f8cd57"
      },
      "execution_count": 79,
      "outputs": [
        {
          "output_type": "stream",
          "name": "stdout",
          "text": [
            "東京医科歯科大の理学分野の優秀な研究者は5.405405405405405%です\n",
            "東京医科歯科大の生命科学分野の優秀な研究者は5.405405405405405%です\n",
            "東京医科歯科大の工学分野の優秀な研究者は8.108108108108109%です\n",
            "東京医科歯科大の医学分野の優秀な研究者は81.08108108108108%です\n",
            "名古屋大の理学分野の優秀な研究者は29.47368421052631%です\n",
            "名古屋大の工学分野の優秀な研究者は25.964912280701753%です\n",
            "名古屋大の医学分野の優秀な研究者は38.59649122807017%です\n",
            "名古屋大のその他分野の優秀な研究者は1.0526315789473684%です\n",
            "名古屋大の生命科学分野の優秀な研究者は3.8596491228070176%です\n",
            "名古屋大の社会科学分野の優秀な研究者は1.0526315789473684%です\n",
            "東北大の社会科学分野の優秀な研究者は0.21052631578947367%です\n",
            "東北大の生命科学分野の優秀な研究者は6.526315789473684%です\n",
            "東北大の理学分野の優秀な研究者は29.68421052631579%です\n",
            "東北大の工学分野の優秀な研究者は36.63157894736842%です\n",
            "東北大の医学分野の優秀な研究者は26.736842105263158%です\n",
            "東北大のその他分野の優秀な研究者は0.21052631578947367%です\n",
            "阪大の工学分野の優秀な研究者は28.641975308641975%です\n",
            "阪大の医学分野の優秀な研究者は32.34567901234568%です\n",
            "阪大の生命科学分野の優秀な研究者は6.91358024691358%です\n",
            "阪大のその他分野の優秀な研究者は1.728395061728395%です\n",
            "阪大の社会科学分野の優秀な研究者は0.49382716049382713%です\n",
            "阪大の理学分野の優秀な研究者は29.876543209876544%です\n",
            "京大の社会科学分野の優秀な研究者は2.345415778251599%です\n",
            "京大の理学分野の優秀な研究者は39.01918976545842%です\n",
            "京大の工学分野の優秀な研究者は18.336886993603414%です\n",
            "京大の医学分野の優秀な研究者は23.66737739872068%です\n",
            "京大のその他分野の優秀な研究者は2.1321961620469083%です\n",
            "京大の生命科学分野の優秀な研究者は14.498933901918976%です\n",
            "東大の社会科学分野の優秀な研究者は2.6993865030674846%です\n",
            "東大の理学分野の優秀な研究者は39.75460122699386%です\n",
            "東大の工学分野の優秀な研究者は20.12269938650307%です\n",
            "東大の医学分野の優秀な研究者は21.226993865030675%です\n",
            "東大のその他分野の優秀な研究者は3.3128834355828225%です\n",
            "東大の生命科学分野の優秀な研究者は12.883435582822086%です\n",
            "Imperial College Londonのその他分野の優秀な研究者は1.7077798861480076%です\n",
            "Imperial College Londonの医学分野の優秀な研究者は46.58444022770398%です\n",
            "Imperial College Londonの工学分野の優秀な研究者は20.49335863377609%です\n",
            "Imperial College Londonの理学分野の優秀な研究者は20.113851992409867%です\n",
            "Imperial College Londonの生命科学分野の優秀な研究者は9.962049335863378%です\n",
            "Imperial College Londonの社会科学分野の優秀な研究者は1.1385199240986716%です\n",
            "MITの社会科学分野の優秀な研究者は2.648475120385233%です\n",
            "MITのその他分野の優秀な研究者は5.617977528089887%です\n",
            "MITの医学分野の優秀な研究者は11.396468699839486%です\n",
            "MITの工学分野の優秀な研究者は31.621187800963078%です\n",
            "MITの理学分野の優秀な研究者は29.213483146067414%です\n",
            "MITの生命科学分野の優秀な研究者は19.502407704654896%です\n",
            "東工大+医科歯科大の理学分野の優秀な研究者は31.517509727626457%です\n",
            "東工大+医科歯科大の医学分野の優秀な研究者は23.73540856031128%です\n",
            "東工大+医科歯科大の工学分野の優秀な研究者は40.856031128404666%です\n",
            "東工大+医科歯科大の生命科学分野の優秀な研究者は3.8910505836575875%です\n",
            "東工大の理学分野の優秀な研究者は42.07650273224044%です\n",
            "東工大の生命科学分野の優秀な研究者は3.278688524590164%です\n",
            "東工大の医学分野の優秀な研究者は0.546448087431694%です\n",
            "東工大の工学分野の優秀な研究者は54.09836065573771%です\n"
          ]
        }
      ]
    },
    {
      "cell_type": "markdown",
      "source": [
        "## 可視化\n",
        "[全体の傾向]\n",
        "- 条件を満たす研究者はほとんどの大学で工学と理学で5割以上を占める\n",
        "\n",
        "\n",
        "[日本の大学の傾向]\n",
        "- 東工大は単体だと理学と工学に条件を満たす研究者が偏っていた\n",
        "- 東工大と医科歯科大が合併していたと仮定すると、条件を満たす研究者の割合は大阪大学や東北大と似てくる\n",
        "- 東大では、理学分野において条件を満たす研究者の割合が非常に高く、工学分野と医学分野でも比較的高い傾向がある。\n",
        "- 京都大学も東大と同様に理学分野において条件を満たす研究者の割合が非常に高く、生命科学分野と工学分野でも比較的高い傾向がある。\n",
        "- 名古屋大学では、医学分野で条件を満たす研究者の割合が高い。\n",
        "- 東北大学は工学分野と理学分野が強い\n",
        "- 阪大では、医学分野と理学分野において条件を満たす研究者の割合が高い。\n"
      ],
      "metadata": {
        "id": "4NuSenOC_SS5"
      }
    },
    {
      "cell_type": "code",
      "source": [
        "fig = px.bar(df_newtag, y='大学名', x='分野割合(%)', color='分野', orientation='h', text=[f'{val/sum(df_newtag[\"分野割合(%)\"])*1000:.1f}%' for val in df_newtag[\"分野割合(%)\"]])\n",
        "fig.update_traces(textposition='outside')\n",
        "fig.show()"
      ],
      "metadata": {
        "colab": {
          "base_uri": "https://localhost:8080/",
          "height": 542
        },
        "id": "Vy_XTAYnZmPo",
        "outputId": "0f10ee29-f75a-4068-ca35-b3229fc9d90f"
      },
      "execution_count": 80,
      "outputs": [
        {
          "output_type": "display_data",
          "data": {
            "text/html": [
              "<html>\n",
              "<head><meta charset=\"utf-8\" /></head>\n",
              "<body>\n",
              "    <div>            <script src=\"https://cdnjs.cloudflare.com/ajax/libs/mathjax/2.7.5/MathJax.js?config=TeX-AMS-MML_SVG\"></script><script type=\"text/javascript\">if (window.MathJax && window.MathJax.Hub && window.MathJax.Hub.Config) {window.MathJax.Hub.Config({SVG: {font: \"STIX-Web\"}});}</script>                <script type=\"text/javascript\">window.PlotlyConfig = {MathJaxConfig: 'local'};</script>\n",
              "        <script src=\"https://cdn.plot.ly/plotly-2.18.2.min.js\"></script>                <div id=\"25cb397c-d552-45ff-add3-ce7696f2f69d\" class=\"plotly-graph-div\" style=\"height:525px; width:100%;\"></div>            <script type=\"text/javascript\">                                    window.PLOTLYENV=window.PLOTLYENV || {};                                    if (document.getElementById(\"25cb397c-d552-45ff-add3-ce7696f2f69d\")) {                    Plotly.newPlot(                        \"25cb397c-d552-45ff-add3-ce7696f2f69d\",                        [{\"alignmentgroup\":\"True\",\"hovertemplate\":\"\\u5206\\u91ce=\\u7406\\u5b66<br>\\u5206\\u91ce\\u5272\\u5408(%)=%{x}<br>\\u5927\\u5b66\\u540d=%{y}<br>text=%{text}<extra></extra>\",\"legendgroup\":\"\\u7406\\u5b66\",\"marker\":{\"color\":\"#636efa\",\"pattern\":{\"shape\":\"\"}},\"name\":\"\\u7406\\u5b66\",\"offsetgroup\":\"\\u7406\\u5b66\",\"orientation\":\"h\",\"showlegend\":true,\"text\":[\"5.4%\",\"29.5%\",\"29.7%\",\"29.9%\",\"39.0%\",\"39.8%\",\"20.1%\",\"29.2%\",\"31.5%\",\"42.1%\"],\"textposition\":\"outside\",\"x\":[5.405405405405405,29.47368421052631,29.68421052631579,29.876543209876544,39.01918976545842,39.75460122699386,20.113851992409867,29.213483146067414,31.517509727626457,42.07650273224044],\"xaxis\":\"x\",\"y\":[\"\\u6771\\u4eac\\u533b\\u79d1\\u6b6f\\u79d1\\u5927\",\"\\u540d\\u53e4\\u5c4b\\u5927\",\"\\u6771\\u5317\\u5927\",\"\\u962a\\u5927\",\"\\u4eac\\u5927\",\"\\u6771\\u5927\",\"Imperial College London\",\"MIT\",\"\\u6771\\u5de5\\u5927+\\u533b\\u79d1\\u6b6f\\u79d1\\u5927\",\"\\u6771\\u5de5\\u5927\"],\"yaxis\":\"y\",\"type\":\"bar\"},{\"alignmentgroup\":\"True\",\"hovertemplate\":\"\\u5206\\u91ce=\\u751f\\u547d\\u79d1\\u5b66<br>\\u5206\\u91ce\\u5272\\u5408(%)=%{x}<br>\\u5927\\u5b66\\u540d=%{y}<br>text=%{text}<extra></extra>\",\"legendgroup\":\"\\u751f\\u547d\\u79d1\\u5b66\",\"marker\":{\"color\":\"#EF553B\",\"pattern\":{\"shape\":\"\"}},\"name\":\"\\u751f\\u547d\\u79d1\\u5b66\",\"offsetgroup\":\"\\u751f\\u547d\\u79d1\\u5b66\",\"orientation\":\"h\",\"showlegend\":true,\"text\":[\"5.4%\",\"3.9%\",\"6.5%\",\"6.9%\",\"14.5%\",\"12.9%\",\"10.0%\",\"19.5%\",\"3.9%\",\"3.3%\"],\"textposition\":\"outside\",\"x\":[5.405405405405405,3.8596491228070176,6.526315789473684,6.91358024691358,14.498933901918976,12.883435582822086,9.962049335863378,19.502407704654896,3.8910505836575875,3.278688524590164],\"xaxis\":\"x\",\"y\":[\"\\u6771\\u4eac\\u533b\\u79d1\\u6b6f\\u79d1\\u5927\",\"\\u540d\\u53e4\\u5c4b\\u5927\",\"\\u6771\\u5317\\u5927\",\"\\u962a\\u5927\",\"\\u4eac\\u5927\",\"\\u6771\\u5927\",\"Imperial College London\",\"MIT\",\"\\u6771\\u5de5\\u5927+\\u533b\\u79d1\\u6b6f\\u79d1\\u5927\",\"\\u6771\\u5de5\\u5927\"],\"yaxis\":\"y\",\"type\":\"bar\"},{\"alignmentgroup\":\"True\",\"hovertemplate\":\"\\u5206\\u91ce=\\u5de5\\u5b66<br>\\u5206\\u91ce\\u5272\\u5408(%)=%{x}<br>\\u5927\\u5b66\\u540d=%{y}<br>text=%{text}<extra></extra>\",\"legendgroup\":\"\\u5de5\\u5b66\",\"marker\":{\"color\":\"#00cc96\",\"pattern\":{\"shape\":\"\"}},\"name\":\"\\u5de5\\u5b66\",\"offsetgroup\":\"\\u5de5\\u5b66\",\"orientation\":\"h\",\"showlegend\":true,\"text\":[\"8.1%\",\"26.0%\",\"36.6%\",\"28.6%\",\"18.3%\",\"20.1%\",\"20.5%\",\"31.6%\",\"40.9%\",\"54.1%\"],\"textposition\":\"outside\",\"x\":[8.108108108108109,25.964912280701753,36.63157894736842,28.641975308641975,18.336886993603414,20.12269938650307,20.49335863377609,31.621187800963078,40.856031128404666,54.09836065573771],\"xaxis\":\"x\",\"y\":[\"\\u6771\\u4eac\\u533b\\u79d1\\u6b6f\\u79d1\\u5927\",\"\\u540d\\u53e4\\u5c4b\\u5927\",\"\\u6771\\u5317\\u5927\",\"\\u962a\\u5927\",\"\\u4eac\\u5927\",\"\\u6771\\u5927\",\"Imperial College London\",\"MIT\",\"\\u6771\\u5de5\\u5927+\\u533b\\u79d1\\u6b6f\\u79d1\\u5927\",\"\\u6771\\u5de5\\u5927\"],\"yaxis\":\"y\",\"type\":\"bar\"},{\"alignmentgroup\":\"True\",\"hovertemplate\":\"\\u5206\\u91ce=\\u533b\\u5b66<br>\\u5206\\u91ce\\u5272\\u5408(%)=%{x}<br>\\u5927\\u5b66\\u540d=%{y}<br>text=%{text}<extra></extra>\",\"legendgroup\":\"\\u533b\\u5b66\",\"marker\":{\"color\":\"#ab63fa\",\"pattern\":{\"shape\":\"\"}},\"name\":\"\\u533b\\u5b66\",\"offsetgroup\":\"\\u533b\\u5b66\",\"orientation\":\"h\",\"showlegend\":true,\"text\":[\"81.1%\",\"38.6%\",\"26.7%\",\"32.3%\",\"23.7%\",\"21.2%\",\"46.6%\",\"11.4%\",\"23.7%\",\"0.5%\"],\"textposition\":\"outside\",\"x\":[81.08108108108108,38.59649122807017,26.736842105263158,32.34567901234568,23.66737739872068,21.226993865030675,46.58444022770398,11.396468699839486,23.73540856031128,0.546448087431694],\"xaxis\":\"x\",\"y\":[\"\\u6771\\u4eac\\u533b\\u79d1\\u6b6f\\u79d1\\u5927\",\"\\u540d\\u53e4\\u5c4b\\u5927\",\"\\u6771\\u5317\\u5927\",\"\\u962a\\u5927\",\"\\u4eac\\u5927\",\"\\u6771\\u5927\",\"Imperial College London\",\"MIT\",\"\\u6771\\u5de5\\u5927+\\u533b\\u79d1\\u6b6f\\u79d1\\u5927\",\"\\u6771\\u5de5\\u5927\"],\"yaxis\":\"y\",\"type\":\"bar\"},{\"alignmentgroup\":\"True\",\"hovertemplate\":\"\\u5206\\u91ce=\\u305d\\u306e\\u4ed6<br>\\u5206\\u91ce\\u5272\\u5408(%)=%{x}<br>\\u5927\\u5b66\\u540d=%{y}<br>text=%{text}<extra></extra>\",\"legendgroup\":\"\\u305d\\u306e\\u4ed6\",\"marker\":{\"color\":\"#FFA15A\",\"pattern\":{\"shape\":\"\"}},\"name\":\"\\u305d\\u306e\\u4ed6\",\"offsetgroup\":\"\\u305d\\u306e\\u4ed6\",\"orientation\":\"h\",\"showlegend\":true,\"text\":[\"1.1%\",\"0.2%\",\"1.7%\",\"2.1%\",\"3.3%\",\"1.7%\",\"5.6%\"],\"textposition\":\"outside\",\"x\":[1.0526315789473684,0.21052631578947367,1.728395061728395,2.1321961620469083,3.3128834355828225,1.7077798861480076,5.617977528089887],\"xaxis\":\"x\",\"y\":[\"\\u540d\\u53e4\\u5c4b\\u5927\",\"\\u6771\\u5317\\u5927\",\"\\u962a\\u5927\",\"\\u4eac\\u5927\",\"\\u6771\\u5927\",\"Imperial College London\",\"MIT\"],\"yaxis\":\"y\",\"type\":\"bar\"},{\"alignmentgroup\":\"True\",\"hovertemplate\":\"\\u5206\\u91ce=\\u793e\\u4f1a\\u79d1\\u5b66<br>\\u5206\\u91ce\\u5272\\u5408(%)=%{x}<br>\\u5927\\u5b66\\u540d=%{y}<br>text=%{text}<extra></extra>\",\"legendgroup\":\"\\u793e\\u4f1a\\u79d1\\u5b66\",\"marker\":{\"color\":\"#19d3f3\",\"pattern\":{\"shape\":\"\"}},\"name\":\"\\u793e\\u4f1a\\u79d1\\u5b66\",\"offsetgroup\":\"\\u793e\\u4f1a\\u79d1\\u5b66\",\"orientation\":\"h\",\"showlegend\":true,\"text\":[\"1.1%\",\"0.2%\",\"0.5%\",\"2.3%\",\"2.7%\",\"1.1%\",\"2.6%\"],\"textposition\":\"outside\",\"x\":[1.0526315789473684,0.21052631578947367,0.49382716049382713,2.345415778251599,2.6993865030674846,1.1385199240986716,2.648475120385233],\"xaxis\":\"x\",\"y\":[\"\\u540d\\u53e4\\u5c4b\\u5927\",\"\\u6771\\u5317\\u5927\",\"\\u962a\\u5927\",\"\\u4eac\\u5927\",\"\\u6771\\u5927\",\"Imperial College London\",\"MIT\"],\"yaxis\":\"y\",\"type\":\"bar\"}],                        {\"template\":{\"data\":{\"histogram2dcontour\":[{\"type\":\"histogram2dcontour\",\"colorbar\":{\"outlinewidth\":0,\"ticks\":\"\"},\"colorscale\":[[0.0,\"#0d0887\"],[0.1111111111111111,\"#46039f\"],[0.2222222222222222,\"#7201a8\"],[0.3333333333333333,\"#9c179e\"],[0.4444444444444444,\"#bd3786\"],[0.5555555555555556,\"#d8576b\"],[0.6666666666666666,\"#ed7953\"],[0.7777777777777778,\"#fb9f3a\"],[0.8888888888888888,\"#fdca26\"],[1.0,\"#f0f921\"]]}],\"choropleth\":[{\"type\":\"choropleth\",\"colorbar\":{\"outlinewidth\":0,\"ticks\":\"\"}}],\"histogram2d\":[{\"type\":\"histogram2d\",\"colorbar\":{\"outlinewidth\":0,\"ticks\":\"\"},\"colorscale\":[[0.0,\"#0d0887\"],[0.1111111111111111,\"#46039f\"],[0.2222222222222222,\"#7201a8\"],[0.3333333333333333,\"#9c179e\"],[0.4444444444444444,\"#bd3786\"],[0.5555555555555556,\"#d8576b\"],[0.6666666666666666,\"#ed7953\"],[0.7777777777777778,\"#fb9f3a\"],[0.8888888888888888,\"#fdca26\"],[1.0,\"#f0f921\"]]}],\"heatmap\":[{\"type\":\"heatmap\",\"colorbar\":{\"outlinewidth\":0,\"ticks\":\"\"},\"colorscale\":[[0.0,\"#0d0887\"],[0.1111111111111111,\"#46039f\"],[0.2222222222222222,\"#7201a8\"],[0.3333333333333333,\"#9c179e\"],[0.4444444444444444,\"#bd3786\"],[0.5555555555555556,\"#d8576b\"],[0.6666666666666666,\"#ed7953\"],[0.7777777777777778,\"#fb9f3a\"],[0.8888888888888888,\"#fdca26\"],[1.0,\"#f0f921\"]]}],\"heatmapgl\":[{\"type\":\"heatmapgl\",\"colorbar\":{\"outlinewidth\":0,\"ticks\":\"\"},\"colorscale\":[[0.0,\"#0d0887\"],[0.1111111111111111,\"#46039f\"],[0.2222222222222222,\"#7201a8\"],[0.3333333333333333,\"#9c179e\"],[0.4444444444444444,\"#bd3786\"],[0.5555555555555556,\"#d8576b\"],[0.6666666666666666,\"#ed7953\"],[0.7777777777777778,\"#fb9f3a\"],[0.8888888888888888,\"#fdca26\"],[1.0,\"#f0f921\"]]}],\"contourcarpet\":[{\"type\":\"contourcarpet\",\"colorbar\":{\"outlinewidth\":0,\"ticks\":\"\"}}],\"contour\":[{\"type\":\"contour\",\"colorbar\":{\"outlinewidth\":0,\"ticks\":\"\"},\"colorscale\":[[0.0,\"#0d0887\"],[0.1111111111111111,\"#46039f\"],[0.2222222222222222,\"#7201a8\"],[0.3333333333333333,\"#9c179e\"],[0.4444444444444444,\"#bd3786\"],[0.5555555555555556,\"#d8576b\"],[0.6666666666666666,\"#ed7953\"],[0.7777777777777778,\"#fb9f3a\"],[0.8888888888888888,\"#fdca26\"],[1.0,\"#f0f921\"]]}],\"surface\":[{\"type\":\"surface\",\"colorbar\":{\"outlinewidth\":0,\"ticks\":\"\"},\"colorscale\":[[0.0,\"#0d0887\"],[0.1111111111111111,\"#46039f\"],[0.2222222222222222,\"#7201a8\"],[0.3333333333333333,\"#9c179e\"],[0.4444444444444444,\"#bd3786\"],[0.5555555555555556,\"#d8576b\"],[0.6666666666666666,\"#ed7953\"],[0.7777777777777778,\"#fb9f3a\"],[0.8888888888888888,\"#fdca26\"],[1.0,\"#f0f921\"]]}],\"mesh3d\":[{\"type\":\"mesh3d\",\"colorbar\":{\"outlinewidth\":0,\"ticks\":\"\"}}],\"scatter\":[{\"fillpattern\":{\"fillmode\":\"overlay\",\"size\":10,\"solidity\":0.2},\"type\":\"scatter\"}],\"parcoords\":[{\"type\":\"parcoords\",\"line\":{\"colorbar\":{\"outlinewidth\":0,\"ticks\":\"\"}}}],\"scatterpolargl\":[{\"type\":\"scatterpolargl\",\"marker\":{\"colorbar\":{\"outlinewidth\":0,\"ticks\":\"\"}}}],\"bar\":[{\"error_x\":{\"color\":\"#2a3f5f\"},\"error_y\":{\"color\":\"#2a3f5f\"},\"marker\":{\"line\":{\"color\":\"#E5ECF6\",\"width\":0.5},\"pattern\":{\"fillmode\":\"overlay\",\"size\":10,\"solidity\":0.2}},\"type\":\"bar\"}],\"scattergeo\":[{\"type\":\"scattergeo\",\"marker\":{\"colorbar\":{\"outlinewidth\":0,\"ticks\":\"\"}}}],\"scatterpolar\":[{\"type\":\"scatterpolar\",\"marker\":{\"colorbar\":{\"outlinewidth\":0,\"ticks\":\"\"}}}],\"histogram\":[{\"marker\":{\"pattern\":{\"fillmode\":\"overlay\",\"size\":10,\"solidity\":0.2}},\"type\":\"histogram\"}],\"scattergl\":[{\"type\":\"scattergl\",\"marker\":{\"colorbar\":{\"outlinewidth\":0,\"ticks\":\"\"}}}],\"scatter3d\":[{\"type\":\"scatter3d\",\"line\":{\"colorbar\":{\"outlinewidth\":0,\"ticks\":\"\"}},\"marker\":{\"colorbar\":{\"outlinewidth\":0,\"ticks\":\"\"}}}],\"scattermapbox\":[{\"type\":\"scattermapbox\",\"marker\":{\"colorbar\":{\"outlinewidth\":0,\"ticks\":\"\"}}}],\"scatterternary\":[{\"type\":\"scatterternary\",\"marker\":{\"colorbar\":{\"outlinewidth\":0,\"ticks\":\"\"}}}],\"scattercarpet\":[{\"type\":\"scattercarpet\",\"marker\":{\"colorbar\":{\"outlinewidth\":0,\"ticks\":\"\"}}}],\"carpet\":[{\"aaxis\":{\"endlinecolor\":\"#2a3f5f\",\"gridcolor\":\"white\",\"linecolor\":\"white\",\"minorgridcolor\":\"white\",\"startlinecolor\":\"#2a3f5f\"},\"baxis\":{\"endlinecolor\":\"#2a3f5f\",\"gridcolor\":\"white\",\"linecolor\":\"white\",\"minorgridcolor\":\"white\",\"startlinecolor\":\"#2a3f5f\"},\"type\":\"carpet\"}],\"table\":[{\"cells\":{\"fill\":{\"color\":\"#EBF0F8\"},\"line\":{\"color\":\"white\"}},\"header\":{\"fill\":{\"color\":\"#C8D4E3\"},\"line\":{\"color\":\"white\"}},\"type\":\"table\"}],\"barpolar\":[{\"marker\":{\"line\":{\"color\":\"#E5ECF6\",\"width\":0.5},\"pattern\":{\"fillmode\":\"overlay\",\"size\":10,\"solidity\":0.2}},\"type\":\"barpolar\"}],\"pie\":[{\"automargin\":true,\"type\":\"pie\"}]},\"layout\":{\"autotypenumbers\":\"strict\",\"colorway\":[\"#636efa\",\"#EF553B\",\"#00cc96\",\"#ab63fa\",\"#FFA15A\",\"#19d3f3\",\"#FF6692\",\"#B6E880\",\"#FF97FF\",\"#FECB52\"],\"font\":{\"color\":\"#2a3f5f\"},\"hovermode\":\"closest\",\"hoverlabel\":{\"align\":\"left\"},\"paper_bgcolor\":\"white\",\"plot_bgcolor\":\"#E5ECF6\",\"polar\":{\"bgcolor\":\"#E5ECF6\",\"angularaxis\":{\"gridcolor\":\"white\",\"linecolor\":\"white\",\"ticks\":\"\"},\"radialaxis\":{\"gridcolor\":\"white\",\"linecolor\":\"white\",\"ticks\":\"\"}},\"ternary\":{\"bgcolor\":\"#E5ECF6\",\"aaxis\":{\"gridcolor\":\"white\",\"linecolor\":\"white\",\"ticks\":\"\"},\"baxis\":{\"gridcolor\":\"white\",\"linecolor\":\"white\",\"ticks\":\"\"},\"caxis\":{\"gridcolor\":\"white\",\"linecolor\":\"white\",\"ticks\":\"\"}},\"coloraxis\":{\"colorbar\":{\"outlinewidth\":0,\"ticks\":\"\"}},\"colorscale\":{\"sequential\":[[0.0,\"#0d0887\"],[0.1111111111111111,\"#46039f\"],[0.2222222222222222,\"#7201a8\"],[0.3333333333333333,\"#9c179e\"],[0.4444444444444444,\"#bd3786\"],[0.5555555555555556,\"#d8576b\"],[0.6666666666666666,\"#ed7953\"],[0.7777777777777778,\"#fb9f3a\"],[0.8888888888888888,\"#fdca26\"],[1.0,\"#f0f921\"]],\"sequentialminus\":[[0.0,\"#0d0887\"],[0.1111111111111111,\"#46039f\"],[0.2222222222222222,\"#7201a8\"],[0.3333333333333333,\"#9c179e\"],[0.4444444444444444,\"#bd3786\"],[0.5555555555555556,\"#d8576b\"],[0.6666666666666666,\"#ed7953\"],[0.7777777777777778,\"#fb9f3a\"],[0.8888888888888888,\"#fdca26\"],[1.0,\"#f0f921\"]],\"diverging\":[[0,\"#8e0152\"],[0.1,\"#c51b7d\"],[0.2,\"#de77ae\"],[0.3,\"#f1b6da\"],[0.4,\"#fde0ef\"],[0.5,\"#f7f7f7\"],[0.6,\"#e6f5d0\"],[0.7,\"#b8e186\"],[0.8,\"#7fbc41\"],[0.9,\"#4d9221\"],[1,\"#276419\"]]},\"xaxis\":{\"gridcolor\":\"white\",\"linecolor\":\"white\",\"ticks\":\"\",\"title\":{\"standoff\":15},\"zerolinecolor\":\"white\",\"automargin\":true,\"zerolinewidth\":2},\"yaxis\":{\"gridcolor\":\"white\",\"linecolor\":\"white\",\"ticks\":\"\",\"title\":{\"standoff\":15},\"zerolinecolor\":\"white\",\"automargin\":true,\"zerolinewidth\":2},\"scene\":{\"xaxis\":{\"backgroundcolor\":\"#E5ECF6\",\"gridcolor\":\"white\",\"linecolor\":\"white\",\"showbackground\":true,\"ticks\":\"\",\"zerolinecolor\":\"white\",\"gridwidth\":2},\"yaxis\":{\"backgroundcolor\":\"#E5ECF6\",\"gridcolor\":\"white\",\"linecolor\":\"white\",\"showbackground\":true,\"ticks\":\"\",\"zerolinecolor\":\"white\",\"gridwidth\":2},\"zaxis\":{\"backgroundcolor\":\"#E5ECF6\",\"gridcolor\":\"white\",\"linecolor\":\"white\",\"showbackground\":true,\"ticks\":\"\",\"zerolinecolor\":\"white\",\"gridwidth\":2}},\"shapedefaults\":{\"line\":{\"color\":\"#2a3f5f\"}},\"annotationdefaults\":{\"arrowcolor\":\"#2a3f5f\",\"arrowhead\":0,\"arrowwidth\":1},\"geo\":{\"bgcolor\":\"white\",\"landcolor\":\"#E5ECF6\",\"subunitcolor\":\"white\",\"showland\":true,\"showlakes\":true,\"lakecolor\":\"white\"},\"title\":{\"x\":0.05},\"mapbox\":{\"style\":\"light\"}}},\"xaxis\":{\"anchor\":\"y\",\"domain\":[0.0,1.0],\"title\":{\"text\":\"\\u5206\\u91ce\\u5272\\u5408(%)\"}},\"yaxis\":{\"anchor\":\"x\",\"domain\":[0.0,1.0],\"title\":{\"text\":\"\\u5927\\u5b66\\u540d\"}},\"legend\":{\"title\":{\"text\":\"\\u5206\\u91ce\"},\"tracegroupgap\":0},\"margin\":{\"t\":60},\"barmode\":\"relative\"},                        {\"responsive\": true}                    ).then(function(){\n",
              "                            \n",
              "var gd = document.getElementById('25cb397c-d552-45ff-add3-ce7696f2f69d');\n",
              "var x = new MutationObserver(function (mutations, observer) {{\n",
              "        var display = window.getComputedStyle(gd).display;\n",
              "        if (!display || display === 'none') {{\n",
              "            console.log([gd, 'removed!']);\n",
              "            Plotly.purge(gd);\n",
              "            observer.disconnect();\n",
              "        }}\n",
              "}});\n",
              "\n",
              "// Listen for the removal of the full notebook cells\n",
              "var notebookContainer = gd.closest('#notebook-container');\n",
              "if (notebookContainer) {{\n",
              "    x.observe(notebookContainer, {childList: true});\n",
              "}}\n",
              "\n",
              "// Listen for the clearing of the current output cell\n",
              "var outputEl = gd.closest('.output');\n",
              "if (outputEl) {{\n",
              "    x.observe(outputEl, {childList: true});\n",
              "}}\n",
              "\n",
              "                        })                };                            </script>        </div>\n",
              "</body>\n",
              "</html>"
            ]
          },
          "metadata": {}
        }
      ]
    },
    {
      "cell_type": "markdown",
      "source": [
        "# ③条件を満たす研究者の対象人数推移"
      ],
      "metadata": {
        "id": "nfo7VAxdhdDn"
      }
    },
    {
      "cell_type": "markdown",
      "source": [
        "## 集計"
      ],
      "metadata": {
        "id": "dVUF87pLBkav"
      }
    },
    {
      "cell_type": "code",
      "source": [
        "all_y_res['new_tag'].value_counts()"
      ],
      "metadata": {
        "colab": {
          "base_uri": "https://localhost:8080/",
          "height": 0
        },
        "id": "lsrBwMchLopo",
        "outputId": "3c18f815-dc35-42ef-ce3b-a5dfd59cecc4"
      },
      "execution_count": 81,
      "outputs": [
        {
          "output_type": "execute_result",
          "data": {
            "text/plain": [
              "理学      1591\n",
              "工学      1434\n",
              "医学      1407\n",
              "生命科学     611\n",
              "その他      136\n",
              "社会科学      84\n",
              "Name: new_tag, dtype: int64"
            ]
          },
          "metadata": {},
          "execution_count": 81
        }
      ]
    },
    {
      "cell_type": "code",
      "source": [
        "tag_all['研究者数'] = 1\n",
        "tag_all['year'] = tag_all['start_year']\n",
        "#tag_all.rename(columns={'start_year':'year'})\n",
        "tag_all = tag_all.replace({'year': {2012: '2012~2014',2013:'2013~2015',2014:'2014~2016',2015:'2015~2017',2016:'2016~2018',2017:'2017~2019',2018:'2018~2020',2019:'2019~2021'}})\n",
        "tag_all.rename(columns={'univ_name_x':'大学名'},inplace=True)\n",
        "b = tag_all.groupby(['大学名','year','end_year'],as_index=False).sum()\n",
        "\n",
        "line_tr = go.Scatter(x=b.query('大学名 == \"titech\"')['year'], y=b.query('大学名 == \"titech\"')['研究者数'], name='東工大')\n",
        "line_tr1 = go.Scatter(x=b.query('大学名 == \"MIT\"')['year'], y=b.query('大学名 == \"MIT\"')['研究者数'], name='MIT')\n",
        "line_tr2 = go.Scatter(x=b.query('大学名 == \"Imperial\"')['year'], y=b.query('大学名 == \"Imperial\"')['研究者数'], name='Imperial College London')\n",
        "line_tr3 = go.Scatter(x=b.query('大学名 == \"UT\"')['year'], y=b.query('大学名 == \"UT\"')['研究者数'], name='東大')\n",
        "line_tr4 = go.Scatter(x=b.query('大学名 == \"kyoto\"')['year'], y=b.query('大学名 == \"kyoto\"')['研究者数'], name='京大')\n",
        "line_tr5 = go.Scatter(x=b.query('大学名 == \"osaka\"')['year'], y=b.query('大学名 == \"osaka\"')['研究者数'], name='大阪大')\n",
        "line_tr6 = go.Scatter(x=b.query('大学名 == \"tohoku\"')['year'], y=b.query('大学名 == \"tohoku\"')['研究者数'], name='東北大')\n",
        "line_tr7 = go.Scatter(x=b.query('大学名 == \"nagoya\"')['year'], y=b.query('大学名 == \"nagoya\"')['研究者数'], name='名古屋大')\n",
        "line_tr8 = go.Scatter(x=b.query('大学名 == \"medical\"')['year'], y=b.query('大学名 == \"medical\"')['研究者数'], name='東京医科歯科大学')\n",
        "line_tr9 = go.Scatter(x=b.query('大学名 == \"東工大+医科歯科大\"')['year'], y=b.query('大学名 == \"東工大+医科歯科大\"')['研究者数'], name='東工大+医科歯科大学')\n",
        "\n",
        "subplots_fig = make_subplots(rows=1, cols=1)\n",
        "subplots_fig.add_trace(line_tr, row=1, col=1)\n",
        "subplots_fig.add_trace(line_tr1, row=1, col=1)\n",
        "subplots_fig.add_trace(line_tr2, row=1, col=1)\n",
        "subplots_fig.add_trace(line_tr3, row=1, col=1)\n",
        "subplots_fig.add_trace(line_tr4, row=1, col=1)\n",
        "subplots_fig.add_trace(line_tr5, row=1, col=1)\n",
        "subplots_fig.add_trace(line_tr6, row=1, col=1)\n",
        "subplots_fig.add_trace(line_tr7, row=1, col=1)\n",
        "subplots_fig.add_trace(line_tr8, row=1, col=1)\n",
        "subplots_fig.add_trace(line_tr9, row=1, col=1)\n",
        "\n",
        "subplots_fig.update_layout(title = '条件を満たす研究者の推移')\n",
        "\n"
      ],
      "metadata": {
        "colab": {
          "base_uri": "https://localhost:8080/",
          "height": 542
        },
        "id": "oVKrX50KTaWQ",
        "outputId": "39b496ec-c497-4fac-f908-87bfc15fa028"
      },
      "execution_count": 82,
      "outputs": [
        {
          "output_type": "display_data",
          "data": {
            "text/html": [
              "<html>\n",
              "<head><meta charset=\"utf-8\" /></head>\n",
              "<body>\n",
              "    <div>            <script src=\"https://cdnjs.cloudflare.com/ajax/libs/mathjax/2.7.5/MathJax.js?config=TeX-AMS-MML_SVG\"></script><script type=\"text/javascript\">if (window.MathJax && window.MathJax.Hub && window.MathJax.Hub.Config) {window.MathJax.Hub.Config({SVG: {font: \"STIX-Web\"}});}</script>                <script type=\"text/javascript\">window.PlotlyConfig = {MathJaxConfig: 'local'};</script>\n",
              "        <script src=\"https://cdn.plot.ly/plotly-2.18.2.min.js\"></script>                <div id=\"331b3add-4290-4443-920d-37b47f35f08f\" class=\"plotly-graph-div\" style=\"height:525px; width:100%;\"></div>            <script type=\"text/javascript\">                                    window.PLOTLYENV=window.PLOTLYENV || {};                                    if (document.getElementById(\"331b3add-4290-4443-920d-37b47f35f08f\")) {                    Plotly.newPlot(                        \"331b3add-4290-4443-920d-37b47f35f08f\",                        [{\"name\":\"\\u6771\\u5de5\\u5927\",\"x\":[\"2012~2014\",\"2013~2015\",\"2014~2016\",\"2015~2017\",\"2016~2018\",\"2017~2019\",\"2018~2020\",\"2019~2021\"],\"y\":[89,87,89,71,76,64,75,67],\"type\":\"scatter\",\"xaxis\":\"x\",\"yaxis\":\"y\"},{\"name\":\"MIT\",\"x\":[\"2012~2014\",\"2013~2015\",\"2014~2016\",\"2015~2017\",\"2016~2018\",\"2017~2019\",\"2018~2020\",\"2019~2021\"],\"y\":[502,536,560,541,512,499,485,459],\"type\":\"scatter\",\"xaxis\":\"x\",\"yaxis\":\"y\"},{\"name\":\"Imperial College London\",\"x\":[\"2012~2014\",\"2013~2015\",\"2014~2016\",\"2015~2017\",\"2016~2018\",\"2017~2019\",\"2018~2020\",\"2019~2021\"],\"y\":[486,509,353,404,432,426,449,475],\"type\":\"scatter\",\"xaxis\":\"x\",\"yaxis\":\"y\"},{\"name\":\"\\u6771\\u5927\",\"x\":[\"2012~2014\",\"2013~2015\",\"2014~2016\",\"2015~2017\",\"2016~2018\",\"2017~2019\",\"2018~2020\",\"2019~2021\"],\"y\":[358,393,385,420,439,425,410,400],\"type\":\"scatter\",\"xaxis\":\"x\",\"yaxis\":\"y\"},{\"name\":\"\\u4eac\\u5927\",\"x\":[\"2012~2014\",\"2013~2015\",\"2014~2016\",\"2015~2017\",\"2016~2018\",\"2017~2019\",\"2018~2020\",\"2019~2021\"],\"y\":[205,216,222,220,220,219,231,222],\"type\":\"scatter\",\"xaxis\":\"x\",\"yaxis\":\"y\"},{\"name\":\"\\u5927\\u962a\\u5927\",\"x\":[\"2012~2014\",\"2013~2015\",\"2014~2016\",\"2015~2017\",\"2016~2018\",\"2017~2019\",\"2018~2020\",\"2019~2021\"],\"y\":[214,207,190,174,175,186,186,169],\"type\":\"scatter\",\"xaxis\":\"x\",\"yaxis\":\"y\"},{\"name\":\"\\u6771\\u5317\\u5927\",\"x\":[\"2012~2014\",\"2013~2015\",\"2014~2016\",\"2015~2017\",\"2016~2018\",\"2017~2019\",\"2018~2020\",\"2019~2021\"],\"y\":[251,250,213,190,198,179,205,238],\"type\":\"scatter\",\"xaxis\":\"x\",\"yaxis\":\"y\"},{\"name\":\"\\u540d\\u53e4\\u5c4b\\u5927\",\"x\":[\"2012~2014\",\"2013~2015\",\"2014~2016\",\"2015~2017\",\"2016~2018\",\"2017~2019\",\"2018~2020\",\"2019~2021\"],\"y\":[129,136,132,129,143,158,164,157],\"type\":\"scatter\",\"xaxis\":\"x\",\"yaxis\":\"y\"},{\"name\":\"\\u6771\\u4eac\\u533b\\u79d1\\u6b6f\\u79d1\\u5927\\u5b66\",\"x\":[\"2012~2014\",\"2013~2015\",\"2014~2016\",\"2015~2017\",\"2016~2018\",\"2017~2019\",\"2018~2020\",\"2019~2021\"],\"y\":[30,32,33,30,34,37,41,56],\"type\":\"scatter\",\"xaxis\":\"x\",\"yaxis\":\"y\"},{\"name\":\"\\u6771\\u5de5\\u5927+\\u533b\\u79d1\\u6b6f\\u79d1\\u5927\\u5b66\",\"x\":[\"2012~2014\",\"2013~2015\",\"2014~2016\",\"2015~2017\",\"2016~2018\",\"2017~2019\",\"2018~2020\",\"2019~2021\"],\"y\":[119,119,122,101,110,101,116,123],\"type\":\"scatter\",\"xaxis\":\"x\",\"yaxis\":\"y\"}],                        {\"template\":{\"data\":{\"histogram2dcontour\":[{\"type\":\"histogram2dcontour\",\"colorbar\":{\"outlinewidth\":0,\"ticks\":\"\"},\"colorscale\":[[0.0,\"#0d0887\"],[0.1111111111111111,\"#46039f\"],[0.2222222222222222,\"#7201a8\"],[0.3333333333333333,\"#9c179e\"],[0.4444444444444444,\"#bd3786\"],[0.5555555555555556,\"#d8576b\"],[0.6666666666666666,\"#ed7953\"],[0.7777777777777778,\"#fb9f3a\"],[0.8888888888888888,\"#fdca26\"],[1.0,\"#f0f921\"]]}],\"choropleth\":[{\"type\":\"choropleth\",\"colorbar\":{\"outlinewidth\":0,\"ticks\":\"\"}}],\"histogram2d\":[{\"type\":\"histogram2d\",\"colorbar\":{\"outlinewidth\":0,\"ticks\":\"\"},\"colorscale\":[[0.0,\"#0d0887\"],[0.1111111111111111,\"#46039f\"],[0.2222222222222222,\"#7201a8\"],[0.3333333333333333,\"#9c179e\"],[0.4444444444444444,\"#bd3786\"],[0.5555555555555556,\"#d8576b\"],[0.6666666666666666,\"#ed7953\"],[0.7777777777777778,\"#fb9f3a\"],[0.8888888888888888,\"#fdca26\"],[1.0,\"#f0f921\"]]}],\"heatmap\":[{\"type\":\"heatmap\",\"colorbar\":{\"outlinewidth\":0,\"ticks\":\"\"},\"colorscale\":[[0.0,\"#0d0887\"],[0.1111111111111111,\"#46039f\"],[0.2222222222222222,\"#7201a8\"],[0.3333333333333333,\"#9c179e\"],[0.4444444444444444,\"#bd3786\"],[0.5555555555555556,\"#d8576b\"],[0.6666666666666666,\"#ed7953\"],[0.7777777777777778,\"#fb9f3a\"],[0.8888888888888888,\"#fdca26\"],[1.0,\"#f0f921\"]]}],\"heatmapgl\":[{\"type\":\"heatmapgl\",\"colorbar\":{\"outlinewidth\":0,\"ticks\":\"\"},\"colorscale\":[[0.0,\"#0d0887\"],[0.1111111111111111,\"#46039f\"],[0.2222222222222222,\"#7201a8\"],[0.3333333333333333,\"#9c179e\"],[0.4444444444444444,\"#bd3786\"],[0.5555555555555556,\"#d8576b\"],[0.6666666666666666,\"#ed7953\"],[0.7777777777777778,\"#fb9f3a\"],[0.8888888888888888,\"#fdca26\"],[1.0,\"#f0f921\"]]}],\"contourcarpet\":[{\"type\":\"contourcarpet\",\"colorbar\":{\"outlinewidth\":0,\"ticks\":\"\"}}],\"contour\":[{\"type\":\"contour\",\"colorbar\":{\"outlinewidth\":0,\"ticks\":\"\"},\"colorscale\":[[0.0,\"#0d0887\"],[0.1111111111111111,\"#46039f\"],[0.2222222222222222,\"#7201a8\"],[0.3333333333333333,\"#9c179e\"],[0.4444444444444444,\"#bd3786\"],[0.5555555555555556,\"#d8576b\"],[0.6666666666666666,\"#ed7953\"],[0.7777777777777778,\"#fb9f3a\"],[0.8888888888888888,\"#fdca26\"],[1.0,\"#f0f921\"]]}],\"surface\":[{\"type\":\"surface\",\"colorbar\":{\"outlinewidth\":0,\"ticks\":\"\"},\"colorscale\":[[0.0,\"#0d0887\"],[0.1111111111111111,\"#46039f\"],[0.2222222222222222,\"#7201a8\"],[0.3333333333333333,\"#9c179e\"],[0.4444444444444444,\"#bd3786\"],[0.5555555555555556,\"#d8576b\"],[0.6666666666666666,\"#ed7953\"],[0.7777777777777778,\"#fb9f3a\"],[0.8888888888888888,\"#fdca26\"],[1.0,\"#f0f921\"]]}],\"mesh3d\":[{\"type\":\"mesh3d\",\"colorbar\":{\"outlinewidth\":0,\"ticks\":\"\"}}],\"scatter\":[{\"fillpattern\":{\"fillmode\":\"overlay\",\"size\":10,\"solidity\":0.2},\"type\":\"scatter\"}],\"parcoords\":[{\"type\":\"parcoords\",\"line\":{\"colorbar\":{\"outlinewidth\":0,\"ticks\":\"\"}}}],\"scatterpolargl\":[{\"type\":\"scatterpolargl\",\"marker\":{\"colorbar\":{\"outlinewidth\":0,\"ticks\":\"\"}}}],\"bar\":[{\"error_x\":{\"color\":\"#2a3f5f\"},\"error_y\":{\"color\":\"#2a3f5f\"},\"marker\":{\"line\":{\"color\":\"#E5ECF6\",\"width\":0.5},\"pattern\":{\"fillmode\":\"overlay\",\"size\":10,\"solidity\":0.2}},\"type\":\"bar\"}],\"scattergeo\":[{\"type\":\"scattergeo\",\"marker\":{\"colorbar\":{\"outlinewidth\":0,\"ticks\":\"\"}}}],\"scatterpolar\":[{\"type\":\"scatterpolar\",\"marker\":{\"colorbar\":{\"outlinewidth\":0,\"ticks\":\"\"}}}],\"histogram\":[{\"marker\":{\"pattern\":{\"fillmode\":\"overlay\",\"size\":10,\"solidity\":0.2}},\"type\":\"histogram\"}],\"scattergl\":[{\"type\":\"scattergl\",\"marker\":{\"colorbar\":{\"outlinewidth\":0,\"ticks\":\"\"}}}],\"scatter3d\":[{\"type\":\"scatter3d\",\"line\":{\"colorbar\":{\"outlinewidth\":0,\"ticks\":\"\"}},\"marker\":{\"colorbar\":{\"outlinewidth\":0,\"ticks\":\"\"}}}],\"scattermapbox\":[{\"type\":\"scattermapbox\",\"marker\":{\"colorbar\":{\"outlinewidth\":0,\"ticks\":\"\"}}}],\"scatterternary\":[{\"type\":\"scatterternary\",\"marker\":{\"colorbar\":{\"outlinewidth\":0,\"ticks\":\"\"}}}],\"scattercarpet\":[{\"type\":\"scattercarpet\",\"marker\":{\"colorbar\":{\"outlinewidth\":0,\"ticks\":\"\"}}}],\"carpet\":[{\"aaxis\":{\"endlinecolor\":\"#2a3f5f\",\"gridcolor\":\"white\",\"linecolor\":\"white\",\"minorgridcolor\":\"white\",\"startlinecolor\":\"#2a3f5f\"},\"baxis\":{\"endlinecolor\":\"#2a3f5f\",\"gridcolor\":\"white\",\"linecolor\":\"white\",\"minorgridcolor\":\"white\",\"startlinecolor\":\"#2a3f5f\"},\"type\":\"carpet\"}],\"table\":[{\"cells\":{\"fill\":{\"color\":\"#EBF0F8\"},\"line\":{\"color\":\"white\"}},\"header\":{\"fill\":{\"color\":\"#C8D4E3\"},\"line\":{\"color\":\"white\"}},\"type\":\"table\"}],\"barpolar\":[{\"marker\":{\"line\":{\"color\":\"#E5ECF6\",\"width\":0.5},\"pattern\":{\"fillmode\":\"overlay\",\"size\":10,\"solidity\":0.2}},\"type\":\"barpolar\"}],\"pie\":[{\"automargin\":true,\"type\":\"pie\"}]},\"layout\":{\"autotypenumbers\":\"strict\",\"colorway\":[\"#636efa\",\"#EF553B\",\"#00cc96\",\"#ab63fa\",\"#FFA15A\",\"#19d3f3\",\"#FF6692\",\"#B6E880\",\"#FF97FF\",\"#FECB52\"],\"font\":{\"color\":\"#2a3f5f\"},\"hovermode\":\"closest\",\"hoverlabel\":{\"align\":\"left\"},\"paper_bgcolor\":\"white\",\"plot_bgcolor\":\"#E5ECF6\",\"polar\":{\"bgcolor\":\"#E5ECF6\",\"angularaxis\":{\"gridcolor\":\"white\",\"linecolor\":\"white\",\"ticks\":\"\"},\"radialaxis\":{\"gridcolor\":\"white\",\"linecolor\":\"white\",\"ticks\":\"\"}},\"ternary\":{\"bgcolor\":\"#E5ECF6\",\"aaxis\":{\"gridcolor\":\"white\",\"linecolor\":\"white\",\"ticks\":\"\"},\"baxis\":{\"gridcolor\":\"white\",\"linecolor\":\"white\",\"ticks\":\"\"},\"caxis\":{\"gridcolor\":\"white\",\"linecolor\":\"white\",\"ticks\":\"\"}},\"coloraxis\":{\"colorbar\":{\"outlinewidth\":0,\"ticks\":\"\"}},\"colorscale\":{\"sequential\":[[0.0,\"#0d0887\"],[0.1111111111111111,\"#46039f\"],[0.2222222222222222,\"#7201a8\"],[0.3333333333333333,\"#9c179e\"],[0.4444444444444444,\"#bd3786\"],[0.5555555555555556,\"#d8576b\"],[0.6666666666666666,\"#ed7953\"],[0.7777777777777778,\"#fb9f3a\"],[0.8888888888888888,\"#fdca26\"],[1.0,\"#f0f921\"]],\"sequentialminus\":[[0.0,\"#0d0887\"],[0.1111111111111111,\"#46039f\"],[0.2222222222222222,\"#7201a8\"],[0.3333333333333333,\"#9c179e\"],[0.4444444444444444,\"#bd3786\"],[0.5555555555555556,\"#d8576b\"],[0.6666666666666666,\"#ed7953\"],[0.7777777777777778,\"#fb9f3a\"],[0.8888888888888888,\"#fdca26\"],[1.0,\"#f0f921\"]],\"diverging\":[[0,\"#8e0152\"],[0.1,\"#c51b7d\"],[0.2,\"#de77ae\"],[0.3,\"#f1b6da\"],[0.4,\"#fde0ef\"],[0.5,\"#f7f7f7\"],[0.6,\"#e6f5d0\"],[0.7,\"#b8e186\"],[0.8,\"#7fbc41\"],[0.9,\"#4d9221\"],[1,\"#276419\"]]},\"xaxis\":{\"gridcolor\":\"white\",\"linecolor\":\"white\",\"ticks\":\"\",\"title\":{\"standoff\":15},\"zerolinecolor\":\"white\",\"automargin\":true,\"zerolinewidth\":2},\"yaxis\":{\"gridcolor\":\"white\",\"linecolor\":\"white\",\"ticks\":\"\",\"title\":{\"standoff\":15},\"zerolinecolor\":\"white\",\"automargin\":true,\"zerolinewidth\":2},\"scene\":{\"xaxis\":{\"backgroundcolor\":\"#E5ECF6\",\"gridcolor\":\"white\",\"linecolor\":\"white\",\"showbackground\":true,\"ticks\":\"\",\"zerolinecolor\":\"white\",\"gridwidth\":2},\"yaxis\":{\"backgroundcolor\":\"#E5ECF6\",\"gridcolor\":\"white\",\"linecolor\":\"white\",\"showbackground\":true,\"ticks\":\"\",\"zerolinecolor\":\"white\",\"gridwidth\":2},\"zaxis\":{\"backgroundcolor\":\"#E5ECF6\",\"gridcolor\":\"white\",\"linecolor\":\"white\",\"showbackground\":true,\"ticks\":\"\",\"zerolinecolor\":\"white\",\"gridwidth\":2}},\"shapedefaults\":{\"line\":{\"color\":\"#2a3f5f\"}},\"annotationdefaults\":{\"arrowcolor\":\"#2a3f5f\",\"arrowhead\":0,\"arrowwidth\":1},\"geo\":{\"bgcolor\":\"white\",\"landcolor\":\"#E5ECF6\",\"subunitcolor\":\"white\",\"showland\":true,\"showlakes\":true,\"lakecolor\":\"white\"},\"title\":{\"x\":0.05},\"mapbox\":{\"style\":\"light\"}}},\"xaxis\":{\"anchor\":\"y\",\"domain\":[0.0,1.0]},\"yaxis\":{\"anchor\":\"x\",\"domain\":[0.0,1.0]},\"title\":{\"text\":\"\\u6761\\u4ef6\\u3092\\u6e80\\u305f\\u3059\\u7814\\u7a76\\u8005\\u306e\\u63a8\\u79fb\"}},                        {\"responsive\": true}                    ).then(function(){\n",
              "                            \n",
              "var gd = document.getElementById('331b3add-4290-4443-920d-37b47f35f08f');\n",
              "var x = new MutationObserver(function (mutations, observer) {{\n",
              "        var display = window.getComputedStyle(gd).display;\n",
              "        if (!display || display === 'none') {{\n",
              "            console.log([gd, 'removed!']);\n",
              "            Plotly.purge(gd);\n",
              "            observer.disconnect();\n",
              "        }}\n",
              "}});\n",
              "\n",
              "// Listen for the removal of the full notebook cells\n",
              "var notebookContainer = gd.closest('#notebook-container');\n",
              "if (notebookContainer) {{\n",
              "    x.observe(notebookContainer, {childList: true});\n",
              "}}\n",
              "\n",
              "// Listen for the clearing of the current output cell\n",
              "var outputEl = gd.closest('.output');\n",
              "if (outputEl) {{\n",
              "    x.observe(outputEl, {childList: true});\n",
              "}}\n",
              "\n",
              "                        })                };                            </script>        </div>\n",
              "</body>\n",
              "</html>"
            ]
          },
          "metadata": {}
        }
      ]
    },
    {
      "cell_type": "markdown",
      "source": [
        "## 全体の推移\n",
        "\n",
        "### 全体の傾向\n",
        "- 東工大は微減傾向\n",
        "- 東工大と医科歯科大を合算した場合、名古屋大学や阪大に迫る\n",
        "- Imperial College Londonが近年MITを超えた\n",
        "- 東北大が京大を上回るなどの増加傾向がある\n",
        "- 阪大と名大の差が縮んでいる\n",
        "\n"
      ],
      "metadata": {
        "id": "I3fc4e-OBvMk"
      }
    },
    {
      "cell_type": "code",
      "source": [
        "subplots_fig.show()"
      ],
      "metadata": {
        "colab": {
          "base_uri": "https://localhost:8080/",
          "height": 542
        },
        "id": "2e6G2t49BtFD",
        "outputId": "c36eb0c5-9b26-47bb-cd8e-00ff529898b7"
      },
      "execution_count": 83,
      "outputs": [
        {
          "output_type": "display_data",
          "data": {
            "text/html": [
              "<html>\n",
              "<head><meta charset=\"utf-8\" /></head>\n",
              "<body>\n",
              "    <div>            <script src=\"https://cdnjs.cloudflare.com/ajax/libs/mathjax/2.7.5/MathJax.js?config=TeX-AMS-MML_SVG\"></script><script type=\"text/javascript\">if (window.MathJax && window.MathJax.Hub && window.MathJax.Hub.Config) {window.MathJax.Hub.Config({SVG: {font: \"STIX-Web\"}});}</script>                <script type=\"text/javascript\">window.PlotlyConfig = {MathJaxConfig: 'local'};</script>\n",
              "        <script src=\"https://cdn.plot.ly/plotly-2.18.2.min.js\"></script>                <div id=\"161ab000-0756-4055-84a3-00d0ab42f3d5\" class=\"plotly-graph-div\" style=\"height:525px; width:100%;\"></div>            <script type=\"text/javascript\">                                    window.PLOTLYENV=window.PLOTLYENV || {};                                    if (document.getElementById(\"161ab000-0756-4055-84a3-00d0ab42f3d5\")) {                    Plotly.newPlot(                        \"161ab000-0756-4055-84a3-00d0ab42f3d5\",                        [{\"name\":\"\\u6771\\u5de5\\u5927\",\"x\":[\"2012~2014\",\"2013~2015\",\"2014~2016\",\"2015~2017\",\"2016~2018\",\"2017~2019\",\"2018~2020\",\"2019~2021\"],\"y\":[89,87,89,71,76,64,75,67],\"type\":\"scatter\",\"xaxis\":\"x\",\"yaxis\":\"y\"},{\"name\":\"MIT\",\"x\":[\"2012~2014\",\"2013~2015\",\"2014~2016\",\"2015~2017\",\"2016~2018\",\"2017~2019\",\"2018~2020\",\"2019~2021\"],\"y\":[502,536,560,541,512,499,485,459],\"type\":\"scatter\",\"xaxis\":\"x\",\"yaxis\":\"y\"},{\"name\":\"Imperial College London\",\"x\":[\"2012~2014\",\"2013~2015\",\"2014~2016\",\"2015~2017\",\"2016~2018\",\"2017~2019\",\"2018~2020\",\"2019~2021\"],\"y\":[486,509,353,404,432,426,449,475],\"type\":\"scatter\",\"xaxis\":\"x\",\"yaxis\":\"y\"},{\"name\":\"\\u6771\\u5927\",\"x\":[\"2012~2014\",\"2013~2015\",\"2014~2016\",\"2015~2017\",\"2016~2018\",\"2017~2019\",\"2018~2020\",\"2019~2021\"],\"y\":[358,393,385,420,439,425,410,400],\"type\":\"scatter\",\"xaxis\":\"x\",\"yaxis\":\"y\"},{\"name\":\"\\u4eac\\u5927\",\"x\":[\"2012~2014\",\"2013~2015\",\"2014~2016\",\"2015~2017\",\"2016~2018\",\"2017~2019\",\"2018~2020\",\"2019~2021\"],\"y\":[205,216,222,220,220,219,231,222],\"type\":\"scatter\",\"xaxis\":\"x\",\"yaxis\":\"y\"},{\"name\":\"\\u5927\\u962a\\u5927\",\"x\":[\"2012~2014\",\"2013~2015\",\"2014~2016\",\"2015~2017\",\"2016~2018\",\"2017~2019\",\"2018~2020\",\"2019~2021\"],\"y\":[214,207,190,174,175,186,186,169],\"type\":\"scatter\",\"xaxis\":\"x\",\"yaxis\":\"y\"},{\"name\":\"\\u6771\\u5317\\u5927\",\"x\":[\"2012~2014\",\"2013~2015\",\"2014~2016\",\"2015~2017\",\"2016~2018\",\"2017~2019\",\"2018~2020\",\"2019~2021\"],\"y\":[251,250,213,190,198,179,205,238],\"type\":\"scatter\",\"xaxis\":\"x\",\"yaxis\":\"y\"},{\"name\":\"\\u540d\\u53e4\\u5c4b\\u5927\",\"x\":[\"2012~2014\",\"2013~2015\",\"2014~2016\",\"2015~2017\",\"2016~2018\",\"2017~2019\",\"2018~2020\",\"2019~2021\"],\"y\":[129,136,132,129,143,158,164,157],\"type\":\"scatter\",\"xaxis\":\"x\",\"yaxis\":\"y\"},{\"name\":\"\\u6771\\u4eac\\u533b\\u79d1\\u6b6f\\u79d1\\u5927\\u5b66\",\"x\":[\"2012~2014\",\"2013~2015\",\"2014~2016\",\"2015~2017\",\"2016~2018\",\"2017~2019\",\"2018~2020\",\"2019~2021\"],\"y\":[30,32,33,30,34,37,41,56],\"type\":\"scatter\",\"xaxis\":\"x\",\"yaxis\":\"y\"},{\"name\":\"\\u6771\\u5de5\\u5927+\\u533b\\u79d1\\u6b6f\\u79d1\\u5927\\u5b66\",\"x\":[\"2012~2014\",\"2013~2015\",\"2014~2016\",\"2015~2017\",\"2016~2018\",\"2017~2019\",\"2018~2020\",\"2019~2021\"],\"y\":[119,119,122,101,110,101,116,123],\"type\":\"scatter\",\"xaxis\":\"x\",\"yaxis\":\"y\"}],                        {\"template\":{\"data\":{\"histogram2dcontour\":[{\"type\":\"histogram2dcontour\",\"colorbar\":{\"outlinewidth\":0,\"ticks\":\"\"},\"colorscale\":[[0.0,\"#0d0887\"],[0.1111111111111111,\"#46039f\"],[0.2222222222222222,\"#7201a8\"],[0.3333333333333333,\"#9c179e\"],[0.4444444444444444,\"#bd3786\"],[0.5555555555555556,\"#d8576b\"],[0.6666666666666666,\"#ed7953\"],[0.7777777777777778,\"#fb9f3a\"],[0.8888888888888888,\"#fdca26\"],[1.0,\"#f0f921\"]]}],\"choropleth\":[{\"type\":\"choropleth\",\"colorbar\":{\"outlinewidth\":0,\"ticks\":\"\"}}],\"histogram2d\":[{\"type\":\"histogram2d\",\"colorbar\":{\"outlinewidth\":0,\"ticks\":\"\"},\"colorscale\":[[0.0,\"#0d0887\"],[0.1111111111111111,\"#46039f\"],[0.2222222222222222,\"#7201a8\"],[0.3333333333333333,\"#9c179e\"],[0.4444444444444444,\"#bd3786\"],[0.5555555555555556,\"#d8576b\"],[0.6666666666666666,\"#ed7953\"],[0.7777777777777778,\"#fb9f3a\"],[0.8888888888888888,\"#fdca26\"],[1.0,\"#f0f921\"]]}],\"heatmap\":[{\"type\":\"heatmap\",\"colorbar\":{\"outlinewidth\":0,\"ticks\":\"\"},\"colorscale\":[[0.0,\"#0d0887\"],[0.1111111111111111,\"#46039f\"],[0.2222222222222222,\"#7201a8\"],[0.3333333333333333,\"#9c179e\"],[0.4444444444444444,\"#bd3786\"],[0.5555555555555556,\"#d8576b\"],[0.6666666666666666,\"#ed7953\"],[0.7777777777777778,\"#fb9f3a\"],[0.8888888888888888,\"#fdca26\"],[1.0,\"#f0f921\"]]}],\"heatmapgl\":[{\"type\":\"heatmapgl\",\"colorbar\":{\"outlinewidth\":0,\"ticks\":\"\"},\"colorscale\":[[0.0,\"#0d0887\"],[0.1111111111111111,\"#46039f\"],[0.2222222222222222,\"#7201a8\"],[0.3333333333333333,\"#9c179e\"],[0.4444444444444444,\"#bd3786\"],[0.5555555555555556,\"#d8576b\"],[0.6666666666666666,\"#ed7953\"],[0.7777777777777778,\"#fb9f3a\"],[0.8888888888888888,\"#fdca26\"],[1.0,\"#f0f921\"]]}],\"contourcarpet\":[{\"type\":\"contourcarpet\",\"colorbar\":{\"outlinewidth\":0,\"ticks\":\"\"}}],\"contour\":[{\"type\":\"contour\",\"colorbar\":{\"outlinewidth\":0,\"ticks\":\"\"},\"colorscale\":[[0.0,\"#0d0887\"],[0.1111111111111111,\"#46039f\"],[0.2222222222222222,\"#7201a8\"],[0.3333333333333333,\"#9c179e\"],[0.4444444444444444,\"#bd3786\"],[0.5555555555555556,\"#d8576b\"],[0.6666666666666666,\"#ed7953\"],[0.7777777777777778,\"#fb9f3a\"],[0.8888888888888888,\"#fdca26\"],[1.0,\"#f0f921\"]]}],\"surface\":[{\"type\":\"surface\",\"colorbar\":{\"outlinewidth\":0,\"ticks\":\"\"},\"colorscale\":[[0.0,\"#0d0887\"],[0.1111111111111111,\"#46039f\"],[0.2222222222222222,\"#7201a8\"],[0.3333333333333333,\"#9c179e\"],[0.4444444444444444,\"#bd3786\"],[0.5555555555555556,\"#d8576b\"],[0.6666666666666666,\"#ed7953\"],[0.7777777777777778,\"#fb9f3a\"],[0.8888888888888888,\"#fdca26\"],[1.0,\"#f0f921\"]]}],\"mesh3d\":[{\"type\":\"mesh3d\",\"colorbar\":{\"outlinewidth\":0,\"ticks\":\"\"}}],\"scatter\":[{\"fillpattern\":{\"fillmode\":\"overlay\",\"size\":10,\"solidity\":0.2},\"type\":\"scatter\"}],\"parcoords\":[{\"type\":\"parcoords\",\"line\":{\"colorbar\":{\"outlinewidth\":0,\"ticks\":\"\"}}}],\"scatterpolargl\":[{\"type\":\"scatterpolargl\",\"marker\":{\"colorbar\":{\"outlinewidth\":0,\"ticks\":\"\"}}}],\"bar\":[{\"error_x\":{\"color\":\"#2a3f5f\"},\"error_y\":{\"color\":\"#2a3f5f\"},\"marker\":{\"line\":{\"color\":\"#E5ECF6\",\"width\":0.5},\"pattern\":{\"fillmode\":\"overlay\",\"size\":10,\"solidity\":0.2}},\"type\":\"bar\"}],\"scattergeo\":[{\"type\":\"scattergeo\",\"marker\":{\"colorbar\":{\"outlinewidth\":0,\"ticks\":\"\"}}}],\"scatterpolar\":[{\"type\":\"scatterpolar\",\"marker\":{\"colorbar\":{\"outlinewidth\":0,\"ticks\":\"\"}}}],\"histogram\":[{\"marker\":{\"pattern\":{\"fillmode\":\"overlay\",\"size\":10,\"solidity\":0.2}},\"type\":\"histogram\"}],\"scattergl\":[{\"type\":\"scattergl\",\"marker\":{\"colorbar\":{\"outlinewidth\":0,\"ticks\":\"\"}}}],\"scatter3d\":[{\"type\":\"scatter3d\",\"line\":{\"colorbar\":{\"outlinewidth\":0,\"ticks\":\"\"}},\"marker\":{\"colorbar\":{\"outlinewidth\":0,\"ticks\":\"\"}}}],\"scattermapbox\":[{\"type\":\"scattermapbox\",\"marker\":{\"colorbar\":{\"outlinewidth\":0,\"ticks\":\"\"}}}],\"scatterternary\":[{\"type\":\"scatterternary\",\"marker\":{\"colorbar\":{\"outlinewidth\":0,\"ticks\":\"\"}}}],\"scattercarpet\":[{\"type\":\"scattercarpet\",\"marker\":{\"colorbar\":{\"outlinewidth\":0,\"ticks\":\"\"}}}],\"carpet\":[{\"aaxis\":{\"endlinecolor\":\"#2a3f5f\",\"gridcolor\":\"white\",\"linecolor\":\"white\",\"minorgridcolor\":\"white\",\"startlinecolor\":\"#2a3f5f\"},\"baxis\":{\"endlinecolor\":\"#2a3f5f\",\"gridcolor\":\"white\",\"linecolor\":\"white\",\"minorgridcolor\":\"white\",\"startlinecolor\":\"#2a3f5f\"},\"type\":\"carpet\"}],\"table\":[{\"cells\":{\"fill\":{\"color\":\"#EBF0F8\"},\"line\":{\"color\":\"white\"}},\"header\":{\"fill\":{\"color\":\"#C8D4E3\"},\"line\":{\"color\":\"white\"}},\"type\":\"table\"}],\"barpolar\":[{\"marker\":{\"line\":{\"color\":\"#E5ECF6\",\"width\":0.5},\"pattern\":{\"fillmode\":\"overlay\",\"size\":10,\"solidity\":0.2}},\"type\":\"barpolar\"}],\"pie\":[{\"automargin\":true,\"type\":\"pie\"}]},\"layout\":{\"autotypenumbers\":\"strict\",\"colorway\":[\"#636efa\",\"#EF553B\",\"#00cc96\",\"#ab63fa\",\"#FFA15A\",\"#19d3f3\",\"#FF6692\",\"#B6E880\",\"#FF97FF\",\"#FECB52\"],\"font\":{\"color\":\"#2a3f5f\"},\"hovermode\":\"closest\",\"hoverlabel\":{\"align\":\"left\"},\"paper_bgcolor\":\"white\",\"plot_bgcolor\":\"#E5ECF6\",\"polar\":{\"bgcolor\":\"#E5ECF6\",\"angularaxis\":{\"gridcolor\":\"white\",\"linecolor\":\"white\",\"ticks\":\"\"},\"radialaxis\":{\"gridcolor\":\"white\",\"linecolor\":\"white\",\"ticks\":\"\"}},\"ternary\":{\"bgcolor\":\"#E5ECF6\",\"aaxis\":{\"gridcolor\":\"white\",\"linecolor\":\"white\",\"ticks\":\"\"},\"baxis\":{\"gridcolor\":\"white\",\"linecolor\":\"white\",\"ticks\":\"\"},\"caxis\":{\"gridcolor\":\"white\",\"linecolor\":\"white\",\"ticks\":\"\"}},\"coloraxis\":{\"colorbar\":{\"outlinewidth\":0,\"ticks\":\"\"}},\"colorscale\":{\"sequential\":[[0.0,\"#0d0887\"],[0.1111111111111111,\"#46039f\"],[0.2222222222222222,\"#7201a8\"],[0.3333333333333333,\"#9c179e\"],[0.4444444444444444,\"#bd3786\"],[0.5555555555555556,\"#d8576b\"],[0.6666666666666666,\"#ed7953\"],[0.7777777777777778,\"#fb9f3a\"],[0.8888888888888888,\"#fdca26\"],[1.0,\"#f0f921\"]],\"sequentialminus\":[[0.0,\"#0d0887\"],[0.1111111111111111,\"#46039f\"],[0.2222222222222222,\"#7201a8\"],[0.3333333333333333,\"#9c179e\"],[0.4444444444444444,\"#bd3786\"],[0.5555555555555556,\"#d8576b\"],[0.6666666666666666,\"#ed7953\"],[0.7777777777777778,\"#fb9f3a\"],[0.8888888888888888,\"#fdca26\"],[1.0,\"#f0f921\"]],\"diverging\":[[0,\"#8e0152\"],[0.1,\"#c51b7d\"],[0.2,\"#de77ae\"],[0.3,\"#f1b6da\"],[0.4,\"#fde0ef\"],[0.5,\"#f7f7f7\"],[0.6,\"#e6f5d0\"],[0.7,\"#b8e186\"],[0.8,\"#7fbc41\"],[0.9,\"#4d9221\"],[1,\"#276419\"]]},\"xaxis\":{\"gridcolor\":\"white\",\"linecolor\":\"white\",\"ticks\":\"\",\"title\":{\"standoff\":15},\"zerolinecolor\":\"white\",\"automargin\":true,\"zerolinewidth\":2},\"yaxis\":{\"gridcolor\":\"white\",\"linecolor\":\"white\",\"ticks\":\"\",\"title\":{\"standoff\":15},\"zerolinecolor\":\"white\",\"automargin\":true,\"zerolinewidth\":2},\"scene\":{\"xaxis\":{\"backgroundcolor\":\"#E5ECF6\",\"gridcolor\":\"white\",\"linecolor\":\"white\",\"showbackground\":true,\"ticks\":\"\",\"zerolinecolor\":\"white\",\"gridwidth\":2},\"yaxis\":{\"backgroundcolor\":\"#E5ECF6\",\"gridcolor\":\"white\",\"linecolor\":\"white\",\"showbackground\":true,\"ticks\":\"\",\"zerolinecolor\":\"white\",\"gridwidth\":2},\"zaxis\":{\"backgroundcolor\":\"#E5ECF6\",\"gridcolor\":\"white\",\"linecolor\":\"white\",\"showbackground\":true,\"ticks\":\"\",\"zerolinecolor\":\"white\",\"gridwidth\":2}},\"shapedefaults\":{\"line\":{\"color\":\"#2a3f5f\"}},\"annotationdefaults\":{\"arrowcolor\":\"#2a3f5f\",\"arrowhead\":0,\"arrowwidth\":1},\"geo\":{\"bgcolor\":\"white\",\"landcolor\":\"#E5ECF6\",\"subunitcolor\":\"white\",\"showland\":true,\"showlakes\":true,\"lakecolor\":\"white\"},\"title\":{\"x\":0.05},\"mapbox\":{\"style\":\"light\"}}},\"xaxis\":{\"anchor\":\"y\",\"domain\":[0.0,1.0]},\"yaxis\":{\"anchor\":\"x\",\"domain\":[0.0,1.0]},\"title\":{\"text\":\"\\u6761\\u4ef6\\u3092\\u6e80\\u305f\\u3059\\u7814\\u7a76\\u8005\\u306e\\u63a8\\u79fb\"}},                        {\"responsive\": true}                    ).then(function(){\n",
              "                            \n",
              "var gd = document.getElementById('161ab000-0756-4055-84a3-00d0ab42f3d5');\n",
              "var x = new MutationObserver(function (mutations, observer) {{\n",
              "        var display = window.getComputedStyle(gd).display;\n",
              "        if (!display || display === 'none') {{\n",
              "            console.log([gd, 'removed!']);\n",
              "            Plotly.purge(gd);\n",
              "            observer.disconnect();\n",
              "        }}\n",
              "}});\n",
              "\n",
              "// Listen for the removal of the full notebook cells\n",
              "var notebookContainer = gd.closest('#notebook-container');\n",
              "if (notebookContainer) {{\n",
              "    x.observe(notebookContainer, {childList: true});\n",
              "}}\n",
              "\n",
              "// Listen for the clearing of the current output cell\n",
              "var outputEl = gd.closest('.output');\n",
              "if (outputEl) {{\n",
              "    x.observe(outputEl, {childList: true});\n",
              "}}\n",
              "\n",
              "                        })                };                            </script>        </div>\n",
              "</body>\n",
              "</html>"
            ]
          },
          "metadata": {}
        }
      ]
    },
    {
      "cell_type": "markdown",
      "source": [
        "## 集計"
      ],
      "metadata": {
        "id": "xnXNMJPfCMBF"
      }
    },
    {
      "cell_type": "code",
      "source": [
        "#医学無しの場合の推移\n",
        "not_med = tag_all.query('new_tag != \"医学\"')\n",
        "a = not_med.groupby(['大学名','year','end_year'],as_index=False).sum()\n",
        "\n",
        "line_trace = go.Scatter(x=a.query('大学名 == \"titech\"')['year'], y=a.query('大学名 == \"titech\"')['研究者数'], name='東工大')\n",
        "line_trace1 = go.Scatter(x=a.query('大学名 == \"MIT\"')['year'], y=a.query('大学名 == \"MIT\"')['研究者数'], name='MIT')\n",
        "line_trace2 = go.Scatter(x=a.query('大学名 == \"Imperial\"')['year'], y=a.query('大学名 == \"Imperial\"')['研究者数'], name='Imperial College London')\n",
        "line_trace3 = go.Scatter(x=a.query('大学名 == \"UT\"')['year'], y=a.query('大学名 == \"UT\"')['研究者数'], name='東大')\n",
        "line_trace4 = go.Scatter(x=a.query('大学名 == \"kyoto\"')['year'], y=a.query('大学名 == \"kyoto\"')['研究者数'], name='京大')\n",
        "line_trace5 = go.Scatter(x=a.query('大学名 == \"osaka\"')['year'], y=a.query('大学名 == \"osaka\"')['研究者数'], name='大阪大')\n",
        "line_trace6 = go.Scatter(x=a.query('大学名 == \"tohoku\"')['year'], y=a.query('大学名 == \"tohoku\"')['研究者数'], name='東北大')\n",
        "line_trace7 = go.Scatter(x=a.query('大学名 == \"nagoya\"')['year'], y=a.query('大学名 == \"nagoya\"')['研究者数'], name='名古屋大')\n",
        "line_trace8 = go.Scatter(x=a.query('大学名 == \"medical\"')['year'], y=a.query('大学名 == \"medical\"')['研究者数'], name='東京医科歯科大学')\n",
        "line_trace9 = go.Scatter(x=a.query('大学名 == \"東工大+医科歯科大\"')['year'], y=a.query('大学名 == \"東工大+医科歯科大\"')['研究者数'], name='東工大+医科歯科大学')\n",
        "\n",
        "subplots_fig = make_subplots(rows=1, cols=1)\n",
        "subplots_fig.add_trace(line_trace, row=1, col=1)\n",
        "subplots_fig.add_trace(line_trace1, row=1, col=1)\n",
        "subplots_fig.add_trace(line_trace2, row=1, col=1)\n",
        "subplots_fig.add_trace(line_trace3, row=1, col=1)\n",
        "subplots_fig.add_trace(line_trace4, row=1, col=1)\n",
        "subplots_fig.add_trace(line_trace5, row=1, col=1)\n",
        "subplots_fig.add_trace(line_trace6, row=1, col=1)\n",
        "subplots_fig.add_trace(line_trace7, row=1, col=1)\n",
        "subplots_fig.add_trace(line_trace8, row=1, col=1)\n",
        "subplots_fig.add_trace(line_trace9, row=1, col=1)\n",
        "\n",
        "subplots_fig.update_layout(title='医学分野を除いた場合の条件を満たす研究者の推移')\n",
        "\n"
      ],
      "metadata": {
        "colab": {
          "base_uri": "https://localhost:8080/",
          "height": 542
        },
        "id": "IGpqHIzBRvur",
        "outputId": "373a0d2c-5b5e-48a6-96f2-3a55d50e0155"
      },
      "execution_count": 84,
      "outputs": [
        {
          "output_type": "display_data",
          "data": {
            "text/html": [
              "<html>\n",
              "<head><meta charset=\"utf-8\" /></head>\n",
              "<body>\n",
              "    <div>            <script src=\"https://cdnjs.cloudflare.com/ajax/libs/mathjax/2.7.5/MathJax.js?config=TeX-AMS-MML_SVG\"></script><script type=\"text/javascript\">if (window.MathJax && window.MathJax.Hub && window.MathJax.Hub.Config) {window.MathJax.Hub.Config({SVG: {font: \"STIX-Web\"}});}</script>                <script type=\"text/javascript\">window.PlotlyConfig = {MathJaxConfig: 'local'};</script>\n",
              "        <script src=\"https://cdn.plot.ly/plotly-2.18.2.min.js\"></script>                <div id=\"f4e7c171-b2c5-4c7e-9e41-40ec90ddf28b\" class=\"plotly-graph-div\" style=\"height:525px; width:100%;\"></div>            <script type=\"text/javascript\">                                    window.PLOTLYENV=window.PLOTLYENV || {};                                    if (document.getElementById(\"f4e7c171-b2c5-4c7e-9e41-40ec90ddf28b\")) {                    Plotly.newPlot(                        \"f4e7c171-b2c5-4c7e-9e41-40ec90ddf28b\",                        [{\"name\":\"\\u6771\\u5de5\\u5927\",\"x\":[\"2012~2014\",\"2013~2015\",\"2014~2016\",\"2015~2017\",\"2016~2018\",\"2017~2019\",\"2018~2020\",\"2019~2021\"],\"y\":[89,87,89,71,76,64,75,66],\"type\":\"scatter\",\"xaxis\":\"x\",\"yaxis\":\"y\"},{\"name\":\"MIT\",\"x\":[\"2012~2014\",\"2013~2015\",\"2014~2016\",\"2015~2017\",\"2016~2018\",\"2017~2019\",\"2018~2020\",\"2019~2021\"],\"y\":[439,474,486,475,446,437,421,391],\"type\":\"scatter\",\"xaxis\":\"x\",\"yaxis\":\"y\"},{\"name\":\"Imperial College London\",\"x\":[\"2012~2014\",\"2013~2015\",\"2014~2016\",\"2015~2017\",\"2016~2018\",\"2017~2019\",\"2018~2020\",\"2019~2021\"],\"y\":[245,238,183,215,229,236,232,234],\"type\":\"scatter\",\"xaxis\":\"x\",\"yaxis\":\"y\"},{\"name\":\"\\u6771\\u5927\",\"x\":[\"2012~2014\",\"2013~2015\",\"2014~2016\",\"2015~2017\",\"2016~2018\",\"2017~2019\",\"2018~2020\",\"2019~2021\"],\"y\":[284,311,306,337,340,348,324,324],\"type\":\"scatter\",\"xaxis\":\"x\",\"yaxis\":\"y\"},{\"name\":\"\\u4eac\\u5927\",\"x\":[\"2012~2014\",\"2013~2015\",\"2014~2016\",\"2015~2017\",\"2016~2018\",\"2017~2019\",\"2018~2020\",\"2019~2021\"],\"y\":[158,165,174,165,164,161,168,164],\"type\":\"scatter\",\"xaxis\":\"x\",\"yaxis\":\"y\"},{\"name\":\"\\u5927\\u962a\\u5927\",\"x\":[\"2012~2014\",\"2013~2015\",\"2014~2016\",\"2015~2017\",\"2016~2018\",\"2017~2019\",\"2018~2020\",\"2019~2021\"],\"y\":[150,143,130,118,110,107,104,86],\"type\":\"scatter\",\"xaxis\":\"x\",\"yaxis\":\"y\"},{\"name\":\"\\u6771\\u5317\\u5927\",\"x\":[\"2012~2014\",\"2013~2015\",\"2014~2016\",\"2015~2017\",\"2016~2018\",\"2017~2019\",\"2018~2020\",\"2019~2021\"],\"y\":[205,194,157,130,136,129,150,159],\"type\":\"scatter\",\"xaxis\":\"x\",\"yaxis\":\"y\"},{\"name\":\"\\u540d\\u53e4\\u5c4b\\u5927\",\"x\":[\"2012~2014\",\"2013~2015\",\"2014~2016\",\"2015~2017\",\"2016~2018\",\"2017~2019\",\"2018~2020\",\"2019~2021\"],\"y\":[86,90,83,75,89,102,95,81],\"type\":\"scatter\",\"xaxis\":\"x\",\"yaxis\":\"y\"},{\"name\":\"\\u6771\\u4eac\\u533b\\u79d1\\u6b6f\\u79d1\\u5927\\u5b66\",\"x\":[\"2012~2014\",\"2013~2015\",\"2014~2016\",\"2015~2017\",\"2016~2018\",\"2017~2019\",\"2018~2020\",\"2019~2021\"],\"y\":[7,7,7,9,9,10,8,10],\"type\":\"scatter\",\"xaxis\":\"x\",\"yaxis\":\"y\"},{\"name\":\"\\u6771\\u5de5\\u5927+\\u533b\\u79d1\\u6b6f\\u79d1\\u5927\\u5b66\",\"x\":[\"2012~2014\",\"2013~2015\",\"2014~2016\",\"2015~2017\",\"2016~2018\",\"2017~2019\",\"2018~2020\",\"2019~2021\"],\"y\":[96,94,96,80,85,74,83,76],\"type\":\"scatter\",\"xaxis\":\"x\",\"yaxis\":\"y\"}],                        {\"template\":{\"data\":{\"histogram2dcontour\":[{\"type\":\"histogram2dcontour\",\"colorbar\":{\"outlinewidth\":0,\"ticks\":\"\"},\"colorscale\":[[0.0,\"#0d0887\"],[0.1111111111111111,\"#46039f\"],[0.2222222222222222,\"#7201a8\"],[0.3333333333333333,\"#9c179e\"],[0.4444444444444444,\"#bd3786\"],[0.5555555555555556,\"#d8576b\"],[0.6666666666666666,\"#ed7953\"],[0.7777777777777778,\"#fb9f3a\"],[0.8888888888888888,\"#fdca26\"],[1.0,\"#f0f921\"]]}],\"choropleth\":[{\"type\":\"choropleth\",\"colorbar\":{\"outlinewidth\":0,\"ticks\":\"\"}}],\"histogram2d\":[{\"type\":\"histogram2d\",\"colorbar\":{\"outlinewidth\":0,\"ticks\":\"\"},\"colorscale\":[[0.0,\"#0d0887\"],[0.1111111111111111,\"#46039f\"],[0.2222222222222222,\"#7201a8\"],[0.3333333333333333,\"#9c179e\"],[0.4444444444444444,\"#bd3786\"],[0.5555555555555556,\"#d8576b\"],[0.6666666666666666,\"#ed7953\"],[0.7777777777777778,\"#fb9f3a\"],[0.8888888888888888,\"#fdca26\"],[1.0,\"#f0f921\"]]}],\"heatmap\":[{\"type\":\"heatmap\",\"colorbar\":{\"outlinewidth\":0,\"ticks\":\"\"},\"colorscale\":[[0.0,\"#0d0887\"],[0.1111111111111111,\"#46039f\"],[0.2222222222222222,\"#7201a8\"],[0.3333333333333333,\"#9c179e\"],[0.4444444444444444,\"#bd3786\"],[0.5555555555555556,\"#d8576b\"],[0.6666666666666666,\"#ed7953\"],[0.7777777777777778,\"#fb9f3a\"],[0.8888888888888888,\"#fdca26\"],[1.0,\"#f0f921\"]]}],\"heatmapgl\":[{\"type\":\"heatmapgl\",\"colorbar\":{\"outlinewidth\":0,\"ticks\":\"\"},\"colorscale\":[[0.0,\"#0d0887\"],[0.1111111111111111,\"#46039f\"],[0.2222222222222222,\"#7201a8\"],[0.3333333333333333,\"#9c179e\"],[0.4444444444444444,\"#bd3786\"],[0.5555555555555556,\"#d8576b\"],[0.6666666666666666,\"#ed7953\"],[0.7777777777777778,\"#fb9f3a\"],[0.8888888888888888,\"#fdca26\"],[1.0,\"#f0f921\"]]}],\"contourcarpet\":[{\"type\":\"contourcarpet\",\"colorbar\":{\"outlinewidth\":0,\"ticks\":\"\"}}],\"contour\":[{\"type\":\"contour\",\"colorbar\":{\"outlinewidth\":0,\"ticks\":\"\"},\"colorscale\":[[0.0,\"#0d0887\"],[0.1111111111111111,\"#46039f\"],[0.2222222222222222,\"#7201a8\"],[0.3333333333333333,\"#9c179e\"],[0.4444444444444444,\"#bd3786\"],[0.5555555555555556,\"#d8576b\"],[0.6666666666666666,\"#ed7953\"],[0.7777777777777778,\"#fb9f3a\"],[0.8888888888888888,\"#fdca26\"],[1.0,\"#f0f921\"]]}],\"surface\":[{\"type\":\"surface\",\"colorbar\":{\"outlinewidth\":0,\"ticks\":\"\"},\"colorscale\":[[0.0,\"#0d0887\"],[0.1111111111111111,\"#46039f\"],[0.2222222222222222,\"#7201a8\"],[0.3333333333333333,\"#9c179e\"],[0.4444444444444444,\"#bd3786\"],[0.5555555555555556,\"#d8576b\"],[0.6666666666666666,\"#ed7953\"],[0.7777777777777778,\"#fb9f3a\"],[0.8888888888888888,\"#fdca26\"],[1.0,\"#f0f921\"]]}],\"mesh3d\":[{\"type\":\"mesh3d\",\"colorbar\":{\"outlinewidth\":0,\"ticks\":\"\"}}],\"scatter\":[{\"fillpattern\":{\"fillmode\":\"overlay\",\"size\":10,\"solidity\":0.2},\"type\":\"scatter\"}],\"parcoords\":[{\"type\":\"parcoords\",\"line\":{\"colorbar\":{\"outlinewidth\":0,\"ticks\":\"\"}}}],\"scatterpolargl\":[{\"type\":\"scatterpolargl\",\"marker\":{\"colorbar\":{\"outlinewidth\":0,\"ticks\":\"\"}}}],\"bar\":[{\"error_x\":{\"color\":\"#2a3f5f\"},\"error_y\":{\"color\":\"#2a3f5f\"},\"marker\":{\"line\":{\"color\":\"#E5ECF6\",\"width\":0.5},\"pattern\":{\"fillmode\":\"overlay\",\"size\":10,\"solidity\":0.2}},\"type\":\"bar\"}],\"scattergeo\":[{\"type\":\"scattergeo\",\"marker\":{\"colorbar\":{\"outlinewidth\":0,\"ticks\":\"\"}}}],\"scatterpolar\":[{\"type\":\"scatterpolar\",\"marker\":{\"colorbar\":{\"outlinewidth\":0,\"ticks\":\"\"}}}],\"histogram\":[{\"marker\":{\"pattern\":{\"fillmode\":\"overlay\",\"size\":10,\"solidity\":0.2}},\"type\":\"histogram\"}],\"scattergl\":[{\"type\":\"scattergl\",\"marker\":{\"colorbar\":{\"outlinewidth\":0,\"ticks\":\"\"}}}],\"scatter3d\":[{\"type\":\"scatter3d\",\"line\":{\"colorbar\":{\"outlinewidth\":0,\"ticks\":\"\"}},\"marker\":{\"colorbar\":{\"outlinewidth\":0,\"ticks\":\"\"}}}],\"scattermapbox\":[{\"type\":\"scattermapbox\",\"marker\":{\"colorbar\":{\"outlinewidth\":0,\"ticks\":\"\"}}}],\"scatterternary\":[{\"type\":\"scatterternary\",\"marker\":{\"colorbar\":{\"outlinewidth\":0,\"ticks\":\"\"}}}],\"scattercarpet\":[{\"type\":\"scattercarpet\",\"marker\":{\"colorbar\":{\"outlinewidth\":0,\"ticks\":\"\"}}}],\"carpet\":[{\"aaxis\":{\"endlinecolor\":\"#2a3f5f\",\"gridcolor\":\"white\",\"linecolor\":\"white\",\"minorgridcolor\":\"white\",\"startlinecolor\":\"#2a3f5f\"},\"baxis\":{\"endlinecolor\":\"#2a3f5f\",\"gridcolor\":\"white\",\"linecolor\":\"white\",\"minorgridcolor\":\"white\",\"startlinecolor\":\"#2a3f5f\"},\"type\":\"carpet\"}],\"table\":[{\"cells\":{\"fill\":{\"color\":\"#EBF0F8\"},\"line\":{\"color\":\"white\"}},\"header\":{\"fill\":{\"color\":\"#C8D4E3\"},\"line\":{\"color\":\"white\"}},\"type\":\"table\"}],\"barpolar\":[{\"marker\":{\"line\":{\"color\":\"#E5ECF6\",\"width\":0.5},\"pattern\":{\"fillmode\":\"overlay\",\"size\":10,\"solidity\":0.2}},\"type\":\"barpolar\"}],\"pie\":[{\"automargin\":true,\"type\":\"pie\"}]},\"layout\":{\"autotypenumbers\":\"strict\",\"colorway\":[\"#636efa\",\"#EF553B\",\"#00cc96\",\"#ab63fa\",\"#FFA15A\",\"#19d3f3\",\"#FF6692\",\"#B6E880\",\"#FF97FF\",\"#FECB52\"],\"font\":{\"color\":\"#2a3f5f\"},\"hovermode\":\"closest\",\"hoverlabel\":{\"align\":\"left\"},\"paper_bgcolor\":\"white\",\"plot_bgcolor\":\"#E5ECF6\",\"polar\":{\"bgcolor\":\"#E5ECF6\",\"angularaxis\":{\"gridcolor\":\"white\",\"linecolor\":\"white\",\"ticks\":\"\"},\"radialaxis\":{\"gridcolor\":\"white\",\"linecolor\":\"white\",\"ticks\":\"\"}},\"ternary\":{\"bgcolor\":\"#E5ECF6\",\"aaxis\":{\"gridcolor\":\"white\",\"linecolor\":\"white\",\"ticks\":\"\"},\"baxis\":{\"gridcolor\":\"white\",\"linecolor\":\"white\",\"ticks\":\"\"},\"caxis\":{\"gridcolor\":\"white\",\"linecolor\":\"white\",\"ticks\":\"\"}},\"coloraxis\":{\"colorbar\":{\"outlinewidth\":0,\"ticks\":\"\"}},\"colorscale\":{\"sequential\":[[0.0,\"#0d0887\"],[0.1111111111111111,\"#46039f\"],[0.2222222222222222,\"#7201a8\"],[0.3333333333333333,\"#9c179e\"],[0.4444444444444444,\"#bd3786\"],[0.5555555555555556,\"#d8576b\"],[0.6666666666666666,\"#ed7953\"],[0.7777777777777778,\"#fb9f3a\"],[0.8888888888888888,\"#fdca26\"],[1.0,\"#f0f921\"]],\"sequentialminus\":[[0.0,\"#0d0887\"],[0.1111111111111111,\"#46039f\"],[0.2222222222222222,\"#7201a8\"],[0.3333333333333333,\"#9c179e\"],[0.4444444444444444,\"#bd3786\"],[0.5555555555555556,\"#d8576b\"],[0.6666666666666666,\"#ed7953\"],[0.7777777777777778,\"#fb9f3a\"],[0.8888888888888888,\"#fdca26\"],[1.0,\"#f0f921\"]],\"diverging\":[[0,\"#8e0152\"],[0.1,\"#c51b7d\"],[0.2,\"#de77ae\"],[0.3,\"#f1b6da\"],[0.4,\"#fde0ef\"],[0.5,\"#f7f7f7\"],[0.6,\"#e6f5d0\"],[0.7,\"#b8e186\"],[0.8,\"#7fbc41\"],[0.9,\"#4d9221\"],[1,\"#276419\"]]},\"xaxis\":{\"gridcolor\":\"white\",\"linecolor\":\"white\",\"ticks\":\"\",\"title\":{\"standoff\":15},\"zerolinecolor\":\"white\",\"automargin\":true,\"zerolinewidth\":2},\"yaxis\":{\"gridcolor\":\"white\",\"linecolor\":\"white\",\"ticks\":\"\",\"title\":{\"standoff\":15},\"zerolinecolor\":\"white\",\"automargin\":true,\"zerolinewidth\":2},\"scene\":{\"xaxis\":{\"backgroundcolor\":\"#E5ECF6\",\"gridcolor\":\"white\",\"linecolor\":\"white\",\"showbackground\":true,\"ticks\":\"\",\"zerolinecolor\":\"white\",\"gridwidth\":2},\"yaxis\":{\"backgroundcolor\":\"#E5ECF6\",\"gridcolor\":\"white\",\"linecolor\":\"white\",\"showbackground\":true,\"ticks\":\"\",\"zerolinecolor\":\"white\",\"gridwidth\":2},\"zaxis\":{\"backgroundcolor\":\"#E5ECF6\",\"gridcolor\":\"white\",\"linecolor\":\"white\",\"showbackground\":true,\"ticks\":\"\",\"zerolinecolor\":\"white\",\"gridwidth\":2}},\"shapedefaults\":{\"line\":{\"color\":\"#2a3f5f\"}},\"annotationdefaults\":{\"arrowcolor\":\"#2a3f5f\",\"arrowhead\":0,\"arrowwidth\":1},\"geo\":{\"bgcolor\":\"white\",\"landcolor\":\"#E5ECF6\",\"subunitcolor\":\"white\",\"showland\":true,\"showlakes\":true,\"lakecolor\":\"white\"},\"title\":{\"x\":0.05},\"mapbox\":{\"style\":\"light\"}}},\"xaxis\":{\"anchor\":\"y\",\"domain\":[0.0,1.0]},\"yaxis\":{\"anchor\":\"x\",\"domain\":[0.0,1.0]},\"title\":{\"text\":\"\\u533b\\u5b66\\u5206\\u91ce\\u3092\\u9664\\u3044\\u305f\\u5834\\u5408\\u306e\\u6761\\u4ef6\\u3092\\u6e80\\u305f\\u3059\\u7814\\u7a76\\u8005\\u306e\\u63a8\\u79fb\"}},                        {\"responsive\": true}                    ).then(function(){\n",
              "                            \n",
              "var gd = document.getElementById('f4e7c171-b2c5-4c7e-9e41-40ec90ddf28b');\n",
              "var x = new MutationObserver(function (mutations, observer) {{\n",
              "        var display = window.getComputedStyle(gd).display;\n",
              "        if (!display || display === 'none') {{\n",
              "            console.log([gd, 'removed!']);\n",
              "            Plotly.purge(gd);\n",
              "            observer.disconnect();\n",
              "        }}\n",
              "}});\n",
              "\n",
              "// Listen for the removal of the full notebook cells\n",
              "var notebookContainer = gd.closest('#notebook-container');\n",
              "if (notebookContainer) {{\n",
              "    x.observe(notebookContainer, {childList: true});\n",
              "}}\n",
              "\n",
              "// Listen for the clearing of the current output cell\n",
              "var outputEl = gd.closest('.output');\n",
              "if (outputEl) {{\n",
              "    x.observe(outputEl, {childList: true});\n",
              "}}\n",
              "\n",
              "                        })                };                            </script>        </div>\n",
              "</body>\n",
              "</html>"
            ]
          },
          "metadata": {}
        }
      ]
    },
    {
      "cell_type": "markdown",
      "source": [
        "## 医学分野を除いた場合の推移\n",
        "\n",
        "### 全体の傾向\n",
        "- 東北大と京都大学がほとんど同等になっている\n",
        "\n",
        "### 東工大と日本の大学の比較\n",
        "- 条件を満たす研究者の数は大阪大学や名古屋大学とほとんど変わらない\n"
      ],
      "metadata": {
        "id": "CTFnkg7cCFX5"
      }
    },
    {
      "cell_type": "code",
      "source": [
        "subplots_fig.show()"
      ],
      "metadata": {
        "colab": {
          "base_uri": "https://localhost:8080/",
          "height": 542
        },
        "id": "zaJZD6J9CEf9",
        "outputId": "d20a2bb9-f629-4414-a459-e2ab9780985c"
      },
      "execution_count": 85,
      "outputs": [
        {
          "output_type": "display_data",
          "data": {
            "text/html": [
              "<html>\n",
              "<head><meta charset=\"utf-8\" /></head>\n",
              "<body>\n",
              "    <div>            <script src=\"https://cdnjs.cloudflare.com/ajax/libs/mathjax/2.7.5/MathJax.js?config=TeX-AMS-MML_SVG\"></script><script type=\"text/javascript\">if (window.MathJax && window.MathJax.Hub && window.MathJax.Hub.Config) {window.MathJax.Hub.Config({SVG: {font: \"STIX-Web\"}});}</script>                <script type=\"text/javascript\">window.PlotlyConfig = {MathJaxConfig: 'local'};</script>\n",
              "        <script src=\"https://cdn.plot.ly/plotly-2.18.2.min.js\"></script>                <div id=\"adeeff49-894d-4cc8-b020-1486e14eba95\" class=\"plotly-graph-div\" style=\"height:525px; width:100%;\"></div>            <script type=\"text/javascript\">                                    window.PLOTLYENV=window.PLOTLYENV || {};                                    if (document.getElementById(\"adeeff49-894d-4cc8-b020-1486e14eba95\")) {                    Plotly.newPlot(                        \"adeeff49-894d-4cc8-b020-1486e14eba95\",                        [{\"name\":\"\\u6771\\u5de5\\u5927\",\"x\":[\"2012~2014\",\"2013~2015\",\"2014~2016\",\"2015~2017\",\"2016~2018\",\"2017~2019\",\"2018~2020\",\"2019~2021\"],\"y\":[89,87,89,71,76,64,75,66],\"type\":\"scatter\",\"xaxis\":\"x\",\"yaxis\":\"y\"},{\"name\":\"MIT\",\"x\":[\"2012~2014\",\"2013~2015\",\"2014~2016\",\"2015~2017\",\"2016~2018\",\"2017~2019\",\"2018~2020\",\"2019~2021\"],\"y\":[439,474,486,475,446,437,421,391],\"type\":\"scatter\",\"xaxis\":\"x\",\"yaxis\":\"y\"},{\"name\":\"Imperial College London\",\"x\":[\"2012~2014\",\"2013~2015\",\"2014~2016\",\"2015~2017\",\"2016~2018\",\"2017~2019\",\"2018~2020\",\"2019~2021\"],\"y\":[245,238,183,215,229,236,232,234],\"type\":\"scatter\",\"xaxis\":\"x\",\"yaxis\":\"y\"},{\"name\":\"\\u6771\\u5927\",\"x\":[\"2012~2014\",\"2013~2015\",\"2014~2016\",\"2015~2017\",\"2016~2018\",\"2017~2019\",\"2018~2020\",\"2019~2021\"],\"y\":[284,311,306,337,340,348,324,324],\"type\":\"scatter\",\"xaxis\":\"x\",\"yaxis\":\"y\"},{\"name\":\"\\u4eac\\u5927\",\"x\":[\"2012~2014\",\"2013~2015\",\"2014~2016\",\"2015~2017\",\"2016~2018\",\"2017~2019\",\"2018~2020\",\"2019~2021\"],\"y\":[158,165,174,165,164,161,168,164],\"type\":\"scatter\",\"xaxis\":\"x\",\"yaxis\":\"y\"},{\"name\":\"\\u5927\\u962a\\u5927\",\"x\":[\"2012~2014\",\"2013~2015\",\"2014~2016\",\"2015~2017\",\"2016~2018\",\"2017~2019\",\"2018~2020\",\"2019~2021\"],\"y\":[150,143,130,118,110,107,104,86],\"type\":\"scatter\",\"xaxis\":\"x\",\"yaxis\":\"y\"},{\"name\":\"\\u6771\\u5317\\u5927\",\"x\":[\"2012~2014\",\"2013~2015\",\"2014~2016\",\"2015~2017\",\"2016~2018\",\"2017~2019\",\"2018~2020\",\"2019~2021\"],\"y\":[205,194,157,130,136,129,150,159],\"type\":\"scatter\",\"xaxis\":\"x\",\"yaxis\":\"y\"},{\"name\":\"\\u540d\\u53e4\\u5c4b\\u5927\",\"x\":[\"2012~2014\",\"2013~2015\",\"2014~2016\",\"2015~2017\",\"2016~2018\",\"2017~2019\",\"2018~2020\",\"2019~2021\"],\"y\":[86,90,83,75,89,102,95,81],\"type\":\"scatter\",\"xaxis\":\"x\",\"yaxis\":\"y\"},{\"name\":\"\\u6771\\u4eac\\u533b\\u79d1\\u6b6f\\u79d1\\u5927\\u5b66\",\"x\":[\"2012~2014\",\"2013~2015\",\"2014~2016\",\"2015~2017\",\"2016~2018\",\"2017~2019\",\"2018~2020\",\"2019~2021\"],\"y\":[7,7,7,9,9,10,8,10],\"type\":\"scatter\",\"xaxis\":\"x\",\"yaxis\":\"y\"},{\"name\":\"\\u6771\\u5de5\\u5927+\\u533b\\u79d1\\u6b6f\\u79d1\\u5927\\u5b66\",\"x\":[\"2012~2014\",\"2013~2015\",\"2014~2016\",\"2015~2017\",\"2016~2018\",\"2017~2019\",\"2018~2020\",\"2019~2021\"],\"y\":[96,94,96,80,85,74,83,76],\"type\":\"scatter\",\"xaxis\":\"x\",\"yaxis\":\"y\"}],                        {\"template\":{\"data\":{\"histogram2dcontour\":[{\"type\":\"histogram2dcontour\",\"colorbar\":{\"outlinewidth\":0,\"ticks\":\"\"},\"colorscale\":[[0.0,\"#0d0887\"],[0.1111111111111111,\"#46039f\"],[0.2222222222222222,\"#7201a8\"],[0.3333333333333333,\"#9c179e\"],[0.4444444444444444,\"#bd3786\"],[0.5555555555555556,\"#d8576b\"],[0.6666666666666666,\"#ed7953\"],[0.7777777777777778,\"#fb9f3a\"],[0.8888888888888888,\"#fdca26\"],[1.0,\"#f0f921\"]]}],\"choropleth\":[{\"type\":\"choropleth\",\"colorbar\":{\"outlinewidth\":0,\"ticks\":\"\"}}],\"histogram2d\":[{\"type\":\"histogram2d\",\"colorbar\":{\"outlinewidth\":0,\"ticks\":\"\"},\"colorscale\":[[0.0,\"#0d0887\"],[0.1111111111111111,\"#46039f\"],[0.2222222222222222,\"#7201a8\"],[0.3333333333333333,\"#9c179e\"],[0.4444444444444444,\"#bd3786\"],[0.5555555555555556,\"#d8576b\"],[0.6666666666666666,\"#ed7953\"],[0.7777777777777778,\"#fb9f3a\"],[0.8888888888888888,\"#fdca26\"],[1.0,\"#f0f921\"]]}],\"heatmap\":[{\"type\":\"heatmap\",\"colorbar\":{\"outlinewidth\":0,\"ticks\":\"\"},\"colorscale\":[[0.0,\"#0d0887\"],[0.1111111111111111,\"#46039f\"],[0.2222222222222222,\"#7201a8\"],[0.3333333333333333,\"#9c179e\"],[0.4444444444444444,\"#bd3786\"],[0.5555555555555556,\"#d8576b\"],[0.6666666666666666,\"#ed7953\"],[0.7777777777777778,\"#fb9f3a\"],[0.8888888888888888,\"#fdca26\"],[1.0,\"#f0f921\"]]}],\"heatmapgl\":[{\"type\":\"heatmapgl\",\"colorbar\":{\"outlinewidth\":0,\"ticks\":\"\"},\"colorscale\":[[0.0,\"#0d0887\"],[0.1111111111111111,\"#46039f\"],[0.2222222222222222,\"#7201a8\"],[0.3333333333333333,\"#9c179e\"],[0.4444444444444444,\"#bd3786\"],[0.5555555555555556,\"#d8576b\"],[0.6666666666666666,\"#ed7953\"],[0.7777777777777778,\"#fb9f3a\"],[0.8888888888888888,\"#fdca26\"],[1.0,\"#f0f921\"]]}],\"contourcarpet\":[{\"type\":\"contourcarpet\",\"colorbar\":{\"outlinewidth\":0,\"ticks\":\"\"}}],\"contour\":[{\"type\":\"contour\",\"colorbar\":{\"outlinewidth\":0,\"ticks\":\"\"},\"colorscale\":[[0.0,\"#0d0887\"],[0.1111111111111111,\"#46039f\"],[0.2222222222222222,\"#7201a8\"],[0.3333333333333333,\"#9c179e\"],[0.4444444444444444,\"#bd3786\"],[0.5555555555555556,\"#d8576b\"],[0.6666666666666666,\"#ed7953\"],[0.7777777777777778,\"#fb9f3a\"],[0.8888888888888888,\"#fdca26\"],[1.0,\"#f0f921\"]]}],\"surface\":[{\"type\":\"surface\",\"colorbar\":{\"outlinewidth\":0,\"ticks\":\"\"},\"colorscale\":[[0.0,\"#0d0887\"],[0.1111111111111111,\"#46039f\"],[0.2222222222222222,\"#7201a8\"],[0.3333333333333333,\"#9c179e\"],[0.4444444444444444,\"#bd3786\"],[0.5555555555555556,\"#d8576b\"],[0.6666666666666666,\"#ed7953\"],[0.7777777777777778,\"#fb9f3a\"],[0.8888888888888888,\"#fdca26\"],[1.0,\"#f0f921\"]]}],\"mesh3d\":[{\"type\":\"mesh3d\",\"colorbar\":{\"outlinewidth\":0,\"ticks\":\"\"}}],\"scatter\":[{\"fillpattern\":{\"fillmode\":\"overlay\",\"size\":10,\"solidity\":0.2},\"type\":\"scatter\"}],\"parcoords\":[{\"type\":\"parcoords\",\"line\":{\"colorbar\":{\"outlinewidth\":0,\"ticks\":\"\"}}}],\"scatterpolargl\":[{\"type\":\"scatterpolargl\",\"marker\":{\"colorbar\":{\"outlinewidth\":0,\"ticks\":\"\"}}}],\"bar\":[{\"error_x\":{\"color\":\"#2a3f5f\"},\"error_y\":{\"color\":\"#2a3f5f\"},\"marker\":{\"line\":{\"color\":\"#E5ECF6\",\"width\":0.5},\"pattern\":{\"fillmode\":\"overlay\",\"size\":10,\"solidity\":0.2}},\"type\":\"bar\"}],\"scattergeo\":[{\"type\":\"scattergeo\",\"marker\":{\"colorbar\":{\"outlinewidth\":0,\"ticks\":\"\"}}}],\"scatterpolar\":[{\"type\":\"scatterpolar\",\"marker\":{\"colorbar\":{\"outlinewidth\":0,\"ticks\":\"\"}}}],\"histogram\":[{\"marker\":{\"pattern\":{\"fillmode\":\"overlay\",\"size\":10,\"solidity\":0.2}},\"type\":\"histogram\"}],\"scattergl\":[{\"type\":\"scattergl\",\"marker\":{\"colorbar\":{\"outlinewidth\":0,\"ticks\":\"\"}}}],\"scatter3d\":[{\"type\":\"scatter3d\",\"line\":{\"colorbar\":{\"outlinewidth\":0,\"ticks\":\"\"}},\"marker\":{\"colorbar\":{\"outlinewidth\":0,\"ticks\":\"\"}}}],\"scattermapbox\":[{\"type\":\"scattermapbox\",\"marker\":{\"colorbar\":{\"outlinewidth\":0,\"ticks\":\"\"}}}],\"scatterternary\":[{\"type\":\"scatterternary\",\"marker\":{\"colorbar\":{\"outlinewidth\":0,\"ticks\":\"\"}}}],\"scattercarpet\":[{\"type\":\"scattercarpet\",\"marker\":{\"colorbar\":{\"outlinewidth\":0,\"ticks\":\"\"}}}],\"carpet\":[{\"aaxis\":{\"endlinecolor\":\"#2a3f5f\",\"gridcolor\":\"white\",\"linecolor\":\"white\",\"minorgridcolor\":\"white\",\"startlinecolor\":\"#2a3f5f\"},\"baxis\":{\"endlinecolor\":\"#2a3f5f\",\"gridcolor\":\"white\",\"linecolor\":\"white\",\"minorgridcolor\":\"white\",\"startlinecolor\":\"#2a3f5f\"},\"type\":\"carpet\"}],\"table\":[{\"cells\":{\"fill\":{\"color\":\"#EBF0F8\"},\"line\":{\"color\":\"white\"}},\"header\":{\"fill\":{\"color\":\"#C8D4E3\"},\"line\":{\"color\":\"white\"}},\"type\":\"table\"}],\"barpolar\":[{\"marker\":{\"line\":{\"color\":\"#E5ECF6\",\"width\":0.5},\"pattern\":{\"fillmode\":\"overlay\",\"size\":10,\"solidity\":0.2}},\"type\":\"barpolar\"}],\"pie\":[{\"automargin\":true,\"type\":\"pie\"}]},\"layout\":{\"autotypenumbers\":\"strict\",\"colorway\":[\"#636efa\",\"#EF553B\",\"#00cc96\",\"#ab63fa\",\"#FFA15A\",\"#19d3f3\",\"#FF6692\",\"#B6E880\",\"#FF97FF\",\"#FECB52\"],\"font\":{\"color\":\"#2a3f5f\"},\"hovermode\":\"closest\",\"hoverlabel\":{\"align\":\"left\"},\"paper_bgcolor\":\"white\",\"plot_bgcolor\":\"#E5ECF6\",\"polar\":{\"bgcolor\":\"#E5ECF6\",\"angularaxis\":{\"gridcolor\":\"white\",\"linecolor\":\"white\",\"ticks\":\"\"},\"radialaxis\":{\"gridcolor\":\"white\",\"linecolor\":\"white\",\"ticks\":\"\"}},\"ternary\":{\"bgcolor\":\"#E5ECF6\",\"aaxis\":{\"gridcolor\":\"white\",\"linecolor\":\"white\",\"ticks\":\"\"},\"baxis\":{\"gridcolor\":\"white\",\"linecolor\":\"white\",\"ticks\":\"\"},\"caxis\":{\"gridcolor\":\"white\",\"linecolor\":\"white\",\"ticks\":\"\"}},\"coloraxis\":{\"colorbar\":{\"outlinewidth\":0,\"ticks\":\"\"}},\"colorscale\":{\"sequential\":[[0.0,\"#0d0887\"],[0.1111111111111111,\"#46039f\"],[0.2222222222222222,\"#7201a8\"],[0.3333333333333333,\"#9c179e\"],[0.4444444444444444,\"#bd3786\"],[0.5555555555555556,\"#d8576b\"],[0.6666666666666666,\"#ed7953\"],[0.7777777777777778,\"#fb9f3a\"],[0.8888888888888888,\"#fdca26\"],[1.0,\"#f0f921\"]],\"sequentialminus\":[[0.0,\"#0d0887\"],[0.1111111111111111,\"#46039f\"],[0.2222222222222222,\"#7201a8\"],[0.3333333333333333,\"#9c179e\"],[0.4444444444444444,\"#bd3786\"],[0.5555555555555556,\"#d8576b\"],[0.6666666666666666,\"#ed7953\"],[0.7777777777777778,\"#fb9f3a\"],[0.8888888888888888,\"#fdca26\"],[1.0,\"#f0f921\"]],\"diverging\":[[0,\"#8e0152\"],[0.1,\"#c51b7d\"],[0.2,\"#de77ae\"],[0.3,\"#f1b6da\"],[0.4,\"#fde0ef\"],[0.5,\"#f7f7f7\"],[0.6,\"#e6f5d0\"],[0.7,\"#b8e186\"],[0.8,\"#7fbc41\"],[0.9,\"#4d9221\"],[1,\"#276419\"]]},\"xaxis\":{\"gridcolor\":\"white\",\"linecolor\":\"white\",\"ticks\":\"\",\"title\":{\"standoff\":15},\"zerolinecolor\":\"white\",\"automargin\":true,\"zerolinewidth\":2},\"yaxis\":{\"gridcolor\":\"white\",\"linecolor\":\"white\",\"ticks\":\"\",\"title\":{\"standoff\":15},\"zerolinecolor\":\"white\",\"automargin\":true,\"zerolinewidth\":2},\"scene\":{\"xaxis\":{\"backgroundcolor\":\"#E5ECF6\",\"gridcolor\":\"white\",\"linecolor\":\"white\",\"showbackground\":true,\"ticks\":\"\",\"zerolinecolor\":\"white\",\"gridwidth\":2},\"yaxis\":{\"backgroundcolor\":\"#E5ECF6\",\"gridcolor\":\"white\",\"linecolor\":\"white\",\"showbackground\":true,\"ticks\":\"\",\"zerolinecolor\":\"white\",\"gridwidth\":2},\"zaxis\":{\"backgroundcolor\":\"#E5ECF6\",\"gridcolor\":\"white\",\"linecolor\":\"white\",\"showbackground\":true,\"ticks\":\"\",\"zerolinecolor\":\"white\",\"gridwidth\":2}},\"shapedefaults\":{\"line\":{\"color\":\"#2a3f5f\"}},\"annotationdefaults\":{\"arrowcolor\":\"#2a3f5f\",\"arrowhead\":0,\"arrowwidth\":1},\"geo\":{\"bgcolor\":\"white\",\"landcolor\":\"#E5ECF6\",\"subunitcolor\":\"white\",\"showland\":true,\"showlakes\":true,\"lakecolor\":\"white\"},\"title\":{\"x\":0.05},\"mapbox\":{\"style\":\"light\"}}},\"xaxis\":{\"anchor\":\"y\",\"domain\":[0.0,1.0]},\"yaxis\":{\"anchor\":\"x\",\"domain\":[0.0,1.0]},\"title\":{\"text\":\"\\u533b\\u5b66\\u5206\\u91ce\\u3092\\u9664\\u3044\\u305f\\u5834\\u5408\\u306e\\u6761\\u4ef6\\u3092\\u6e80\\u305f\\u3059\\u7814\\u7a76\\u8005\\u306e\\u63a8\\u79fb\"}},                        {\"responsive\": true}                    ).then(function(){\n",
              "                            \n",
              "var gd = document.getElementById('adeeff49-894d-4cc8-b020-1486e14eba95');\n",
              "var x = new MutationObserver(function (mutations, observer) {{\n",
              "        var display = window.getComputedStyle(gd).display;\n",
              "        if (!display || display === 'none') {{\n",
              "            console.log([gd, 'removed!']);\n",
              "            Plotly.purge(gd);\n",
              "            observer.disconnect();\n",
              "        }}\n",
              "}});\n",
              "\n",
              "// Listen for the removal of the full notebook cells\n",
              "var notebookContainer = gd.closest('#notebook-container');\n",
              "if (notebookContainer) {{\n",
              "    x.observe(notebookContainer, {childList: true});\n",
              "}}\n",
              "\n",
              "// Listen for the clearing of the current output cell\n",
              "var outputEl = gd.closest('.output');\n",
              "if (outputEl) {{\n",
              "    x.observe(outputEl, {childList: true});\n",
              "}}\n",
              "\n",
              "                        })                };                            </script>        </div>\n",
              "</body>\n",
              "</html>"
            ]
          },
          "metadata": {}
        }
      ]
    },
    {
      "cell_type": "markdown",
      "source": [
        "## 集計"
      ],
      "metadata": {
        "id": "QrKVw4gBAO2V"
      }
    },
    {
      "cell_type": "code",
      "source": [
        "#理学の推移\n",
        "rigak = tag_all.query('new_tag == \"理学\"')\n",
        "a = rigak.groupby(['大学名','year','end_year'],as_index=False).sum()\n",
        "\n",
        "line_trace = go.Scatter(x=a.query('大学名 == \"titech\"')['year'], y=a.query('大学名 == \"titech\"')['研究者数'], name='東工大')\n",
        "line_trace1 = go.Scatter(x=a.query('大学名 == \"MIT\"')['year'], y=a.query('大学名 == \"MIT\"')['研究者数'], name='MIT')\n",
        "line_trace2 = go.Scatter(x=a.query('大学名 == \"Imperial\"')['year'], y=a.query('大学名 == \"Imperial\"')['研究者数'], name='Imperial College London')\n",
        "line_trace3 = go.Scatter(x=a.query('大学名 == \"UT\"')['year'], y=a.query('大学名 == \"UT\"')['研究者数'], name='東大')\n",
        "line_trace4 = go.Scatter(x=a.query('大学名 == \"kyoto\"')['year'], y=a.query('大学名 == \"kyoto\"')['研究者数'], name='京大')\n",
        "line_trace5 = go.Scatter(x=a.query('大学名 == \"osaka\"')['year'], y=a.query('大学名 == \"osaka\"')['研究者数'], name='大阪大')\n",
        "line_trace6 = go.Scatter(x=a.query('大学名 == \"tohoku\"')['year'], y=a.query('大学名 == \"tohoku\"')['研究者数'], name='東北大')\n",
        "line_trace7 = go.Scatter(x=a.query('大学名 == \"nagoya\"')['year'], y=a.query('大学名 == \"nagoya\"')['研究者数'], name='名古屋大')\n",
        "line_trace8 = go.Scatter(x=a.query('大学名 == \"medical\"')['year'], y=a.query('大学名 == \"medical\"')['研究者数'], name='東京医科歯科大学')\n",
        "line_trace9 = go.Scatter(x=a.query('大学名 == \"東工大+医科歯科大\"')['year'], y=a.query('大学名 == \"東工大+医科歯科大\"')['研究者数'], name='東工大+医科歯科大学')\n",
        "\n",
        "subplots_fig = make_subplots(rows=1, cols=1)\n",
        "subplots_fig.add_trace(line_trace, row=1, col=1)\n",
        "subplots_fig.add_trace(line_trace1, row=1, col=1)\n",
        "subplots_fig.add_trace(line_trace2, row=1, col=1)\n",
        "subplots_fig.add_trace(line_trace3, row=1, col=1)\n",
        "subplots_fig.add_trace(line_trace4, row=1, col=1)\n",
        "subplots_fig.add_trace(line_trace5, row=1, col=1)\n",
        "subplots_fig.add_trace(line_trace6, row=1, col=1)\n",
        "subplots_fig.add_trace(line_trace7, row=1, col=1)\n",
        "subplots_fig.add_trace(line_trace8, row=1, col=1)\n",
        "subplots_fig.add_trace(line_trace9, row=1, col=1)\n",
        "\n",
        "subplots_fig.update_layout(title='理学分野の条件を満たす研究者の推移')\n",
        "\n"
      ],
      "metadata": {
        "colab": {
          "base_uri": "https://localhost:8080/",
          "height": 542
        },
        "id": "kQrwlWOCUuGW",
        "outputId": "55b39346-9ddf-4f84-d920-2b2a913329f3"
      },
      "execution_count": 86,
      "outputs": [
        {
          "output_type": "display_data",
          "data": {
            "text/html": [
              "<html>\n",
              "<head><meta charset=\"utf-8\" /></head>\n",
              "<body>\n",
              "    <div>            <script src=\"https://cdnjs.cloudflare.com/ajax/libs/mathjax/2.7.5/MathJax.js?config=TeX-AMS-MML_SVG\"></script><script type=\"text/javascript\">if (window.MathJax && window.MathJax.Hub && window.MathJax.Hub.Config) {window.MathJax.Hub.Config({SVG: {font: \"STIX-Web\"}});}</script>                <script type=\"text/javascript\">window.PlotlyConfig = {MathJaxConfig: 'local'};</script>\n",
              "        <script src=\"https://cdn.plot.ly/plotly-2.18.2.min.js\"></script>                <div id=\"8b128fe6-c3d8-412d-9dd9-ec0761384c26\" class=\"plotly-graph-div\" style=\"height:525px; width:100%;\"></div>            <script type=\"text/javascript\">                                    window.PLOTLYENV=window.PLOTLYENV || {};                                    if (document.getElementById(\"8b128fe6-c3d8-412d-9dd9-ec0761384c26\")) {                    Plotly.newPlot(                        \"8b128fe6-c3d8-412d-9dd9-ec0761384c26\",                        [{\"name\":\"\\u6771\\u5de5\\u5927\",\"x\":[\"2012~2014\",\"2013~2015\",\"2014~2016\",\"2015~2017\",\"2016~2018\",\"2017~2019\",\"2018~2020\",\"2019~2021\"],\"y\":[36,32,36,32,28,21,30,26],\"type\":\"scatter\",\"xaxis\":\"x\",\"yaxis\":\"y\"},{\"name\":\"MIT\",\"x\":[\"2012~2014\",\"2013~2015\",\"2014~2016\",\"2015~2017\",\"2016~2018\",\"2017~2019\",\"2018~2020\",\"2019~2021\"],\"y\":[125,144,157,150,145,130,137,126],\"type\":\"scatter\",\"xaxis\":\"x\",\"yaxis\":\"y\"},{\"name\":\"Imperial College London\",\"x\":[\"2012~2014\",\"2013~2015\",\"2014~2016\",\"2015~2017\",\"2016~2018\",\"2017~2019\",\"2018~2020\",\"2019~2021\"],\"y\":[90,85,68,70,76,87,86,82],\"type\":\"scatter\",\"xaxis\":\"x\",\"yaxis\":\"y\"},{\"name\":\"\\u6771\\u5927\",\"x\":[\"2012~2014\",\"2013~2015\",\"2014~2016\",\"2015~2017\",\"2016~2018\",\"2017~2019\",\"2018~2020\",\"2019~2021\"],\"y\":[138,159,149,172,162,177,155,160],\"type\":\"scatter\",\"xaxis\":\"x\",\"yaxis\":\"y\"},{\"name\":\"\\u4eac\\u5927\",\"x\":[\"2012~2014\",\"2013~2015\",\"2014~2016\",\"2015~2017\",\"2016~2018\",\"2017~2019\",\"2018~2020\",\"2019~2021\"],\"y\":[83,89,94,82,91,86,91,84],\"type\":\"scatter\",\"xaxis\":\"x\",\"yaxis\":\"y\"},{\"name\":\"\\u5927\\u962a\\u5927\",\"x\":[\"2012~2014\",\"2013~2015\",\"2014~2016\",\"2015~2017\",\"2016~2018\",\"2017~2019\",\"2018~2020\",\"2019~2021\"],\"y\":[72,66,64,52,42,39,36,29],\"type\":\"scatter\",\"xaxis\":\"x\",\"yaxis\":\"y\"},{\"name\":\"\\u6771\\u5317\\u5927\",\"x\":[\"2012~2014\",\"2013~2015\",\"2014~2016\",\"2015~2017\",\"2016~2018\",\"2017~2019\",\"2018~2020\",\"2019~2021\"],\"y\":[85,83,73,62,66,55,66,71],\"type\":\"scatter\",\"xaxis\":\"x\",\"yaxis\":\"y\"},{\"name\":\"\\u540d\\u53e4\\u5c4b\\u5927\",\"x\":[\"2012~2014\",\"2013~2015\",\"2014~2016\",\"2015~2017\",\"2016~2018\",\"2017~2019\",\"2018~2020\",\"2019~2021\"],\"y\":[45,38,35,25,34,45,36,35],\"type\":\"scatter\",\"xaxis\":\"x\",\"yaxis\":\"y\"},{\"name\":\"\\u6771\\u4eac\\u533b\\u79d1\\u6b6f\\u79d1\\u5927\\u5b66\",\"x\":[\"2012~2014\",\"2013~2015\",\"2014~2016\",\"2015~2017\",\"2016~2018\",\"2017~2019\",\"2018~2020\",\"2019~2021\"],\"y\":[2,2,3,2,2,3,3,4],\"type\":\"scatter\",\"xaxis\":\"x\",\"yaxis\":\"y\"},{\"name\":\"\\u6771\\u5de5\\u5927+\\u533b\\u79d1\\u6b6f\\u79d1\\u5927\\u5b66\",\"x\":[\"2012~2014\",\"2013~2015\",\"2014~2016\",\"2015~2017\",\"2016~2018\",\"2017~2019\",\"2018~2020\",\"2019~2021\"],\"y\":[38,34,39,34,30,24,33,30],\"type\":\"scatter\",\"xaxis\":\"x\",\"yaxis\":\"y\"}],                        {\"template\":{\"data\":{\"histogram2dcontour\":[{\"type\":\"histogram2dcontour\",\"colorbar\":{\"outlinewidth\":0,\"ticks\":\"\"},\"colorscale\":[[0.0,\"#0d0887\"],[0.1111111111111111,\"#46039f\"],[0.2222222222222222,\"#7201a8\"],[0.3333333333333333,\"#9c179e\"],[0.4444444444444444,\"#bd3786\"],[0.5555555555555556,\"#d8576b\"],[0.6666666666666666,\"#ed7953\"],[0.7777777777777778,\"#fb9f3a\"],[0.8888888888888888,\"#fdca26\"],[1.0,\"#f0f921\"]]}],\"choropleth\":[{\"type\":\"choropleth\",\"colorbar\":{\"outlinewidth\":0,\"ticks\":\"\"}}],\"histogram2d\":[{\"type\":\"histogram2d\",\"colorbar\":{\"outlinewidth\":0,\"ticks\":\"\"},\"colorscale\":[[0.0,\"#0d0887\"],[0.1111111111111111,\"#46039f\"],[0.2222222222222222,\"#7201a8\"],[0.3333333333333333,\"#9c179e\"],[0.4444444444444444,\"#bd3786\"],[0.5555555555555556,\"#d8576b\"],[0.6666666666666666,\"#ed7953\"],[0.7777777777777778,\"#fb9f3a\"],[0.8888888888888888,\"#fdca26\"],[1.0,\"#f0f921\"]]}],\"heatmap\":[{\"type\":\"heatmap\",\"colorbar\":{\"outlinewidth\":0,\"ticks\":\"\"},\"colorscale\":[[0.0,\"#0d0887\"],[0.1111111111111111,\"#46039f\"],[0.2222222222222222,\"#7201a8\"],[0.3333333333333333,\"#9c179e\"],[0.4444444444444444,\"#bd3786\"],[0.5555555555555556,\"#d8576b\"],[0.6666666666666666,\"#ed7953\"],[0.7777777777777778,\"#fb9f3a\"],[0.8888888888888888,\"#fdca26\"],[1.0,\"#f0f921\"]]}],\"heatmapgl\":[{\"type\":\"heatmapgl\",\"colorbar\":{\"outlinewidth\":0,\"ticks\":\"\"},\"colorscale\":[[0.0,\"#0d0887\"],[0.1111111111111111,\"#46039f\"],[0.2222222222222222,\"#7201a8\"],[0.3333333333333333,\"#9c179e\"],[0.4444444444444444,\"#bd3786\"],[0.5555555555555556,\"#d8576b\"],[0.6666666666666666,\"#ed7953\"],[0.7777777777777778,\"#fb9f3a\"],[0.8888888888888888,\"#fdca26\"],[1.0,\"#f0f921\"]]}],\"contourcarpet\":[{\"type\":\"contourcarpet\",\"colorbar\":{\"outlinewidth\":0,\"ticks\":\"\"}}],\"contour\":[{\"type\":\"contour\",\"colorbar\":{\"outlinewidth\":0,\"ticks\":\"\"},\"colorscale\":[[0.0,\"#0d0887\"],[0.1111111111111111,\"#46039f\"],[0.2222222222222222,\"#7201a8\"],[0.3333333333333333,\"#9c179e\"],[0.4444444444444444,\"#bd3786\"],[0.5555555555555556,\"#d8576b\"],[0.6666666666666666,\"#ed7953\"],[0.7777777777777778,\"#fb9f3a\"],[0.8888888888888888,\"#fdca26\"],[1.0,\"#f0f921\"]]}],\"surface\":[{\"type\":\"surface\",\"colorbar\":{\"outlinewidth\":0,\"ticks\":\"\"},\"colorscale\":[[0.0,\"#0d0887\"],[0.1111111111111111,\"#46039f\"],[0.2222222222222222,\"#7201a8\"],[0.3333333333333333,\"#9c179e\"],[0.4444444444444444,\"#bd3786\"],[0.5555555555555556,\"#d8576b\"],[0.6666666666666666,\"#ed7953\"],[0.7777777777777778,\"#fb9f3a\"],[0.8888888888888888,\"#fdca26\"],[1.0,\"#f0f921\"]]}],\"mesh3d\":[{\"type\":\"mesh3d\",\"colorbar\":{\"outlinewidth\":0,\"ticks\":\"\"}}],\"scatter\":[{\"fillpattern\":{\"fillmode\":\"overlay\",\"size\":10,\"solidity\":0.2},\"type\":\"scatter\"}],\"parcoords\":[{\"type\":\"parcoords\",\"line\":{\"colorbar\":{\"outlinewidth\":0,\"ticks\":\"\"}}}],\"scatterpolargl\":[{\"type\":\"scatterpolargl\",\"marker\":{\"colorbar\":{\"outlinewidth\":0,\"ticks\":\"\"}}}],\"bar\":[{\"error_x\":{\"color\":\"#2a3f5f\"},\"error_y\":{\"color\":\"#2a3f5f\"},\"marker\":{\"line\":{\"color\":\"#E5ECF6\",\"width\":0.5},\"pattern\":{\"fillmode\":\"overlay\",\"size\":10,\"solidity\":0.2}},\"type\":\"bar\"}],\"scattergeo\":[{\"type\":\"scattergeo\",\"marker\":{\"colorbar\":{\"outlinewidth\":0,\"ticks\":\"\"}}}],\"scatterpolar\":[{\"type\":\"scatterpolar\",\"marker\":{\"colorbar\":{\"outlinewidth\":0,\"ticks\":\"\"}}}],\"histogram\":[{\"marker\":{\"pattern\":{\"fillmode\":\"overlay\",\"size\":10,\"solidity\":0.2}},\"type\":\"histogram\"}],\"scattergl\":[{\"type\":\"scattergl\",\"marker\":{\"colorbar\":{\"outlinewidth\":0,\"ticks\":\"\"}}}],\"scatter3d\":[{\"type\":\"scatter3d\",\"line\":{\"colorbar\":{\"outlinewidth\":0,\"ticks\":\"\"}},\"marker\":{\"colorbar\":{\"outlinewidth\":0,\"ticks\":\"\"}}}],\"scattermapbox\":[{\"type\":\"scattermapbox\",\"marker\":{\"colorbar\":{\"outlinewidth\":0,\"ticks\":\"\"}}}],\"scatterternary\":[{\"type\":\"scatterternary\",\"marker\":{\"colorbar\":{\"outlinewidth\":0,\"ticks\":\"\"}}}],\"scattercarpet\":[{\"type\":\"scattercarpet\",\"marker\":{\"colorbar\":{\"outlinewidth\":0,\"ticks\":\"\"}}}],\"carpet\":[{\"aaxis\":{\"endlinecolor\":\"#2a3f5f\",\"gridcolor\":\"white\",\"linecolor\":\"white\",\"minorgridcolor\":\"white\",\"startlinecolor\":\"#2a3f5f\"},\"baxis\":{\"endlinecolor\":\"#2a3f5f\",\"gridcolor\":\"white\",\"linecolor\":\"white\",\"minorgridcolor\":\"white\",\"startlinecolor\":\"#2a3f5f\"},\"type\":\"carpet\"}],\"table\":[{\"cells\":{\"fill\":{\"color\":\"#EBF0F8\"},\"line\":{\"color\":\"white\"}},\"header\":{\"fill\":{\"color\":\"#C8D4E3\"},\"line\":{\"color\":\"white\"}},\"type\":\"table\"}],\"barpolar\":[{\"marker\":{\"line\":{\"color\":\"#E5ECF6\",\"width\":0.5},\"pattern\":{\"fillmode\":\"overlay\",\"size\":10,\"solidity\":0.2}},\"type\":\"barpolar\"}],\"pie\":[{\"automargin\":true,\"type\":\"pie\"}]},\"layout\":{\"autotypenumbers\":\"strict\",\"colorway\":[\"#636efa\",\"#EF553B\",\"#00cc96\",\"#ab63fa\",\"#FFA15A\",\"#19d3f3\",\"#FF6692\",\"#B6E880\",\"#FF97FF\",\"#FECB52\"],\"font\":{\"color\":\"#2a3f5f\"},\"hovermode\":\"closest\",\"hoverlabel\":{\"align\":\"left\"},\"paper_bgcolor\":\"white\",\"plot_bgcolor\":\"#E5ECF6\",\"polar\":{\"bgcolor\":\"#E5ECF6\",\"angularaxis\":{\"gridcolor\":\"white\",\"linecolor\":\"white\",\"ticks\":\"\"},\"radialaxis\":{\"gridcolor\":\"white\",\"linecolor\":\"white\",\"ticks\":\"\"}},\"ternary\":{\"bgcolor\":\"#E5ECF6\",\"aaxis\":{\"gridcolor\":\"white\",\"linecolor\":\"white\",\"ticks\":\"\"},\"baxis\":{\"gridcolor\":\"white\",\"linecolor\":\"white\",\"ticks\":\"\"},\"caxis\":{\"gridcolor\":\"white\",\"linecolor\":\"white\",\"ticks\":\"\"}},\"coloraxis\":{\"colorbar\":{\"outlinewidth\":0,\"ticks\":\"\"}},\"colorscale\":{\"sequential\":[[0.0,\"#0d0887\"],[0.1111111111111111,\"#46039f\"],[0.2222222222222222,\"#7201a8\"],[0.3333333333333333,\"#9c179e\"],[0.4444444444444444,\"#bd3786\"],[0.5555555555555556,\"#d8576b\"],[0.6666666666666666,\"#ed7953\"],[0.7777777777777778,\"#fb9f3a\"],[0.8888888888888888,\"#fdca26\"],[1.0,\"#f0f921\"]],\"sequentialminus\":[[0.0,\"#0d0887\"],[0.1111111111111111,\"#46039f\"],[0.2222222222222222,\"#7201a8\"],[0.3333333333333333,\"#9c179e\"],[0.4444444444444444,\"#bd3786\"],[0.5555555555555556,\"#d8576b\"],[0.6666666666666666,\"#ed7953\"],[0.7777777777777778,\"#fb9f3a\"],[0.8888888888888888,\"#fdca26\"],[1.0,\"#f0f921\"]],\"diverging\":[[0,\"#8e0152\"],[0.1,\"#c51b7d\"],[0.2,\"#de77ae\"],[0.3,\"#f1b6da\"],[0.4,\"#fde0ef\"],[0.5,\"#f7f7f7\"],[0.6,\"#e6f5d0\"],[0.7,\"#b8e186\"],[0.8,\"#7fbc41\"],[0.9,\"#4d9221\"],[1,\"#276419\"]]},\"xaxis\":{\"gridcolor\":\"white\",\"linecolor\":\"white\",\"ticks\":\"\",\"title\":{\"standoff\":15},\"zerolinecolor\":\"white\",\"automargin\":true,\"zerolinewidth\":2},\"yaxis\":{\"gridcolor\":\"white\",\"linecolor\":\"white\",\"ticks\":\"\",\"title\":{\"standoff\":15},\"zerolinecolor\":\"white\",\"automargin\":true,\"zerolinewidth\":2},\"scene\":{\"xaxis\":{\"backgroundcolor\":\"#E5ECF6\",\"gridcolor\":\"white\",\"linecolor\":\"white\",\"showbackground\":true,\"ticks\":\"\",\"zerolinecolor\":\"white\",\"gridwidth\":2},\"yaxis\":{\"backgroundcolor\":\"#E5ECF6\",\"gridcolor\":\"white\",\"linecolor\":\"white\",\"showbackground\":true,\"ticks\":\"\",\"zerolinecolor\":\"white\",\"gridwidth\":2},\"zaxis\":{\"backgroundcolor\":\"#E5ECF6\",\"gridcolor\":\"white\",\"linecolor\":\"white\",\"showbackground\":true,\"ticks\":\"\",\"zerolinecolor\":\"white\",\"gridwidth\":2}},\"shapedefaults\":{\"line\":{\"color\":\"#2a3f5f\"}},\"annotationdefaults\":{\"arrowcolor\":\"#2a3f5f\",\"arrowhead\":0,\"arrowwidth\":1},\"geo\":{\"bgcolor\":\"white\",\"landcolor\":\"#E5ECF6\",\"subunitcolor\":\"white\",\"showland\":true,\"showlakes\":true,\"lakecolor\":\"white\"},\"title\":{\"x\":0.05},\"mapbox\":{\"style\":\"light\"}}},\"xaxis\":{\"anchor\":\"y\",\"domain\":[0.0,1.0]},\"yaxis\":{\"anchor\":\"x\",\"domain\":[0.0,1.0]},\"title\":{\"text\":\"\\u7406\\u5b66\\u5206\\u91ce\\u306e\\u6761\\u4ef6\\u3092\\u6e80\\u305f\\u3059\\u7814\\u7a76\\u8005\\u306e\\u63a8\\u79fb\"}},                        {\"responsive\": true}                    ).then(function(){\n",
              "                            \n",
              "var gd = document.getElementById('8b128fe6-c3d8-412d-9dd9-ec0761384c26');\n",
              "var x = new MutationObserver(function (mutations, observer) {{\n",
              "        var display = window.getComputedStyle(gd).display;\n",
              "        if (!display || display === 'none') {{\n",
              "            console.log([gd, 'removed!']);\n",
              "            Plotly.purge(gd);\n",
              "            observer.disconnect();\n",
              "        }}\n",
              "}});\n",
              "\n",
              "// Listen for the removal of the full notebook cells\n",
              "var notebookContainer = gd.closest('#notebook-container');\n",
              "if (notebookContainer) {{\n",
              "    x.observe(notebookContainer, {childList: true});\n",
              "}}\n",
              "\n",
              "// Listen for the clearing of the current output cell\n",
              "var outputEl = gd.closest('.output');\n",
              "if (outputEl) {{\n",
              "    x.observe(outputEl, {childList: true});\n",
              "}}\n",
              "\n",
              "                        })                };                            </script>        </div>\n",
              "</body>\n",
              "</html>"
            ]
          },
          "metadata": {}
        }
      ]
    },
    {
      "cell_type": "markdown",
      "source": [
        "## 理学分野の推移\n",
        "\n",
        "\n",
        "### 東工大と日本の大学の比較\n",
        "- 東大、京大、東北大、名古屋大、大阪大、東工大の順になっている\n",
        "- 東工大と医科歯科大を足すと阪大を越える\n",
        "- 東大が抜きん出ている\n",
        "- 東工大は名古屋大学,大阪大学とほぼ同等になっている\n"
      ],
      "metadata": {
        "id": "0m1AH6TOCObh"
      }
    },
    {
      "cell_type": "code",
      "source": [
        "subplots_fig.show()"
      ],
      "metadata": {
        "colab": {
          "base_uri": "https://localhost:8080/",
          "height": 542
        },
        "id": "TxupYY9LCNIH",
        "outputId": "3b964677-484f-4550-b09f-dab4cf92288f"
      },
      "execution_count": 87,
      "outputs": [
        {
          "output_type": "display_data",
          "data": {
            "text/html": [
              "<html>\n",
              "<head><meta charset=\"utf-8\" /></head>\n",
              "<body>\n",
              "    <div>            <script src=\"https://cdnjs.cloudflare.com/ajax/libs/mathjax/2.7.5/MathJax.js?config=TeX-AMS-MML_SVG\"></script><script type=\"text/javascript\">if (window.MathJax && window.MathJax.Hub && window.MathJax.Hub.Config) {window.MathJax.Hub.Config({SVG: {font: \"STIX-Web\"}});}</script>                <script type=\"text/javascript\">window.PlotlyConfig = {MathJaxConfig: 'local'};</script>\n",
              "        <script src=\"https://cdn.plot.ly/plotly-2.18.2.min.js\"></script>                <div id=\"72993b56-e5a1-4958-a5de-113833dae06e\" class=\"plotly-graph-div\" style=\"height:525px; width:100%;\"></div>            <script type=\"text/javascript\">                                    window.PLOTLYENV=window.PLOTLYENV || {};                                    if (document.getElementById(\"72993b56-e5a1-4958-a5de-113833dae06e\")) {                    Plotly.newPlot(                        \"72993b56-e5a1-4958-a5de-113833dae06e\",                        [{\"name\":\"\\u6771\\u5de5\\u5927\",\"x\":[\"2012~2014\",\"2013~2015\",\"2014~2016\",\"2015~2017\",\"2016~2018\",\"2017~2019\",\"2018~2020\",\"2019~2021\"],\"y\":[36,32,36,32,28,21,30,26],\"type\":\"scatter\",\"xaxis\":\"x\",\"yaxis\":\"y\"},{\"name\":\"MIT\",\"x\":[\"2012~2014\",\"2013~2015\",\"2014~2016\",\"2015~2017\",\"2016~2018\",\"2017~2019\",\"2018~2020\",\"2019~2021\"],\"y\":[125,144,157,150,145,130,137,126],\"type\":\"scatter\",\"xaxis\":\"x\",\"yaxis\":\"y\"},{\"name\":\"Imperial College London\",\"x\":[\"2012~2014\",\"2013~2015\",\"2014~2016\",\"2015~2017\",\"2016~2018\",\"2017~2019\",\"2018~2020\",\"2019~2021\"],\"y\":[90,85,68,70,76,87,86,82],\"type\":\"scatter\",\"xaxis\":\"x\",\"yaxis\":\"y\"},{\"name\":\"\\u6771\\u5927\",\"x\":[\"2012~2014\",\"2013~2015\",\"2014~2016\",\"2015~2017\",\"2016~2018\",\"2017~2019\",\"2018~2020\",\"2019~2021\"],\"y\":[138,159,149,172,162,177,155,160],\"type\":\"scatter\",\"xaxis\":\"x\",\"yaxis\":\"y\"},{\"name\":\"\\u4eac\\u5927\",\"x\":[\"2012~2014\",\"2013~2015\",\"2014~2016\",\"2015~2017\",\"2016~2018\",\"2017~2019\",\"2018~2020\",\"2019~2021\"],\"y\":[83,89,94,82,91,86,91,84],\"type\":\"scatter\",\"xaxis\":\"x\",\"yaxis\":\"y\"},{\"name\":\"\\u5927\\u962a\\u5927\",\"x\":[\"2012~2014\",\"2013~2015\",\"2014~2016\",\"2015~2017\",\"2016~2018\",\"2017~2019\",\"2018~2020\",\"2019~2021\"],\"y\":[72,66,64,52,42,39,36,29],\"type\":\"scatter\",\"xaxis\":\"x\",\"yaxis\":\"y\"},{\"name\":\"\\u6771\\u5317\\u5927\",\"x\":[\"2012~2014\",\"2013~2015\",\"2014~2016\",\"2015~2017\",\"2016~2018\",\"2017~2019\",\"2018~2020\",\"2019~2021\"],\"y\":[85,83,73,62,66,55,66,71],\"type\":\"scatter\",\"xaxis\":\"x\",\"yaxis\":\"y\"},{\"name\":\"\\u540d\\u53e4\\u5c4b\\u5927\",\"x\":[\"2012~2014\",\"2013~2015\",\"2014~2016\",\"2015~2017\",\"2016~2018\",\"2017~2019\",\"2018~2020\",\"2019~2021\"],\"y\":[45,38,35,25,34,45,36,35],\"type\":\"scatter\",\"xaxis\":\"x\",\"yaxis\":\"y\"},{\"name\":\"\\u6771\\u4eac\\u533b\\u79d1\\u6b6f\\u79d1\\u5927\\u5b66\",\"x\":[\"2012~2014\",\"2013~2015\",\"2014~2016\",\"2015~2017\",\"2016~2018\",\"2017~2019\",\"2018~2020\",\"2019~2021\"],\"y\":[2,2,3,2,2,3,3,4],\"type\":\"scatter\",\"xaxis\":\"x\",\"yaxis\":\"y\"},{\"name\":\"\\u6771\\u5de5\\u5927+\\u533b\\u79d1\\u6b6f\\u79d1\\u5927\\u5b66\",\"x\":[\"2012~2014\",\"2013~2015\",\"2014~2016\",\"2015~2017\",\"2016~2018\",\"2017~2019\",\"2018~2020\",\"2019~2021\"],\"y\":[38,34,39,34,30,24,33,30],\"type\":\"scatter\",\"xaxis\":\"x\",\"yaxis\":\"y\"}],                        {\"template\":{\"data\":{\"histogram2dcontour\":[{\"type\":\"histogram2dcontour\",\"colorbar\":{\"outlinewidth\":0,\"ticks\":\"\"},\"colorscale\":[[0.0,\"#0d0887\"],[0.1111111111111111,\"#46039f\"],[0.2222222222222222,\"#7201a8\"],[0.3333333333333333,\"#9c179e\"],[0.4444444444444444,\"#bd3786\"],[0.5555555555555556,\"#d8576b\"],[0.6666666666666666,\"#ed7953\"],[0.7777777777777778,\"#fb9f3a\"],[0.8888888888888888,\"#fdca26\"],[1.0,\"#f0f921\"]]}],\"choropleth\":[{\"type\":\"choropleth\",\"colorbar\":{\"outlinewidth\":0,\"ticks\":\"\"}}],\"histogram2d\":[{\"type\":\"histogram2d\",\"colorbar\":{\"outlinewidth\":0,\"ticks\":\"\"},\"colorscale\":[[0.0,\"#0d0887\"],[0.1111111111111111,\"#46039f\"],[0.2222222222222222,\"#7201a8\"],[0.3333333333333333,\"#9c179e\"],[0.4444444444444444,\"#bd3786\"],[0.5555555555555556,\"#d8576b\"],[0.6666666666666666,\"#ed7953\"],[0.7777777777777778,\"#fb9f3a\"],[0.8888888888888888,\"#fdca26\"],[1.0,\"#f0f921\"]]}],\"heatmap\":[{\"type\":\"heatmap\",\"colorbar\":{\"outlinewidth\":0,\"ticks\":\"\"},\"colorscale\":[[0.0,\"#0d0887\"],[0.1111111111111111,\"#46039f\"],[0.2222222222222222,\"#7201a8\"],[0.3333333333333333,\"#9c179e\"],[0.4444444444444444,\"#bd3786\"],[0.5555555555555556,\"#d8576b\"],[0.6666666666666666,\"#ed7953\"],[0.7777777777777778,\"#fb9f3a\"],[0.8888888888888888,\"#fdca26\"],[1.0,\"#f0f921\"]]}],\"heatmapgl\":[{\"type\":\"heatmapgl\",\"colorbar\":{\"outlinewidth\":0,\"ticks\":\"\"},\"colorscale\":[[0.0,\"#0d0887\"],[0.1111111111111111,\"#46039f\"],[0.2222222222222222,\"#7201a8\"],[0.3333333333333333,\"#9c179e\"],[0.4444444444444444,\"#bd3786\"],[0.5555555555555556,\"#d8576b\"],[0.6666666666666666,\"#ed7953\"],[0.7777777777777778,\"#fb9f3a\"],[0.8888888888888888,\"#fdca26\"],[1.0,\"#f0f921\"]]}],\"contourcarpet\":[{\"type\":\"contourcarpet\",\"colorbar\":{\"outlinewidth\":0,\"ticks\":\"\"}}],\"contour\":[{\"type\":\"contour\",\"colorbar\":{\"outlinewidth\":0,\"ticks\":\"\"},\"colorscale\":[[0.0,\"#0d0887\"],[0.1111111111111111,\"#46039f\"],[0.2222222222222222,\"#7201a8\"],[0.3333333333333333,\"#9c179e\"],[0.4444444444444444,\"#bd3786\"],[0.5555555555555556,\"#d8576b\"],[0.6666666666666666,\"#ed7953\"],[0.7777777777777778,\"#fb9f3a\"],[0.8888888888888888,\"#fdca26\"],[1.0,\"#f0f921\"]]}],\"surface\":[{\"type\":\"surface\",\"colorbar\":{\"outlinewidth\":0,\"ticks\":\"\"},\"colorscale\":[[0.0,\"#0d0887\"],[0.1111111111111111,\"#46039f\"],[0.2222222222222222,\"#7201a8\"],[0.3333333333333333,\"#9c179e\"],[0.4444444444444444,\"#bd3786\"],[0.5555555555555556,\"#d8576b\"],[0.6666666666666666,\"#ed7953\"],[0.7777777777777778,\"#fb9f3a\"],[0.8888888888888888,\"#fdca26\"],[1.0,\"#f0f921\"]]}],\"mesh3d\":[{\"type\":\"mesh3d\",\"colorbar\":{\"outlinewidth\":0,\"ticks\":\"\"}}],\"scatter\":[{\"fillpattern\":{\"fillmode\":\"overlay\",\"size\":10,\"solidity\":0.2},\"type\":\"scatter\"}],\"parcoords\":[{\"type\":\"parcoords\",\"line\":{\"colorbar\":{\"outlinewidth\":0,\"ticks\":\"\"}}}],\"scatterpolargl\":[{\"type\":\"scatterpolargl\",\"marker\":{\"colorbar\":{\"outlinewidth\":0,\"ticks\":\"\"}}}],\"bar\":[{\"error_x\":{\"color\":\"#2a3f5f\"},\"error_y\":{\"color\":\"#2a3f5f\"},\"marker\":{\"line\":{\"color\":\"#E5ECF6\",\"width\":0.5},\"pattern\":{\"fillmode\":\"overlay\",\"size\":10,\"solidity\":0.2}},\"type\":\"bar\"}],\"scattergeo\":[{\"type\":\"scattergeo\",\"marker\":{\"colorbar\":{\"outlinewidth\":0,\"ticks\":\"\"}}}],\"scatterpolar\":[{\"type\":\"scatterpolar\",\"marker\":{\"colorbar\":{\"outlinewidth\":0,\"ticks\":\"\"}}}],\"histogram\":[{\"marker\":{\"pattern\":{\"fillmode\":\"overlay\",\"size\":10,\"solidity\":0.2}},\"type\":\"histogram\"}],\"scattergl\":[{\"type\":\"scattergl\",\"marker\":{\"colorbar\":{\"outlinewidth\":0,\"ticks\":\"\"}}}],\"scatter3d\":[{\"type\":\"scatter3d\",\"line\":{\"colorbar\":{\"outlinewidth\":0,\"ticks\":\"\"}},\"marker\":{\"colorbar\":{\"outlinewidth\":0,\"ticks\":\"\"}}}],\"scattermapbox\":[{\"type\":\"scattermapbox\",\"marker\":{\"colorbar\":{\"outlinewidth\":0,\"ticks\":\"\"}}}],\"scatterternary\":[{\"type\":\"scatterternary\",\"marker\":{\"colorbar\":{\"outlinewidth\":0,\"ticks\":\"\"}}}],\"scattercarpet\":[{\"type\":\"scattercarpet\",\"marker\":{\"colorbar\":{\"outlinewidth\":0,\"ticks\":\"\"}}}],\"carpet\":[{\"aaxis\":{\"endlinecolor\":\"#2a3f5f\",\"gridcolor\":\"white\",\"linecolor\":\"white\",\"minorgridcolor\":\"white\",\"startlinecolor\":\"#2a3f5f\"},\"baxis\":{\"endlinecolor\":\"#2a3f5f\",\"gridcolor\":\"white\",\"linecolor\":\"white\",\"minorgridcolor\":\"white\",\"startlinecolor\":\"#2a3f5f\"},\"type\":\"carpet\"}],\"table\":[{\"cells\":{\"fill\":{\"color\":\"#EBF0F8\"},\"line\":{\"color\":\"white\"}},\"header\":{\"fill\":{\"color\":\"#C8D4E3\"},\"line\":{\"color\":\"white\"}},\"type\":\"table\"}],\"barpolar\":[{\"marker\":{\"line\":{\"color\":\"#E5ECF6\",\"width\":0.5},\"pattern\":{\"fillmode\":\"overlay\",\"size\":10,\"solidity\":0.2}},\"type\":\"barpolar\"}],\"pie\":[{\"automargin\":true,\"type\":\"pie\"}]},\"layout\":{\"autotypenumbers\":\"strict\",\"colorway\":[\"#636efa\",\"#EF553B\",\"#00cc96\",\"#ab63fa\",\"#FFA15A\",\"#19d3f3\",\"#FF6692\",\"#B6E880\",\"#FF97FF\",\"#FECB52\"],\"font\":{\"color\":\"#2a3f5f\"},\"hovermode\":\"closest\",\"hoverlabel\":{\"align\":\"left\"},\"paper_bgcolor\":\"white\",\"plot_bgcolor\":\"#E5ECF6\",\"polar\":{\"bgcolor\":\"#E5ECF6\",\"angularaxis\":{\"gridcolor\":\"white\",\"linecolor\":\"white\",\"ticks\":\"\"},\"radialaxis\":{\"gridcolor\":\"white\",\"linecolor\":\"white\",\"ticks\":\"\"}},\"ternary\":{\"bgcolor\":\"#E5ECF6\",\"aaxis\":{\"gridcolor\":\"white\",\"linecolor\":\"white\",\"ticks\":\"\"},\"baxis\":{\"gridcolor\":\"white\",\"linecolor\":\"white\",\"ticks\":\"\"},\"caxis\":{\"gridcolor\":\"white\",\"linecolor\":\"white\",\"ticks\":\"\"}},\"coloraxis\":{\"colorbar\":{\"outlinewidth\":0,\"ticks\":\"\"}},\"colorscale\":{\"sequential\":[[0.0,\"#0d0887\"],[0.1111111111111111,\"#46039f\"],[0.2222222222222222,\"#7201a8\"],[0.3333333333333333,\"#9c179e\"],[0.4444444444444444,\"#bd3786\"],[0.5555555555555556,\"#d8576b\"],[0.6666666666666666,\"#ed7953\"],[0.7777777777777778,\"#fb9f3a\"],[0.8888888888888888,\"#fdca26\"],[1.0,\"#f0f921\"]],\"sequentialminus\":[[0.0,\"#0d0887\"],[0.1111111111111111,\"#46039f\"],[0.2222222222222222,\"#7201a8\"],[0.3333333333333333,\"#9c179e\"],[0.4444444444444444,\"#bd3786\"],[0.5555555555555556,\"#d8576b\"],[0.6666666666666666,\"#ed7953\"],[0.7777777777777778,\"#fb9f3a\"],[0.8888888888888888,\"#fdca26\"],[1.0,\"#f0f921\"]],\"diverging\":[[0,\"#8e0152\"],[0.1,\"#c51b7d\"],[0.2,\"#de77ae\"],[0.3,\"#f1b6da\"],[0.4,\"#fde0ef\"],[0.5,\"#f7f7f7\"],[0.6,\"#e6f5d0\"],[0.7,\"#b8e186\"],[0.8,\"#7fbc41\"],[0.9,\"#4d9221\"],[1,\"#276419\"]]},\"xaxis\":{\"gridcolor\":\"white\",\"linecolor\":\"white\",\"ticks\":\"\",\"title\":{\"standoff\":15},\"zerolinecolor\":\"white\",\"automargin\":true,\"zerolinewidth\":2},\"yaxis\":{\"gridcolor\":\"white\",\"linecolor\":\"white\",\"ticks\":\"\",\"title\":{\"standoff\":15},\"zerolinecolor\":\"white\",\"automargin\":true,\"zerolinewidth\":2},\"scene\":{\"xaxis\":{\"backgroundcolor\":\"#E5ECF6\",\"gridcolor\":\"white\",\"linecolor\":\"white\",\"showbackground\":true,\"ticks\":\"\",\"zerolinecolor\":\"white\",\"gridwidth\":2},\"yaxis\":{\"backgroundcolor\":\"#E5ECF6\",\"gridcolor\":\"white\",\"linecolor\":\"white\",\"showbackground\":true,\"ticks\":\"\",\"zerolinecolor\":\"white\",\"gridwidth\":2},\"zaxis\":{\"backgroundcolor\":\"#E5ECF6\",\"gridcolor\":\"white\",\"linecolor\":\"white\",\"showbackground\":true,\"ticks\":\"\",\"zerolinecolor\":\"white\",\"gridwidth\":2}},\"shapedefaults\":{\"line\":{\"color\":\"#2a3f5f\"}},\"annotationdefaults\":{\"arrowcolor\":\"#2a3f5f\",\"arrowhead\":0,\"arrowwidth\":1},\"geo\":{\"bgcolor\":\"white\",\"landcolor\":\"#E5ECF6\",\"subunitcolor\":\"white\",\"showland\":true,\"showlakes\":true,\"lakecolor\":\"white\"},\"title\":{\"x\":0.05},\"mapbox\":{\"style\":\"light\"}}},\"xaxis\":{\"anchor\":\"y\",\"domain\":[0.0,1.0]},\"yaxis\":{\"anchor\":\"x\",\"domain\":[0.0,1.0]},\"title\":{\"text\":\"\\u7406\\u5b66\\u5206\\u91ce\\u306e\\u6761\\u4ef6\\u3092\\u6e80\\u305f\\u3059\\u7814\\u7a76\\u8005\\u306e\\u63a8\\u79fb\"}},                        {\"responsive\": true}                    ).then(function(){\n",
              "                            \n",
              "var gd = document.getElementById('72993b56-e5a1-4958-a5de-113833dae06e');\n",
              "var x = new MutationObserver(function (mutations, observer) {{\n",
              "        var display = window.getComputedStyle(gd).display;\n",
              "        if (!display || display === 'none') {{\n",
              "            console.log([gd, 'removed!']);\n",
              "            Plotly.purge(gd);\n",
              "            observer.disconnect();\n",
              "        }}\n",
              "}});\n",
              "\n",
              "// Listen for the removal of the full notebook cells\n",
              "var notebookContainer = gd.closest('#notebook-container');\n",
              "if (notebookContainer) {{\n",
              "    x.observe(notebookContainer, {childList: true});\n",
              "}}\n",
              "\n",
              "// Listen for the clearing of the current output cell\n",
              "var outputEl = gd.closest('.output');\n",
              "if (outputEl) {{\n",
              "    x.observe(outputEl, {childList: true});\n",
              "}}\n",
              "\n",
              "                        })                };                            </script>        </div>\n",
              "</body>\n",
              "</html>"
            ]
          },
          "metadata": {}
        }
      ]
    },
    {
      "cell_type": "markdown",
      "source": [
        "## 集計"
      ],
      "metadata": {
        "id": "U12r9vJtCG7u"
      }
    },
    {
      "cell_type": "code",
      "source": [
        "#工学の推移\n",
        "rigak = tag_all.query('new_tag == \"工学\"')\n",
        "a = rigak.groupby(['大学名','year','end_year'],as_index=False).sum()\n",
        "\n",
        "line_trace = go.Scatter(x=a.query('大学名 == \"titech\"')['year'], y=a.query('大学名 == \"titech\"')['研究者数'], name='東工大')\n",
        "line_trace1 = go.Scatter(x=a.query('大学名 == \"MIT\"')['year'], y=a.query('大学名 == \"MIT\"')['研究者数'], name='MIT')\n",
        "line_trace2 = go.Scatter(x=a.query('大学名 == \"Imperial\"')['year'], y=a.query('大学名 == \"Imperial\"')['研究者数'], name='Imperial College London')\n",
        "line_trace3 = go.Scatter(x=a.query('大学名 == \"UT\"')['year'], y=a.query('大学名 == \"UT\"')['研究者数'], name='東大')\n",
        "line_trace4 = go.Scatter(x=a.query('大学名 == \"kyoto\"')['year'], y=a.query('大学名 == \"kyoto\"')['研究者数'], name='京大')\n",
        "line_trace5 = go.Scatter(x=a.query('大学名 == \"osaka\"')['year'], y=a.query('大学名 == \"osaka\"')['研究者数'], name='大阪大')\n",
        "line_trace6 = go.Scatter(x=a.query('大学名 == \"tohoku\"')['year'], y=a.query('大学名 == \"tohoku\"')['研究者数'], name='東北大')\n",
        "line_trace7 = go.Scatter(x=a.query('大学名 == \"nagoya\"')['year'], y=a.query('大学名 == \"nagoya\"')['研究者数'], name='名古屋大')\n",
        "line_trace8 = go.Scatter(x=a.query('大学名 == \"medical\"')['year'], y=a.query('大学名 == \"medical\"')['研究者数'], name='東京医科歯科大学')\n",
        "line_trace9 = go.Scatter(x=a.query('大学名 == \"東工大+医科歯科大\"')['year'], y=a.query('大学名 == \"東工大+医科歯科大\"')['研究者数'], name='東工大+医科歯科大学')\n",
        "\n",
        "subplots_fig = make_subplots(rows=1, cols=1)\n",
        "subplots_fig.add_trace(line_trace, row=1, col=1)\n",
        "subplots_fig.add_trace(line_trace1, row=1, col=1)\n",
        "subplots_fig.add_trace(line_trace2, row=1, col=1)\n",
        "subplots_fig.add_trace(line_trace3, row=1, col=1)\n",
        "subplots_fig.add_trace(line_trace4, row=1, col=1)\n",
        "subplots_fig.add_trace(line_trace5, row=1, col=1)\n",
        "subplots_fig.add_trace(line_trace6, row=1, col=1)\n",
        "subplots_fig.add_trace(line_trace7, row=1, col=1)\n",
        "subplots_fig.add_trace(line_trace8, row=1, col=1)\n",
        "subplots_fig.add_trace(line_trace9, row=1, col=1)\n",
        "\n",
        "subplots_fig.update_layout(title='工学分野の条件を満たす研究者の推移')\n",
        "\n"
      ],
      "metadata": {
        "colab": {
          "base_uri": "https://localhost:8080/",
          "height": 542
        },
        "id": "H0QulJZlVKbb",
        "outputId": "db1ab72e-72d6-4be1-b208-47bdf6355cd4"
      },
      "execution_count": 88,
      "outputs": [
        {
          "output_type": "display_data",
          "data": {
            "text/html": [
              "<html>\n",
              "<head><meta charset=\"utf-8\" /></head>\n",
              "<body>\n",
              "    <div>            <script src=\"https://cdnjs.cloudflare.com/ajax/libs/mathjax/2.7.5/MathJax.js?config=TeX-AMS-MML_SVG\"></script><script type=\"text/javascript\">if (window.MathJax && window.MathJax.Hub && window.MathJax.Hub.Config) {window.MathJax.Hub.Config({SVG: {font: \"STIX-Web\"}});}</script>                <script type=\"text/javascript\">window.PlotlyConfig = {MathJaxConfig: 'local'};</script>\n",
              "        <script src=\"https://cdn.plot.ly/plotly-2.18.2.min.js\"></script>                <div id=\"5248e090-45df-47eb-9727-f47531bd7e2f\" class=\"plotly-graph-div\" style=\"height:525px; width:100%;\"></div>            <script type=\"text/javascript\">                                    window.PLOTLYENV=window.PLOTLYENV || {};                                    if (document.getElementById(\"5248e090-45df-47eb-9727-f47531bd7e2f\")) {                    Plotly.newPlot(                        \"5248e090-45df-47eb-9727-f47531bd7e2f\",                        [{\"name\":\"\\u6771\\u5de5\\u5927\",\"x\":[\"2012~2014\",\"2013~2015\",\"2014~2016\",\"2015~2017\",\"2016~2018\",\"2017~2019\",\"2018~2020\",\"2019~2021\"],\"y\":[51,52,48,36,45,41,41,35],\"type\":\"scatter\",\"xaxis\":\"x\",\"yaxis\":\"y\"},{\"name\":\"MIT\",\"x\":[\"2012~2014\",\"2013~2015\",\"2014~2016\",\"2015~2017\",\"2016~2018\",\"2017~2019\",\"2018~2020\",\"2019~2021\"],\"y\":[162,176,174,174,159,165,149,137],\"type\":\"scatter\",\"xaxis\":\"x\",\"yaxis\":\"y\"},{\"name\":\"Imperial College London\",\"x\":[\"2012~2014\",\"2013~2015\",\"2014~2016\",\"2015~2017\",\"2016~2018\",\"2017~2019\",\"2018~2020\",\"2019~2021\"],\"y\":[98,86,75,93,97,100,98,99],\"type\":\"scatter\",\"xaxis\":\"x\",\"yaxis\":\"y\"},{\"name\":\"\\u6771\\u5927\",\"x\":[\"2012~2014\",\"2013~2015\",\"2014~2016\",\"2015~2017\",\"2016~2018\",\"2017~2019\",\"2018~2020\",\"2019~2021\"],\"y\":[76,81,85,81,81,105,100,96],\"type\":\"scatter\",\"xaxis\":\"x\",\"yaxis\":\"y\"},{\"name\":\"\\u4eac\\u5927\",\"x\":[\"2012~2014\",\"2013~2015\",\"2014~2016\",\"2015~2017\",\"2016~2018\",\"2017~2019\",\"2018~2020\",\"2019~2021\"],\"y\":[38,42,45,46,48,45,46,44],\"type\":\"scatter\",\"xaxis\":\"x\",\"yaxis\":\"y\"},{\"name\":\"\\u5927\\u962a\\u5927\",\"x\":[\"2012~2014\",\"2013~2015\",\"2014~2016\",\"2015~2017\",\"2016~2018\",\"2017~2019\",\"2018~2020\",\"2019~2021\"],\"y\":[59,62,54,56,52,50,51,38],\"type\":\"scatter\",\"xaxis\":\"x\",\"yaxis\":\"y\"},{\"name\":\"\\u6771\\u5317\\u5927\",\"x\":[\"2012~2014\",\"2013~2015\",\"2014~2016\",\"2015~2017\",\"2016~2018\",\"2017~2019\",\"2018~2020\",\"2019~2021\"],\"y\":[106,94,75,59,60,64,73,71],\"type\":\"scatter\",\"xaxis\":\"x\",\"yaxis\":\"y\"},{\"name\":\"\\u540d\\u53e4\\u5c4b\\u5927\",\"x\":[\"2012~2014\",\"2013~2015\",\"2014~2016\",\"2015~2017\",\"2016~2018\",\"2017~2019\",\"2018~2020\",\"2019~2021\"],\"y\":[35,42,39,39,44,45,47,32],\"type\":\"scatter\",\"xaxis\":\"x\",\"yaxis\":\"y\"},{\"name\":\"\\u6771\\u4eac\\u533b\\u79d1\\u6b6f\\u79d1\\u5927\\u5b66\",\"x\":[\"2012~2014\",\"2013~2015\",\"2014~2016\",\"2015~2017\",\"2016~2018\",\"2017~2019\",\"2018~2020\",\"2019~2021\"],\"y\":[3,2,2,2,3,3,2,3],\"type\":\"scatter\",\"xaxis\":\"x\",\"yaxis\":\"y\"},{\"name\":\"\\u6771\\u5de5\\u5927+\\u533b\\u79d1\\u6b6f\\u79d1\\u5927\\u5b66\",\"x\":[\"2012~2014\",\"2013~2015\",\"2014~2016\",\"2015~2017\",\"2016~2018\",\"2017~2019\",\"2018~2020\",\"2019~2021\"],\"y\":[54,54,50,38,48,44,43,38],\"type\":\"scatter\",\"xaxis\":\"x\",\"yaxis\":\"y\"}],                        {\"template\":{\"data\":{\"histogram2dcontour\":[{\"type\":\"histogram2dcontour\",\"colorbar\":{\"outlinewidth\":0,\"ticks\":\"\"},\"colorscale\":[[0.0,\"#0d0887\"],[0.1111111111111111,\"#46039f\"],[0.2222222222222222,\"#7201a8\"],[0.3333333333333333,\"#9c179e\"],[0.4444444444444444,\"#bd3786\"],[0.5555555555555556,\"#d8576b\"],[0.6666666666666666,\"#ed7953\"],[0.7777777777777778,\"#fb9f3a\"],[0.8888888888888888,\"#fdca26\"],[1.0,\"#f0f921\"]]}],\"choropleth\":[{\"type\":\"choropleth\",\"colorbar\":{\"outlinewidth\":0,\"ticks\":\"\"}}],\"histogram2d\":[{\"type\":\"histogram2d\",\"colorbar\":{\"outlinewidth\":0,\"ticks\":\"\"},\"colorscale\":[[0.0,\"#0d0887\"],[0.1111111111111111,\"#46039f\"],[0.2222222222222222,\"#7201a8\"],[0.3333333333333333,\"#9c179e\"],[0.4444444444444444,\"#bd3786\"],[0.5555555555555556,\"#d8576b\"],[0.6666666666666666,\"#ed7953\"],[0.7777777777777778,\"#fb9f3a\"],[0.8888888888888888,\"#fdca26\"],[1.0,\"#f0f921\"]]}],\"heatmap\":[{\"type\":\"heatmap\",\"colorbar\":{\"outlinewidth\":0,\"ticks\":\"\"},\"colorscale\":[[0.0,\"#0d0887\"],[0.1111111111111111,\"#46039f\"],[0.2222222222222222,\"#7201a8\"],[0.3333333333333333,\"#9c179e\"],[0.4444444444444444,\"#bd3786\"],[0.5555555555555556,\"#d8576b\"],[0.6666666666666666,\"#ed7953\"],[0.7777777777777778,\"#fb9f3a\"],[0.8888888888888888,\"#fdca26\"],[1.0,\"#f0f921\"]]}],\"heatmapgl\":[{\"type\":\"heatmapgl\",\"colorbar\":{\"outlinewidth\":0,\"ticks\":\"\"},\"colorscale\":[[0.0,\"#0d0887\"],[0.1111111111111111,\"#46039f\"],[0.2222222222222222,\"#7201a8\"],[0.3333333333333333,\"#9c179e\"],[0.4444444444444444,\"#bd3786\"],[0.5555555555555556,\"#d8576b\"],[0.6666666666666666,\"#ed7953\"],[0.7777777777777778,\"#fb9f3a\"],[0.8888888888888888,\"#fdca26\"],[1.0,\"#f0f921\"]]}],\"contourcarpet\":[{\"type\":\"contourcarpet\",\"colorbar\":{\"outlinewidth\":0,\"ticks\":\"\"}}],\"contour\":[{\"type\":\"contour\",\"colorbar\":{\"outlinewidth\":0,\"ticks\":\"\"},\"colorscale\":[[0.0,\"#0d0887\"],[0.1111111111111111,\"#46039f\"],[0.2222222222222222,\"#7201a8\"],[0.3333333333333333,\"#9c179e\"],[0.4444444444444444,\"#bd3786\"],[0.5555555555555556,\"#d8576b\"],[0.6666666666666666,\"#ed7953\"],[0.7777777777777778,\"#fb9f3a\"],[0.8888888888888888,\"#fdca26\"],[1.0,\"#f0f921\"]]}],\"surface\":[{\"type\":\"surface\",\"colorbar\":{\"outlinewidth\":0,\"ticks\":\"\"},\"colorscale\":[[0.0,\"#0d0887\"],[0.1111111111111111,\"#46039f\"],[0.2222222222222222,\"#7201a8\"],[0.3333333333333333,\"#9c179e\"],[0.4444444444444444,\"#bd3786\"],[0.5555555555555556,\"#d8576b\"],[0.6666666666666666,\"#ed7953\"],[0.7777777777777778,\"#fb9f3a\"],[0.8888888888888888,\"#fdca26\"],[1.0,\"#f0f921\"]]}],\"mesh3d\":[{\"type\":\"mesh3d\",\"colorbar\":{\"outlinewidth\":0,\"ticks\":\"\"}}],\"scatter\":[{\"fillpattern\":{\"fillmode\":\"overlay\",\"size\":10,\"solidity\":0.2},\"type\":\"scatter\"}],\"parcoords\":[{\"type\":\"parcoords\",\"line\":{\"colorbar\":{\"outlinewidth\":0,\"ticks\":\"\"}}}],\"scatterpolargl\":[{\"type\":\"scatterpolargl\",\"marker\":{\"colorbar\":{\"outlinewidth\":0,\"ticks\":\"\"}}}],\"bar\":[{\"error_x\":{\"color\":\"#2a3f5f\"},\"error_y\":{\"color\":\"#2a3f5f\"},\"marker\":{\"line\":{\"color\":\"#E5ECF6\",\"width\":0.5},\"pattern\":{\"fillmode\":\"overlay\",\"size\":10,\"solidity\":0.2}},\"type\":\"bar\"}],\"scattergeo\":[{\"type\":\"scattergeo\",\"marker\":{\"colorbar\":{\"outlinewidth\":0,\"ticks\":\"\"}}}],\"scatterpolar\":[{\"type\":\"scatterpolar\",\"marker\":{\"colorbar\":{\"outlinewidth\":0,\"ticks\":\"\"}}}],\"histogram\":[{\"marker\":{\"pattern\":{\"fillmode\":\"overlay\",\"size\":10,\"solidity\":0.2}},\"type\":\"histogram\"}],\"scattergl\":[{\"type\":\"scattergl\",\"marker\":{\"colorbar\":{\"outlinewidth\":0,\"ticks\":\"\"}}}],\"scatter3d\":[{\"type\":\"scatter3d\",\"line\":{\"colorbar\":{\"outlinewidth\":0,\"ticks\":\"\"}},\"marker\":{\"colorbar\":{\"outlinewidth\":0,\"ticks\":\"\"}}}],\"scattermapbox\":[{\"type\":\"scattermapbox\",\"marker\":{\"colorbar\":{\"outlinewidth\":0,\"ticks\":\"\"}}}],\"scatterternary\":[{\"type\":\"scatterternary\",\"marker\":{\"colorbar\":{\"outlinewidth\":0,\"ticks\":\"\"}}}],\"scattercarpet\":[{\"type\":\"scattercarpet\",\"marker\":{\"colorbar\":{\"outlinewidth\":0,\"ticks\":\"\"}}}],\"carpet\":[{\"aaxis\":{\"endlinecolor\":\"#2a3f5f\",\"gridcolor\":\"white\",\"linecolor\":\"white\",\"minorgridcolor\":\"white\",\"startlinecolor\":\"#2a3f5f\"},\"baxis\":{\"endlinecolor\":\"#2a3f5f\",\"gridcolor\":\"white\",\"linecolor\":\"white\",\"minorgridcolor\":\"white\",\"startlinecolor\":\"#2a3f5f\"},\"type\":\"carpet\"}],\"table\":[{\"cells\":{\"fill\":{\"color\":\"#EBF0F8\"},\"line\":{\"color\":\"white\"}},\"header\":{\"fill\":{\"color\":\"#C8D4E3\"},\"line\":{\"color\":\"white\"}},\"type\":\"table\"}],\"barpolar\":[{\"marker\":{\"line\":{\"color\":\"#E5ECF6\",\"width\":0.5},\"pattern\":{\"fillmode\":\"overlay\",\"size\":10,\"solidity\":0.2}},\"type\":\"barpolar\"}],\"pie\":[{\"automargin\":true,\"type\":\"pie\"}]},\"layout\":{\"autotypenumbers\":\"strict\",\"colorway\":[\"#636efa\",\"#EF553B\",\"#00cc96\",\"#ab63fa\",\"#FFA15A\",\"#19d3f3\",\"#FF6692\",\"#B6E880\",\"#FF97FF\",\"#FECB52\"],\"font\":{\"color\":\"#2a3f5f\"},\"hovermode\":\"closest\",\"hoverlabel\":{\"align\":\"left\"},\"paper_bgcolor\":\"white\",\"plot_bgcolor\":\"#E5ECF6\",\"polar\":{\"bgcolor\":\"#E5ECF6\",\"angularaxis\":{\"gridcolor\":\"white\",\"linecolor\":\"white\",\"ticks\":\"\"},\"radialaxis\":{\"gridcolor\":\"white\",\"linecolor\":\"white\",\"ticks\":\"\"}},\"ternary\":{\"bgcolor\":\"#E5ECF6\",\"aaxis\":{\"gridcolor\":\"white\",\"linecolor\":\"white\",\"ticks\":\"\"},\"baxis\":{\"gridcolor\":\"white\",\"linecolor\":\"white\",\"ticks\":\"\"},\"caxis\":{\"gridcolor\":\"white\",\"linecolor\":\"white\",\"ticks\":\"\"}},\"coloraxis\":{\"colorbar\":{\"outlinewidth\":0,\"ticks\":\"\"}},\"colorscale\":{\"sequential\":[[0.0,\"#0d0887\"],[0.1111111111111111,\"#46039f\"],[0.2222222222222222,\"#7201a8\"],[0.3333333333333333,\"#9c179e\"],[0.4444444444444444,\"#bd3786\"],[0.5555555555555556,\"#d8576b\"],[0.6666666666666666,\"#ed7953\"],[0.7777777777777778,\"#fb9f3a\"],[0.8888888888888888,\"#fdca26\"],[1.0,\"#f0f921\"]],\"sequentialminus\":[[0.0,\"#0d0887\"],[0.1111111111111111,\"#46039f\"],[0.2222222222222222,\"#7201a8\"],[0.3333333333333333,\"#9c179e\"],[0.4444444444444444,\"#bd3786\"],[0.5555555555555556,\"#d8576b\"],[0.6666666666666666,\"#ed7953\"],[0.7777777777777778,\"#fb9f3a\"],[0.8888888888888888,\"#fdca26\"],[1.0,\"#f0f921\"]],\"diverging\":[[0,\"#8e0152\"],[0.1,\"#c51b7d\"],[0.2,\"#de77ae\"],[0.3,\"#f1b6da\"],[0.4,\"#fde0ef\"],[0.5,\"#f7f7f7\"],[0.6,\"#e6f5d0\"],[0.7,\"#b8e186\"],[0.8,\"#7fbc41\"],[0.9,\"#4d9221\"],[1,\"#276419\"]]},\"xaxis\":{\"gridcolor\":\"white\",\"linecolor\":\"white\",\"ticks\":\"\",\"title\":{\"standoff\":15},\"zerolinecolor\":\"white\",\"automargin\":true,\"zerolinewidth\":2},\"yaxis\":{\"gridcolor\":\"white\",\"linecolor\":\"white\",\"ticks\":\"\",\"title\":{\"standoff\":15},\"zerolinecolor\":\"white\",\"automargin\":true,\"zerolinewidth\":2},\"scene\":{\"xaxis\":{\"backgroundcolor\":\"#E5ECF6\",\"gridcolor\":\"white\",\"linecolor\":\"white\",\"showbackground\":true,\"ticks\":\"\",\"zerolinecolor\":\"white\",\"gridwidth\":2},\"yaxis\":{\"backgroundcolor\":\"#E5ECF6\",\"gridcolor\":\"white\",\"linecolor\":\"white\",\"showbackground\":true,\"ticks\":\"\",\"zerolinecolor\":\"white\",\"gridwidth\":2},\"zaxis\":{\"backgroundcolor\":\"#E5ECF6\",\"gridcolor\":\"white\",\"linecolor\":\"white\",\"showbackground\":true,\"ticks\":\"\",\"zerolinecolor\":\"white\",\"gridwidth\":2}},\"shapedefaults\":{\"line\":{\"color\":\"#2a3f5f\"}},\"annotationdefaults\":{\"arrowcolor\":\"#2a3f5f\",\"arrowhead\":0,\"arrowwidth\":1},\"geo\":{\"bgcolor\":\"white\",\"landcolor\":\"#E5ECF6\",\"subunitcolor\":\"white\",\"showland\":true,\"showlakes\":true,\"lakecolor\":\"white\"},\"title\":{\"x\":0.05},\"mapbox\":{\"style\":\"light\"}}},\"xaxis\":{\"anchor\":\"y\",\"domain\":[0.0,1.0]},\"yaxis\":{\"anchor\":\"x\",\"domain\":[0.0,1.0]},\"title\":{\"text\":\"\\u5de5\\u5b66\\u5206\\u91ce\\u306e\\u6761\\u4ef6\\u3092\\u6e80\\u305f\\u3059\\u7814\\u7a76\\u8005\\u306e\\u63a8\\u79fb\"}},                        {\"responsive\": true}                    ).then(function(){\n",
              "                            \n",
              "var gd = document.getElementById('5248e090-45df-47eb-9727-f47531bd7e2f');\n",
              "var x = new MutationObserver(function (mutations, observer) {{\n",
              "        var display = window.getComputedStyle(gd).display;\n",
              "        if (!display || display === 'none') {{\n",
              "            console.log([gd, 'removed!']);\n",
              "            Plotly.purge(gd);\n",
              "            observer.disconnect();\n",
              "        }}\n",
              "}});\n",
              "\n",
              "// Listen for the removal of the full notebook cells\n",
              "var notebookContainer = gd.closest('#notebook-container');\n",
              "if (notebookContainer) {{\n",
              "    x.observe(notebookContainer, {childList: true});\n",
              "}}\n",
              "\n",
              "// Listen for the clearing of the current output cell\n",
              "var outputEl = gd.closest('.output');\n",
              "if (outputEl) {{\n",
              "    x.observe(outputEl, {childList: true});\n",
              "}}\n",
              "\n",
              "                        })                };                            </script>        </div>\n",
              "</body>\n",
              "</html>"
            ]
          },
          "metadata": {}
        }
      ]
    },
    {
      "cell_type": "markdown",
      "source": [
        "## 工学分野の推移\n",
        "\n",
        "\n",
        "### 東工大と日本の大学の比較\n",
        "- 東大、東北大が2強となっている\n",
        "- 他の大学（東工大、京大、大阪大、名古屋大）はほぼ同数"
      ],
      "metadata": {
        "id": "apgFvCohCTnh"
      }
    },
    {
      "cell_type": "code",
      "source": [
        "subplots_fig.show()"
      ],
      "metadata": {
        "colab": {
          "base_uri": "https://localhost:8080/",
          "height": 542
        },
        "id": "GGIZ2s6XCUeZ",
        "outputId": "78e4578a-e2ce-4c8c-bd0d-1e45f940221b"
      },
      "execution_count": 89,
      "outputs": [
        {
          "output_type": "display_data",
          "data": {
            "text/html": [
              "<html>\n",
              "<head><meta charset=\"utf-8\" /></head>\n",
              "<body>\n",
              "    <div>            <script src=\"https://cdnjs.cloudflare.com/ajax/libs/mathjax/2.7.5/MathJax.js?config=TeX-AMS-MML_SVG\"></script><script type=\"text/javascript\">if (window.MathJax && window.MathJax.Hub && window.MathJax.Hub.Config) {window.MathJax.Hub.Config({SVG: {font: \"STIX-Web\"}});}</script>                <script type=\"text/javascript\">window.PlotlyConfig = {MathJaxConfig: 'local'};</script>\n",
              "        <script src=\"https://cdn.plot.ly/plotly-2.18.2.min.js\"></script>                <div id=\"4671df64-ddc5-4bbb-a85a-f360ce0be666\" class=\"plotly-graph-div\" style=\"height:525px; width:100%;\"></div>            <script type=\"text/javascript\">                                    window.PLOTLYENV=window.PLOTLYENV || {};                                    if (document.getElementById(\"4671df64-ddc5-4bbb-a85a-f360ce0be666\")) {                    Plotly.newPlot(                        \"4671df64-ddc5-4bbb-a85a-f360ce0be666\",                        [{\"name\":\"\\u6771\\u5de5\\u5927\",\"x\":[\"2012~2014\",\"2013~2015\",\"2014~2016\",\"2015~2017\",\"2016~2018\",\"2017~2019\",\"2018~2020\",\"2019~2021\"],\"y\":[51,52,48,36,45,41,41,35],\"type\":\"scatter\",\"xaxis\":\"x\",\"yaxis\":\"y\"},{\"name\":\"MIT\",\"x\":[\"2012~2014\",\"2013~2015\",\"2014~2016\",\"2015~2017\",\"2016~2018\",\"2017~2019\",\"2018~2020\",\"2019~2021\"],\"y\":[162,176,174,174,159,165,149,137],\"type\":\"scatter\",\"xaxis\":\"x\",\"yaxis\":\"y\"},{\"name\":\"Imperial College London\",\"x\":[\"2012~2014\",\"2013~2015\",\"2014~2016\",\"2015~2017\",\"2016~2018\",\"2017~2019\",\"2018~2020\",\"2019~2021\"],\"y\":[98,86,75,93,97,100,98,99],\"type\":\"scatter\",\"xaxis\":\"x\",\"yaxis\":\"y\"},{\"name\":\"\\u6771\\u5927\",\"x\":[\"2012~2014\",\"2013~2015\",\"2014~2016\",\"2015~2017\",\"2016~2018\",\"2017~2019\",\"2018~2020\",\"2019~2021\"],\"y\":[76,81,85,81,81,105,100,96],\"type\":\"scatter\",\"xaxis\":\"x\",\"yaxis\":\"y\"},{\"name\":\"\\u4eac\\u5927\",\"x\":[\"2012~2014\",\"2013~2015\",\"2014~2016\",\"2015~2017\",\"2016~2018\",\"2017~2019\",\"2018~2020\",\"2019~2021\"],\"y\":[38,42,45,46,48,45,46,44],\"type\":\"scatter\",\"xaxis\":\"x\",\"yaxis\":\"y\"},{\"name\":\"\\u5927\\u962a\\u5927\",\"x\":[\"2012~2014\",\"2013~2015\",\"2014~2016\",\"2015~2017\",\"2016~2018\",\"2017~2019\",\"2018~2020\",\"2019~2021\"],\"y\":[59,62,54,56,52,50,51,38],\"type\":\"scatter\",\"xaxis\":\"x\",\"yaxis\":\"y\"},{\"name\":\"\\u6771\\u5317\\u5927\",\"x\":[\"2012~2014\",\"2013~2015\",\"2014~2016\",\"2015~2017\",\"2016~2018\",\"2017~2019\",\"2018~2020\",\"2019~2021\"],\"y\":[106,94,75,59,60,64,73,71],\"type\":\"scatter\",\"xaxis\":\"x\",\"yaxis\":\"y\"},{\"name\":\"\\u540d\\u53e4\\u5c4b\\u5927\",\"x\":[\"2012~2014\",\"2013~2015\",\"2014~2016\",\"2015~2017\",\"2016~2018\",\"2017~2019\",\"2018~2020\",\"2019~2021\"],\"y\":[35,42,39,39,44,45,47,32],\"type\":\"scatter\",\"xaxis\":\"x\",\"yaxis\":\"y\"},{\"name\":\"\\u6771\\u4eac\\u533b\\u79d1\\u6b6f\\u79d1\\u5927\\u5b66\",\"x\":[\"2012~2014\",\"2013~2015\",\"2014~2016\",\"2015~2017\",\"2016~2018\",\"2017~2019\",\"2018~2020\",\"2019~2021\"],\"y\":[3,2,2,2,3,3,2,3],\"type\":\"scatter\",\"xaxis\":\"x\",\"yaxis\":\"y\"},{\"name\":\"\\u6771\\u5de5\\u5927+\\u533b\\u79d1\\u6b6f\\u79d1\\u5927\\u5b66\",\"x\":[\"2012~2014\",\"2013~2015\",\"2014~2016\",\"2015~2017\",\"2016~2018\",\"2017~2019\",\"2018~2020\",\"2019~2021\"],\"y\":[54,54,50,38,48,44,43,38],\"type\":\"scatter\",\"xaxis\":\"x\",\"yaxis\":\"y\"}],                        {\"template\":{\"data\":{\"histogram2dcontour\":[{\"type\":\"histogram2dcontour\",\"colorbar\":{\"outlinewidth\":0,\"ticks\":\"\"},\"colorscale\":[[0.0,\"#0d0887\"],[0.1111111111111111,\"#46039f\"],[0.2222222222222222,\"#7201a8\"],[0.3333333333333333,\"#9c179e\"],[0.4444444444444444,\"#bd3786\"],[0.5555555555555556,\"#d8576b\"],[0.6666666666666666,\"#ed7953\"],[0.7777777777777778,\"#fb9f3a\"],[0.8888888888888888,\"#fdca26\"],[1.0,\"#f0f921\"]]}],\"choropleth\":[{\"type\":\"choropleth\",\"colorbar\":{\"outlinewidth\":0,\"ticks\":\"\"}}],\"histogram2d\":[{\"type\":\"histogram2d\",\"colorbar\":{\"outlinewidth\":0,\"ticks\":\"\"},\"colorscale\":[[0.0,\"#0d0887\"],[0.1111111111111111,\"#46039f\"],[0.2222222222222222,\"#7201a8\"],[0.3333333333333333,\"#9c179e\"],[0.4444444444444444,\"#bd3786\"],[0.5555555555555556,\"#d8576b\"],[0.6666666666666666,\"#ed7953\"],[0.7777777777777778,\"#fb9f3a\"],[0.8888888888888888,\"#fdca26\"],[1.0,\"#f0f921\"]]}],\"heatmap\":[{\"type\":\"heatmap\",\"colorbar\":{\"outlinewidth\":0,\"ticks\":\"\"},\"colorscale\":[[0.0,\"#0d0887\"],[0.1111111111111111,\"#46039f\"],[0.2222222222222222,\"#7201a8\"],[0.3333333333333333,\"#9c179e\"],[0.4444444444444444,\"#bd3786\"],[0.5555555555555556,\"#d8576b\"],[0.6666666666666666,\"#ed7953\"],[0.7777777777777778,\"#fb9f3a\"],[0.8888888888888888,\"#fdca26\"],[1.0,\"#f0f921\"]]}],\"heatmapgl\":[{\"type\":\"heatmapgl\",\"colorbar\":{\"outlinewidth\":0,\"ticks\":\"\"},\"colorscale\":[[0.0,\"#0d0887\"],[0.1111111111111111,\"#46039f\"],[0.2222222222222222,\"#7201a8\"],[0.3333333333333333,\"#9c179e\"],[0.4444444444444444,\"#bd3786\"],[0.5555555555555556,\"#d8576b\"],[0.6666666666666666,\"#ed7953\"],[0.7777777777777778,\"#fb9f3a\"],[0.8888888888888888,\"#fdca26\"],[1.0,\"#f0f921\"]]}],\"contourcarpet\":[{\"type\":\"contourcarpet\",\"colorbar\":{\"outlinewidth\":0,\"ticks\":\"\"}}],\"contour\":[{\"type\":\"contour\",\"colorbar\":{\"outlinewidth\":0,\"ticks\":\"\"},\"colorscale\":[[0.0,\"#0d0887\"],[0.1111111111111111,\"#46039f\"],[0.2222222222222222,\"#7201a8\"],[0.3333333333333333,\"#9c179e\"],[0.4444444444444444,\"#bd3786\"],[0.5555555555555556,\"#d8576b\"],[0.6666666666666666,\"#ed7953\"],[0.7777777777777778,\"#fb9f3a\"],[0.8888888888888888,\"#fdca26\"],[1.0,\"#f0f921\"]]}],\"surface\":[{\"type\":\"surface\",\"colorbar\":{\"outlinewidth\":0,\"ticks\":\"\"},\"colorscale\":[[0.0,\"#0d0887\"],[0.1111111111111111,\"#46039f\"],[0.2222222222222222,\"#7201a8\"],[0.3333333333333333,\"#9c179e\"],[0.4444444444444444,\"#bd3786\"],[0.5555555555555556,\"#d8576b\"],[0.6666666666666666,\"#ed7953\"],[0.7777777777777778,\"#fb9f3a\"],[0.8888888888888888,\"#fdca26\"],[1.0,\"#f0f921\"]]}],\"mesh3d\":[{\"type\":\"mesh3d\",\"colorbar\":{\"outlinewidth\":0,\"ticks\":\"\"}}],\"scatter\":[{\"fillpattern\":{\"fillmode\":\"overlay\",\"size\":10,\"solidity\":0.2},\"type\":\"scatter\"}],\"parcoords\":[{\"type\":\"parcoords\",\"line\":{\"colorbar\":{\"outlinewidth\":0,\"ticks\":\"\"}}}],\"scatterpolargl\":[{\"type\":\"scatterpolargl\",\"marker\":{\"colorbar\":{\"outlinewidth\":0,\"ticks\":\"\"}}}],\"bar\":[{\"error_x\":{\"color\":\"#2a3f5f\"},\"error_y\":{\"color\":\"#2a3f5f\"},\"marker\":{\"line\":{\"color\":\"#E5ECF6\",\"width\":0.5},\"pattern\":{\"fillmode\":\"overlay\",\"size\":10,\"solidity\":0.2}},\"type\":\"bar\"}],\"scattergeo\":[{\"type\":\"scattergeo\",\"marker\":{\"colorbar\":{\"outlinewidth\":0,\"ticks\":\"\"}}}],\"scatterpolar\":[{\"type\":\"scatterpolar\",\"marker\":{\"colorbar\":{\"outlinewidth\":0,\"ticks\":\"\"}}}],\"histogram\":[{\"marker\":{\"pattern\":{\"fillmode\":\"overlay\",\"size\":10,\"solidity\":0.2}},\"type\":\"histogram\"}],\"scattergl\":[{\"type\":\"scattergl\",\"marker\":{\"colorbar\":{\"outlinewidth\":0,\"ticks\":\"\"}}}],\"scatter3d\":[{\"type\":\"scatter3d\",\"line\":{\"colorbar\":{\"outlinewidth\":0,\"ticks\":\"\"}},\"marker\":{\"colorbar\":{\"outlinewidth\":0,\"ticks\":\"\"}}}],\"scattermapbox\":[{\"type\":\"scattermapbox\",\"marker\":{\"colorbar\":{\"outlinewidth\":0,\"ticks\":\"\"}}}],\"scatterternary\":[{\"type\":\"scatterternary\",\"marker\":{\"colorbar\":{\"outlinewidth\":0,\"ticks\":\"\"}}}],\"scattercarpet\":[{\"type\":\"scattercarpet\",\"marker\":{\"colorbar\":{\"outlinewidth\":0,\"ticks\":\"\"}}}],\"carpet\":[{\"aaxis\":{\"endlinecolor\":\"#2a3f5f\",\"gridcolor\":\"white\",\"linecolor\":\"white\",\"minorgridcolor\":\"white\",\"startlinecolor\":\"#2a3f5f\"},\"baxis\":{\"endlinecolor\":\"#2a3f5f\",\"gridcolor\":\"white\",\"linecolor\":\"white\",\"minorgridcolor\":\"white\",\"startlinecolor\":\"#2a3f5f\"},\"type\":\"carpet\"}],\"table\":[{\"cells\":{\"fill\":{\"color\":\"#EBF0F8\"},\"line\":{\"color\":\"white\"}},\"header\":{\"fill\":{\"color\":\"#C8D4E3\"},\"line\":{\"color\":\"white\"}},\"type\":\"table\"}],\"barpolar\":[{\"marker\":{\"line\":{\"color\":\"#E5ECF6\",\"width\":0.5},\"pattern\":{\"fillmode\":\"overlay\",\"size\":10,\"solidity\":0.2}},\"type\":\"barpolar\"}],\"pie\":[{\"automargin\":true,\"type\":\"pie\"}]},\"layout\":{\"autotypenumbers\":\"strict\",\"colorway\":[\"#636efa\",\"#EF553B\",\"#00cc96\",\"#ab63fa\",\"#FFA15A\",\"#19d3f3\",\"#FF6692\",\"#B6E880\",\"#FF97FF\",\"#FECB52\"],\"font\":{\"color\":\"#2a3f5f\"},\"hovermode\":\"closest\",\"hoverlabel\":{\"align\":\"left\"},\"paper_bgcolor\":\"white\",\"plot_bgcolor\":\"#E5ECF6\",\"polar\":{\"bgcolor\":\"#E5ECF6\",\"angularaxis\":{\"gridcolor\":\"white\",\"linecolor\":\"white\",\"ticks\":\"\"},\"radialaxis\":{\"gridcolor\":\"white\",\"linecolor\":\"white\",\"ticks\":\"\"}},\"ternary\":{\"bgcolor\":\"#E5ECF6\",\"aaxis\":{\"gridcolor\":\"white\",\"linecolor\":\"white\",\"ticks\":\"\"},\"baxis\":{\"gridcolor\":\"white\",\"linecolor\":\"white\",\"ticks\":\"\"},\"caxis\":{\"gridcolor\":\"white\",\"linecolor\":\"white\",\"ticks\":\"\"}},\"coloraxis\":{\"colorbar\":{\"outlinewidth\":0,\"ticks\":\"\"}},\"colorscale\":{\"sequential\":[[0.0,\"#0d0887\"],[0.1111111111111111,\"#46039f\"],[0.2222222222222222,\"#7201a8\"],[0.3333333333333333,\"#9c179e\"],[0.4444444444444444,\"#bd3786\"],[0.5555555555555556,\"#d8576b\"],[0.6666666666666666,\"#ed7953\"],[0.7777777777777778,\"#fb9f3a\"],[0.8888888888888888,\"#fdca26\"],[1.0,\"#f0f921\"]],\"sequentialminus\":[[0.0,\"#0d0887\"],[0.1111111111111111,\"#46039f\"],[0.2222222222222222,\"#7201a8\"],[0.3333333333333333,\"#9c179e\"],[0.4444444444444444,\"#bd3786\"],[0.5555555555555556,\"#d8576b\"],[0.6666666666666666,\"#ed7953\"],[0.7777777777777778,\"#fb9f3a\"],[0.8888888888888888,\"#fdca26\"],[1.0,\"#f0f921\"]],\"diverging\":[[0,\"#8e0152\"],[0.1,\"#c51b7d\"],[0.2,\"#de77ae\"],[0.3,\"#f1b6da\"],[0.4,\"#fde0ef\"],[0.5,\"#f7f7f7\"],[0.6,\"#e6f5d0\"],[0.7,\"#b8e186\"],[0.8,\"#7fbc41\"],[0.9,\"#4d9221\"],[1,\"#276419\"]]},\"xaxis\":{\"gridcolor\":\"white\",\"linecolor\":\"white\",\"ticks\":\"\",\"title\":{\"standoff\":15},\"zerolinecolor\":\"white\",\"automargin\":true,\"zerolinewidth\":2},\"yaxis\":{\"gridcolor\":\"white\",\"linecolor\":\"white\",\"ticks\":\"\",\"title\":{\"standoff\":15},\"zerolinecolor\":\"white\",\"automargin\":true,\"zerolinewidth\":2},\"scene\":{\"xaxis\":{\"backgroundcolor\":\"#E5ECF6\",\"gridcolor\":\"white\",\"linecolor\":\"white\",\"showbackground\":true,\"ticks\":\"\",\"zerolinecolor\":\"white\",\"gridwidth\":2},\"yaxis\":{\"backgroundcolor\":\"#E5ECF6\",\"gridcolor\":\"white\",\"linecolor\":\"white\",\"showbackground\":true,\"ticks\":\"\",\"zerolinecolor\":\"white\",\"gridwidth\":2},\"zaxis\":{\"backgroundcolor\":\"#E5ECF6\",\"gridcolor\":\"white\",\"linecolor\":\"white\",\"showbackground\":true,\"ticks\":\"\",\"zerolinecolor\":\"white\",\"gridwidth\":2}},\"shapedefaults\":{\"line\":{\"color\":\"#2a3f5f\"}},\"annotationdefaults\":{\"arrowcolor\":\"#2a3f5f\",\"arrowhead\":0,\"arrowwidth\":1},\"geo\":{\"bgcolor\":\"white\",\"landcolor\":\"#E5ECF6\",\"subunitcolor\":\"white\",\"showland\":true,\"showlakes\":true,\"lakecolor\":\"white\"},\"title\":{\"x\":0.05},\"mapbox\":{\"style\":\"light\"}}},\"xaxis\":{\"anchor\":\"y\",\"domain\":[0.0,1.0]},\"yaxis\":{\"anchor\":\"x\",\"domain\":[0.0,1.0]},\"title\":{\"text\":\"\\u5de5\\u5b66\\u5206\\u91ce\\u306e\\u6761\\u4ef6\\u3092\\u6e80\\u305f\\u3059\\u7814\\u7a76\\u8005\\u306e\\u63a8\\u79fb\"}},                        {\"responsive\": true}                    ).then(function(){\n",
              "                            \n",
              "var gd = document.getElementById('4671df64-ddc5-4bbb-a85a-f360ce0be666');\n",
              "var x = new MutationObserver(function (mutations, observer) {{\n",
              "        var display = window.getComputedStyle(gd).display;\n",
              "        if (!display || display === 'none') {{\n",
              "            console.log([gd, 'removed!']);\n",
              "            Plotly.purge(gd);\n",
              "            observer.disconnect();\n",
              "        }}\n",
              "}});\n",
              "\n",
              "// Listen for the removal of the full notebook cells\n",
              "var notebookContainer = gd.closest('#notebook-container');\n",
              "if (notebookContainer) {{\n",
              "    x.observe(notebookContainer, {childList: true});\n",
              "}}\n",
              "\n",
              "// Listen for the clearing of the current output cell\n",
              "var outputEl = gd.closest('.output');\n",
              "if (outputEl) {{\n",
              "    x.observe(outputEl, {childList: true});\n",
              "}}\n",
              "\n",
              "                        })                };                            </script>        </div>\n",
              "</body>\n",
              "</html>"
            ]
          },
          "metadata": {}
        }
      ]
    },
    {
      "cell_type": "markdown",
      "source": [
        "## 集計"
      ],
      "metadata": {
        "id": "VMHC2qTiCBIF"
      }
    },
    {
      "cell_type": "code",
      "source": [
        "#生命科学の推移\n",
        "rigak = tag_all.query('new_tag == \"生命科学\"')\n",
        "a = rigak.groupby(['大学名','year','end_year'],as_index=False).sum()\n",
        "\n",
        "line_trace = go.Scatter(x=a.query('大学名 == \"titech\"')['year'], y=a.query('大学名 == \"titech\"')['研究者数'], name='東工大')\n",
        "line_trace1 = go.Scatter(x=a.query('大学名 == \"MIT\"')['year'], y=a.query('大学名 == \"MIT\"')['研究者数'], name='MIT')\n",
        "line_trace2 = go.Scatter(x=a.query('大学名 == \"Imperial\"')['year'], y=a.query('大学名 == \"Imperial\"')['研究者数'], name='Imperial College London')\n",
        "line_trace3 = go.Scatter(x=a.query('大学名 == \"UT\"')['year'], y=a.query('大学名 == \"UT\"')['研究者数'], name='東大')\n",
        "line_trace4 = go.Scatter(x=a.query('大学名 == \"kyoto\"')['year'], y=a.query('大学名 == \"kyoto\"')['研究者数'], name='京大')\n",
        "line_trace5 = go.Scatter(x=a.query('大学名 == \"osaka\"')['year'], y=a.query('大学名 == \"osaka\"')['研究者数'], name='大阪大')\n",
        "line_trace6 = go.Scatter(x=a.query('大学名 == \"tohoku\"')['year'], y=a.query('大学名 == \"tohoku\"')['研究者数'], name='東北大')\n",
        "line_trace7 = go.Scatter(x=a.query('大学名 == \"nagoya\"')['year'], y=a.query('大学名 == \"nagoya\"')['研究者数'], name='名古屋大')\n",
        "line_trace8 = go.Scatter(x=a.query('大学名 == \"medical\"')['year'], y=a.query('大学名 == \"medical\"')['研究者数'], name='東京医科歯科大学')\n",
        "line_trace9 = go.Scatter(x=a.query('大学名 == \"東工大+医科歯科大\"')['year'], y=a.query('大学名 == \"東工大+医科歯科大\"')['研究者数'], name='東工大+医科歯科大学')\n",
        "\n",
        "subplots_fig = make_subplots(rows=1, cols=1)\n",
        "subplots_fig.add_trace(line_trace, row=1, col=1)\n",
        "subplots_fig.add_trace(line_trace1, row=1, col=1)\n",
        "subplots_fig.add_trace(line_trace2, row=1, col=1)\n",
        "subplots_fig.add_trace(line_trace3, row=1, col=1)\n",
        "subplots_fig.add_trace(line_trace4, row=1, col=1)\n",
        "subplots_fig.add_trace(line_trace5, row=1, col=1)\n",
        "subplots_fig.add_trace(line_trace6, row=1, col=1)\n",
        "subplots_fig.add_trace(line_trace7, row=1, col=1)\n",
        "subplots_fig.add_trace(line_trace8, row=1, col=1)\n",
        "subplots_fig.add_trace(line_trace9, row=1, col=1)\n",
        "\n",
        "subplots_fig.update_layout(title='生命科学分野の条件を満たす研究者の推移')\n",
        "\n"
      ],
      "metadata": {
        "colab": {
          "base_uri": "https://localhost:8080/",
          "height": 542
        },
        "id": "kVoikEJWVhZD",
        "outputId": "7a859358-aa75-48e0-8057-97d3a434d93d"
      },
      "execution_count": 90,
      "outputs": [
        {
          "output_type": "display_data",
          "data": {
            "text/html": [
              "<html>\n",
              "<head><meta charset=\"utf-8\" /></head>\n",
              "<body>\n",
              "    <div>            <script src=\"https://cdnjs.cloudflare.com/ajax/libs/mathjax/2.7.5/MathJax.js?config=TeX-AMS-MML_SVG\"></script><script type=\"text/javascript\">if (window.MathJax && window.MathJax.Hub && window.MathJax.Hub.Config) {window.MathJax.Hub.Config({SVG: {font: \"STIX-Web\"}});}</script>                <script type=\"text/javascript\">window.PlotlyConfig = {MathJaxConfig: 'local'};</script>\n",
              "        <script src=\"https://cdn.plot.ly/plotly-2.18.2.min.js\"></script>                <div id=\"57727e9a-473a-4afd-ac57-5ee57e2c550e\" class=\"plotly-graph-div\" style=\"height:525px; width:100%;\"></div>            <script type=\"text/javascript\">                                    window.PLOTLYENV=window.PLOTLYENV || {};                                    if (document.getElementById(\"57727e9a-473a-4afd-ac57-5ee57e2c550e\")) {                    Plotly.newPlot(                        \"57727e9a-473a-4afd-ac57-5ee57e2c550e\",                        [{\"name\":\"\\u6771\\u5de5\\u5927\",\"x\":[\"2012~2014\",\"2013~2015\",\"2014~2016\",\"2015~2017\",\"2016~2018\",\"2017~2019\",\"2018~2020\",\"2019~2021\"],\"y\":[2,3,5,3,3,2,4,5],\"type\":\"scatter\",\"xaxis\":\"x\",\"yaxis\":\"y\"},{\"name\":\"MIT\",\"x\":[\"2012~2014\",\"2013~2015\",\"2014~2016\",\"2015~2017\",\"2016~2018\",\"2017~2019\",\"2018~2020\",\"2019~2021\"],\"y\":[105,111,109,99,94,92,87,82],\"type\":\"scatter\",\"xaxis\":\"x\",\"yaxis\":\"y\"},{\"name\":\"Imperial College London\",\"x\":[\"2012~2014\",\"2013~2015\",\"2014~2016\",\"2015~2017\",\"2016~2018\",\"2017~2019\",\"2018~2020\",\"2019~2021\"],\"y\":[43,47,30,41,45,40,38,42],\"type\":\"scatter\",\"xaxis\":\"x\",\"yaxis\":\"y\"},{\"name\":\"\\u6771\\u5927\",\"x\":[\"2012~2014\",\"2013~2015\",\"2014~2016\",\"2015~2017\",\"2016~2018\",\"2017~2019\",\"2018~2020\",\"2019~2021\"],\"y\":[50,47,51,54,65,47,49,47],\"type\":\"scatter\",\"xaxis\":\"x\",\"yaxis\":\"y\"},{\"name\":\"\\u4eac\\u5927\",\"x\":[\"2012~2014\",\"2013~2015\",\"2014~2016\",\"2015~2017\",\"2016~2018\",\"2017~2019\",\"2018~2020\",\"2019~2021\"],\"y\":[28,25,24,25,20,25,21,28],\"type\":\"scatter\",\"xaxis\":\"x\",\"yaxis\":\"y\"},{\"name\":\"\\u5927\\u962a\\u5927\",\"x\":[\"2012~2014\",\"2013~2015\",\"2014~2016\",\"2015~2017\",\"2016~2018\",\"2017~2019\",\"2018~2020\",\"2019~2021\"],\"y\":[16,12,11,9,13,12,12,14],\"type\":\"scatter\",\"xaxis\":\"x\",\"yaxis\":\"y\"},{\"name\":\"\\u6771\\u5317\\u5927\",\"x\":[\"2012~2014\",\"2013~2015\",\"2014~2016\",\"2015~2017\",\"2016~2018\",\"2017~2019\",\"2018~2020\",\"2019~2021\"],\"y\":[12,15,9,9,10,10,11,17],\"type\":\"scatter\",\"xaxis\":\"x\",\"yaxis\":\"y\"},{\"name\":\"\\u540d\\u53e4\\u5c4b\\u5927\",\"x\":[\"2012~2014\",\"2013~2015\",\"2014~2016\",\"2015~2017\",\"2016~2018\",\"2017~2019\",\"2018~2020\",\"2019~2021\"],\"y\":[5,8,7,7,6,6,7,10],\"type\":\"scatter\",\"xaxis\":\"x\",\"yaxis\":\"y\"},{\"name\":\"\\u6771\\u4eac\\u533b\\u79d1\\u6b6f\\u79d1\\u5927\\u5b66\",\"x\":[\"2012~2014\",\"2013~2015\",\"2014~2016\",\"2015~2017\",\"2016~2018\",\"2017~2019\",\"2018~2020\",\"2019~2021\"],\"y\":[2,3,2,5,4,4,3,3],\"type\":\"scatter\",\"xaxis\":\"x\",\"yaxis\":\"y\"},{\"name\":\"\\u6771\\u5de5\\u5927+\\u533b\\u79d1\\u6b6f\\u79d1\\u5927\\u5b66\",\"x\":[\"2012~2014\",\"2013~2015\",\"2014~2016\",\"2015~2017\",\"2016~2018\",\"2017~2019\",\"2018~2020\",\"2019~2021\"],\"y\":[4,6,7,8,7,6,7,8],\"type\":\"scatter\",\"xaxis\":\"x\",\"yaxis\":\"y\"}],                        {\"template\":{\"data\":{\"histogram2dcontour\":[{\"type\":\"histogram2dcontour\",\"colorbar\":{\"outlinewidth\":0,\"ticks\":\"\"},\"colorscale\":[[0.0,\"#0d0887\"],[0.1111111111111111,\"#46039f\"],[0.2222222222222222,\"#7201a8\"],[0.3333333333333333,\"#9c179e\"],[0.4444444444444444,\"#bd3786\"],[0.5555555555555556,\"#d8576b\"],[0.6666666666666666,\"#ed7953\"],[0.7777777777777778,\"#fb9f3a\"],[0.8888888888888888,\"#fdca26\"],[1.0,\"#f0f921\"]]}],\"choropleth\":[{\"type\":\"choropleth\",\"colorbar\":{\"outlinewidth\":0,\"ticks\":\"\"}}],\"histogram2d\":[{\"type\":\"histogram2d\",\"colorbar\":{\"outlinewidth\":0,\"ticks\":\"\"},\"colorscale\":[[0.0,\"#0d0887\"],[0.1111111111111111,\"#46039f\"],[0.2222222222222222,\"#7201a8\"],[0.3333333333333333,\"#9c179e\"],[0.4444444444444444,\"#bd3786\"],[0.5555555555555556,\"#d8576b\"],[0.6666666666666666,\"#ed7953\"],[0.7777777777777778,\"#fb9f3a\"],[0.8888888888888888,\"#fdca26\"],[1.0,\"#f0f921\"]]}],\"heatmap\":[{\"type\":\"heatmap\",\"colorbar\":{\"outlinewidth\":0,\"ticks\":\"\"},\"colorscale\":[[0.0,\"#0d0887\"],[0.1111111111111111,\"#46039f\"],[0.2222222222222222,\"#7201a8\"],[0.3333333333333333,\"#9c179e\"],[0.4444444444444444,\"#bd3786\"],[0.5555555555555556,\"#d8576b\"],[0.6666666666666666,\"#ed7953\"],[0.7777777777777778,\"#fb9f3a\"],[0.8888888888888888,\"#fdca26\"],[1.0,\"#f0f921\"]]}],\"heatmapgl\":[{\"type\":\"heatmapgl\",\"colorbar\":{\"outlinewidth\":0,\"ticks\":\"\"},\"colorscale\":[[0.0,\"#0d0887\"],[0.1111111111111111,\"#46039f\"],[0.2222222222222222,\"#7201a8\"],[0.3333333333333333,\"#9c179e\"],[0.4444444444444444,\"#bd3786\"],[0.5555555555555556,\"#d8576b\"],[0.6666666666666666,\"#ed7953\"],[0.7777777777777778,\"#fb9f3a\"],[0.8888888888888888,\"#fdca26\"],[1.0,\"#f0f921\"]]}],\"contourcarpet\":[{\"type\":\"contourcarpet\",\"colorbar\":{\"outlinewidth\":0,\"ticks\":\"\"}}],\"contour\":[{\"type\":\"contour\",\"colorbar\":{\"outlinewidth\":0,\"ticks\":\"\"},\"colorscale\":[[0.0,\"#0d0887\"],[0.1111111111111111,\"#46039f\"],[0.2222222222222222,\"#7201a8\"],[0.3333333333333333,\"#9c179e\"],[0.4444444444444444,\"#bd3786\"],[0.5555555555555556,\"#d8576b\"],[0.6666666666666666,\"#ed7953\"],[0.7777777777777778,\"#fb9f3a\"],[0.8888888888888888,\"#fdca26\"],[1.0,\"#f0f921\"]]}],\"surface\":[{\"type\":\"surface\",\"colorbar\":{\"outlinewidth\":0,\"ticks\":\"\"},\"colorscale\":[[0.0,\"#0d0887\"],[0.1111111111111111,\"#46039f\"],[0.2222222222222222,\"#7201a8\"],[0.3333333333333333,\"#9c179e\"],[0.4444444444444444,\"#bd3786\"],[0.5555555555555556,\"#d8576b\"],[0.6666666666666666,\"#ed7953\"],[0.7777777777777778,\"#fb9f3a\"],[0.8888888888888888,\"#fdca26\"],[1.0,\"#f0f921\"]]}],\"mesh3d\":[{\"type\":\"mesh3d\",\"colorbar\":{\"outlinewidth\":0,\"ticks\":\"\"}}],\"scatter\":[{\"fillpattern\":{\"fillmode\":\"overlay\",\"size\":10,\"solidity\":0.2},\"type\":\"scatter\"}],\"parcoords\":[{\"type\":\"parcoords\",\"line\":{\"colorbar\":{\"outlinewidth\":0,\"ticks\":\"\"}}}],\"scatterpolargl\":[{\"type\":\"scatterpolargl\",\"marker\":{\"colorbar\":{\"outlinewidth\":0,\"ticks\":\"\"}}}],\"bar\":[{\"error_x\":{\"color\":\"#2a3f5f\"},\"error_y\":{\"color\":\"#2a3f5f\"},\"marker\":{\"line\":{\"color\":\"#E5ECF6\",\"width\":0.5},\"pattern\":{\"fillmode\":\"overlay\",\"size\":10,\"solidity\":0.2}},\"type\":\"bar\"}],\"scattergeo\":[{\"type\":\"scattergeo\",\"marker\":{\"colorbar\":{\"outlinewidth\":0,\"ticks\":\"\"}}}],\"scatterpolar\":[{\"type\":\"scatterpolar\",\"marker\":{\"colorbar\":{\"outlinewidth\":0,\"ticks\":\"\"}}}],\"histogram\":[{\"marker\":{\"pattern\":{\"fillmode\":\"overlay\",\"size\":10,\"solidity\":0.2}},\"type\":\"histogram\"}],\"scattergl\":[{\"type\":\"scattergl\",\"marker\":{\"colorbar\":{\"outlinewidth\":0,\"ticks\":\"\"}}}],\"scatter3d\":[{\"type\":\"scatter3d\",\"line\":{\"colorbar\":{\"outlinewidth\":0,\"ticks\":\"\"}},\"marker\":{\"colorbar\":{\"outlinewidth\":0,\"ticks\":\"\"}}}],\"scattermapbox\":[{\"type\":\"scattermapbox\",\"marker\":{\"colorbar\":{\"outlinewidth\":0,\"ticks\":\"\"}}}],\"scatterternary\":[{\"type\":\"scatterternary\",\"marker\":{\"colorbar\":{\"outlinewidth\":0,\"ticks\":\"\"}}}],\"scattercarpet\":[{\"type\":\"scattercarpet\",\"marker\":{\"colorbar\":{\"outlinewidth\":0,\"ticks\":\"\"}}}],\"carpet\":[{\"aaxis\":{\"endlinecolor\":\"#2a3f5f\",\"gridcolor\":\"white\",\"linecolor\":\"white\",\"minorgridcolor\":\"white\",\"startlinecolor\":\"#2a3f5f\"},\"baxis\":{\"endlinecolor\":\"#2a3f5f\",\"gridcolor\":\"white\",\"linecolor\":\"white\",\"minorgridcolor\":\"white\",\"startlinecolor\":\"#2a3f5f\"},\"type\":\"carpet\"}],\"table\":[{\"cells\":{\"fill\":{\"color\":\"#EBF0F8\"},\"line\":{\"color\":\"white\"}},\"header\":{\"fill\":{\"color\":\"#C8D4E3\"},\"line\":{\"color\":\"white\"}},\"type\":\"table\"}],\"barpolar\":[{\"marker\":{\"line\":{\"color\":\"#E5ECF6\",\"width\":0.5},\"pattern\":{\"fillmode\":\"overlay\",\"size\":10,\"solidity\":0.2}},\"type\":\"barpolar\"}],\"pie\":[{\"automargin\":true,\"type\":\"pie\"}]},\"layout\":{\"autotypenumbers\":\"strict\",\"colorway\":[\"#636efa\",\"#EF553B\",\"#00cc96\",\"#ab63fa\",\"#FFA15A\",\"#19d3f3\",\"#FF6692\",\"#B6E880\",\"#FF97FF\",\"#FECB52\"],\"font\":{\"color\":\"#2a3f5f\"},\"hovermode\":\"closest\",\"hoverlabel\":{\"align\":\"left\"},\"paper_bgcolor\":\"white\",\"plot_bgcolor\":\"#E5ECF6\",\"polar\":{\"bgcolor\":\"#E5ECF6\",\"angularaxis\":{\"gridcolor\":\"white\",\"linecolor\":\"white\",\"ticks\":\"\"},\"radialaxis\":{\"gridcolor\":\"white\",\"linecolor\":\"white\",\"ticks\":\"\"}},\"ternary\":{\"bgcolor\":\"#E5ECF6\",\"aaxis\":{\"gridcolor\":\"white\",\"linecolor\":\"white\",\"ticks\":\"\"},\"baxis\":{\"gridcolor\":\"white\",\"linecolor\":\"white\",\"ticks\":\"\"},\"caxis\":{\"gridcolor\":\"white\",\"linecolor\":\"white\",\"ticks\":\"\"}},\"coloraxis\":{\"colorbar\":{\"outlinewidth\":0,\"ticks\":\"\"}},\"colorscale\":{\"sequential\":[[0.0,\"#0d0887\"],[0.1111111111111111,\"#46039f\"],[0.2222222222222222,\"#7201a8\"],[0.3333333333333333,\"#9c179e\"],[0.4444444444444444,\"#bd3786\"],[0.5555555555555556,\"#d8576b\"],[0.6666666666666666,\"#ed7953\"],[0.7777777777777778,\"#fb9f3a\"],[0.8888888888888888,\"#fdca26\"],[1.0,\"#f0f921\"]],\"sequentialminus\":[[0.0,\"#0d0887\"],[0.1111111111111111,\"#46039f\"],[0.2222222222222222,\"#7201a8\"],[0.3333333333333333,\"#9c179e\"],[0.4444444444444444,\"#bd3786\"],[0.5555555555555556,\"#d8576b\"],[0.6666666666666666,\"#ed7953\"],[0.7777777777777778,\"#fb9f3a\"],[0.8888888888888888,\"#fdca26\"],[1.0,\"#f0f921\"]],\"diverging\":[[0,\"#8e0152\"],[0.1,\"#c51b7d\"],[0.2,\"#de77ae\"],[0.3,\"#f1b6da\"],[0.4,\"#fde0ef\"],[0.5,\"#f7f7f7\"],[0.6,\"#e6f5d0\"],[0.7,\"#b8e186\"],[0.8,\"#7fbc41\"],[0.9,\"#4d9221\"],[1,\"#276419\"]]},\"xaxis\":{\"gridcolor\":\"white\",\"linecolor\":\"white\",\"ticks\":\"\",\"title\":{\"standoff\":15},\"zerolinecolor\":\"white\",\"automargin\":true,\"zerolinewidth\":2},\"yaxis\":{\"gridcolor\":\"white\",\"linecolor\":\"white\",\"ticks\":\"\",\"title\":{\"standoff\":15},\"zerolinecolor\":\"white\",\"automargin\":true,\"zerolinewidth\":2},\"scene\":{\"xaxis\":{\"backgroundcolor\":\"#E5ECF6\",\"gridcolor\":\"white\",\"linecolor\":\"white\",\"showbackground\":true,\"ticks\":\"\",\"zerolinecolor\":\"white\",\"gridwidth\":2},\"yaxis\":{\"backgroundcolor\":\"#E5ECF6\",\"gridcolor\":\"white\",\"linecolor\":\"white\",\"showbackground\":true,\"ticks\":\"\",\"zerolinecolor\":\"white\",\"gridwidth\":2},\"zaxis\":{\"backgroundcolor\":\"#E5ECF6\",\"gridcolor\":\"white\",\"linecolor\":\"white\",\"showbackground\":true,\"ticks\":\"\",\"zerolinecolor\":\"white\",\"gridwidth\":2}},\"shapedefaults\":{\"line\":{\"color\":\"#2a3f5f\"}},\"annotationdefaults\":{\"arrowcolor\":\"#2a3f5f\",\"arrowhead\":0,\"arrowwidth\":1},\"geo\":{\"bgcolor\":\"white\",\"landcolor\":\"#E5ECF6\",\"subunitcolor\":\"white\",\"showland\":true,\"showlakes\":true,\"lakecolor\":\"white\"},\"title\":{\"x\":0.05},\"mapbox\":{\"style\":\"light\"}}},\"xaxis\":{\"anchor\":\"y\",\"domain\":[0.0,1.0]},\"yaxis\":{\"anchor\":\"x\",\"domain\":[0.0,1.0]},\"title\":{\"text\":\"\\u751f\\u547d\\u79d1\\u5b66\\u5206\\u91ce\\u306e\\u6761\\u4ef6\\u3092\\u6e80\\u305f\\u3059\\u7814\\u7a76\\u8005\\u306e\\u63a8\\u79fb\"}},                        {\"responsive\": true}                    ).then(function(){\n",
              "                            \n",
              "var gd = document.getElementById('57727e9a-473a-4afd-ac57-5ee57e2c550e');\n",
              "var x = new MutationObserver(function (mutations, observer) {{\n",
              "        var display = window.getComputedStyle(gd).display;\n",
              "        if (!display || display === 'none') {{\n",
              "            console.log([gd, 'removed!']);\n",
              "            Plotly.purge(gd);\n",
              "            observer.disconnect();\n",
              "        }}\n",
              "}});\n",
              "\n",
              "// Listen for the removal of the full notebook cells\n",
              "var notebookContainer = gd.closest('#notebook-container');\n",
              "if (notebookContainer) {{\n",
              "    x.observe(notebookContainer, {childList: true});\n",
              "}}\n",
              "\n",
              "// Listen for the clearing of the current output cell\n",
              "var outputEl = gd.closest('.output');\n",
              "if (outputEl) {{\n",
              "    x.observe(outputEl, {childList: true});\n",
              "}}\n",
              "\n",
              "                        })                };                            </script>        </div>\n",
              "</body>\n",
              "</html>"
            ]
          },
          "metadata": {}
        }
      ]
    },
    {
      "cell_type": "markdown",
      "source": [
        "## 生命科学分野の推移\n",
        "- 理学と同じで東工大と医科歯科大を合算すると\n",
        "- 全体的に少ない"
      ],
      "metadata": {
        "id": "Du6vPlzTCjz3"
      }
    },
    {
      "cell_type": "code",
      "source": [
        "subplots_fig.show()"
      ],
      "metadata": {
        "colab": {
          "base_uri": "https://localhost:8080/",
          "height": 542
        },
        "id": "4aiIgKxICjPN",
        "outputId": "b54c936c-e1f2-41b1-968a-a66b0a1543d6"
      },
      "execution_count": 91,
      "outputs": [
        {
          "output_type": "display_data",
          "data": {
            "text/html": [
              "<html>\n",
              "<head><meta charset=\"utf-8\" /></head>\n",
              "<body>\n",
              "    <div>            <script src=\"https://cdnjs.cloudflare.com/ajax/libs/mathjax/2.7.5/MathJax.js?config=TeX-AMS-MML_SVG\"></script><script type=\"text/javascript\">if (window.MathJax && window.MathJax.Hub && window.MathJax.Hub.Config) {window.MathJax.Hub.Config({SVG: {font: \"STIX-Web\"}});}</script>                <script type=\"text/javascript\">window.PlotlyConfig = {MathJaxConfig: 'local'};</script>\n",
              "        <script src=\"https://cdn.plot.ly/plotly-2.18.2.min.js\"></script>                <div id=\"54f1d0f5-36e2-423d-b62c-abd2de7ca851\" class=\"plotly-graph-div\" style=\"height:525px; width:100%;\"></div>            <script type=\"text/javascript\">                                    window.PLOTLYENV=window.PLOTLYENV || {};                                    if (document.getElementById(\"54f1d0f5-36e2-423d-b62c-abd2de7ca851\")) {                    Plotly.newPlot(                        \"54f1d0f5-36e2-423d-b62c-abd2de7ca851\",                        [{\"name\":\"\\u6771\\u5de5\\u5927\",\"x\":[\"2012~2014\",\"2013~2015\",\"2014~2016\",\"2015~2017\",\"2016~2018\",\"2017~2019\",\"2018~2020\",\"2019~2021\"],\"y\":[2,3,5,3,3,2,4,5],\"type\":\"scatter\",\"xaxis\":\"x\",\"yaxis\":\"y\"},{\"name\":\"MIT\",\"x\":[\"2012~2014\",\"2013~2015\",\"2014~2016\",\"2015~2017\",\"2016~2018\",\"2017~2019\",\"2018~2020\",\"2019~2021\"],\"y\":[105,111,109,99,94,92,87,82],\"type\":\"scatter\",\"xaxis\":\"x\",\"yaxis\":\"y\"},{\"name\":\"Imperial College London\",\"x\":[\"2012~2014\",\"2013~2015\",\"2014~2016\",\"2015~2017\",\"2016~2018\",\"2017~2019\",\"2018~2020\",\"2019~2021\"],\"y\":[43,47,30,41,45,40,38,42],\"type\":\"scatter\",\"xaxis\":\"x\",\"yaxis\":\"y\"},{\"name\":\"\\u6771\\u5927\",\"x\":[\"2012~2014\",\"2013~2015\",\"2014~2016\",\"2015~2017\",\"2016~2018\",\"2017~2019\",\"2018~2020\",\"2019~2021\"],\"y\":[50,47,51,54,65,47,49,47],\"type\":\"scatter\",\"xaxis\":\"x\",\"yaxis\":\"y\"},{\"name\":\"\\u4eac\\u5927\",\"x\":[\"2012~2014\",\"2013~2015\",\"2014~2016\",\"2015~2017\",\"2016~2018\",\"2017~2019\",\"2018~2020\",\"2019~2021\"],\"y\":[28,25,24,25,20,25,21,28],\"type\":\"scatter\",\"xaxis\":\"x\",\"yaxis\":\"y\"},{\"name\":\"\\u5927\\u962a\\u5927\",\"x\":[\"2012~2014\",\"2013~2015\",\"2014~2016\",\"2015~2017\",\"2016~2018\",\"2017~2019\",\"2018~2020\",\"2019~2021\"],\"y\":[16,12,11,9,13,12,12,14],\"type\":\"scatter\",\"xaxis\":\"x\",\"yaxis\":\"y\"},{\"name\":\"\\u6771\\u5317\\u5927\",\"x\":[\"2012~2014\",\"2013~2015\",\"2014~2016\",\"2015~2017\",\"2016~2018\",\"2017~2019\",\"2018~2020\",\"2019~2021\"],\"y\":[12,15,9,9,10,10,11,17],\"type\":\"scatter\",\"xaxis\":\"x\",\"yaxis\":\"y\"},{\"name\":\"\\u540d\\u53e4\\u5c4b\\u5927\",\"x\":[\"2012~2014\",\"2013~2015\",\"2014~2016\",\"2015~2017\",\"2016~2018\",\"2017~2019\",\"2018~2020\",\"2019~2021\"],\"y\":[5,8,7,7,6,6,7,10],\"type\":\"scatter\",\"xaxis\":\"x\",\"yaxis\":\"y\"},{\"name\":\"\\u6771\\u4eac\\u533b\\u79d1\\u6b6f\\u79d1\\u5927\\u5b66\",\"x\":[\"2012~2014\",\"2013~2015\",\"2014~2016\",\"2015~2017\",\"2016~2018\",\"2017~2019\",\"2018~2020\",\"2019~2021\"],\"y\":[2,3,2,5,4,4,3,3],\"type\":\"scatter\",\"xaxis\":\"x\",\"yaxis\":\"y\"},{\"name\":\"\\u6771\\u5de5\\u5927+\\u533b\\u79d1\\u6b6f\\u79d1\\u5927\\u5b66\",\"x\":[\"2012~2014\",\"2013~2015\",\"2014~2016\",\"2015~2017\",\"2016~2018\",\"2017~2019\",\"2018~2020\",\"2019~2021\"],\"y\":[4,6,7,8,7,6,7,8],\"type\":\"scatter\",\"xaxis\":\"x\",\"yaxis\":\"y\"}],                        {\"template\":{\"data\":{\"histogram2dcontour\":[{\"type\":\"histogram2dcontour\",\"colorbar\":{\"outlinewidth\":0,\"ticks\":\"\"},\"colorscale\":[[0.0,\"#0d0887\"],[0.1111111111111111,\"#46039f\"],[0.2222222222222222,\"#7201a8\"],[0.3333333333333333,\"#9c179e\"],[0.4444444444444444,\"#bd3786\"],[0.5555555555555556,\"#d8576b\"],[0.6666666666666666,\"#ed7953\"],[0.7777777777777778,\"#fb9f3a\"],[0.8888888888888888,\"#fdca26\"],[1.0,\"#f0f921\"]]}],\"choropleth\":[{\"type\":\"choropleth\",\"colorbar\":{\"outlinewidth\":0,\"ticks\":\"\"}}],\"histogram2d\":[{\"type\":\"histogram2d\",\"colorbar\":{\"outlinewidth\":0,\"ticks\":\"\"},\"colorscale\":[[0.0,\"#0d0887\"],[0.1111111111111111,\"#46039f\"],[0.2222222222222222,\"#7201a8\"],[0.3333333333333333,\"#9c179e\"],[0.4444444444444444,\"#bd3786\"],[0.5555555555555556,\"#d8576b\"],[0.6666666666666666,\"#ed7953\"],[0.7777777777777778,\"#fb9f3a\"],[0.8888888888888888,\"#fdca26\"],[1.0,\"#f0f921\"]]}],\"heatmap\":[{\"type\":\"heatmap\",\"colorbar\":{\"outlinewidth\":0,\"ticks\":\"\"},\"colorscale\":[[0.0,\"#0d0887\"],[0.1111111111111111,\"#46039f\"],[0.2222222222222222,\"#7201a8\"],[0.3333333333333333,\"#9c179e\"],[0.4444444444444444,\"#bd3786\"],[0.5555555555555556,\"#d8576b\"],[0.6666666666666666,\"#ed7953\"],[0.7777777777777778,\"#fb9f3a\"],[0.8888888888888888,\"#fdca26\"],[1.0,\"#f0f921\"]]}],\"heatmapgl\":[{\"type\":\"heatmapgl\",\"colorbar\":{\"outlinewidth\":0,\"ticks\":\"\"},\"colorscale\":[[0.0,\"#0d0887\"],[0.1111111111111111,\"#46039f\"],[0.2222222222222222,\"#7201a8\"],[0.3333333333333333,\"#9c179e\"],[0.4444444444444444,\"#bd3786\"],[0.5555555555555556,\"#d8576b\"],[0.6666666666666666,\"#ed7953\"],[0.7777777777777778,\"#fb9f3a\"],[0.8888888888888888,\"#fdca26\"],[1.0,\"#f0f921\"]]}],\"contourcarpet\":[{\"type\":\"contourcarpet\",\"colorbar\":{\"outlinewidth\":0,\"ticks\":\"\"}}],\"contour\":[{\"type\":\"contour\",\"colorbar\":{\"outlinewidth\":0,\"ticks\":\"\"},\"colorscale\":[[0.0,\"#0d0887\"],[0.1111111111111111,\"#46039f\"],[0.2222222222222222,\"#7201a8\"],[0.3333333333333333,\"#9c179e\"],[0.4444444444444444,\"#bd3786\"],[0.5555555555555556,\"#d8576b\"],[0.6666666666666666,\"#ed7953\"],[0.7777777777777778,\"#fb9f3a\"],[0.8888888888888888,\"#fdca26\"],[1.0,\"#f0f921\"]]}],\"surface\":[{\"type\":\"surface\",\"colorbar\":{\"outlinewidth\":0,\"ticks\":\"\"},\"colorscale\":[[0.0,\"#0d0887\"],[0.1111111111111111,\"#46039f\"],[0.2222222222222222,\"#7201a8\"],[0.3333333333333333,\"#9c179e\"],[0.4444444444444444,\"#bd3786\"],[0.5555555555555556,\"#d8576b\"],[0.6666666666666666,\"#ed7953\"],[0.7777777777777778,\"#fb9f3a\"],[0.8888888888888888,\"#fdca26\"],[1.0,\"#f0f921\"]]}],\"mesh3d\":[{\"type\":\"mesh3d\",\"colorbar\":{\"outlinewidth\":0,\"ticks\":\"\"}}],\"scatter\":[{\"fillpattern\":{\"fillmode\":\"overlay\",\"size\":10,\"solidity\":0.2},\"type\":\"scatter\"}],\"parcoords\":[{\"type\":\"parcoords\",\"line\":{\"colorbar\":{\"outlinewidth\":0,\"ticks\":\"\"}}}],\"scatterpolargl\":[{\"type\":\"scatterpolargl\",\"marker\":{\"colorbar\":{\"outlinewidth\":0,\"ticks\":\"\"}}}],\"bar\":[{\"error_x\":{\"color\":\"#2a3f5f\"},\"error_y\":{\"color\":\"#2a3f5f\"},\"marker\":{\"line\":{\"color\":\"#E5ECF6\",\"width\":0.5},\"pattern\":{\"fillmode\":\"overlay\",\"size\":10,\"solidity\":0.2}},\"type\":\"bar\"}],\"scattergeo\":[{\"type\":\"scattergeo\",\"marker\":{\"colorbar\":{\"outlinewidth\":0,\"ticks\":\"\"}}}],\"scatterpolar\":[{\"type\":\"scatterpolar\",\"marker\":{\"colorbar\":{\"outlinewidth\":0,\"ticks\":\"\"}}}],\"histogram\":[{\"marker\":{\"pattern\":{\"fillmode\":\"overlay\",\"size\":10,\"solidity\":0.2}},\"type\":\"histogram\"}],\"scattergl\":[{\"type\":\"scattergl\",\"marker\":{\"colorbar\":{\"outlinewidth\":0,\"ticks\":\"\"}}}],\"scatter3d\":[{\"type\":\"scatter3d\",\"line\":{\"colorbar\":{\"outlinewidth\":0,\"ticks\":\"\"}},\"marker\":{\"colorbar\":{\"outlinewidth\":0,\"ticks\":\"\"}}}],\"scattermapbox\":[{\"type\":\"scattermapbox\",\"marker\":{\"colorbar\":{\"outlinewidth\":0,\"ticks\":\"\"}}}],\"scatterternary\":[{\"type\":\"scatterternary\",\"marker\":{\"colorbar\":{\"outlinewidth\":0,\"ticks\":\"\"}}}],\"scattercarpet\":[{\"type\":\"scattercarpet\",\"marker\":{\"colorbar\":{\"outlinewidth\":0,\"ticks\":\"\"}}}],\"carpet\":[{\"aaxis\":{\"endlinecolor\":\"#2a3f5f\",\"gridcolor\":\"white\",\"linecolor\":\"white\",\"minorgridcolor\":\"white\",\"startlinecolor\":\"#2a3f5f\"},\"baxis\":{\"endlinecolor\":\"#2a3f5f\",\"gridcolor\":\"white\",\"linecolor\":\"white\",\"minorgridcolor\":\"white\",\"startlinecolor\":\"#2a3f5f\"},\"type\":\"carpet\"}],\"table\":[{\"cells\":{\"fill\":{\"color\":\"#EBF0F8\"},\"line\":{\"color\":\"white\"}},\"header\":{\"fill\":{\"color\":\"#C8D4E3\"},\"line\":{\"color\":\"white\"}},\"type\":\"table\"}],\"barpolar\":[{\"marker\":{\"line\":{\"color\":\"#E5ECF6\",\"width\":0.5},\"pattern\":{\"fillmode\":\"overlay\",\"size\":10,\"solidity\":0.2}},\"type\":\"barpolar\"}],\"pie\":[{\"automargin\":true,\"type\":\"pie\"}]},\"layout\":{\"autotypenumbers\":\"strict\",\"colorway\":[\"#636efa\",\"#EF553B\",\"#00cc96\",\"#ab63fa\",\"#FFA15A\",\"#19d3f3\",\"#FF6692\",\"#B6E880\",\"#FF97FF\",\"#FECB52\"],\"font\":{\"color\":\"#2a3f5f\"},\"hovermode\":\"closest\",\"hoverlabel\":{\"align\":\"left\"},\"paper_bgcolor\":\"white\",\"plot_bgcolor\":\"#E5ECF6\",\"polar\":{\"bgcolor\":\"#E5ECF6\",\"angularaxis\":{\"gridcolor\":\"white\",\"linecolor\":\"white\",\"ticks\":\"\"},\"radialaxis\":{\"gridcolor\":\"white\",\"linecolor\":\"white\",\"ticks\":\"\"}},\"ternary\":{\"bgcolor\":\"#E5ECF6\",\"aaxis\":{\"gridcolor\":\"white\",\"linecolor\":\"white\",\"ticks\":\"\"},\"baxis\":{\"gridcolor\":\"white\",\"linecolor\":\"white\",\"ticks\":\"\"},\"caxis\":{\"gridcolor\":\"white\",\"linecolor\":\"white\",\"ticks\":\"\"}},\"coloraxis\":{\"colorbar\":{\"outlinewidth\":0,\"ticks\":\"\"}},\"colorscale\":{\"sequential\":[[0.0,\"#0d0887\"],[0.1111111111111111,\"#46039f\"],[0.2222222222222222,\"#7201a8\"],[0.3333333333333333,\"#9c179e\"],[0.4444444444444444,\"#bd3786\"],[0.5555555555555556,\"#d8576b\"],[0.6666666666666666,\"#ed7953\"],[0.7777777777777778,\"#fb9f3a\"],[0.8888888888888888,\"#fdca26\"],[1.0,\"#f0f921\"]],\"sequentialminus\":[[0.0,\"#0d0887\"],[0.1111111111111111,\"#46039f\"],[0.2222222222222222,\"#7201a8\"],[0.3333333333333333,\"#9c179e\"],[0.4444444444444444,\"#bd3786\"],[0.5555555555555556,\"#d8576b\"],[0.6666666666666666,\"#ed7953\"],[0.7777777777777778,\"#fb9f3a\"],[0.8888888888888888,\"#fdca26\"],[1.0,\"#f0f921\"]],\"diverging\":[[0,\"#8e0152\"],[0.1,\"#c51b7d\"],[0.2,\"#de77ae\"],[0.3,\"#f1b6da\"],[0.4,\"#fde0ef\"],[0.5,\"#f7f7f7\"],[0.6,\"#e6f5d0\"],[0.7,\"#b8e186\"],[0.8,\"#7fbc41\"],[0.9,\"#4d9221\"],[1,\"#276419\"]]},\"xaxis\":{\"gridcolor\":\"white\",\"linecolor\":\"white\",\"ticks\":\"\",\"title\":{\"standoff\":15},\"zerolinecolor\":\"white\",\"automargin\":true,\"zerolinewidth\":2},\"yaxis\":{\"gridcolor\":\"white\",\"linecolor\":\"white\",\"ticks\":\"\",\"title\":{\"standoff\":15},\"zerolinecolor\":\"white\",\"automargin\":true,\"zerolinewidth\":2},\"scene\":{\"xaxis\":{\"backgroundcolor\":\"#E5ECF6\",\"gridcolor\":\"white\",\"linecolor\":\"white\",\"showbackground\":true,\"ticks\":\"\",\"zerolinecolor\":\"white\",\"gridwidth\":2},\"yaxis\":{\"backgroundcolor\":\"#E5ECF6\",\"gridcolor\":\"white\",\"linecolor\":\"white\",\"showbackground\":true,\"ticks\":\"\",\"zerolinecolor\":\"white\",\"gridwidth\":2},\"zaxis\":{\"backgroundcolor\":\"#E5ECF6\",\"gridcolor\":\"white\",\"linecolor\":\"white\",\"showbackground\":true,\"ticks\":\"\",\"zerolinecolor\":\"white\",\"gridwidth\":2}},\"shapedefaults\":{\"line\":{\"color\":\"#2a3f5f\"}},\"annotationdefaults\":{\"arrowcolor\":\"#2a3f5f\",\"arrowhead\":0,\"arrowwidth\":1},\"geo\":{\"bgcolor\":\"white\",\"landcolor\":\"#E5ECF6\",\"subunitcolor\":\"white\",\"showland\":true,\"showlakes\":true,\"lakecolor\":\"white\"},\"title\":{\"x\":0.05},\"mapbox\":{\"style\":\"light\"}}},\"xaxis\":{\"anchor\":\"y\",\"domain\":[0.0,1.0]},\"yaxis\":{\"anchor\":\"x\",\"domain\":[0.0,1.0]},\"title\":{\"text\":\"\\u751f\\u547d\\u79d1\\u5b66\\u5206\\u91ce\\u306e\\u6761\\u4ef6\\u3092\\u6e80\\u305f\\u3059\\u7814\\u7a76\\u8005\\u306e\\u63a8\\u79fb\"}},                        {\"responsive\": true}                    ).then(function(){\n",
              "                            \n",
              "var gd = document.getElementById('54f1d0f5-36e2-423d-b62c-abd2de7ca851');\n",
              "var x = new MutationObserver(function (mutations, observer) {{\n",
              "        var display = window.getComputedStyle(gd).display;\n",
              "        if (!display || display === 'none') {{\n",
              "            console.log([gd, 'removed!']);\n",
              "            Plotly.purge(gd);\n",
              "            observer.disconnect();\n",
              "        }}\n",
              "}});\n",
              "\n",
              "// Listen for the removal of the full notebook cells\n",
              "var notebookContainer = gd.closest('#notebook-container');\n",
              "if (notebookContainer) {{\n",
              "    x.observe(notebookContainer, {childList: true});\n",
              "}}\n",
              "\n",
              "// Listen for the clearing of the current output cell\n",
              "var outputEl = gd.closest('.output');\n",
              "if (outputEl) {{\n",
              "    x.observe(outputEl, {childList: true});\n",
              "}}\n",
              "\n",
              "                        })                };                            </script>        </div>\n",
              "</body>\n",
              "</html>"
            ]
          },
          "metadata": {}
        }
      ]
    },
    {
      "cell_type": "markdown",
      "source": [
        "# ④流動性可視化\n",
        "\n",
        "- 研究力の高い大学は優秀な研究者が出入りしているのではないかという仮説\n",
        "- 条件を満たす優秀な研究者の出入りを可視化することで、特徴を探る\n",
        "\n",
        "\n"
      ],
      "metadata": {
        "id": "00iWzhZ4ARZ-"
      }
    },
    {
      "cell_type": "markdown",
      "source": [
        "## 集計"
      ],
      "metadata": {
        "id": "EFDzdW51E_Dh"
      }
    },
    {
      "cell_type": "code",
      "source": [
        "tag_all.drop('Unnamed: 0',axis=1,inplace = True)"
      ],
      "metadata": {
        "id": "FNV8QXApmyXc"
      },
      "execution_count": 92,
      "outputs": []
    },
    {
      "cell_type": "code",
      "source": [
        "tag_all.head()"
      ],
      "metadata": {
        "colab": {
          "base_uri": "https://localhost:8080/",
          "height": 371
        },
        "id": "NvNGB_rjb_2H",
        "outputId": "bbd62699-d42d-4d60-a4de-a6c125acea6e"
      },
      "execution_count": 93,
      "outputs": [
        {
          "output_type": "execute_result",
          "data": {
            "text/plain": [
              "   Scopus Author Ids     大学名  start_year  end_year  \\\n",
              "0         6602154752  titech        2012      2014   \n",
              "1        36040908600  titech        2012      2014   \n",
              "2        36040908600  titech        2013      2015   \n",
              "3        36040908600  titech        2014      2016   \n",
              "4        36040908600  titech        2015      2017   \n",
              "\n",
              "   All Science Journal Classification (ASJC) code  \\\n",
              "0                                              31   \n",
              "1                                              25   \n",
              "2                                              25   \n",
              "3                                              25   \n",
              "4                                              25   \n",
              "\n",
              "                                       tag univ_name_y new_tag  研究者数  \\\n",
              "0  General Physics and Astronomy（一般物理・天文学）       osaka      理学     1   \n",
              "1        General Materials Science（一般材料科学）       osaka      工学     1   \n",
              "2        General Materials Science（一般材料科学）       osaka      工学     1   \n",
              "3        General Materials Science（一般材料科学）       osaka      工学     1   \n",
              "4        General Materials Science（一般材料科学）       osaka      工学     1   \n",
              "\n",
              "        year  \n",
              "0  2012~2014  \n",
              "1  2012~2014  \n",
              "2  2013~2015  \n",
              "3  2014~2016  \n",
              "4  2015~2017  "
            ],
            "text/html": [
              "\n",
              "  <div id=\"df-9cdceaf5-6e00-46ba-83a7-948dc51c241f\">\n",
              "    <div class=\"colab-df-container\">\n",
              "      <div>\n",
              "<style scoped>\n",
              "    .dataframe tbody tr th:only-of-type {\n",
              "        vertical-align: middle;\n",
              "    }\n",
              "\n",
              "    .dataframe tbody tr th {\n",
              "        vertical-align: top;\n",
              "    }\n",
              "\n",
              "    .dataframe thead th {\n",
              "        text-align: right;\n",
              "    }\n",
              "</style>\n",
              "<table border=\"1\" class=\"dataframe\">\n",
              "  <thead>\n",
              "    <tr style=\"text-align: right;\">\n",
              "      <th></th>\n",
              "      <th>Scopus Author Ids</th>\n",
              "      <th>大学名</th>\n",
              "      <th>start_year</th>\n",
              "      <th>end_year</th>\n",
              "      <th>All Science Journal Classification (ASJC) code</th>\n",
              "      <th>tag</th>\n",
              "      <th>univ_name_y</th>\n",
              "      <th>new_tag</th>\n",
              "      <th>研究者数</th>\n",
              "      <th>year</th>\n",
              "    </tr>\n",
              "  </thead>\n",
              "  <tbody>\n",
              "    <tr>\n",
              "      <th>0</th>\n",
              "      <td>6602154752</td>\n",
              "      <td>titech</td>\n",
              "      <td>2012</td>\n",
              "      <td>2014</td>\n",
              "      <td>31</td>\n",
              "      <td>General Physics and Astronomy（一般物理・天文学）</td>\n",
              "      <td>osaka</td>\n",
              "      <td>理学</td>\n",
              "      <td>1</td>\n",
              "      <td>2012~2014</td>\n",
              "    </tr>\n",
              "    <tr>\n",
              "      <th>1</th>\n",
              "      <td>36040908600</td>\n",
              "      <td>titech</td>\n",
              "      <td>2012</td>\n",
              "      <td>2014</td>\n",
              "      <td>25</td>\n",
              "      <td>General Materials Science（一般材料科学）</td>\n",
              "      <td>osaka</td>\n",
              "      <td>工学</td>\n",
              "      <td>1</td>\n",
              "      <td>2012~2014</td>\n",
              "    </tr>\n",
              "    <tr>\n",
              "      <th>2</th>\n",
              "      <td>36040908600</td>\n",
              "      <td>titech</td>\n",
              "      <td>2013</td>\n",
              "      <td>2015</td>\n",
              "      <td>25</td>\n",
              "      <td>General Materials Science（一般材料科学）</td>\n",
              "      <td>osaka</td>\n",
              "      <td>工学</td>\n",
              "      <td>1</td>\n",
              "      <td>2013~2015</td>\n",
              "    </tr>\n",
              "    <tr>\n",
              "      <th>3</th>\n",
              "      <td>36040908600</td>\n",
              "      <td>titech</td>\n",
              "      <td>2014</td>\n",
              "      <td>2016</td>\n",
              "      <td>25</td>\n",
              "      <td>General Materials Science（一般材料科学）</td>\n",
              "      <td>osaka</td>\n",
              "      <td>工学</td>\n",
              "      <td>1</td>\n",
              "      <td>2014~2016</td>\n",
              "    </tr>\n",
              "    <tr>\n",
              "      <th>4</th>\n",
              "      <td>36040908600</td>\n",
              "      <td>titech</td>\n",
              "      <td>2015</td>\n",
              "      <td>2017</td>\n",
              "      <td>25</td>\n",
              "      <td>General Materials Science（一般材料科学）</td>\n",
              "      <td>osaka</td>\n",
              "      <td>工学</td>\n",
              "      <td>1</td>\n",
              "      <td>2015~2017</td>\n",
              "    </tr>\n",
              "  </tbody>\n",
              "</table>\n",
              "</div>\n",
              "      <button class=\"colab-df-convert\" onclick=\"convertToInteractive('df-9cdceaf5-6e00-46ba-83a7-948dc51c241f')\"\n",
              "              title=\"Convert this dataframe to an interactive table.\"\n",
              "              style=\"display:none;\">\n",
              "        \n",
              "  <svg xmlns=\"http://www.w3.org/2000/svg\" height=\"24px\"viewBox=\"0 0 24 24\"\n",
              "       width=\"24px\">\n",
              "    <path d=\"M0 0h24v24H0V0z\" fill=\"none\"/>\n",
              "    <path d=\"M18.56 5.44l.94 2.06.94-2.06 2.06-.94-2.06-.94-.94-2.06-.94 2.06-2.06.94zm-11 1L8.5 8.5l.94-2.06 2.06-.94-2.06-.94L8.5 2.5l-.94 2.06-2.06.94zm10 10l.94 2.06.94-2.06 2.06-.94-2.06-.94-.94-2.06-.94 2.06-2.06.94z\"/><path d=\"M17.41 7.96l-1.37-1.37c-.4-.4-.92-.59-1.43-.59-.52 0-1.04.2-1.43.59L10.3 9.45l-7.72 7.72c-.78.78-.78 2.05 0 2.83L4 21.41c.39.39.9.59 1.41.59.51 0 1.02-.2 1.41-.59l7.78-7.78 2.81-2.81c.8-.78.8-2.07 0-2.86zM5.41 20L4 18.59l7.72-7.72 1.47 1.35L5.41 20z\"/>\n",
              "  </svg>\n",
              "      </button>\n",
              "      \n",
              "  <style>\n",
              "    .colab-df-container {\n",
              "      display:flex;\n",
              "      flex-wrap:wrap;\n",
              "      gap: 12px;\n",
              "    }\n",
              "\n",
              "    .colab-df-convert {\n",
              "      background-color: #E8F0FE;\n",
              "      border: none;\n",
              "      border-radius: 50%;\n",
              "      cursor: pointer;\n",
              "      display: none;\n",
              "      fill: #1967D2;\n",
              "      height: 32px;\n",
              "      padding: 0 0 0 0;\n",
              "      width: 32px;\n",
              "    }\n",
              "\n",
              "    .colab-df-convert:hover {\n",
              "      background-color: #E2EBFA;\n",
              "      box-shadow: 0px 1px 2px rgba(60, 64, 67, 0.3), 0px 1px 3px 1px rgba(60, 64, 67, 0.15);\n",
              "      fill: #174EA6;\n",
              "    }\n",
              "\n",
              "    [theme=dark] .colab-df-convert {\n",
              "      background-color: #3B4455;\n",
              "      fill: #D2E3FC;\n",
              "    }\n",
              "\n",
              "    [theme=dark] .colab-df-convert:hover {\n",
              "      background-color: #434B5C;\n",
              "      box-shadow: 0px 1px 3px 1px rgba(0, 0, 0, 0.15);\n",
              "      filter: drop-shadow(0px 1px 2px rgba(0, 0, 0, 0.3));\n",
              "      fill: #FFFFFF;\n",
              "    }\n",
              "  </style>\n",
              "\n",
              "      <script>\n",
              "        const buttonEl =\n",
              "          document.querySelector('#df-9cdceaf5-6e00-46ba-83a7-948dc51c241f button.colab-df-convert');\n",
              "        buttonEl.style.display =\n",
              "          google.colab.kernel.accessAllowed ? 'block' : 'none';\n",
              "\n",
              "        async function convertToInteractive(key) {\n",
              "          const element = document.querySelector('#df-9cdceaf5-6e00-46ba-83a7-948dc51c241f');\n",
              "          const dataTable =\n",
              "            await google.colab.kernel.invokeFunction('convertToInteractive',\n",
              "                                                     [key], {});\n",
              "          if (!dataTable) return;\n",
              "\n",
              "          const docLinkHtml = 'Like what you see? Visit the ' +\n",
              "            '<a target=\"_blank\" href=https://colab.research.google.com/notebooks/data_table.ipynb>data table notebook</a>'\n",
              "            + ' to learn more about interactive tables.';\n",
              "          element.innerHTML = '';\n",
              "          dataTable['output_type'] = 'display_data';\n",
              "          await google.colab.output.renderOutput(dataTable, element);\n",
              "          const docLink = document.createElement('div');\n",
              "          docLink.innerHTML = docLinkHtml;\n",
              "          element.appendChild(docLink);\n",
              "        }\n",
              "      </script>\n",
              "    </div>\n",
              "  </div>\n",
              "  "
            ]
          },
          "metadata": {},
          "execution_count": 93
        }
      ]
    },
    {
      "cell_type": "code",
      "source": [
        "tag_all.drop('univ_name_y',axis=1,inplace = True)"
      ],
      "metadata": {
        "id": "Q36cYQ2cafKN"
      },
      "execution_count": 94,
      "outputs": []
    },
    {
      "cell_type": "code",
      "source": [
        "#研究者の流入など(大学別)\n",
        "def make_df(univ_name):\n",
        "  dff = pd.DataFrame()\n",
        "  dff['years'] = 2012\n",
        "  dff['前年と共通'] = 0\n",
        "  dff['流入'] = 0\n",
        "  dff['流出'] = 0\n",
        "  year_ = ['2012~2014から2013~2015','2013~2015から2014~2016','2014~2016から2015~2017',\n",
        "          '2015~2017から2016~2018','2016~2018から2017~2019','2018~2020から2019~2021']\n",
        "  com_l = []\n",
        "  out_l = []\n",
        "  in_l = []\n",
        "  for i in range(2013,2019):\n",
        "    if i == 2019:\n",
        "      break\n",
        "    #print(i)\n",
        "    titech_1 = tag_all[(tag_all['大学名'] == univ_name) & (tag_all['start_year'] == i)]\n",
        "    titech_2 = tag_all[(tag_all['大学名'] == univ_name) & (tag_all['start_year'] == i+1)]\n",
        "    f1to2 = pd.merge(titech_1,titech_2, on='Scopus Author Ids', how =\"outer\", indicator=True)\n",
        "    #移動なしの研究者(共通)\n",
        "    comm = f1to2.query('_merge == \"both\"').shape[0]\n",
        "    com_l.append(comm)\n",
        "    #流出した研究者数\n",
        "    out_ = f1to2.query('_merge == \"left_only\"').shape[0]\n",
        "    out_l.append(out_)\n",
        "    #流入した研究者数\n",
        "    in_ = f1to2.query('_merge == \"right_only\"').shape[0]\n",
        "    in_l.append(in_)\n",
        "\n",
        "  dff['years'] = year_\n",
        "  dff['前年と共通'] = com_l\n",
        "  dff['流出'] = out_l\n",
        "  dff['流入'] = in_l\n",
        "  return dff\n"
      ],
      "metadata": {
        "id": "JfK7uFvuFgrR"
      },
      "execution_count": 95,
      "outputs": []
    },
    {
      "cell_type": "code",
      "source": [
        "a = make_df('titech')"
      ],
      "metadata": {
        "id": "yiDdvsuHc4bI"
      },
      "execution_count": 96,
      "outputs": []
    },
    {
      "cell_type": "code",
      "source": [
        "#研究者の流入など(大学別)\n",
        "def make_df2(univ_name,tag):\n",
        "  dff = pd.DataFrame()\n",
        "  dff['years'] = 2012\n",
        "  dff['前年と共通'] = 0\n",
        "  dff['流入'] = 0\n",
        "  dff['流出'] = 0\n",
        "  year_ = ['2012~2014から2013~2015','2013~2015から2014~2016','2014~2016から2015~2017',\n",
        "          '2015~2017から2016~2018','2016~2018から2017~2019','2018~2020から2019~2021']\n",
        "  com_l = []\n",
        "  out_l = []\n",
        "  in_l = []\n",
        "  for i in range(2013,2019):\n",
        "    if i == 2019:\n",
        "      break\n",
        "    #print(i)\n",
        "    titech_1 = tag_all[(tag_all['大学名'] == univ_name) & (tag_all['start_year'] == i) & (tag_all['new_tag'] == tag)]\n",
        "    titech_2 = tag_all[(tag_all['大学名'] == univ_name) & (tag_all['start_year'] == i+1) &  (tag_all['new_tag'] == tag)]\n",
        "    f1to2 = pd.merge(titech_1,titech_2, on='Scopus Author Ids', how =\"outer\", indicator=True)\n",
        "    #移動なしの研究者(共通)\n",
        "    comm = f1to2.query('_merge == \"both\"').shape[0]\n",
        "    com_l.append(comm)\n",
        "    #流出した研究者数\n",
        "    out_ = f1to2.query('_merge == \"left_only\"').shape[0]\n",
        "    out_l.append(out_)\n",
        "    #流入した研究者数\n",
        "    in_ = f1to2.query('_merge == \"right_only\"').shape[0]\n",
        "    in_l.append(in_)\n",
        "\n",
        "  dff['years'] = year_\n",
        "  dff['前年と共通'] = com_l\n",
        "  dff['流出'] = out_l\n",
        "  dff['流入'] = in_l\n",
        "  return dff\n"
      ],
      "metadata": {
        "id": "mDfyI8ugZx76"
      },
      "execution_count": 97,
      "outputs": []
    },
    {
      "cell_type": "code",
      "source": [
        "def make_df3(univ_name):\n",
        "  dff = pd.DataFrame()\n",
        "  #dff['years'] = 2012\n",
        "  dff['2012~2014から2019~2021年まで在籍'] = 0\n",
        "  dff['流入'] = 0\n",
        "  dff['流出'] = 0\n",
        "  #year_ = ['2012~2014から2019~2021']\n",
        "  com_l = []\n",
        "  out_l = []\n",
        "  in_l = []\n",
        "  titech_1 = tag_all[(tag_all['大学名'] == univ_name) & (tag_all['start_year'] == 2012)]\n",
        "  titech_2 = tag_all[(tag_all['大学名'] == univ_name) & (tag_all['start_year'] == 2019)]\n",
        "  f1to2 = pd.merge(titech_1,titech_2, on='Scopus Author Ids', how =\"outer\", indicator=True)\n",
        "  #移動なしの研究者(共通)\n",
        "  comm = f1to2.query('_merge == \"both\"').shape[0]\n",
        "  com_l.append(comm)\n",
        "  #流出した研究者数\n",
        "  out_ = f1to2.query('_merge == \"left_only\"').shape[0]\n",
        "  out_l.append(out_)\n",
        "  #流入した研究者数\n",
        "  in_ = f1to2.query('_merge == \"right_only\"').shape[0]\n",
        "  in_l.append(in_)\n",
        "  #dff['years'] = year_\n",
        "  dff['2012~2014から2019~2021年まで在籍'] = com_l\n",
        "  dff['流出'] = out_l\n",
        "  dff['流入'] = in_l\n",
        "  return dff"
      ],
      "metadata": {
        "id": "aoAxGh6u5rzF"
      },
      "execution_count": 98,
      "outputs": []
    },
    {
      "cell_type": "markdown",
      "source": [
        "## 2012 ~ 2014と2019 ~ 2021年の条件を満たす研究者の移動"
      ],
      "metadata": {
        "id": "bQFTSvMP-RJR"
      }
    },
    {
      "cell_type": "code",
      "source": [
        "dff = make_df3('titech')\n",
        "two_yaxis_fig = make_subplots(specs=[[{\"secondary_y\": True}]]) \n",
        "two_yaxis_fig.add_trace(go.Bar(x = dff.T.index,\n",
        "                               y = dff.T[0],\n",
        "                               name='東工大'))\n",
        "dff = make_df3('MIT')\n",
        "two_yaxis_fig.add_trace(go.Bar(x = dff.T.index,\n",
        "                               y = dff.T[0],\n",
        "                               name='MIT'))\n",
        "dff = make_df3('Imperial')\n",
        "two_yaxis_fig.add_trace(go.Bar(x = dff.T.index,\n",
        "                               y = dff.T[0],\n",
        "                               name='Imperial College London'))\n",
        "dff = make_df3('UT')\n",
        "two_yaxis_fig.add_trace(go.Bar(x = dff.T.index,\n",
        "                               y = dff.T[0],\n",
        "                               name='東大'))\n",
        "dff = make_df3('kyoto')\n",
        "two_yaxis_fig.add_trace(go.Bar(x = dff.T.index,\n",
        "                               y = dff.T[0],\n",
        "                               name='京大'))\n",
        "dff = make_df3('tohoku')\n",
        "two_yaxis_fig.add_trace(go.Bar(x = dff.T.index,\n",
        "                               y = dff.T[0],\n",
        "                               name='東北大'))\n",
        "dff = make_df3('osaka')\n",
        "two_yaxis_fig.add_trace(go.Bar(x = dff.T.index,\n",
        "                               y = dff.T[0],\n",
        "                               name='大阪大'))\n",
        "dff = make_df3('nagoya')\n",
        "two_yaxis_fig.add_trace(go.Bar(x = dff.T.index,\n",
        "                               y = dff.T[0],\n",
        "                               name='名古屋大'))\n",
        "two_yaxis_fig.update_traces(\n",
        "    selector= 'bar',\n",
        "    hovertemplate='%{x}: %{y:1f}',\n",
        "    texttemplate='%{y:1f}',\n",
        "    textposition='outside'\n",
        ")\n",
        "\n",
        "two_yaxis_fig.update_layout(\n",
        "    title = '2012 ~ 2014と2019 ~ 2021年の条件を満たす研究者の移動'\n",
        ")\n",
        "two_yaxis_fig.show()"
      ],
      "metadata": {
        "colab": {
          "base_uri": "https://localhost:8080/",
          "height": 542
        },
        "id": "0GjquLiV8T4q",
        "outputId": "66059590-f7e5-47fd-c715-d722709993a1"
      },
      "execution_count": 99,
      "outputs": [
        {
          "output_type": "display_data",
          "data": {
            "text/html": [
              "<html>\n",
              "<head><meta charset=\"utf-8\" /></head>\n",
              "<body>\n",
              "    <div>            <script src=\"https://cdnjs.cloudflare.com/ajax/libs/mathjax/2.7.5/MathJax.js?config=TeX-AMS-MML_SVG\"></script><script type=\"text/javascript\">if (window.MathJax && window.MathJax.Hub && window.MathJax.Hub.Config) {window.MathJax.Hub.Config({SVG: {font: \"STIX-Web\"}});}</script>                <script type=\"text/javascript\">window.PlotlyConfig = {MathJaxConfig: 'local'};</script>\n",
              "        <script src=\"https://cdn.plot.ly/plotly-2.18.2.min.js\"></script>                <div id=\"935614d1-00be-4228-9b79-a152346cb947\" class=\"plotly-graph-div\" style=\"height:525px; width:100%;\"></div>            <script type=\"text/javascript\">                                    window.PLOTLYENV=window.PLOTLYENV || {};                                    if (document.getElementById(\"935614d1-00be-4228-9b79-a152346cb947\")) {                    Plotly.newPlot(                        \"935614d1-00be-4228-9b79-a152346cb947\",                        [{\"name\":\"\\u6771\\u5de5\\u5927\",\"x\":[\"2012~2014\\u304b\\u30892019~2021\\u5e74\\u307e\\u3067\\u5728\\u7c4d\",\"\\u6d41\\u5165\",\"\\u6d41\\u51fa\"],\"y\":[21,50,72],\"type\":\"bar\",\"hovertemplate\":\"%{x}: %{y:1f}\",\"textposition\":\"outside\",\"texttemplate\":\"%{y:1f}\"},{\"name\":\"MIT\",\"x\":[\"2012~2014\\u304b\\u30892019~2021\\u5e74\\u307e\\u3067\\u5728\\u7c4d\",\"\\u6d41\\u5165\",\"\\u6d41\\u51fa\"],\"y\":[148,325,368],\"type\":\"bar\",\"hovertemplate\":\"%{x}: %{y:1f}\",\"textposition\":\"outside\",\"texttemplate\":\"%{y:1f}\"},{\"name\":\"Imperial College London\",\"x\":[\"2012~2014\\u304b\\u30892019~2021\\u5e74\\u307e\\u3067\\u5728\\u7c4d\",\"\\u6d41\\u5165\",\"\\u6d41\\u51fa\"],\"y\":[368,109,120],\"type\":\"bar\",\"hovertemplate\":\"%{x}: %{y:1f}\",\"textposition\":\"outside\",\"texttemplate\":\"%{y:1f}\"},{\"name\":\"\\u6771\\u5927\",\"x\":[\"2012~2014\\u304b\\u30892019~2021\\u5e74\\u307e\\u3067\\u5728\\u7c4d\",\"\\u6d41\\u5165\",\"\\u6d41\\u51fa\"],\"y\":[345,107,65],\"type\":\"bar\",\"hovertemplate\":\"%{x}: %{y:1f}\",\"textposition\":\"outside\",\"texttemplate\":\"%{y:1f}\"},{\"name\":\"\\u4eac\\u5927\",\"x\":[\"2012~2014\\u304b\\u30892019~2021\\u5e74\\u307e\\u3067\\u5728\\u7c4d\",\"\\u6d41\\u5165\",\"\\u6d41\\u51fa\"],\"y\":[77,155,138],\"type\":\"bar\",\"hovertemplate\":\"%{x}: %{y:1f}\",\"textposition\":\"outside\",\"texttemplate\":\"%{y:1f}\"},{\"name\":\"\\u6771\\u5317\\u5927\",\"x\":[\"2012~2014\\u304b\\u30892019~2021\\u5e74\\u307e\\u3067\\u5728\\u7c4d\",\"\\u6d41\\u5165\",\"\\u6d41\\u51fa\"],\"y\":[84,158,171],\"type\":\"bar\",\"hovertemplate\":\"%{x}: %{y:1f}\",\"textposition\":\"outside\",\"texttemplate\":\"%{y:1f}\"},{\"name\":\"\\u5927\\u962a\\u5927\",\"x\":[\"2012~2014\\u304b\\u30892019~2021\\u5e74\\u307e\\u3067\\u5728\\u7c4d\",\"\\u6d41\\u5165\",\"\\u6d41\\u51fa\"],\"y\":[73,104,149],\"type\":\"bar\",\"hovertemplate\":\"%{x}: %{y:1f}\",\"textposition\":\"outside\",\"texttemplate\":\"%{y:1f}\"},{\"name\":\"\\u540d\\u53e4\\u5c4b\\u5927\",\"x\":[\"2012~2014\\u304b\\u30892019~2021\\u5e74\\u307e\\u3067\\u5728\\u7c4d\",\"\\u6d41\\u5165\",\"\\u6d41\\u51fa\"],\"y\":[55,104,76],\"type\":\"bar\",\"hovertemplate\":\"%{x}: %{y:1f}\",\"textposition\":\"outside\",\"texttemplate\":\"%{y:1f}\"}],                        {\"template\":{\"data\":{\"histogram2dcontour\":[{\"type\":\"histogram2dcontour\",\"colorbar\":{\"outlinewidth\":0,\"ticks\":\"\"},\"colorscale\":[[0.0,\"#0d0887\"],[0.1111111111111111,\"#46039f\"],[0.2222222222222222,\"#7201a8\"],[0.3333333333333333,\"#9c179e\"],[0.4444444444444444,\"#bd3786\"],[0.5555555555555556,\"#d8576b\"],[0.6666666666666666,\"#ed7953\"],[0.7777777777777778,\"#fb9f3a\"],[0.8888888888888888,\"#fdca26\"],[1.0,\"#f0f921\"]]}],\"choropleth\":[{\"type\":\"choropleth\",\"colorbar\":{\"outlinewidth\":0,\"ticks\":\"\"}}],\"histogram2d\":[{\"type\":\"histogram2d\",\"colorbar\":{\"outlinewidth\":0,\"ticks\":\"\"},\"colorscale\":[[0.0,\"#0d0887\"],[0.1111111111111111,\"#46039f\"],[0.2222222222222222,\"#7201a8\"],[0.3333333333333333,\"#9c179e\"],[0.4444444444444444,\"#bd3786\"],[0.5555555555555556,\"#d8576b\"],[0.6666666666666666,\"#ed7953\"],[0.7777777777777778,\"#fb9f3a\"],[0.8888888888888888,\"#fdca26\"],[1.0,\"#f0f921\"]]}],\"heatmap\":[{\"type\":\"heatmap\",\"colorbar\":{\"outlinewidth\":0,\"ticks\":\"\"},\"colorscale\":[[0.0,\"#0d0887\"],[0.1111111111111111,\"#46039f\"],[0.2222222222222222,\"#7201a8\"],[0.3333333333333333,\"#9c179e\"],[0.4444444444444444,\"#bd3786\"],[0.5555555555555556,\"#d8576b\"],[0.6666666666666666,\"#ed7953\"],[0.7777777777777778,\"#fb9f3a\"],[0.8888888888888888,\"#fdca26\"],[1.0,\"#f0f921\"]]}],\"heatmapgl\":[{\"type\":\"heatmapgl\",\"colorbar\":{\"outlinewidth\":0,\"ticks\":\"\"},\"colorscale\":[[0.0,\"#0d0887\"],[0.1111111111111111,\"#46039f\"],[0.2222222222222222,\"#7201a8\"],[0.3333333333333333,\"#9c179e\"],[0.4444444444444444,\"#bd3786\"],[0.5555555555555556,\"#d8576b\"],[0.6666666666666666,\"#ed7953\"],[0.7777777777777778,\"#fb9f3a\"],[0.8888888888888888,\"#fdca26\"],[1.0,\"#f0f921\"]]}],\"contourcarpet\":[{\"type\":\"contourcarpet\",\"colorbar\":{\"outlinewidth\":0,\"ticks\":\"\"}}],\"contour\":[{\"type\":\"contour\",\"colorbar\":{\"outlinewidth\":0,\"ticks\":\"\"},\"colorscale\":[[0.0,\"#0d0887\"],[0.1111111111111111,\"#46039f\"],[0.2222222222222222,\"#7201a8\"],[0.3333333333333333,\"#9c179e\"],[0.4444444444444444,\"#bd3786\"],[0.5555555555555556,\"#d8576b\"],[0.6666666666666666,\"#ed7953\"],[0.7777777777777778,\"#fb9f3a\"],[0.8888888888888888,\"#fdca26\"],[1.0,\"#f0f921\"]]}],\"surface\":[{\"type\":\"surface\",\"colorbar\":{\"outlinewidth\":0,\"ticks\":\"\"},\"colorscale\":[[0.0,\"#0d0887\"],[0.1111111111111111,\"#46039f\"],[0.2222222222222222,\"#7201a8\"],[0.3333333333333333,\"#9c179e\"],[0.4444444444444444,\"#bd3786\"],[0.5555555555555556,\"#d8576b\"],[0.6666666666666666,\"#ed7953\"],[0.7777777777777778,\"#fb9f3a\"],[0.8888888888888888,\"#fdca26\"],[1.0,\"#f0f921\"]]}],\"mesh3d\":[{\"type\":\"mesh3d\",\"colorbar\":{\"outlinewidth\":0,\"ticks\":\"\"}}],\"scatter\":[{\"fillpattern\":{\"fillmode\":\"overlay\",\"size\":10,\"solidity\":0.2},\"type\":\"scatter\"}],\"parcoords\":[{\"type\":\"parcoords\",\"line\":{\"colorbar\":{\"outlinewidth\":0,\"ticks\":\"\"}}}],\"scatterpolargl\":[{\"type\":\"scatterpolargl\",\"marker\":{\"colorbar\":{\"outlinewidth\":0,\"ticks\":\"\"}}}],\"bar\":[{\"error_x\":{\"color\":\"#2a3f5f\"},\"error_y\":{\"color\":\"#2a3f5f\"},\"marker\":{\"line\":{\"color\":\"#E5ECF6\",\"width\":0.5},\"pattern\":{\"fillmode\":\"overlay\",\"size\":10,\"solidity\":0.2}},\"type\":\"bar\"}],\"scattergeo\":[{\"type\":\"scattergeo\",\"marker\":{\"colorbar\":{\"outlinewidth\":0,\"ticks\":\"\"}}}],\"scatterpolar\":[{\"type\":\"scatterpolar\",\"marker\":{\"colorbar\":{\"outlinewidth\":0,\"ticks\":\"\"}}}],\"histogram\":[{\"marker\":{\"pattern\":{\"fillmode\":\"overlay\",\"size\":10,\"solidity\":0.2}},\"type\":\"histogram\"}],\"scattergl\":[{\"type\":\"scattergl\",\"marker\":{\"colorbar\":{\"outlinewidth\":0,\"ticks\":\"\"}}}],\"scatter3d\":[{\"type\":\"scatter3d\",\"line\":{\"colorbar\":{\"outlinewidth\":0,\"ticks\":\"\"}},\"marker\":{\"colorbar\":{\"outlinewidth\":0,\"ticks\":\"\"}}}],\"scattermapbox\":[{\"type\":\"scattermapbox\",\"marker\":{\"colorbar\":{\"outlinewidth\":0,\"ticks\":\"\"}}}],\"scatterternary\":[{\"type\":\"scatterternary\",\"marker\":{\"colorbar\":{\"outlinewidth\":0,\"ticks\":\"\"}}}],\"scattercarpet\":[{\"type\":\"scattercarpet\",\"marker\":{\"colorbar\":{\"outlinewidth\":0,\"ticks\":\"\"}}}],\"carpet\":[{\"aaxis\":{\"endlinecolor\":\"#2a3f5f\",\"gridcolor\":\"white\",\"linecolor\":\"white\",\"minorgridcolor\":\"white\",\"startlinecolor\":\"#2a3f5f\"},\"baxis\":{\"endlinecolor\":\"#2a3f5f\",\"gridcolor\":\"white\",\"linecolor\":\"white\",\"minorgridcolor\":\"white\",\"startlinecolor\":\"#2a3f5f\"},\"type\":\"carpet\"}],\"table\":[{\"cells\":{\"fill\":{\"color\":\"#EBF0F8\"},\"line\":{\"color\":\"white\"}},\"header\":{\"fill\":{\"color\":\"#C8D4E3\"},\"line\":{\"color\":\"white\"}},\"type\":\"table\"}],\"barpolar\":[{\"marker\":{\"line\":{\"color\":\"#E5ECF6\",\"width\":0.5},\"pattern\":{\"fillmode\":\"overlay\",\"size\":10,\"solidity\":0.2}},\"type\":\"barpolar\"}],\"pie\":[{\"automargin\":true,\"type\":\"pie\"}]},\"layout\":{\"autotypenumbers\":\"strict\",\"colorway\":[\"#636efa\",\"#EF553B\",\"#00cc96\",\"#ab63fa\",\"#FFA15A\",\"#19d3f3\",\"#FF6692\",\"#B6E880\",\"#FF97FF\",\"#FECB52\"],\"font\":{\"color\":\"#2a3f5f\"},\"hovermode\":\"closest\",\"hoverlabel\":{\"align\":\"left\"},\"paper_bgcolor\":\"white\",\"plot_bgcolor\":\"#E5ECF6\",\"polar\":{\"bgcolor\":\"#E5ECF6\",\"angularaxis\":{\"gridcolor\":\"white\",\"linecolor\":\"white\",\"ticks\":\"\"},\"radialaxis\":{\"gridcolor\":\"white\",\"linecolor\":\"white\",\"ticks\":\"\"}},\"ternary\":{\"bgcolor\":\"#E5ECF6\",\"aaxis\":{\"gridcolor\":\"white\",\"linecolor\":\"white\",\"ticks\":\"\"},\"baxis\":{\"gridcolor\":\"white\",\"linecolor\":\"white\",\"ticks\":\"\"},\"caxis\":{\"gridcolor\":\"white\",\"linecolor\":\"white\",\"ticks\":\"\"}},\"coloraxis\":{\"colorbar\":{\"outlinewidth\":0,\"ticks\":\"\"}},\"colorscale\":{\"sequential\":[[0.0,\"#0d0887\"],[0.1111111111111111,\"#46039f\"],[0.2222222222222222,\"#7201a8\"],[0.3333333333333333,\"#9c179e\"],[0.4444444444444444,\"#bd3786\"],[0.5555555555555556,\"#d8576b\"],[0.6666666666666666,\"#ed7953\"],[0.7777777777777778,\"#fb9f3a\"],[0.8888888888888888,\"#fdca26\"],[1.0,\"#f0f921\"]],\"sequentialminus\":[[0.0,\"#0d0887\"],[0.1111111111111111,\"#46039f\"],[0.2222222222222222,\"#7201a8\"],[0.3333333333333333,\"#9c179e\"],[0.4444444444444444,\"#bd3786\"],[0.5555555555555556,\"#d8576b\"],[0.6666666666666666,\"#ed7953\"],[0.7777777777777778,\"#fb9f3a\"],[0.8888888888888888,\"#fdca26\"],[1.0,\"#f0f921\"]],\"diverging\":[[0,\"#8e0152\"],[0.1,\"#c51b7d\"],[0.2,\"#de77ae\"],[0.3,\"#f1b6da\"],[0.4,\"#fde0ef\"],[0.5,\"#f7f7f7\"],[0.6,\"#e6f5d0\"],[0.7,\"#b8e186\"],[0.8,\"#7fbc41\"],[0.9,\"#4d9221\"],[1,\"#276419\"]]},\"xaxis\":{\"gridcolor\":\"white\",\"linecolor\":\"white\",\"ticks\":\"\",\"title\":{\"standoff\":15},\"zerolinecolor\":\"white\",\"automargin\":true,\"zerolinewidth\":2},\"yaxis\":{\"gridcolor\":\"white\",\"linecolor\":\"white\",\"ticks\":\"\",\"title\":{\"standoff\":15},\"zerolinecolor\":\"white\",\"automargin\":true,\"zerolinewidth\":2},\"scene\":{\"xaxis\":{\"backgroundcolor\":\"#E5ECF6\",\"gridcolor\":\"white\",\"linecolor\":\"white\",\"showbackground\":true,\"ticks\":\"\",\"zerolinecolor\":\"white\",\"gridwidth\":2},\"yaxis\":{\"backgroundcolor\":\"#E5ECF6\",\"gridcolor\":\"white\",\"linecolor\":\"white\",\"showbackground\":true,\"ticks\":\"\",\"zerolinecolor\":\"white\",\"gridwidth\":2},\"zaxis\":{\"backgroundcolor\":\"#E5ECF6\",\"gridcolor\":\"white\",\"linecolor\":\"white\",\"showbackground\":true,\"ticks\":\"\",\"zerolinecolor\":\"white\",\"gridwidth\":2}},\"shapedefaults\":{\"line\":{\"color\":\"#2a3f5f\"}},\"annotationdefaults\":{\"arrowcolor\":\"#2a3f5f\",\"arrowhead\":0,\"arrowwidth\":1},\"geo\":{\"bgcolor\":\"white\",\"landcolor\":\"#E5ECF6\",\"subunitcolor\":\"white\",\"showland\":true,\"showlakes\":true,\"lakecolor\":\"white\"},\"title\":{\"x\":0.05},\"mapbox\":{\"style\":\"light\"}}},\"xaxis\":{\"anchor\":\"y\",\"domain\":[0.0,0.94]},\"yaxis\":{\"anchor\":\"x\",\"domain\":[0.0,1.0]},\"yaxis2\":{\"anchor\":\"x\",\"overlaying\":\"y\",\"side\":\"right\"},\"title\":{\"text\":\"2012 ~ 2014\\u30682019 ~ 2021\\u5e74\\u306e\\u6761\\u4ef6\\u3092\\u6e80\\u305f\\u3059\\u7814\\u7a76\\u8005\\u306e\\u79fb\\u52d5\"}},                        {\"responsive\": true}                    ).then(function(){\n",
              "                            \n",
              "var gd = document.getElementById('935614d1-00be-4228-9b79-a152346cb947');\n",
              "var x = new MutationObserver(function (mutations, observer) {{\n",
              "        var display = window.getComputedStyle(gd).display;\n",
              "        if (!display || display === 'none') {{\n",
              "            console.log([gd, 'removed!']);\n",
              "            Plotly.purge(gd);\n",
              "            observer.disconnect();\n",
              "        }}\n",
              "}});\n",
              "\n",
              "// Listen for the removal of the full notebook cells\n",
              "var notebookContainer = gd.closest('#notebook-container');\n",
              "if (notebookContainer) {{\n",
              "    x.observe(notebookContainer, {childList: true});\n",
              "}}\n",
              "\n",
              "// Listen for the clearing of the current output cell\n",
              "var outputEl = gd.closest('.output');\n",
              "if (outputEl) {{\n",
              "    x.observe(outputEl, {childList: true});\n",
              "}}\n",
              "\n",
              "                        })                };                            </script>        </div>\n",
              "</body>\n",
              "</html>"
            ]
          },
          "metadata": {}
        }
      ]
    },
    {
      "cell_type": "markdown",
      "source": [
        "## 可視化\n",
        "- MITの流出入が多い\n",
        "- Imperial College Londonと東大はそのまま在籍している条件を満たす研究者が多い\n",
        "- 東工大は規模から比較して条件を満たす研究者の移動は多い"
      ],
      "metadata": {
        "id": "5-ou0Nn-3X8i"
      }
    },
    {
      "cell_type": "code",
      "source": [
        "two_yaxis_fig.show()\n",
        "y_axis.show()"
      ],
      "metadata": {
        "id": "Eh3f6sGl3WBL",
        "colab": {
          "base_uri": "https://localhost:8080/",
          "height": 1067
        },
        "outputId": "41a89b0c-aef9-4b86-ff36-6948f2f78866"
      },
      "execution_count": 100,
      "outputs": [
        {
          "output_type": "display_data",
          "data": {
            "text/html": [
              "<html>\n",
              "<head><meta charset=\"utf-8\" /></head>\n",
              "<body>\n",
              "    <div>            <script src=\"https://cdnjs.cloudflare.com/ajax/libs/mathjax/2.7.5/MathJax.js?config=TeX-AMS-MML_SVG\"></script><script type=\"text/javascript\">if (window.MathJax && window.MathJax.Hub && window.MathJax.Hub.Config) {window.MathJax.Hub.Config({SVG: {font: \"STIX-Web\"}});}</script>                <script type=\"text/javascript\">window.PlotlyConfig = {MathJaxConfig: 'local'};</script>\n",
              "        <script src=\"https://cdn.plot.ly/plotly-2.18.2.min.js\"></script>                <div id=\"65ace287-a4c0-4884-a100-61962b7e2b69\" class=\"plotly-graph-div\" style=\"height:525px; width:100%;\"></div>            <script type=\"text/javascript\">                                    window.PLOTLYENV=window.PLOTLYENV || {};                                    if (document.getElementById(\"65ace287-a4c0-4884-a100-61962b7e2b69\")) {                    Plotly.newPlot(                        \"65ace287-a4c0-4884-a100-61962b7e2b69\",                        [{\"name\":\"\\u6771\\u5de5\\u5927\",\"x\":[\"2012~2014\\u304b\\u30892019~2021\\u5e74\\u307e\\u3067\\u5728\\u7c4d\",\"\\u6d41\\u5165\",\"\\u6d41\\u51fa\"],\"y\":[21,50,72],\"type\":\"bar\",\"hovertemplate\":\"%{x}: %{y:1f}\",\"textposition\":\"outside\",\"texttemplate\":\"%{y:1f}\"},{\"name\":\"MIT\",\"x\":[\"2012~2014\\u304b\\u30892019~2021\\u5e74\\u307e\\u3067\\u5728\\u7c4d\",\"\\u6d41\\u5165\",\"\\u6d41\\u51fa\"],\"y\":[148,325,368],\"type\":\"bar\",\"hovertemplate\":\"%{x}: %{y:1f}\",\"textposition\":\"outside\",\"texttemplate\":\"%{y:1f}\"},{\"name\":\"Imperial College London\",\"x\":[\"2012~2014\\u304b\\u30892019~2021\\u5e74\\u307e\\u3067\\u5728\\u7c4d\",\"\\u6d41\\u5165\",\"\\u6d41\\u51fa\"],\"y\":[368,109,120],\"type\":\"bar\",\"hovertemplate\":\"%{x}: %{y:1f}\",\"textposition\":\"outside\",\"texttemplate\":\"%{y:1f}\"},{\"name\":\"\\u6771\\u5927\",\"x\":[\"2012~2014\\u304b\\u30892019~2021\\u5e74\\u307e\\u3067\\u5728\\u7c4d\",\"\\u6d41\\u5165\",\"\\u6d41\\u51fa\"],\"y\":[345,107,65],\"type\":\"bar\",\"hovertemplate\":\"%{x}: %{y:1f}\",\"textposition\":\"outside\",\"texttemplate\":\"%{y:1f}\"},{\"name\":\"\\u4eac\\u5927\",\"x\":[\"2012~2014\\u304b\\u30892019~2021\\u5e74\\u307e\\u3067\\u5728\\u7c4d\",\"\\u6d41\\u5165\",\"\\u6d41\\u51fa\"],\"y\":[77,155,138],\"type\":\"bar\",\"hovertemplate\":\"%{x}: %{y:1f}\",\"textposition\":\"outside\",\"texttemplate\":\"%{y:1f}\"},{\"name\":\"\\u6771\\u5317\\u5927\",\"x\":[\"2012~2014\\u304b\\u30892019~2021\\u5e74\\u307e\\u3067\\u5728\\u7c4d\",\"\\u6d41\\u5165\",\"\\u6d41\\u51fa\"],\"y\":[84,158,171],\"type\":\"bar\",\"hovertemplate\":\"%{x}: %{y:1f}\",\"textposition\":\"outside\",\"texttemplate\":\"%{y:1f}\"},{\"name\":\"\\u5927\\u962a\\u5927\",\"x\":[\"2012~2014\\u304b\\u30892019~2021\\u5e74\\u307e\\u3067\\u5728\\u7c4d\",\"\\u6d41\\u5165\",\"\\u6d41\\u51fa\"],\"y\":[73,104,149],\"type\":\"bar\",\"hovertemplate\":\"%{x}: %{y:1f}\",\"textposition\":\"outside\",\"texttemplate\":\"%{y:1f}\"},{\"name\":\"\\u540d\\u53e4\\u5c4b\\u5927\",\"x\":[\"2012~2014\\u304b\\u30892019~2021\\u5e74\\u307e\\u3067\\u5728\\u7c4d\",\"\\u6d41\\u5165\",\"\\u6d41\\u51fa\"],\"y\":[55,104,76],\"type\":\"bar\",\"hovertemplate\":\"%{x}: %{y:1f}\",\"textposition\":\"outside\",\"texttemplate\":\"%{y:1f}\"}],                        {\"template\":{\"data\":{\"histogram2dcontour\":[{\"type\":\"histogram2dcontour\",\"colorbar\":{\"outlinewidth\":0,\"ticks\":\"\"},\"colorscale\":[[0.0,\"#0d0887\"],[0.1111111111111111,\"#46039f\"],[0.2222222222222222,\"#7201a8\"],[0.3333333333333333,\"#9c179e\"],[0.4444444444444444,\"#bd3786\"],[0.5555555555555556,\"#d8576b\"],[0.6666666666666666,\"#ed7953\"],[0.7777777777777778,\"#fb9f3a\"],[0.8888888888888888,\"#fdca26\"],[1.0,\"#f0f921\"]]}],\"choropleth\":[{\"type\":\"choropleth\",\"colorbar\":{\"outlinewidth\":0,\"ticks\":\"\"}}],\"histogram2d\":[{\"type\":\"histogram2d\",\"colorbar\":{\"outlinewidth\":0,\"ticks\":\"\"},\"colorscale\":[[0.0,\"#0d0887\"],[0.1111111111111111,\"#46039f\"],[0.2222222222222222,\"#7201a8\"],[0.3333333333333333,\"#9c179e\"],[0.4444444444444444,\"#bd3786\"],[0.5555555555555556,\"#d8576b\"],[0.6666666666666666,\"#ed7953\"],[0.7777777777777778,\"#fb9f3a\"],[0.8888888888888888,\"#fdca26\"],[1.0,\"#f0f921\"]]}],\"heatmap\":[{\"type\":\"heatmap\",\"colorbar\":{\"outlinewidth\":0,\"ticks\":\"\"},\"colorscale\":[[0.0,\"#0d0887\"],[0.1111111111111111,\"#46039f\"],[0.2222222222222222,\"#7201a8\"],[0.3333333333333333,\"#9c179e\"],[0.4444444444444444,\"#bd3786\"],[0.5555555555555556,\"#d8576b\"],[0.6666666666666666,\"#ed7953\"],[0.7777777777777778,\"#fb9f3a\"],[0.8888888888888888,\"#fdca26\"],[1.0,\"#f0f921\"]]}],\"heatmapgl\":[{\"type\":\"heatmapgl\",\"colorbar\":{\"outlinewidth\":0,\"ticks\":\"\"},\"colorscale\":[[0.0,\"#0d0887\"],[0.1111111111111111,\"#46039f\"],[0.2222222222222222,\"#7201a8\"],[0.3333333333333333,\"#9c179e\"],[0.4444444444444444,\"#bd3786\"],[0.5555555555555556,\"#d8576b\"],[0.6666666666666666,\"#ed7953\"],[0.7777777777777778,\"#fb9f3a\"],[0.8888888888888888,\"#fdca26\"],[1.0,\"#f0f921\"]]}],\"contourcarpet\":[{\"type\":\"contourcarpet\",\"colorbar\":{\"outlinewidth\":0,\"ticks\":\"\"}}],\"contour\":[{\"type\":\"contour\",\"colorbar\":{\"outlinewidth\":0,\"ticks\":\"\"},\"colorscale\":[[0.0,\"#0d0887\"],[0.1111111111111111,\"#46039f\"],[0.2222222222222222,\"#7201a8\"],[0.3333333333333333,\"#9c179e\"],[0.4444444444444444,\"#bd3786\"],[0.5555555555555556,\"#d8576b\"],[0.6666666666666666,\"#ed7953\"],[0.7777777777777778,\"#fb9f3a\"],[0.8888888888888888,\"#fdca26\"],[1.0,\"#f0f921\"]]}],\"surface\":[{\"type\":\"surface\",\"colorbar\":{\"outlinewidth\":0,\"ticks\":\"\"},\"colorscale\":[[0.0,\"#0d0887\"],[0.1111111111111111,\"#46039f\"],[0.2222222222222222,\"#7201a8\"],[0.3333333333333333,\"#9c179e\"],[0.4444444444444444,\"#bd3786\"],[0.5555555555555556,\"#d8576b\"],[0.6666666666666666,\"#ed7953\"],[0.7777777777777778,\"#fb9f3a\"],[0.8888888888888888,\"#fdca26\"],[1.0,\"#f0f921\"]]}],\"mesh3d\":[{\"type\":\"mesh3d\",\"colorbar\":{\"outlinewidth\":0,\"ticks\":\"\"}}],\"scatter\":[{\"fillpattern\":{\"fillmode\":\"overlay\",\"size\":10,\"solidity\":0.2},\"type\":\"scatter\"}],\"parcoords\":[{\"type\":\"parcoords\",\"line\":{\"colorbar\":{\"outlinewidth\":0,\"ticks\":\"\"}}}],\"scatterpolargl\":[{\"type\":\"scatterpolargl\",\"marker\":{\"colorbar\":{\"outlinewidth\":0,\"ticks\":\"\"}}}],\"bar\":[{\"error_x\":{\"color\":\"#2a3f5f\"},\"error_y\":{\"color\":\"#2a3f5f\"},\"marker\":{\"line\":{\"color\":\"#E5ECF6\",\"width\":0.5},\"pattern\":{\"fillmode\":\"overlay\",\"size\":10,\"solidity\":0.2}},\"type\":\"bar\"}],\"scattergeo\":[{\"type\":\"scattergeo\",\"marker\":{\"colorbar\":{\"outlinewidth\":0,\"ticks\":\"\"}}}],\"scatterpolar\":[{\"type\":\"scatterpolar\",\"marker\":{\"colorbar\":{\"outlinewidth\":0,\"ticks\":\"\"}}}],\"histogram\":[{\"marker\":{\"pattern\":{\"fillmode\":\"overlay\",\"size\":10,\"solidity\":0.2}},\"type\":\"histogram\"}],\"scattergl\":[{\"type\":\"scattergl\",\"marker\":{\"colorbar\":{\"outlinewidth\":0,\"ticks\":\"\"}}}],\"scatter3d\":[{\"type\":\"scatter3d\",\"line\":{\"colorbar\":{\"outlinewidth\":0,\"ticks\":\"\"}},\"marker\":{\"colorbar\":{\"outlinewidth\":0,\"ticks\":\"\"}}}],\"scattermapbox\":[{\"type\":\"scattermapbox\",\"marker\":{\"colorbar\":{\"outlinewidth\":0,\"ticks\":\"\"}}}],\"scatterternary\":[{\"type\":\"scatterternary\",\"marker\":{\"colorbar\":{\"outlinewidth\":0,\"ticks\":\"\"}}}],\"scattercarpet\":[{\"type\":\"scattercarpet\",\"marker\":{\"colorbar\":{\"outlinewidth\":0,\"ticks\":\"\"}}}],\"carpet\":[{\"aaxis\":{\"endlinecolor\":\"#2a3f5f\",\"gridcolor\":\"white\",\"linecolor\":\"white\",\"minorgridcolor\":\"white\",\"startlinecolor\":\"#2a3f5f\"},\"baxis\":{\"endlinecolor\":\"#2a3f5f\",\"gridcolor\":\"white\",\"linecolor\":\"white\",\"minorgridcolor\":\"white\",\"startlinecolor\":\"#2a3f5f\"},\"type\":\"carpet\"}],\"table\":[{\"cells\":{\"fill\":{\"color\":\"#EBF0F8\"},\"line\":{\"color\":\"white\"}},\"header\":{\"fill\":{\"color\":\"#C8D4E3\"},\"line\":{\"color\":\"white\"}},\"type\":\"table\"}],\"barpolar\":[{\"marker\":{\"line\":{\"color\":\"#E5ECF6\",\"width\":0.5},\"pattern\":{\"fillmode\":\"overlay\",\"size\":10,\"solidity\":0.2}},\"type\":\"barpolar\"}],\"pie\":[{\"automargin\":true,\"type\":\"pie\"}]},\"layout\":{\"autotypenumbers\":\"strict\",\"colorway\":[\"#636efa\",\"#EF553B\",\"#00cc96\",\"#ab63fa\",\"#FFA15A\",\"#19d3f3\",\"#FF6692\",\"#B6E880\",\"#FF97FF\",\"#FECB52\"],\"font\":{\"color\":\"#2a3f5f\"},\"hovermode\":\"closest\",\"hoverlabel\":{\"align\":\"left\"},\"paper_bgcolor\":\"white\",\"plot_bgcolor\":\"#E5ECF6\",\"polar\":{\"bgcolor\":\"#E5ECF6\",\"angularaxis\":{\"gridcolor\":\"white\",\"linecolor\":\"white\",\"ticks\":\"\"},\"radialaxis\":{\"gridcolor\":\"white\",\"linecolor\":\"white\",\"ticks\":\"\"}},\"ternary\":{\"bgcolor\":\"#E5ECF6\",\"aaxis\":{\"gridcolor\":\"white\",\"linecolor\":\"white\",\"ticks\":\"\"},\"baxis\":{\"gridcolor\":\"white\",\"linecolor\":\"white\",\"ticks\":\"\"},\"caxis\":{\"gridcolor\":\"white\",\"linecolor\":\"white\",\"ticks\":\"\"}},\"coloraxis\":{\"colorbar\":{\"outlinewidth\":0,\"ticks\":\"\"}},\"colorscale\":{\"sequential\":[[0.0,\"#0d0887\"],[0.1111111111111111,\"#46039f\"],[0.2222222222222222,\"#7201a8\"],[0.3333333333333333,\"#9c179e\"],[0.4444444444444444,\"#bd3786\"],[0.5555555555555556,\"#d8576b\"],[0.6666666666666666,\"#ed7953\"],[0.7777777777777778,\"#fb9f3a\"],[0.8888888888888888,\"#fdca26\"],[1.0,\"#f0f921\"]],\"sequentialminus\":[[0.0,\"#0d0887\"],[0.1111111111111111,\"#46039f\"],[0.2222222222222222,\"#7201a8\"],[0.3333333333333333,\"#9c179e\"],[0.4444444444444444,\"#bd3786\"],[0.5555555555555556,\"#d8576b\"],[0.6666666666666666,\"#ed7953\"],[0.7777777777777778,\"#fb9f3a\"],[0.8888888888888888,\"#fdca26\"],[1.0,\"#f0f921\"]],\"diverging\":[[0,\"#8e0152\"],[0.1,\"#c51b7d\"],[0.2,\"#de77ae\"],[0.3,\"#f1b6da\"],[0.4,\"#fde0ef\"],[0.5,\"#f7f7f7\"],[0.6,\"#e6f5d0\"],[0.7,\"#b8e186\"],[0.8,\"#7fbc41\"],[0.9,\"#4d9221\"],[1,\"#276419\"]]},\"xaxis\":{\"gridcolor\":\"white\",\"linecolor\":\"white\",\"ticks\":\"\",\"title\":{\"standoff\":15},\"zerolinecolor\":\"white\",\"automargin\":true,\"zerolinewidth\":2},\"yaxis\":{\"gridcolor\":\"white\",\"linecolor\":\"white\",\"ticks\":\"\",\"title\":{\"standoff\":15},\"zerolinecolor\":\"white\",\"automargin\":true,\"zerolinewidth\":2},\"scene\":{\"xaxis\":{\"backgroundcolor\":\"#E5ECF6\",\"gridcolor\":\"white\",\"linecolor\":\"white\",\"showbackground\":true,\"ticks\":\"\",\"zerolinecolor\":\"white\",\"gridwidth\":2},\"yaxis\":{\"backgroundcolor\":\"#E5ECF6\",\"gridcolor\":\"white\",\"linecolor\":\"white\",\"showbackground\":true,\"ticks\":\"\",\"zerolinecolor\":\"white\",\"gridwidth\":2},\"zaxis\":{\"backgroundcolor\":\"#E5ECF6\",\"gridcolor\":\"white\",\"linecolor\":\"white\",\"showbackground\":true,\"ticks\":\"\",\"zerolinecolor\":\"white\",\"gridwidth\":2}},\"shapedefaults\":{\"line\":{\"color\":\"#2a3f5f\"}},\"annotationdefaults\":{\"arrowcolor\":\"#2a3f5f\",\"arrowhead\":0,\"arrowwidth\":1},\"geo\":{\"bgcolor\":\"white\",\"landcolor\":\"#E5ECF6\",\"subunitcolor\":\"white\",\"showland\":true,\"showlakes\":true,\"lakecolor\":\"white\"},\"title\":{\"x\":0.05},\"mapbox\":{\"style\":\"light\"}}},\"xaxis\":{\"anchor\":\"y\",\"domain\":[0.0,0.94]},\"yaxis\":{\"anchor\":\"x\",\"domain\":[0.0,1.0]},\"yaxis2\":{\"anchor\":\"x\",\"overlaying\":\"y\",\"side\":\"right\"},\"title\":{\"text\":\"2012 ~ 2014\\u30682019 ~ 2021\\u5e74\\u306e\\u6761\\u4ef6\\u3092\\u6e80\\u305f\\u3059\\u7814\\u7a76\\u8005\\u306e\\u79fb\\u52d5\"}},                        {\"responsive\": true}                    ).then(function(){\n",
              "                            \n",
              "var gd = document.getElementById('65ace287-a4c0-4884-a100-61962b7e2b69');\n",
              "var x = new MutationObserver(function (mutations, observer) {{\n",
              "        var display = window.getComputedStyle(gd).display;\n",
              "        if (!display || display === 'none') {{\n",
              "            console.log([gd, 'removed!']);\n",
              "            Plotly.purge(gd);\n",
              "            observer.disconnect();\n",
              "        }}\n",
              "}});\n",
              "\n",
              "// Listen for the removal of the full notebook cells\n",
              "var notebookContainer = gd.closest('#notebook-container');\n",
              "if (notebookContainer) {{\n",
              "    x.observe(notebookContainer, {childList: true});\n",
              "}}\n",
              "\n",
              "// Listen for the clearing of the current output cell\n",
              "var outputEl = gd.closest('.output');\n",
              "if (outputEl) {{\n",
              "    x.observe(outputEl, {childList: true});\n",
              "}}\n",
              "\n",
              "                        })                };                            </script>        </div>\n",
              "</body>\n",
              "</html>"
            ]
          },
          "metadata": {}
        },
        {
          "output_type": "display_data",
          "data": {
            "text/html": [
              "<html>\n",
              "<head><meta charset=\"utf-8\" /></head>\n",
              "<body>\n",
              "    <div>            <script src=\"https://cdnjs.cloudflare.com/ajax/libs/mathjax/2.7.5/MathJax.js?config=TeX-AMS-MML_SVG\"></script><script type=\"text/javascript\">if (window.MathJax && window.MathJax.Hub && window.MathJax.Hub.Config) {window.MathJax.Hub.Config({SVG: {font: \"STIX-Web\"}});}</script>                <script type=\"text/javascript\">window.PlotlyConfig = {MathJaxConfig: 'local'};</script>\n",
              "        <script src=\"https://cdn.plot.ly/plotly-2.18.2.min.js\"></script>                <div id=\"b1a625ce-c541-49f5-987f-025068681347\" class=\"plotly-graph-div\" style=\"height:525px; width:100%;\"></div>            <script type=\"text/javascript\">                                    window.PLOTLYENV=window.PLOTLYENV || {};                                    if (document.getElementById(\"b1a625ce-c541-49f5-987f-025068681347\")) {                    Plotly.newPlot(                        \"b1a625ce-c541-49f5-987f-025068681347\",                        [{\"name\":\"\\u533b\\u5b66\\u4ee5\\u5916\",\"x\":[\"\\u6771\\u5de5\\u5927\",\"\\u6771\\u5de5\\u5927+\\u533b\\u79d1\\u6b6f\\u79d1\\u5927\",\"MIT\",\"Imperial College London\",\"\\u6771\\u5927\",\"\\u4eac\\u5927\",\"\\u962a\\u5927\",\"\\u6771\\u5317\\u5927\",\"\\u540d\\u53e4\\u5c4b\\u5927\",\"\\u6771\\u4eac\\u533b\\u79d1\\u6b6f\\u79d1\\u5927\"],\"y\":[182,202,1110,573,649,363,276,352,175,20],\"type\":\"bar\",\"hovertemplate\":\"%{x}: %{y:1f}\",\"textposition\":\"outside\",\"texttemplate\":\"%{y:1f}\"},{\"name\":\"\\u533b\\u5b66\",\"x\":[\"\\u6771\\u5de5\\u5927\",\"\\u6771\\u5de5\\u5927+\\u533b\\u79d1\\u6b6f\\u79d1\\u5927\",\"MIT\",\"Imperial College London\",\"\\u6771\\u5927\",\"\\u4eac\\u5927\",\"\\u962a\\u5927\",\"\\u6771\\u5317\\u5927\",\"\\u540d\\u53e4\\u5c4b\\u5927\",\"\\u6771\\u4eac\\u533b\\u79d1\\u6b6f\\u79d1\\u5927\"],\"y\":[1,55,136,481,166,106,129,123,110,54],\"type\":\"bar\",\"hovertemplate\":\"%{x}: %{y:1f}\",\"textposition\":\"outside\",\"texttemplate\":\"%{y:1f}\"},{\"name\":\"\\u533b\\u5b66\\u5272\\u5408\",\"x\":[\"\\u6771\\u5de5\\u5927\",\"\\u6771\\u5de5\\u5927+\\u533b\\u79d1\\u6b6f\\u79d1\\u5927\",\"MIT\",\"Imperial College London\",\"\\u6771\\u5927\",\"\\u4eac\\u5927\",\"\\u962a\\u5927\",\"\\u6771\\u5317\\u5927\",\"\\u540d\\u53e4\\u5c4b\\u5927\",\"\\u6771\\u4eac\\u533b\\u79d1\\u6b6f\\u79d1\\u5927\"],\"y\":[0.546448087431694,21.40077821011673,10.914927768860354,45.63567362428842,20.368098159509202,22.60127931769723,31.851851851851855,25.894736842105264,38.59649122807017,72.97297297297297],\"type\":\"scatter\",\"xaxis\":\"x\",\"yaxis\":\"y2\",\"marker\":{\"size\":10,\"symbol\":\"arrow-bar-up\"},\"mode\":\"markers+text\",\"textposition\":\"top center\",\"texttemplate\":\"%{y:.2f}%\"}],                        {\"template\":{\"data\":{\"histogram2dcontour\":[{\"type\":\"histogram2dcontour\",\"colorbar\":{\"outlinewidth\":0,\"ticks\":\"\"},\"colorscale\":[[0.0,\"#0d0887\"],[0.1111111111111111,\"#46039f\"],[0.2222222222222222,\"#7201a8\"],[0.3333333333333333,\"#9c179e\"],[0.4444444444444444,\"#bd3786\"],[0.5555555555555556,\"#d8576b\"],[0.6666666666666666,\"#ed7953\"],[0.7777777777777778,\"#fb9f3a\"],[0.8888888888888888,\"#fdca26\"],[1.0,\"#f0f921\"]]}],\"choropleth\":[{\"type\":\"choropleth\",\"colorbar\":{\"outlinewidth\":0,\"ticks\":\"\"}}],\"histogram2d\":[{\"type\":\"histogram2d\",\"colorbar\":{\"outlinewidth\":0,\"ticks\":\"\"},\"colorscale\":[[0.0,\"#0d0887\"],[0.1111111111111111,\"#46039f\"],[0.2222222222222222,\"#7201a8\"],[0.3333333333333333,\"#9c179e\"],[0.4444444444444444,\"#bd3786\"],[0.5555555555555556,\"#d8576b\"],[0.6666666666666666,\"#ed7953\"],[0.7777777777777778,\"#fb9f3a\"],[0.8888888888888888,\"#fdca26\"],[1.0,\"#f0f921\"]]}],\"heatmap\":[{\"type\":\"heatmap\",\"colorbar\":{\"outlinewidth\":0,\"ticks\":\"\"},\"colorscale\":[[0.0,\"#0d0887\"],[0.1111111111111111,\"#46039f\"],[0.2222222222222222,\"#7201a8\"],[0.3333333333333333,\"#9c179e\"],[0.4444444444444444,\"#bd3786\"],[0.5555555555555556,\"#d8576b\"],[0.6666666666666666,\"#ed7953\"],[0.7777777777777778,\"#fb9f3a\"],[0.8888888888888888,\"#fdca26\"],[1.0,\"#f0f921\"]]}],\"heatmapgl\":[{\"type\":\"heatmapgl\",\"colorbar\":{\"outlinewidth\":0,\"ticks\":\"\"},\"colorscale\":[[0.0,\"#0d0887\"],[0.1111111111111111,\"#46039f\"],[0.2222222222222222,\"#7201a8\"],[0.3333333333333333,\"#9c179e\"],[0.4444444444444444,\"#bd3786\"],[0.5555555555555556,\"#d8576b\"],[0.6666666666666666,\"#ed7953\"],[0.7777777777777778,\"#fb9f3a\"],[0.8888888888888888,\"#fdca26\"],[1.0,\"#f0f921\"]]}],\"contourcarpet\":[{\"type\":\"contourcarpet\",\"colorbar\":{\"outlinewidth\":0,\"ticks\":\"\"}}],\"contour\":[{\"type\":\"contour\",\"colorbar\":{\"outlinewidth\":0,\"ticks\":\"\"},\"colorscale\":[[0.0,\"#0d0887\"],[0.1111111111111111,\"#46039f\"],[0.2222222222222222,\"#7201a8\"],[0.3333333333333333,\"#9c179e\"],[0.4444444444444444,\"#bd3786\"],[0.5555555555555556,\"#d8576b\"],[0.6666666666666666,\"#ed7953\"],[0.7777777777777778,\"#fb9f3a\"],[0.8888888888888888,\"#fdca26\"],[1.0,\"#f0f921\"]]}],\"surface\":[{\"type\":\"surface\",\"colorbar\":{\"outlinewidth\":0,\"ticks\":\"\"},\"colorscale\":[[0.0,\"#0d0887\"],[0.1111111111111111,\"#46039f\"],[0.2222222222222222,\"#7201a8\"],[0.3333333333333333,\"#9c179e\"],[0.4444444444444444,\"#bd3786\"],[0.5555555555555556,\"#d8576b\"],[0.6666666666666666,\"#ed7953\"],[0.7777777777777778,\"#fb9f3a\"],[0.8888888888888888,\"#fdca26\"],[1.0,\"#f0f921\"]]}],\"mesh3d\":[{\"type\":\"mesh3d\",\"colorbar\":{\"outlinewidth\":0,\"ticks\":\"\"}}],\"scatter\":[{\"fillpattern\":{\"fillmode\":\"overlay\",\"size\":10,\"solidity\":0.2},\"type\":\"scatter\"}],\"parcoords\":[{\"type\":\"parcoords\",\"line\":{\"colorbar\":{\"outlinewidth\":0,\"ticks\":\"\"}}}],\"scatterpolargl\":[{\"type\":\"scatterpolargl\",\"marker\":{\"colorbar\":{\"outlinewidth\":0,\"ticks\":\"\"}}}],\"bar\":[{\"error_x\":{\"color\":\"#2a3f5f\"},\"error_y\":{\"color\":\"#2a3f5f\"},\"marker\":{\"line\":{\"color\":\"#E5ECF6\",\"width\":0.5},\"pattern\":{\"fillmode\":\"overlay\",\"size\":10,\"solidity\":0.2}},\"type\":\"bar\"}],\"scattergeo\":[{\"type\":\"scattergeo\",\"marker\":{\"colorbar\":{\"outlinewidth\":0,\"ticks\":\"\"}}}],\"scatterpolar\":[{\"type\":\"scatterpolar\",\"marker\":{\"colorbar\":{\"outlinewidth\":0,\"ticks\":\"\"}}}],\"histogram\":[{\"marker\":{\"pattern\":{\"fillmode\":\"overlay\",\"size\":10,\"solidity\":0.2}},\"type\":\"histogram\"}],\"scattergl\":[{\"type\":\"scattergl\",\"marker\":{\"colorbar\":{\"outlinewidth\":0,\"ticks\":\"\"}}}],\"scatter3d\":[{\"type\":\"scatter3d\",\"line\":{\"colorbar\":{\"outlinewidth\":0,\"ticks\":\"\"}},\"marker\":{\"colorbar\":{\"outlinewidth\":0,\"ticks\":\"\"}}}],\"scattermapbox\":[{\"type\":\"scattermapbox\",\"marker\":{\"colorbar\":{\"outlinewidth\":0,\"ticks\":\"\"}}}],\"scatterternary\":[{\"type\":\"scatterternary\",\"marker\":{\"colorbar\":{\"outlinewidth\":0,\"ticks\":\"\"}}}],\"scattercarpet\":[{\"type\":\"scattercarpet\",\"marker\":{\"colorbar\":{\"outlinewidth\":0,\"ticks\":\"\"}}}],\"carpet\":[{\"aaxis\":{\"endlinecolor\":\"#2a3f5f\",\"gridcolor\":\"white\",\"linecolor\":\"white\",\"minorgridcolor\":\"white\",\"startlinecolor\":\"#2a3f5f\"},\"baxis\":{\"endlinecolor\":\"#2a3f5f\",\"gridcolor\":\"white\",\"linecolor\":\"white\",\"minorgridcolor\":\"white\",\"startlinecolor\":\"#2a3f5f\"},\"type\":\"carpet\"}],\"table\":[{\"cells\":{\"fill\":{\"color\":\"#EBF0F8\"},\"line\":{\"color\":\"white\"}},\"header\":{\"fill\":{\"color\":\"#C8D4E3\"},\"line\":{\"color\":\"white\"}},\"type\":\"table\"}],\"barpolar\":[{\"marker\":{\"line\":{\"color\":\"#E5ECF6\",\"width\":0.5},\"pattern\":{\"fillmode\":\"overlay\",\"size\":10,\"solidity\":0.2}},\"type\":\"barpolar\"}],\"pie\":[{\"automargin\":true,\"type\":\"pie\"}]},\"layout\":{\"autotypenumbers\":\"strict\",\"colorway\":[\"#636efa\",\"#EF553B\",\"#00cc96\",\"#ab63fa\",\"#FFA15A\",\"#19d3f3\",\"#FF6692\",\"#B6E880\",\"#FF97FF\",\"#FECB52\"],\"font\":{\"color\":\"#2a3f5f\"},\"hovermode\":\"closest\",\"hoverlabel\":{\"align\":\"left\"},\"paper_bgcolor\":\"white\",\"plot_bgcolor\":\"#E5ECF6\",\"polar\":{\"bgcolor\":\"#E5ECF6\",\"angularaxis\":{\"gridcolor\":\"white\",\"linecolor\":\"white\",\"ticks\":\"\"},\"radialaxis\":{\"gridcolor\":\"white\",\"linecolor\":\"white\",\"ticks\":\"\"}},\"ternary\":{\"bgcolor\":\"#E5ECF6\",\"aaxis\":{\"gridcolor\":\"white\",\"linecolor\":\"white\",\"ticks\":\"\"},\"baxis\":{\"gridcolor\":\"white\",\"linecolor\":\"white\",\"ticks\":\"\"},\"caxis\":{\"gridcolor\":\"white\",\"linecolor\":\"white\",\"ticks\":\"\"}},\"coloraxis\":{\"colorbar\":{\"outlinewidth\":0,\"ticks\":\"\"}},\"colorscale\":{\"sequential\":[[0.0,\"#0d0887\"],[0.1111111111111111,\"#46039f\"],[0.2222222222222222,\"#7201a8\"],[0.3333333333333333,\"#9c179e\"],[0.4444444444444444,\"#bd3786\"],[0.5555555555555556,\"#d8576b\"],[0.6666666666666666,\"#ed7953\"],[0.7777777777777778,\"#fb9f3a\"],[0.8888888888888888,\"#fdca26\"],[1.0,\"#f0f921\"]],\"sequentialminus\":[[0.0,\"#0d0887\"],[0.1111111111111111,\"#46039f\"],[0.2222222222222222,\"#7201a8\"],[0.3333333333333333,\"#9c179e\"],[0.4444444444444444,\"#bd3786\"],[0.5555555555555556,\"#d8576b\"],[0.6666666666666666,\"#ed7953\"],[0.7777777777777778,\"#fb9f3a\"],[0.8888888888888888,\"#fdca26\"],[1.0,\"#f0f921\"]],\"diverging\":[[0,\"#8e0152\"],[0.1,\"#c51b7d\"],[0.2,\"#de77ae\"],[0.3,\"#f1b6da\"],[0.4,\"#fde0ef\"],[0.5,\"#f7f7f7\"],[0.6,\"#e6f5d0\"],[0.7,\"#b8e186\"],[0.8,\"#7fbc41\"],[0.9,\"#4d9221\"],[1,\"#276419\"]]},\"xaxis\":{\"gridcolor\":\"white\",\"linecolor\":\"white\",\"ticks\":\"\",\"title\":{\"standoff\":15},\"zerolinecolor\":\"white\",\"automargin\":true,\"zerolinewidth\":2},\"yaxis\":{\"gridcolor\":\"white\",\"linecolor\":\"white\",\"ticks\":\"\",\"title\":{\"standoff\":15},\"zerolinecolor\":\"white\",\"automargin\":true,\"zerolinewidth\":2},\"scene\":{\"xaxis\":{\"backgroundcolor\":\"#E5ECF6\",\"gridcolor\":\"white\",\"linecolor\":\"white\",\"showbackground\":true,\"ticks\":\"\",\"zerolinecolor\":\"white\",\"gridwidth\":2},\"yaxis\":{\"backgroundcolor\":\"#E5ECF6\",\"gridcolor\":\"white\",\"linecolor\":\"white\",\"showbackground\":true,\"ticks\":\"\",\"zerolinecolor\":\"white\",\"gridwidth\":2},\"zaxis\":{\"backgroundcolor\":\"#E5ECF6\",\"gridcolor\":\"white\",\"linecolor\":\"white\",\"showbackground\":true,\"ticks\":\"\",\"zerolinecolor\":\"white\",\"gridwidth\":2}},\"shapedefaults\":{\"line\":{\"color\":\"#2a3f5f\"}},\"annotationdefaults\":{\"arrowcolor\":\"#2a3f5f\",\"arrowhead\":0,\"arrowwidth\":1},\"geo\":{\"bgcolor\":\"white\",\"landcolor\":\"#E5ECF6\",\"subunitcolor\":\"white\",\"showland\":true,\"showlakes\":true,\"lakecolor\":\"white\"},\"title\":{\"x\":0.05},\"mapbox\":{\"style\":\"light\"}}},\"xaxis\":{\"anchor\":\"y\",\"domain\":[0.0,0.94]},\"yaxis\":{\"anchor\":\"x\",\"domain\":[0.0,1.0],\"title\":{\"text\":\"\\u6761\\u4ef6\\u3092\\u6e80\\u305f\\u3059\\u7814\\u7a76\\u8005\\u306e\\u6570\"},\"showgrid\":false},\"yaxis2\":{\"anchor\":\"x\",\"overlaying\":\"y\",\"side\":\"right\",\"title\":{\"text\":\"\\u533b\\u5b66\\u5272\\u5408\"},\"showgrid\":false},\"title\":{\"text\":\"2012~2021\\u5e74\\u306e\\u6761\\u4ef6\\u3092\\u6e80\\u305f\\u3059\\u7814\\u7a76\\u8005\\u306e\\u6570\\u3068\\u533b\\u5b66\\u5272\\u5408\"},\"barmode\":\"stack\"},                        {\"responsive\": true}                    ).then(function(){\n",
              "                            \n",
              "var gd = document.getElementById('b1a625ce-c541-49f5-987f-025068681347');\n",
              "var x = new MutationObserver(function (mutations, observer) {{\n",
              "        var display = window.getComputedStyle(gd).display;\n",
              "        if (!display || display === 'none') {{\n",
              "            console.log([gd, 'removed!']);\n",
              "            Plotly.purge(gd);\n",
              "            observer.disconnect();\n",
              "        }}\n",
              "}});\n",
              "\n",
              "// Listen for the removal of the full notebook cells\n",
              "var notebookContainer = gd.closest('#notebook-container');\n",
              "if (notebookContainer) {{\n",
              "    x.observe(notebookContainer, {childList: true});\n",
              "}}\n",
              "\n",
              "// Listen for the clearing of the current output cell\n",
              "var outputEl = gd.closest('.output');\n",
              "if (outputEl) {{\n",
              "    x.observe(outputEl, {childList: true});\n",
              "}}\n",
              "\n",
              "                        })                };                            </script>        </div>\n",
              "</body>\n",
              "</html>"
            ]
          },
          "metadata": {}
        }
      ]
    },
    {
      "cell_type": "markdown",
      "source": [
        "# まとめ\n",
        "- 東工大の条件を満たす研究者は概ね横ばいもしくは微減している\n",
        "- 分野ごとに見た場合、東工大は工学と理学分野では阪大、名古屋大と同程度（大学の規模から考えると割合は高い）\n",
        "- 東工大と医科歯科大学が合併した場合、条件を満たす研究者の分野割合は大阪大学や東北大学と近くなる\n",
        "- 日本の主要大学で比較した場合、①東大,②京大,東北大,③大阪大、名古屋大、東工大の３つのグループに分けられる\n",
        "- 研究力が高いと考えられる大学（MIT,Imperial College London,東大）は該当する研究者の移動が多い（MIT）もしくは在籍し続ける研究者が多い（東大,Imperial）の二極化しているように思われる→国別の要因？分野ごとに特徴があったりするのか？\n",
        "パフォーマンスが低下した場合にカウントされなくなるのでそこを注意する"
      ],
      "metadata": {
        "id": "7IgwaZvPLrHu"
      }
    }
  ]
}